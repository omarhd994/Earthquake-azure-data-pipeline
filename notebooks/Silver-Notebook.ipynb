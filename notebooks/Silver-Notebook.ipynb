{
 "cells": [
  {
   "cell_type": "code",
   "execution_count": 0,
   "metadata": {
    "application/vnd.databricks.v1+cell": {
     "cellMetadata": {},
     "inputWidgets": {},
     "nuid": "1ec1a45b-3026-48cf-af93-f0249427b50b",
     "showTitle": false,
     "tableResultSettingsMap": {},
     "title": ""
    }
   },
   "outputs": [],
   "source": [
    "'''\n",
    "# Remove this before running Data Factory Pipeline\n",
    "\n",
    "from datetime import date, timedelta\n",
    "\n",
    "start_date = date.today() - timedelta(1)\n",
    "\n",
    "bronze_adls = \"abfss://bronze@dataomar123.dfs.core.windows.net/\"\n",
    "silver_adls = \"abfss://silver@dataomar123.dfs.core.windows.net/\"\n",
    "\n",
    "'''"
   ]
  },
  {
   "cell_type": "code",
   "execution_count": 0,
   "metadata": {
    "application/vnd.databricks.v1+cell": {
     "cellMetadata": {
      "byteLimit": 2048000,
      "rowLimit": 10000
     },
     "inputWidgets": {},
     "nuid": "b70c0005-a6a3-4a02-9f63-4f944df91423",
     "showTitle": false,
     "tableResultSettingsMap": {},
     "title": ""
    }
   },
   "outputs": [],
   "source": [
    "import json\n",
    "\n",
    "# Retrieve the bronze_params directly as a widget\n",
    "bronze_params = dbutils.widgets.get(\"bronze_params\")\n",
    "print(f\"Raw bronze_params: {bronze_params}\")\n",
    "\n",
    "# Parse the JSON string\n",
    "output_data = json.loads(bronze_params)\n",
    "\n",
    "# Access individual variables\n",
    "start_date = output_data.get(\"start_date\", \"\")\n",
    "end_date = output_data.get(\"end_date\", \"\")\n",
    "bronze_adls = output_data.get(\"bronze_adls\", \"\")\n",
    "silver_adls = output_data.get(\"silver_adls\", \"\")\n",
    "gold_adls = output_data.get(\"gold_adls\", \"\")\n",
    "\n",
    "print(f\"Start Date: {start_date}, Bronze ADLS: {bronze_adls}\")"
   ]
  },
  {
   "cell_type": "code",
   "execution_count": 0,
   "metadata": {
    "application/vnd.databricks.v1+cell": {
     "cellMetadata": {
      "byteLimit": 2048000,
      "rowLimit": 10000
     },
     "inputWidgets": {},
     "nuid": "c4260fa1-5b30-43b5-ba4c-8d0dc4109bb4",
     "showTitle": false,
     "tableResultSettingsMap": {},
     "title": ""
    }
   },
   "outputs": [],
   "source": [
    "from pyspark.sql.functions import col, isnull, when\n",
    "from pyspark.sql.types import TimestampType\n",
    "from datetime import date, timedelta"
   ]
  },
  {
   "cell_type": "code",
   "execution_count": 0,
   "metadata": {
    "application/vnd.databricks.v1+cell": {
     "cellMetadata": {
      "byteLimit": 2048000,
      "rowLimit": 10000
     },
     "inputWidgets": {},
     "nuid": "13959080-b755-416a-9620-4a499b44b8b0",
     "showTitle": false,
     "tableResultSettingsMap": {},
     "title": ""
    }
   },
   "outputs": [],
   "source": [
    "# Load the JSON data into a Spark DataFrame\n",
    "df = spark.read.option(\"multiline\", \"true\").json(f\"{bronze_adls}{start_date}_earthquake_data.json\")"
   ]
  },
  {
   "cell_type": "code",
   "execution_count": 0,
   "metadata": {
    "application/vnd.databricks.v1+cell": {
     "cellMetadata": {
      "byteLimit": 2048000,
      "rowLimit": 10000
     },
     "inputWidgets": {},
     "nuid": "807d2746-eeca-437e-8c72-18d9d21c6a01",
     "showTitle": false,
     "tableResultSettingsMap": {},
     "title": ""
    }
   },
   "outputs": [
    {
     "output_type": "execute_result",
     "data": {
      "text/plain": [
       "Row(geometry=Row(coordinates=[-92.9183333333333, 35.873, 2.76], type='Point'), id='nm60503563', properties=Row(alert=None, cdi=2.2, code='60503563', detail='https://earthquake.usgs.gov/fdsnws/event/1/query?eventid=nm60503563&format=geojson', dmin=0.4851, felt=1, gap=94.0, ids=',nm60503563,', mag=2.38, magType='md', mmi=None, net='nm', nst=13, place='14 km NE of Pelsor, Arkansas', rms=0.26, sig=87, sources=',nm,', status='reviewed', time=1746316297500, title='M 2.4 - 14 km NE of Pelsor, Arkansas', tsunami=0, type='earthquake', types=',dyfi,origin,phase-data,', tz=None, updated=1746373147630, url='https://earthquake.usgs.gov/earthquakes/eventpage/nm60503563'), type='Feature')"
      ]
     },
     "execution_count": 45,
     "metadata": {},
     "output_type": "execute_result"
    }
   ],
   "source": [
    "df.head()"
   ]
  },
  {
   "cell_type": "code",
   "execution_count": 0,
   "metadata": {
    "application/vnd.databricks.v1+cell": {
     "cellMetadata": {
      "byteLimit": 2048000,
      "rowLimit": 10000
     },
     "inputWidgets": {},
     "nuid": "2bca007c-2bff-4c7f-9f63-89fd161ea583",
     "showTitle": false,
     "tableResultSettingsMap": {},
     "title": ""
    }
   },
   "outputs": [
    {
     "output_type": "execute_result",
     "data": {
      "text/plain": [
       "DataFrame[geometry: struct<coordinates:array<double>,type:string>, id: string, properties: struct<alert:string,cdi:double,code:string,detail:string,dmin:double,felt:bigint,gap:double,ids:string,mag:double,magType:string,mmi:double,net:string,nst:bigint,place:string,rms:double,sig:bigint,sources:string,status:string,time:bigint,title:string,tsunami:bigint,type:string,types:string,tz:string,updated:bigint,url:string>, type: string]"
      ]
     },
     "execution_count": 46,
     "metadata": {},
     "output_type": "execute_result"
    }
   ],
   "source": [
    "df"
   ]
  },
  {
   "cell_type": "code",
   "execution_count": 0,
   "metadata": {
    "application/vnd.databricks.v1+cell": {
     "cellMetadata": {
      "byteLimit": 2048000,
      "rowLimit": 10000
     },
     "inputWidgets": {},
     "nuid": "d412d9ac-d4ad-41ab-925c-dc45d6f562a5",
     "showTitle": false,
     "tableResultSettingsMap": {},
     "title": ""
    }
   },
   "outputs": [
    {
     "output_type": "display_data",
     "data": {
      "text/html": [
       "<style scoped>\n",
       "  .table-result-container {\n",
       "    max-height: 300px;\n",
       "    overflow: auto;\n",
       "  }\n",
       "  table, th, td {\n",
       "    border: 1px solid black;\n",
       "    border-collapse: collapse;\n",
       "  }\n",
       "  th, td {\n",
       "    padding: 5px;\n",
       "  }\n",
       "  th {\n",
       "    text-align: left;\n",
       "  }\n",
       "</style><div class='table-result-container'><table class='table-result'><thead style='background-color: white'><tr><th>geometry</th><th>id</th><th>properties</th><th>type</th></tr></thead><tbody><tr><td>List(List(-92.9183333333333, 35.873, 2.76), Point)</td><td>nm60503563</td><td>List(null, 2.2, 60503563, https://earthquake.usgs.gov/fdsnws/event/1/query?eventid=nm60503563&format=geojson, 0.4851, 1, 94.0, ,nm60503563,, 2.38, md, null, nm, 13, 14 km NE of Pelsor, Arkansas, 0.26, 87, ,nm,, reviewed, 1746316297500, M 2.4 - 14 km NE of Pelsor, Arkansas, 0, earthquake, ,dyfi,origin,phase-data,, null, 1746373147630, https://earthquake.usgs.gov/earthquakes/eventpage/nm60503563)</td><td>Feature</td></tr><tr><td>List(List(-119.3563, 39.6467, 12.1), Point)</td><td>nn00897188</td><td>List(null, null, 00897188, https://earthquake.usgs.gov/fdsnws/event/1/query?eventid=nn00897188&format=geojson, 0.348, null, 130.84999999999997, ,nn00897188,, 1.4, ml, null, nn, 16, 6 km WNW of Wadsworth, Nevada, 0.1902, 30, ,nn,, automatic, 1746315476027, M 1.4 - 6 km WNW of Wadsworth, Nevada, 0, earthquake, ,origin,phase-data,, null, 1746315629162, https://earthquake.usgs.gov/earthquakes/eventpage/nn00897188)</td><td>Feature</td></tr><tr><td>List(List(-121.63200378418, 36.8481674194336, 0.689999997615814), Point)</td><td>nc75176126</td><td>List(null, null, 75176126, https://earthquake.usgs.gov/fdsnws/event/1/query?eventid=nc75176126&format=geojson, 0.0484, null, 169.0, ,nc75176126,, 1.42, md, null, nc, 10, 5 km S of Aromas, CA, 0.16, 31, ,nc,, automatic, 1746314360660, M 1.4 - 5 km S of Aromas, CA, 0, earthquake, ,nearby-cities,origin,phase-data,scitech-link,, null, 1746316039185, https://earthquake.usgs.gov/earthquakes/eventpage/nc75176126)</td><td>Feature</td></tr><tr><td>List(List(-147.4666, 64.9681, 0.0), Point)</td><td>ak0255nsv4h2</td><td>List(null, null, 0255nsv4h2, https://earthquake.usgs.gov/fdsnws/event/1/query?eventid=ak0255nsv4h2&format=geojson, null, null, null, ,ak0255nsv4h2,, 1.1, ml, null, ak, null, 7 km E of Fox, Alaska, 0.63, 19, ,ak,, automatic, 1746313911102, M 1.1 - 7 km E of Fox, Alaska, 0, earthquake, ,origin,phase-data,, null, 1746314018235, https://earthquake.usgs.gov/earthquakes/eventpage/ak0255nsv4h2)</td><td>Feature</td></tr><tr><td>List(List(-151.8208, 64.4694, 2.3), Point)</td><td>ak0255nstyyw</td><td>List(null, null, 0255nstyyw, https://earthquake.usgs.gov/fdsnws/event/1/query?eventid=ak0255nstyyw&format=geojson, null, null, null, ,ak0255nstyyw,, 1.1, ml, null, ak, null, 69 km NNE of Lake Minchumina, Alaska, 0.82, 19, ,ak,, automatic, 1746313573207, M 1.1 - 69 km NNE of Lake Minchumina, Alaska, 0, earthquake, ,origin,phase-data,, null, 1746313713885, https://earthquake.usgs.gov/earthquakes/eventpage/ak0255nstyyw)</td><td>Feature</td></tr><tr><td>List(List(-148.3672, 61.5458, 20.9), Point)</td><td>ak0255nstyqr</td><td>List(null, null, 0255nstyqr, https://earthquake.usgs.gov/fdsnws/event/1/query?eventid=ak0255nstyqr&format=geojson, null, null, null, ,ak0255nstyqr,, 1.2, ml, null, ak, null, 28 km S of Chickaloon, Alaska, 0.25, 22, ,ak,, automatic, 1746313570274, M 1.2 - 28 km S of Chickaloon, Alaska, 0, earthquake, ,origin,phase-data,, null, 1746313643518, https://earthquake.usgs.gov/earthquakes/eventpage/ak0255nstyqr)</td><td>Feature</td></tr><tr><td>List(List(-156.8836, 56.015, 2.4), Point)</td><td>ak0255nssoyd</td><td>List(null, null, 0255nssoyd, https://earthquake.usgs.gov/fdsnws/event/1/query?eventid=ak0255nssoyd&format=geojson, null, null, null, ,ak0255nssoyd,, 2.3, ml, null, ak, null, 99 km ESE of Chignik, Alaska, 0.54, 81, ,ak,, automatic, 1746313216851, M 2.3 - 99 km ESE of Chignik, Alaska, 0, earthquake, ,origin,phase-data,, null, 1746313356258, https://earthquake.usgs.gov/earthquakes/eventpage/ak0255nssoyd)</td><td>Feature</td></tr><tr><td>List(List(-148.183, 65.4472, 3.6), Point)</td><td>ak0255nsim6z</td><td>List(null, null, 0255nsim6z, https://earthquake.usgs.gov/fdsnws/event/1/query?eventid=ak0255nsim6z&format=geojson, null, null, null, ,ak0255nsim6z,, 2.5, ml, null, ak, null, 18 km ESE of Livengood, Alaska, 0.63, 96, ,ak,, automatic, 1746312795479, M 2.5 - 18 km ESE of Livengood, Alaska, 0, earthquake, ,origin,phase-data,, null, 1746312905336, https://earthquake.usgs.gov/earthquakes/eventpage/ak0255nsim6z)</td><td>Feature</td></tr><tr><td>List(List(-149.5192, 63.6266, 57.4), Point)</td><td>ak0255nsesao</td><td>List(null, null, 0255nsesao, https://earthquake.usgs.gov/fdsnws/event/1/query?eventid=ak0255nsesao&format=geojson, null, null, null, ,ak0255nsesao,, 1.5, ml, null, ak, null, 32 km WSW of Denali Park, Alaska, 1.41, 35, ,ak,, automatic, 1746311728322, M 1.5 - 32 km WSW of Denali Park, Alaska, 0, earthquake, ,origin,phase-data,, null, 1746311848679, https://earthquake.usgs.gov/earthquakes/eventpage/ak0255nsesao)</td><td>Feature</td></tr><tr><td>List(List(-122.77116394043, 38.787166595459, 1.23000001907349), Point)</td><td>nc75176121</td><td>List(null, null, 75176121, https://earthquake.usgs.gov/fdsnws/event/1/query?eventid=nc75176121&format=geojson, 0.01615, null, 92.0, ,nc75176121,, 0.74, md, null, nc, 9, 2 km NW of The Geysers, CA, 0.01, 8, ,nc,, automatic, 1746311338900, M 0.7 - 2 km NW of The Geysers, CA, 0, earthquake, ,nearby-cities,origin,phase-data,scitech-link,, null, 1746314240990, https://earthquake.usgs.gov/earthquakes/eventpage/nc75176121)</td><td>Feature</td></tr><tr><td>List(List(-149.9093, 61.8635, 44.4), Point)</td><td>ak0255nscto4</td><td>List(null, null, 0255nscto4, https://earthquake.usgs.gov/fdsnws/event/1/query?eventid=ak0255nscto4&format=geojson, null, null, null, ,ak0255nscto4,, 1.2, ml, null, ak, null, 14 km NNE of Willow, Alaska, 0.46, 22, ,ak,, automatic, 1746311173006, M 1.2 - 14 km NNE of Willow, Alaska, 0, earthquake, ,origin,phase-data,, null, 1746311332589, https://earthquake.usgs.gov/earthquakes/eventpage/ak0255nscto4)</td><td>Feature</td></tr><tr><td>List(List(-121.40983581543, 36.9259986877441, 15.460000038147), Point)</td><td>nc75176116</td><td>List(null, null, 75176116, https://earthquake.usgs.gov/fdsnws/event/1/query?eventid=nc75176116&format=geojson, 0.0774, null, 135.0, ,nc75176116,, 1.17, md, null, nc, 8, 9 km N of Hollister, CA, 0.06, 21, ,nc,, automatic, 1746311058460, M 1.2 - 9 km N of Hollister, CA, 0, earthquake, ,nearby-cities,origin,phase-data,scitech-link,, null, 1746313036859, https://earthquake.usgs.gov/earthquakes/eventpage/nc75176116)</td><td>Feature</td></tr><tr><td>List(List(-116.4306667, 33.4388333, 11.01), Point)</td><td>ci41144264</td><td>List(null, null, 41144264, https://earthquake.usgs.gov/fdsnws/event/1/query?eventid=ci41144264&format=geojson, 0.1238, null, 72.0, ,ci41144264,, 0.66, ml, null, ci, 25, 21 km NNW of Borrego Springs, CA, 0.17, 7, ,ci,, automatic, 1746311039330, M 0.7 - 21 km NNW of Borrego Springs, CA, 0, earthquake, ,nearby-cities,origin,phase-data,scitech-link,, null, 1746311252528, https://earthquake.usgs.gov/earthquakes/eventpage/ci41144264)</td><td>Feature</td></tr><tr><td>List(List(-123.03916666666667, 45.143166666666666, 23.31), Point)</td><td>uw62092622</td><td>List(null, null, 62092622, https://earthquake.usgs.gov/fdsnws/event/1/query?eventid=uw62092622&format=geojson, 0.03729, null, 31.0, ,uw62092622,, 1.6500000000000001, ml, null, uw, 30, 9 km SSW of Saint Paul, Oregon, 0.16, 42, ,uw,, reviewed, 1746310566660, M 1.7 - 9 km SSW of Saint Paul, Oregon, 0, earthquake, ,origin,phase-data,, null, 1746336811830, https://earthquake.usgs.gov/earthquakes/eventpage/uw62092622)</td><td>Feature</td></tr><tr><td>List(List(-112.828666666667, 44.8706666666667, 11.09), Point)</td><td>mb90081398</td><td>List(null, null, 90081398, https://earthquake.usgs.gov/fdsnws/event/1/query?eventid=mb90081398&format=geojson, 0.04532, null, 176.0, ,mb90081398,, 0.8, ml, null, mb, 7, 32 km NW of Lima, Montana, 0.04, 10, ,mb,, reviewed, 1746309075780, M 0.8 - 32 km NW of Lima, Montana, 0, earthquake, ,origin,phase-data,, null, 1746310463030, https://earthquake.usgs.gov/earthquakes/eventpage/mb90081398)</td><td>Feature</td></tr><tr><td>List(List(-122.783836364746, 38.8348350524902, 2.9300000667572), Point)</td><td>nc75176096</td><td>List(null, null, 75176096, https://earthquake.usgs.gov/fdsnws/event/1/query?eventid=nc75176096&format=geojson, 0.00621, null, 75.0, ,nc75176096,, 0.72, md, null, nc, 9, 5 km WNW of Cobb, CA, 0.04, 8, ,nc,, automatic, 1746308703430, M 0.7 - 5 km WNW of Cobb, CA, 0, earthquake, ,nearby-cities,origin,phase-data,scitech-link,, null, 1746310640588, https://earthquake.usgs.gov/earthquakes/eventpage/nc75176096)</td><td>Feature</td></tr><tr><td>List(List(-112.520833333333, 46.8988333333333, 11.38), Point)</td><td>mb90081388</td><td>List(null, null, 90081388, https://earthquake.usgs.gov/fdsnws/event/1/query?eventid=mb90081388&format=geojson, 0.05907, null, 123.0, ,mb90081388,, 1.08, ml, null, mb, 11, 13 km ESE of Lincoln, Montana, 0.11, 18, ,mb,, reviewed, 1746307799610, M 1.1 - 13 km ESE of Lincoln, Montana, 0, earthquake, ,origin,phase-data,, null, 1746310191780, https://earthquake.usgs.gov/earthquakes/eventpage/mb90081388)</td><td>Feature</td></tr><tr><td>List(List(-149.3607, 62.9757, 69.3), Point)</td><td>ak0255nrrmzh</td><td>List(null, null, 0255nrrmzh, https://earthquake.usgs.gov/fdsnws/event/1/query?eventid=ak0255nrrmzh&format=geojson, null, null, null, ,ak0255nrrmzh,, 1.7, ml, null, ak, null, 50 km SSW of Cantwell, Alaska, 0.59, 44, ,ak,, automatic, 1746307648616, M 1.7 - 50 km SSW of Cantwell, Alaska, 0, earthquake, ,origin,phase-data,, null, 1746307759382, https://earthquake.usgs.gov/earthquakes/eventpage/ak0255nrrmzh)</td><td>Feature</td></tr><tr><td>List(List(117.7102, -7.8887, 10.0), Point)</td><td>us7000pwyv</td><td>List(null, null, 7000pwyv, https://earthquake.usgs.gov/fdsnws/event/1/query?eventid=us7000pwyv&format=geojson, 0.935, null, 76.0, ,us7000pwyv,, 4.5, mb, null, us, 24, 63 km NNE of Pototano, Indonesia, 0.72, 312, ,us,, reviewed, 1746307586077, M 4.5 - 63 km NNE of Pototano, Indonesia, 0, earthquake, ,origin,phase-data,, null, 1746310323040, https://earthquake.usgs.gov/earthquakes/eventpage/us7000pwyv)</td><td>Feature</td></tr><tr><td>List(List(129.9592, -6.8264, 120.086), Point)</td><td>us7000pwys</td><td>List(null, null, 7000pwys, https://earthquake.usgs.gov/fdsnws/event/1/query?eventid=us7000pwys&format=geojson, 4.502, null, 33.0, ,us7000pwys,, 4.4, mb, null, us, 50, Banda Sea, 0.63, 298, ,us,, reviewed, 1746306827179, M 4.4 - Banda Sea, 0, earthquake, ,origin,phase-data,, null, 1746309537040, https://earthquake.usgs.gov/earthquakes/eventpage/us7000pwys)</td><td>Feature</td></tr><tr><td>List(List(-115.7873333, 31.6046667, 0.81), Point)</td><td>ci41144208</td><td>List(null, null, 41144208, https://earthquake.usgs.gov/fdsnws/event/1/query?eventid=ci41144208&format=geojson, 0.2126, null, 78.0, ,ci41144208,, 2.54, ml, null, ci, 9, 75 km E of Maneadero, B.C., MX, 0.17, 99, ,ci,, automatic, 1746304545640, M 2.5 - 75 km E of Maneadero, B.C., MX, 0, earthquake, ,nearby-cities,origin,phase-data,scitech-link,, null, 1746304767728, https://earthquake.usgs.gov/earthquakes/eventpage/ci41144208)</td><td>Feature</td></tr><tr><td>List(List(-117.8098333, 35.354, 7.99), Point)</td><td>ci41144200</td><td>List(null, null, 41144200, https://earthquake.usgs.gov/fdsnws/event/1/query?eventid=ci41144200&format=geojson, 0.09126, null, 36.0, ,ci41144200,, 2.15, ml, null, ci, 42, 16 km W of Johannesburg, CA, 0.18, 71, ,ci,, automatic, 1746303788610, M 2.2 - 16 km W of Johannesburg, CA, 0, earthquake, ,focal-mechanism,nearby-cities,origin,phase-data,scitech-link,, null, 1746304457470, https://earthquake.usgs.gov/earthquakes/eventpage/ci41144200)</td><td>Feature</td></tr><tr><td>List(List(-122.778831481934, 38.8019981384277, 3.24000000953674), Point)</td><td>nc75176076</td><td>List(null, null, 75176076, https://earthquake.usgs.gov/fdsnws/event/1/query?eventid=nc75176076&format=geojson, 0.01131, null, 67.0, ,nc75176076,, 1.07, md, null, nc, 20, 3 km NNW of The Geysers, CA, 0.02, 18, ,nc,, automatic, 1746303301230, M 1.1 - 3 km NNW of The Geysers, CA, 0, earthquake, ,nearby-cities,origin,phase-data,scitech-link,, null, 1746304037843, https://earthquake.usgs.gov/earthquakes/eventpage/nc75176076)</td><td>Feature</td></tr><tr><td>List(List(-122.738670349121, 38.7529983520508, 0.920000016689301), Point)</td><td>nc75176066</td><td>List(null, null, 75176066, https://earthquake.usgs.gov/fdsnws/event/1/query?eventid=nc75176066&format=geojson, 0.00459, null, 137.0, ,nc75176066,, 1.06, md, null, nc, 6, 3 km SSE of The Geysers, CA, 0.01, 17, ,nc,, automatic, 1746302738470, M 1.1 - 3 km SSE of The Geysers, CA, 0, earthquake, ,nearby-cities,origin,phase-data,scitech-link,, null, 1746305537009, https://earthquake.usgs.gov/earthquakes/eventpage/nc75176066)</td><td>Feature</td></tr><tr><td>List(List(-67.5971, -56.8254, 10.0), Point)</td><td>us7000pwyb</td><td>List(null, null, 7000pwyb, https://earthquake.usgs.gov/fdsnws/event/1/query?eventid=us7000pwyb&format=geojson, 3.403, null, 133.0, ,us7000pwyb,, 4.4, mb, null, us, 28, 228 km SSE of Ushuaia, Argentina, 0.43, 298, ,us,, reviewed, 1746302619848, M 4.4 - 228 km SSE of Ushuaia, Argentina, 0, earthquake, ,origin,phase-data,, null, 1746304260040, https://earthquake.usgs.gov/earthquakes/eventpage/us7000pwyb)</td><td>Feature</td></tr><tr><td>List(List(-152.7858, 59.468, 72.8), Point)</td><td>ak0255nqr5ca</td><td>List(null, null, 0255nqr5ca, https://earthquake.usgs.gov/fdsnws/event/1/query?eventid=ak0255nqr5ca&format=geojson, null, null, null, ,ak0255nqr5ca,, 1.8, ml, null, ak, null, 50 km WNW of Nanwalek, Alaska, 0.68, 50, ,ak,, automatic, 1746302223780, M 1.8 - 50 km WNW of Nanwalek, Alaska, 0, earthquake, ,origin,phase-data,, null, 1746302369861, https://earthquake.usgs.gov/earthquakes/eventpage/ak0255nqr5ca)</td><td>Feature</td></tr><tr><td>List(List(-148.4196, 61.5398, 3.1), Point)</td><td>ak0255nqppg5</td><td>List(null, null, 0255nqppg5, https://earthquake.usgs.gov/fdsnws/event/1/query?eventid=ak0255nqppg5&format=geojson, null, null, null, ,ak0255nqppg5,, 2.2, ml, null, ak, null, 27 km ENE of Knik River, Alaska, 0.92, 74, ,ak,, automatic, 1746301831389, M 2.2 - 27 km ENE of Knik River, Alaska, 0, earthquake, ,origin,phase-data,, null, 1746301937754, https://earthquake.usgs.gov/earthquakes/eventpage/ak0255nqppg5)</td><td>Feature</td></tr><tr><td>List(List(-116.7168333, 33.5376667, 5.26), Point)</td><td>ci41144160</td><td>List(null, null, 41144160, https://earthquake.usgs.gov/fdsnws/event/1/query?eventid=ci41144160&format=geojson, 0.03251, null, 44.0, ,ci41144160,, 0.57, ml, null, ci, 19, 4 km WSW of Anza, CA, 0.07, 5, ,ci,, reviewed, 1746301813010, M 0.6 - 4 km WSW of Anza, CA, 0, earthquake, ,nearby-cities,origin,phase-data,scitech-link,, null, 1746370181561, https://earthquake.usgs.gov/earthquakes/eventpage/ci41144160)</td><td>Feature</td></tr><tr><td>List(List(-117.4926667, 34.2833333, 12.62), Point)</td><td>ci41144144</td><td>List(null, null, 41144144, https://earthquake.usgs.gov/fdsnws/event/1/query?eventid=ci41144144&format=geojson, 0.04997, null, 35.0, ,ci41144144,, 1.26, ml, null, ci, 40, 3 km NNE of Lytle Creek, CA, 0.14, 24, ,ci,, automatic, 1746301643310, M 1.3 - 3 km NNE of Lytle Creek, CA, 0, earthquake, ,nearby-cities,origin,phase-data,scitech-link,, null, 1746301851507, https://earthquake.usgs.gov/earthquakes/eventpage/ci41144144)</td><td>Feature</td></tr><tr><td>List(List(-122.807334899902, 38.8294982910156, 1.92999994754791), Point)</td><td>nc75176061</td><td>List(null, null, 75176061, https://earthquake.usgs.gov/fdsnws/event/1/query?eventid=nc75176061&format=geojson, 0.006459, null, 43.0, ,nc75176061,, 0.75, md, null, nc, 14, 7 km NNW of The Geysers, CA, 0.02, 9, ,nc,, automatic, 1746301173480, M 0.8 - 7 km NNW of The Geysers, CA, 0, earthquake, ,nearby-cities,origin,phase-data,scitech-link,, null, 1746304635912, https://earthquake.usgs.gov/earthquakes/eventpage/nc75176061)</td><td>Feature</td></tr><tr><td>List(List(-119.0624, 39.1504, 9.5), Point)</td><td>nn00897186</td><td>List(null, null, 00897186, https://earthquake.usgs.gov/fdsnws/event/1/query?eventid=nn00897186&format=geojson, 0.026, null, 66.58999999999997, ,nn00897186,, 0.9, ml, null, nn, 9, 20 km NNE of Yerington, Nevada, 0.0922, 12, ,nn,, automatic, 1746301171556, M 0.9 - 20 km NNE of Yerington, Nevada, 0, earthquake, ,origin,phase-data,, null, 1746301296266, https://earthquake.usgs.gov/earthquakes/eventpage/nn00897186)</td><td>Feature</td></tr><tr><td>List(List(-121.555335998535, 36.8213348388672, 5.44000005722046), Point)</td><td>nc75176056</td><td>List(null, null, 75176056, https://earthquake.usgs.gov/fdsnws/event/1/query?eventid=nc75176056&format=geojson, 0.02787, null, 48.0, ,nc75176056,, 2.18, md, null, nc, 47, 3 km SW of San Juan Bautista, CA, 0.16, 73, ,nc,, automatic, 1746301020320, M 2.2 - 3 km SW of San Juan Bautista, CA, 0, earthquake, ,focal-mechanism,nearby-cities,origin,phase-data,scitech-link,, null, 1746303439779, https://earthquake.usgs.gov/earthquakes/eventpage/nc75176056)</td><td>Feature</td></tr><tr><td>List(List(-122.782836914062, 38.7953338623047, 3.27999997138977), Point)</td><td>nc75176051</td><td>List(null, null, 75176051, https://earthquake.usgs.gov/fdsnws/event/1/query?eventid=nc75176051&format=geojson, 0.004516, null, 76.0, ,nc75176051,, 0.81, md, null, nc, 19, 3 km NW of The Geysers, CA, 0.02, 10, ,nc,, automatic, 1746300068780, M 0.8 - 3 km NW of The Geysers, CA, 0, earthquake, ,nearby-cities,origin,phase-data,scitech-link,, null, 1746301641553, https://earthquake.usgs.gov/earthquakes/eventpage/nc75176051)</td><td>Feature</td></tr><tr><td>List(List(-117.4338333, 35.6186667, 4.64), Point)</td><td>ci41144096</td><td>List(null, null, 41144096, https://earthquake.usgs.gov/fdsnws/event/1/query?eventid=ci41144096&format=geojson, 0.04707, null, 51.0, ,ci41144096,, 1.38, ml, null, ci, 31, 17 km S of Searles Valley, CA, 0.18, 29, ,ci,, automatic, 1746297517130, M 1.4 - 17 km S of Searles Valley, CA, 0, earthquake, ,nearby-cities,origin,phase-data,scitech-link,, null, 1746297722739, https://earthquake.usgs.gov/earthquakes/eventpage/ci41144096)</td><td>Feature</td></tr><tr><td>List(List(-122.75, 38.776668548584, -0.800000011920929), Point)</td><td>nc75176036</td><td>List(null, null, 75176036, https://earthquake.usgs.gov/fdsnws/event/1/query?eventid=nc75176036&format=geojson, 0.01227, null, 129.0, ,nc75176036,, 1.02, md, null, nc, 7, 1 km ESE of The Geysers, CA, 0.31, 16, ,nc,, automatic, 1746297362880, M 1.0 - 1 km ESE of The Geysers, CA, 0, earthquake, ,nearby-cities,origin,phase-data,scitech-link,, null, 1746299540304, https://earthquake.usgs.gov/earthquakes/eventpage/nc75176036)</td><td>Feature</td></tr><tr><td>List(List(-117.239, 34.0351667, 16.81), Point)</td><td>ci41144080</td><td>List(null, null, 41144080, https://earthquake.usgs.gov/fdsnws/event/1/query?eventid=ci41144080&format=geojson, null, null, 29.0, ,ci41144080,, 1.37, ml, null, ci, 50, 2 km SE of Loma Linda, CA, 0.18, 29, ,ci,, automatic, 1746297343880, M 1.4 - 2 km SE of Loma Linda, CA, 0, earthquake, ,nearby-cities,origin,phase-data,scitech-link,, null, 1746297555093, https://earthquake.usgs.gov/earthquakes/eventpage/ci41144080)</td><td>Feature</td></tr><tr><td>List(List(-121.99866666666667, 47.16916666666667, 14.59), Point)</td><td>uw62092382</td><td>List(null, null, 62092382, https://earthquake.usgs.gov/fdsnws/event/1/query?eventid=uw62092382&format=geojson, 0.0201, null, 191.0, ,uw62092382,, 0.78, ml, null, uw, 21, 2 km ENE of Buckley, Washington, 0.12, 9, ,uw,, reviewed, 1746297048720, M 0.8 - 2 km ENE of Buckley, Washington, 0, earthquake, ,origin,phase-data,, null, 1746337494760, https://earthquake.usgs.gov/earthquakes/eventpage/uw62092382)</td><td>Feature</td></tr><tr><td>List(List(-152.8552, 59.5572, 76.6), Point)</td><td>ak0255npzm6f</td><td>List(null, null, 0255npzm6f, https://earthquake.usgs.gov/fdsnws/event/1/query?eventid=ak0255npzm6f&format=geojson, null, null, null, ,ak0255npzm6f,, 1.8, ml, null, ak, null, 57 km WNW of Nanwalek, Alaska, 0.3, 50, ,ak,, automatic, 1746296938315, M 1.8 - 57 km WNW of Nanwalek, Alaska, 0, earthquake, ,origin,phase-data,, null, 1746297058254, https://earthquake.usgs.gov/earthquakes/eventpage/ak0255npzm6f)</td><td>Feature</td></tr><tr><td>List(List(-116.4026667, 33.0378333, 13.09), Point)</td><td>ci41144056</td><td>List(null, null, 41144056, https://earthquake.usgs.gov/fdsnws/event/1/query?eventid=ci41144056&format=geojson, 0.04939, null, 28.0, ,ci41144056,, 1.62, ml, null, ci, 69, 19 km ESE of Julian, CA, 0.22, 40, ,ci,, reviewed, 1746296378100, M 1.6 - 19 km ESE of Julian, CA, 0, earthquake, ,focal-mechanism,nearby-cities,origin,phase-data,scitech-link,, null, 1746370381290, https://earthquake.usgs.gov/earthquakes/eventpage/ci41144056)</td><td>Feature</td></tr><tr><td>List(List(-150.7706, 63.1499, 116.2), Point)</td><td>ak0255npv3uc</td><td>List(null, null, 0255npv3uc, https://earthquake.usgs.gov/fdsnws/event/1/query?eventid=ak0255npv3uc&format=geojson, null, null, null, ,ak0255npv3uc,, 2.0, ml, null, ak, null, 64 km SE of Denali National Park, Alaska, 0.42, 62, ,ak,, automatic, 1746295674449, M 2.0 - 64 km SE of Denali National Park, Alaska, 0, earthquake, ,origin,phase-data,, null, 1746295821085, https://earthquake.usgs.gov/earthquakes/eventpage/ak0255npv3uc)</td><td>Feature</td></tr><tr><td>List(List(-150.7607, 61.8504, 68.5), Point)</td><td>ak0255npthvl</td><td>List(null, null, 0255npthvl, https://earthquake.usgs.gov/fdsnws/event/1/query?eventid=ak0255npthvl&format=geojson, null, null, null, ,ak0255npthvl,, 1.4, ml, null, ak, null, 36 km NNW of Susitna, Alaska, 0.64, 30, ,ak,, automatic, 1746295203210, M 1.4 - 36 km NNW of Susitna, Alaska, 0, earthquake, ,origin,phase-data,, null, 1746295360526, https://earthquake.usgs.gov/earthquakes/eventpage/ak0255npthvl)</td><td>Feature</td></tr><tr><td>List(List(-116.7238333, 33.5301667, 4.89), Point)</td><td>ci41144040</td><td>List(null, null, 41144040, https://earthquake.usgs.gov/fdsnws/event/1/query?eventid=ci41144040&format=geojson, 0.0369, null, 26.0, ,ci41144040,, 1.26, ml, null, ci, 59, 5 km WSW of Anza, CA, 0.19, 24, ,ci,, reviewed, 1746294622620, M 1.3 - 5 km WSW of Anza, CA, 0, earthquake, ,focal-mechanism,nearby-cities,origin,phase-data,scitech-link,, null, 1746370444390, https://earthquake.usgs.gov/earthquakes/eventpage/ci41144040)</td><td>Feature</td></tr><tr><td>List(List(-116.6, 33.058, 12.66), Point)</td><td>ci41144032</td><td>List(null, null, 41144032, https://earthquake.usgs.gov/fdsnws/event/1/query?eventid=ci41144032&format=geojson, 0.02301, null, 87.0, ,ci41144032,, 0.55, ml, null, ci, 14, 2 km S of Julian, CA, 0.17, 5, ,ci,, automatic, 1746293980370, M 0.6 - 2 km S of Julian, CA, 0, earthquake, ,nearby-cities,origin,phase-data,scitech-link,, null, 1746294231365, https://earthquake.usgs.gov/earthquakes/eventpage/ci41144032)</td><td>Feature</td></tr><tr><td>List(List(-152.8776, 59.5647, 103.6), Point)</td><td>ak0255npaou1</td><td>List(null, null, 0255npaou1, https://earthquake.usgs.gov/fdsnws/event/1/query?eventid=ak0255npaou1&format=geojson, null, null, null, ,ak0255npaou1,, 1.4, ml, null, ak, null, 59 km WNW of Nanwalek, Alaska, 0.08, 30, ,ak,, automatic, 1746292348736, M 1.4 - 59 km WNW of Nanwalek, Alaska, 0, earthquake, ,origin,phase-data,, null, 1746292459018, https://earthquake.usgs.gov/earthquakes/eventpage/ak0255npaou1)</td><td>Feature</td></tr><tr><td>List(List(-76.5027, -45.5225, 10.0), Point)</td><td>us7000pwxk</td><td>List(null, null, 7000pwxk, https://earthquake.usgs.gov/fdsnws/event/1/query?eventid=us7000pwxk&format=geojson, 2.142, null, 142.0, ,us7000pwxk,, 4.4, mb, null, us, 30, 288 km W of Puerto Chacabuco, Chile, 0.67, 298, ,us,, reviewed, 1746291913378, M 4.4 - 288 km W of Puerto Chacabuco, Chile, 0, earthquake, ,origin,phase-data,, null, 1746295732040, https://earthquake.usgs.gov/earthquakes/eventpage/us7000pwxk)</td><td>Feature</td></tr><tr><td>List(List(141.0809, -3.2569, 28.97), Point)</td><td>us7000pwxj</td><td>List(null, 2.5, 7000pwxj, https://earthquake.usgs.gov/fdsnws/event/1/query?eventid=us7000pwxj&format=geojson, 0.828, 2, 28.0, ,us7000pwxj,, 5.1, mb, null, us, 173, 67 km SSW of Vanimo, Papua New Guinea, 0.93, 401, ,us,, reviewed, 1746291853537, M 5.1 - 67 km SSW of Vanimo, Papua New Guinea, 0, earthquake, ,dyfi,origin,phase-data,, null, 1746292957399, https://earthquake.usgs.gov/earthquakes/eventpage/us7000pwxj)</td><td>Feature</td></tr><tr><td>List(List(-122.790000915527, 38.8354988098145, 1.73000001907349), Point)</td><td>nc75176011</td><td>List(null, null, 75176011, https://earthquake.usgs.gov/fdsnws/event/1/query?eventid=nc75176011&format=geojson, 0.002918, null, 60.0, ,nc75176011,, 0.85, md, null, nc, 14, 6 km WNW of Cobb, CA, 0.01, 11, ,nc,, automatic, 1746291305930, M 0.9 - 6 km WNW of Cobb, CA, 0, earthquake, ,nearby-cities,origin,phase-data,scitech-link,, null, 1746295636886, https://earthquake.usgs.gov/earthquakes/eventpage/nc75176011)</td><td>Feature</td></tr><tr><td>List(List(-138.0379, 60.0996, 2.786), Point)</td><td>us7000pwxh</td><td>List(null, null, 7000pwxh, https://earthquake.usgs.gov/fdsnws/event/1/query?eventid=us7000pwxh&format=geojson, 0.775, null, 104.0, ,us7000pwxh,, 2.9, ml, null, us, 28, 113 km ENE of Yakutat, Alaska, 0.95, 129, ,us,, reviewed, 1746290767896, M 2.9 - 113 km ENE of Yakutat, Alaska, 0, earthquake, ,origin,phase-data,, null, 1746294744040, https://earthquake.usgs.gov/earthquakes/eventpage/us7000pwxh)</td><td>Feature</td></tr><tr><td>List(List(-122.816329956055, 38.8311653137207, 1.37999999523163), Point)</td><td>nc75176001</td><td>List(null, null, 75176001, https://earthquake.usgs.gov/fdsnws/event/1/query?eventid=nc75176001&format=geojson, 0.009169, null, 83.0, ,nc75176001,, 0.27, md, null, nc, 7, 8 km NNW of The Geysers, CA, 0.01, 1, ,nc,, automatic, 1746290711320, M 0.3 - 8 km NNW of The Geysers, CA, 0, earthquake, ,nearby-cities,origin,phase-data,scitech-link,, null, 1746292941547, https://earthquake.usgs.gov/earthquakes/eventpage/nc75176001)</td><td>Feature</td></tr><tr><td>List(List(-115.168, 44.2723333333333, 9.84), Point)</td><td>mb90081358</td><td>List(null, null, 90081358, https://earthquake.usgs.gov/fdsnws/event/1/query?eventid=mb90081358&format=geojson, 0.2847, null, 68.0, ,mb90081358,, 1.99, ml, null, mb, 16, 19 km WNW of Stanley, Idaho, 0.23, 61, ,mb,, reviewed, 1746289918310, M 2.0 - 19 km WNW of Stanley, Idaho, 0, earthquake, ,origin,phase-data,, null, 1746367546030, https://earthquake.usgs.gov/earthquakes/eventpage/mb90081358)</td><td>Feature</td></tr><tr><td>List(List(-117.5406667, 35.6831667, 6.65), Point)</td><td>ci41143976</td><td>List(null, null, 41143976, https://earthquake.usgs.gov/fdsnws/event/1/query?eventid=ci41143976&format=geojson, 0.09692, null, 38.0, ,ci41143976,, 1.81, ml, null, ci, 36, 14 km ENE of Ridgecrest, CA, 0.19, 50, ,ci,, reviewed, 1746289833370, M 1.8 - 14 km ENE of Ridgecrest, CA, 0, earthquake, ,focal-mechanism,nearby-cities,origin,phase-data,scitech-link,, null, 1746370507300, https://earthquake.usgs.gov/earthquakes/eventpage/ci41143976)</td><td>Feature</td></tr><tr><td>List(List(-104.9999, 37.0592, 5.0), Point)</td><td>us7000pwxc</td><td>List(null, null, 7000pwxc, https://earthquake.usgs.gov/fdsnws/event/1/query?eventid=us7000pwxc&format=geojson, 0.185, null, 76.0, ,us7000pwxc,, 2.1, ml, null, us, 12, 10 km SSE of Stonewall Gap, Colorado, 0.57, 68, ,us,, reviewed, 1746289518399, M 2.1 - 10 km SSE of Stonewall Gap, Colorado, 0, earthquake, ,origin,phase-data,, null, 1746293532040, https://earthquake.usgs.gov/earthquakes/eventpage/us7000pwxc)</td><td>Feature</td></tr><tr><td>List(List(143.6087, -3.3448, 10.0), Point)</td><td>us7000pwxb</td><td>List(null, 5.4, 7000pwxb, https://earthquake.usgs.gov/fdsnws/event/1/query?eventid=us7000pwxb&format=geojson, 3.017, 2, 32.0, ,us7000pwxb,, 5.0, mb, null, us, 118, 22 km N of Wewak, Papua New Guinea, 0.62, 386, ,us,, reviewed, 1746289270836, M 5.0 - 22 km N of Wewak, Papua New Guinea, 0, earthquake, ,dyfi,origin,phase-data,, null, 1746293058059, https://earthquake.usgs.gov/earthquakes/eventpage/us7000pwxb)</td><td>Feature</td></tr><tr><td>List(List(-115.169333333333, 44.2703333333333, 9.07), Point)</td><td>mb90081348</td><td>List(null, null, 90081348, https://earthquake.usgs.gov/fdsnws/event/1/query?eventid=mb90081348&format=geojson, 0.2843, null, 68.0, ,mb90081348,, 2.23, ml, null, mb, 17, 19 km WNW of Stanley, Idaho, 0.18, 77, ,mb,, reviewed, 1746287881530, M 2.2 - 19 km WNW of Stanley, Idaho, 0, earthquake, ,origin,phase-data,, null, 1746366801860, https://earthquake.usgs.gov/earthquakes/eventpage/mb90081348)</td><td>Feature</td></tr><tr><td>List(List(-72.8176, -15.1934, 99.185), Point)</td><td>us7000pwx5</td><td>List(null, null, 7000pwx5, https://earthquake.usgs.gov/fdsnws/event/1/query?eventid=us7000pwx5&format=geojson, 3.95, null, 145.0, ,us7000pwx5,, 4.4, mb, null, us, 75, 2 km SSE of Tomepampa, Peru, 0.61, 298, ,us,, reviewed, 1746287574308, M 4.4 - 2 km SSE of Tomepampa, Peru, 0, earthquake, ,origin,phase-data,, null, 1746293157040, https://earthquake.usgs.gov/earthquakes/eventpage/us7000pwx5)</td><td>Feature</td></tr><tr><td>List(List(167.9858, -17.5155, 35.088), Point)</td><td>us7000pwx4</td><td>List(null, 3.8, 7000pwx4, https://earthquake.usgs.gov/fdsnws/event/1/query?eventid=us7000pwx4&format=geojson, 2.19, 4, 75.0, ,us7000pwx4,, 5.0, mb, null, us, 99, 42 km NW of Port-Vila, Vanuatu, 0.66, 386, ,us,, reviewed, 1746287347098, M 5.0 - 42 km NW of Port-Vila, Vanuatu, 0, earthquake, ,dyfi,origin,phase-data,, null, 1746358443929, https://earthquake.usgs.gov/earthquakes/eventpage/us7000pwx4)</td><td>Feature</td></tr><tr><td>List(List(-117.497, 34.2841667, 11.51), Point)</td><td>ci41143928</td><td>List(null, null, 41143928, https://earthquake.usgs.gov/fdsnws/event/1/query?eventid=ci41143928&format=geojson, null, null, 25.0, ,ci41143928,, 1.32, ml, null, ci, 52, 3 km N of Lytle Creek, CA, 0.19, 27, ,ci,, reviewed, 1746287093370, M 1.3 - 3 km N of Lytle Creek, CA, 0, earthquake, ,nearby-cities,origin,phase-data,scitech-link,, null, 1746370447512, https://earthquake.usgs.gov/earthquakes/eventpage/ci41143928)</td><td>Feature</td></tr><tr><td>List(List(-122.844329833984, 38.8228340148926, 2.25999999046326), Point)</td><td>nc75175981</td><td>List(null, null, 75175981, https://earthquake.usgs.gov/fdsnws/event/1/query?eventid=nc75175981&format=geojson, 0.00727, null, 104.0, ,nc75175981,, 0.92, md, null, nc, 17, 9 km NW of The Geysers, CA, 0.01, 13, ,nc,, automatic, 1746286450160, M 0.9 - 9 km NW of The Geysers, CA, 0, earthquake, ,nearby-cities,origin,phase-data,scitech-link,, null, 1746288740070, https://earthquake.usgs.gov/earthquakes/eventpage/nc75175981)</td><td>Feature</td></tr><tr><td>List(List(-117.7813333, 34.5808333, 8.76), Point)</td><td>ci41143920</td><td>List(null, null, 41143920, https://earthquake.usgs.gov/fdsnws/event/1/query?eventid=ci41143920&format=geojson, null, null, 61.0, ,ci41143920,, 1.65, ml, null, ci, 68, 6 km SE of Lake Los Angeles, CA, 0.18, 42, ,ci,, reviewed, 1746286438920, M 1.7 - 6 km SE of Lake Los Angeles, CA, 0, earthquake, ,focal-mechanism,nearby-cities,origin,phase-data,scitech-link,, null, 1746370511200, https://earthquake.usgs.gov/earthquakes/eventpage/ci41143920)</td><td>Feature</td></tr><tr><td>List(List(-145.4394, 60.0951, 1.7), Point)</td><td>ak0255no4gbe</td><td>List(null, null, 0255no4gbe, https://earthquake.usgs.gov/fdsnws/event/1/query?eventid=ak0255no4gbe&format=geojson, null, null, null, ,ak0255no4gbe,, 2.2, ml, null, ak, null, 52 km SSE of Cordova, Alaska, 0.59, 74, ,ak,, automatic, 1746285322826, M 2.2 - 52 km SSE of Cordova, Alaska, 0, earthquake, ,origin,phase-data,, null, 1746285454865, https://earthquake.usgs.gov/earthquakes/eventpage/ak0255no4gbe)</td><td>Feature</td></tr><tr><td>List(List(-67.1035, -57.0433, 10.0), Point)</td><td>us7000pwx1</td><td>List(null, null, 7000pwx1, https://earthquake.usgs.gov/fdsnws/event/1/query?eventid=us7000pwx1&format=geojson, 3.73, null, 146.0, ,us7000pwx1,, 4.2, mb, null, us, 17, 259 km SSE of Ushuaia, Argentina, 1.09, 271, ,us,, reviewed, 1746285146966, M 4.2 - 259 km SSE of Ushuaia, Argentina, 0, earthquake, ,origin,phase-data,, null, 1746290200040, https://earthquake.usgs.gov/earthquakes/eventpage/us7000pwx1)</td><td>Feature</td></tr><tr><td>List(List(-152.0863, 60.5794, 77.9), Point)</td><td>ak0255nns9e4</td><td>List(null, null, 0255nns9e4, https://earthquake.usgs.gov/fdsnws/event/1/query?eventid=ak0255nns9e4&format=geojson, null, null, null, ,ak0255nns9e4,, 1.7, ml, null, ak, null, 42 km W of Salamatof, Alaska, 0.22, 44, ,ak,, automatic, 1746284314360, M 1.7 - 42 km W of Salamatof, Alaska, 0, earthquake, ,origin,phase-data,, null, 1746284403737, https://earthquake.usgs.gov/earthquakes/eventpage/ak0255nns9e4)</td><td>Feature</td></tr><tr><td>List(List(-77.9596, -0.6213, 10.0), Point)</td><td>us7000pwwy</td><td>List(null, 3.1, 7000pwwy, https://earthquake.usgs.gov/fdsnws/event/1/query?eventid=us7000pwwy&format=geojson, 0.244, 1, 88.0, ,us7000pwwy,, 4.6, mb, null, us, 28, 36 km NNW of Archidona, Ecuador, 0.93, 326, ,us,, reviewed, 1746283814693, M 4.6 - 36 km NNW of Archidona, Ecuador, 0, earthquake, ,dyfi,origin,phase-data,, null, 1746289474025, https://earthquake.usgs.gov/earthquakes/eventpage/us7000pwwy)</td><td>Feature</td></tr><tr><td>List(List(-67.701, -57.1289, 10.0), Point)</td><td>us7000pwwx</td><td>List(null, null, 7000pwwx, https://earthquake.usgs.gov/fdsnws/event/1/query?eventid=us7000pwwx&format=geojson, 3.644, null, 147.0, ,us7000pwwx,, 4.6, mb, null, us, 25, 260 km S of Ushuaia, Argentina, 0.96, 326, ,us,, reviewed, 1746283292337, M 4.6 - 260 km S of Ushuaia, Argentina, 0, earthquake, ,origin,phase-data,, null, 1746288158040, https://earthquake.usgs.gov/earthquakes/eventpage/us7000pwwx)</td><td>Feature</td></tr><tr><td>List(List(-153.144, 59.8151, 94.9), Point)</td><td>ak0255nnnyyq</td><td>List(null, null, 0255nnnyyq, https://earthquake.usgs.gov/fdsnws/event/1/query?eventid=ak0255nnnyyq&format=geojson, null, null, null, ,ak0255nnnyyq,, 1.9, ml, null, ak, null, 54 km E of Pedro Bay, Alaska, 0.29, 56, ,ak,, automatic, 1746283112989, M 1.9 - 54 km E of Pedro Bay, Alaska, 0, earthquake, ,origin,phase-data,, null, 1746283235754, https://earthquake.usgs.gov/earthquakes/eventpage/ak0255nnnyyq)</td><td>Feature</td></tr><tr><td>List(List(-123.35717010498, 39.4133338928223, 1.85000002384186), Point)</td><td>nc75175966</td><td>List(null, 3.4, 75175966, https://earthquake.usgs.gov/fdsnws/event/1/query?eventid=nc75175966&format=geojson, 0.05765, 5, 73.0, ,nc75175966,, 2.19, md, null, nc, 21, 0 km  of Willits, CA, 0.07, 75, ,nc,, automatic, 1746282565620, M 2.2 - 0 km  of Willits, CA, 0, earthquake, ,dyfi,nearby-cities,origin,phase-data,scitech-link,, null, 1746288548307, https://earthquake.usgs.gov/earthquakes/eventpage/nc75175966)</td><td>Feature</td></tr><tr><td>List(List(-119.0158, 39.0878, 9.0), Point)</td><td>nn00897181</td><td>List(null, null, 00897181, https://earthquake.usgs.gov/fdsnws/event/1/query?eventid=nn00897181&format=geojson, 0.083, null, 85.28, ,nn00897181,, 0.8, ml, null, nn, 9, 17 km NE of Yerington, Nevada, 0.197, 10, ,nn,, automatic, 1746282313700, M 0.8 - 17 km NE of Yerington, Nevada, 0, earthquake, ,origin,phase-data,, null, 1746282444771, https://earthquake.usgs.gov/earthquakes/eventpage/nn00897181)</td><td>Feature</td></tr><tr><td>List(List(-149.8182, 61.6993, 32.0), Point)</td><td>ak0255nnkrsf</td><td>List(null, null, 0255nnkrsf, https://earthquake.usgs.gov/fdsnws/event/1/query?eventid=ak0255nnkrsf&format=geojson, null, null, null, ,ak0255nnkrsf,, 2.1, ml, null, ak, null, 7 km N of Houston, Alaska, 0.65, 68, ,ak,, automatic, 1746282220315, M 2.1 - 7 km N of Houston, Alaska, 0, earthquake, ,origin,phase-data,, null, 1746282356337, https://earthquake.usgs.gov/earthquakes/eventpage/ak0255nnkrsf)</td><td>Feature</td></tr><tr><td>List(List(-122.813499450684, 38.8308334350586, 2.00999999046326), Point)</td><td>nc75175956</td><td>List(null, null, 75175956, https://earthquake.usgs.gov/fdsnws/event/1/query?eventid=nc75175956&format=geojson, 0.007895, null, 42.0, ,nc75175956,, 1.36, md, null, nc, 28, 8 km NNW of The Geysers, CA, 0.02, 28, ,nc,, automatic, 1746282155470, M 1.4 - 8 km NNW of The Geysers, CA, 0, earthquake, ,nearby-cities,origin,phase-data,scitech-link,, null, 1746284237599, https://earthquake.usgs.gov/earthquakes/eventpage/nc75175956)</td><td>Feature</td></tr><tr><td>List(List(124.4235, 1.1743, 231.402), Point)</td><td>us7000pwwu</td><td>List(null, null, 7000pwwu, https://earthquake.usgs.gov/fdsnws/event/1/query?eventid=us7000pwwu&format=geojson, 2.97, null, 79.0, ,us7000pwwu,, 4.5, mb, null, us, 41, 45 km WSW of Tomohon, Indonesia, 1.08, 312, ,us,, reviewed, 1746282050752, M 4.5 - 45 km WSW of Tomohon, Indonesia, 0, earthquake, ,origin,phase-data,, null, 1746282925040, https://earthquake.usgs.gov/earthquakes/eventpage/us7000pwwu)</td><td>Feature</td></tr><tr><td>List(List(-149.3222, 64.6614, 17.4), Point)</td><td>ak0255nnhq6i</td><td>List(null, null, 0255nnhq6i, https://earthquake.usgs.gov/fdsnws/event/1/query?eventid=ak0255nnhq6i&format=geojson, null, null, null, ,ak0255nnhq6i,, 1.1, ml, null, ak, null, 11 km NW of Four Mile Road, Alaska, 0.41, 19, ,ak,, automatic, 1746281359782, M 1.1 - 11 km NW of Four Mile Road, Alaska, 0, earthquake, ,origin,phase-data,, null, 1746281468201, https://earthquake.usgs.gov/earthquakes/eventpage/ak0255nnhq6i)</td><td>Feature</td></tr><tr><td>List(List(-116.7245, 33.5286667, 4.87), Point)</td><td>ci41143872</td><td>List(null, null, 41143872, https://earthquake.usgs.gov/fdsnws/event/1/query?eventid=ci41143872&format=geojson, 0.03816, null, 28.0, ,ci41143872,, 0.76, ml, null, ci, 39, 6 km WSW of Anza, CA, 0.17, 9, ,ci,, reviewed, 1746281345060, M 0.8 - 6 km WSW of Anza, CA, 0, earthquake, ,focal-mechanism,nearby-cities,origin,phase-data,scitech-link,, null, 1746370514020, https://earthquake.usgs.gov/earthquakes/eventpage/ci41143872)</td><td>Feature</td></tr><tr><td>List(List(-67.9455, -57.2338, 10.0), Point)</td><td>us7000pwwr</td><td>List(null, null, 7000pwwr, https://earthquake.usgs.gov/fdsnws/event/1/query?eventid=us7000pwwr&format=geojson, 3.683, null, 149.0, ,us7000pwwr,, 4.5, mb, null, us, 21, 270 km S of Ushuaia, Argentina, 0.77, 312, ,us,, reviewed, 1746281270285, M 4.5 - 270 km S of Ushuaia, Argentina, 0, earthquake, ,origin,phase-data,, null, 1746287538040, https://earthquake.usgs.gov/earthquakes/eventpage/us7000pwwr)</td><td>Feature</td></tr><tr><td>List(List(-150.2221, 60.7169, 40.8), Point)</td><td>ak0255nnfuy4</td><td>List(null, 2.0, 0255nnfuy4, https://earthquake.usgs.gov/fdsnws/event/1/query?eventid=ak0255nnfuy4&format=geojson, null, 1, null, ,ak0255nnfuy4,, 1.5, ml, null, ak, null, 33 km NW of Cooper Landing, Alaska, 0.7, 35, ,ak,, automatic, 1746280848448, M 1.5 - 33 km NW of Cooper Landing, Alaska, 0, earthquake, ,dyfi,origin,phase-data,, null, 1746372253255, https://earthquake.usgs.gov/earthquakes/eventpage/ak0255nnfuy4)</td><td>Feature</td></tr><tr><td>List(List(-122.813331604004, 38.8209991455078, 3.09999990463257), Point)</td><td>nc75175946</td><td>List(null, null, 75175946, https://earthquake.usgs.gov/fdsnws/event/1/query?eventid=nc75175946&format=geojson, 0.003493, null, 90.0, ,nc75175946,, 0.8, md, null, nc, 14, 7 km NW of The Geysers, CA, 0.01, 10, ,nc,, automatic, 1746279847530, M 0.8 - 7 km NW of The Geysers, CA, 0, earthquake, ,nearby-cities,origin,phase-data,scitech-link,, null, 1746281538307, https://earthquake.usgs.gov/earthquakes/eventpage/nc75175946)</td><td>Feature</td></tr><tr><td>List(List(-116.3078, 36.716, 9.1), Point)</td><td>nn00897177</td><td>List(null, null, 00897177, https://earthquake.usgs.gov/fdsnws/event/1/query?eventid=nn00897177&format=geojson, 0.017, null, 206.06, ,nn00897177,, -0.3, ml, null, nn, 20, 45 km ESE of Beatty, Nevada, 0.0854, 0, ,nn,, reviewed, 1746279622074, M -0.3 - 45 km ESE of Beatty, Nevada, 0, earthquake, ,origin,phase-data,, null, 1746282460914, https://earthquake.usgs.gov/earthquakes/eventpage/nn00897177)</td><td>Feature</td></tr><tr><td>List(List(-115.8332, 38.129, 13.6), Point)</td><td>nn00897173</td><td>List(null, null, 00897173, https://earthquake.usgs.gov/fdsnws/event/1/query?eventid=nn00897173&format=geojson, 0.951, null, 293.6, ,nn00897173,, 1.5, ml, null, nn, 8, 54 km N of Rachel, Nevada, 0.2243, 35, ,nn,, automatic, 1746278497724, M 1.5 - 54 km N of Rachel, Nevada, 0, earthquake, ,origin,phase-data,, null, 1746278644111, https://earthquake.usgs.gov/earthquakes/eventpage/nn00897173)</td><td>Feature</td></tr><tr><td>List(List(-116.0951667, 33.2523333, 10.45), Point)</td><td>ci41143832</td><td>List(null, null, 41143832, https://earthquake.usgs.gov/fdsnws/event/1/query?eventid=ci41143832&format=geojson, 0.09568, null, 56.0, ,ci41143832,, 0.49, ml, null, ci, 34, 13 km NNE of Ocotillo Wells, CA, 0.2, 4, ,ci,, automatic, 1746276837340, M 0.5 - 13 km NNE of Ocotillo Wells, CA, 0, earthquake, ,nearby-cities,origin,phase-data,scitech-link,, null, 1746277046907, https://earthquake.usgs.gov/earthquakes/eventpage/ci41143832)</td><td>Feature</td></tr><tr><td>List(List(-116.4656667, 32.9408333, 8.16), Point)</td><td>ci41143824</td><td>List(null, null, 41143824, https://earthquake.usgs.gov/fdsnws/event/1/query?eventid=ci41143824&format=geojson, 0.05563, null, 62.0, ,ci41143824,, 0.13, ml, null, ci, 16, 14 km NNE of Pine Valley, CA, 0.13, 0, ,ci,, automatic, 1746276776970, M 0.1 - 14 km NNE of Pine Valley, CA, 0, earthquake, ,nearby-cities,origin,phase-data,scitech-link,, null, 1746276987049, https://earthquake.usgs.gov/earthquakes/eventpage/ci41143824)</td><td>Feature</td></tr><tr><td>List(List(121.5769, 0.501, 108.386), Point)</td><td>us7000pwvy</td><td>List(green, 6.4, 7000pwvy, https://earthquake.usgs.gov/fdsnws/event/1/query?eventid=us7000pwvy&format=geojson, 1.0, 8, 27.0, ,us7000pwvy,usauto7000pwvy,pt25123000,at00svorqa,, 6.0, mww, 4.329, us, 135, 165 km W of Gorontalo, Indonesia, 1.18, 559, ,us,usauto,pt,at,, reviewed, 1746276705137, M 6.0 - 165 km W of Gorontalo, Indonesia, 0, earthquake, ,dyfi,ground-failure,internal-moment-tensor,internal-origin,losspager,moment-tensor,origin,phase-data,shakemap,, null, 1746374103863, https://earthquake.usgs.gov/earthquakes/eventpage/us7000pwvy)</td><td>Feature</td></tr><tr><td>List(List(-116.7253333, 33.5371667, 6.68), Point)</td><td>ci41143816</td><td>List(null, null, 41143816, https://earthquake.usgs.gov/fdsnws/event/1/query?eventid=ci41143816&format=geojson, 0.02988, null, 70.0, ,ci41143816,, 1.44, ml, null, ci, 11, 5 km WSW of Anza, CA, 0.14, 32, ,ci,, automatic, 1746276460870, M 1.4 - 5 km WSW of Anza, CA, 0, earthquake, ,nearby-cities,origin,phase-data,scitech-link,, null, 1746276679021, https://earthquake.usgs.gov/earthquakes/eventpage/ci41143816)</td><td>Feature</td></tr><tr><td>List(List(-103.207, 31.039, 4.2434), Point)</td><td>tx2025ipwr</td><td>List(null, null, 2025ipwr, https://earthquake.usgs.gov/fdsnws/event/1/query?eventid=tx2025ipwr&format=geojson, 0.1, null, 78.0, ,tx2025ipwr,, 1.7, ml, null, tx, 15, 26 km SSW of Coyanosa, Texas, 1.2, 44, ,tx,, automatic, 1746276246741, M 1.7 - 26 km SSW of Coyanosa, Texas, 0, earthquake, ,origin,phase-data,, null, 1746276853917, https://earthquake.usgs.gov/earthquakes/eventpage/tx2025ipwr)</td><td>Feature</td></tr><tr><td>List(List(-122.780334472656, 38.7948341369629, 3.45000004768372), Point)</td><td>nc75175936</td><td>List(null, null, 75175936, https://earthquake.usgs.gov/fdsnws/event/1/query?eventid=nc75175936&format=geojson, 0.006152, null, 77.0, ,nc75175936,, 1.09, md, null, nc, 22, 3 km NW of The Geysers, CA, 0.02, 18, ,nc,, automatic, 1746275801000, M 1.1 - 3 km NW of The Geysers, CA, 0, earthquake, ,nearby-cities,origin,phase-data,scitech-link,, null, 1746277639868, https://earthquake.usgs.gov/earthquakes/eventpage/nc75175936)</td><td>Feature</td></tr><tr><td>List(List(-147.4434, 64.506, 1.8), Point)</td><td>ak0255nmezbo</td><td>List(null, null, 0255nmezbo, https://earthquake.usgs.gov/fdsnws/event/1/query?eventid=ak0255nmezbo&format=geojson, null, null, null, ,ak0255nmezbo,, 1.2, ml, null, ak, null, 25 km SW of Eielson Air Force Base, Alaska, 0.7, 22, ,ak,, automatic, 1746275322442, M 1.2 - 25 km SW of Eielson Air Force Base, Alaska, 0, earthquake, ,origin,phase-data,, null, 1746275471358, https://earthquake.usgs.gov/earthquakes/eventpage/ak0255nmezbo)</td><td>Feature</td></tr><tr><td>List(List(-122.815002441406, 38.8296661376953, 1.91999995708466), Point)</td><td>nc75175931</td><td>List(null, null, 75175931, https://earthquake.usgs.gov/fdsnws/event/1/query?eventid=nc75175931&format=geojson, 0.007351, null, 44.0, ,nc75175931,, 1.31, md, null, nc, 22, 8 km NNW of The Geysers, CA, 0.01, 26, ,nc,, automatic, 1746274045200, M 1.3 - 8 km NNW of The Geysers, CA, 0, earthquake, ,nearby-cities,origin,phase-data,scitech-link,, null, 1746276443726, https://earthquake.usgs.gov/earthquakes/eventpage/nc75175931)</td><td>Feature</td></tr><tr><td>List(List(-68.4964, -57.0756, 10.0), Point)</td><td>us7000pwvl</td><td>List(null, null, 7000pwvl, https://earthquake.usgs.gov/fdsnws/event/1/query?eventid=us7000pwvl&format=geojson, 4.194, null, 140.0, ,us7000pwvl,, 4.6, mb, null, us, 30, 252 km S of Ushuaia, Argentina, 1.3, 326, ,us,, reviewed, 1746273282234, M 4.6 - 252 km S of Ushuaia, Argentina, 0, earthquake, ,origin,phase-data,, null, 1746274703040, https://earthquake.usgs.gov/earthquakes/eventpage/us7000pwvl)</td><td>Feature</td></tr><tr><td>List(List(-66.8405, 17.9048333333333, 11.64), Point)</td><td>pr71481233</td><td>List(null, null, 71481233, https://earthquake.usgs.gov/fdsnws/event/1/query?eventid=pr71481233&format=geojson, 0.07222, null, 231.0, ,pr71481233,, 2.56, md, null, pr, 13, 9 km SSE of Maria Antonia, Puerto Rico, 0.07, 101, ,pr,, reviewed, 1746273254540, M 2.6 - 9 km SSE of Maria Antonia, Puerto Rico, 0, earthquake, ,origin,phase-data,, null, 1746274266370, https://earthquake.usgs.gov/earthquakes/eventpage/pr71481233)</td><td>Feature</td></tr><tr><td>List(List(-115.6071667, 33.119, 9.46), Point)</td><td>ci41143784</td><td>List(null, null, 41143784, https://earthquake.usgs.gov/fdsnws/event/1/query?eventid=ci41143784&format=geojson, 0.02276, null, 44.0, ,ci41143784,, 1.29, ml, null, ci, 37, 9 km W of Calipatria, CA, 0.21, 26, ,ci,, automatic, 1746273124590, M 1.3 - 9 km W of Calipatria, CA, 0, earthquake, ,nearby-cities,origin,phase-data,scitech-link,, null, 1746273337146, https://earthquake.usgs.gov/earthquakes/eventpage/ci41143784)</td><td>Feature</td></tr><tr><td>List(List(-117.8106667, 35.3533333, 6.62), Point)</td><td>ci41143776</td><td>List(null, 0.0, 41143776, https://earthquake.usgs.gov/fdsnws/event/1/query?eventid=ci41143776&format=geojson, 0.09041, 1, 36.0, ,ci41143776,, 1.21, ml, null, ci, 34, 16 km W of Johannesburg, CA, 0.19, 23, ,ci,, reviewed, 1746272979870, M 1.2 - 16 km W of Johannesburg, CA, 0, earthquake, ,dyfi,nearby-cities,origin,phase-data,scitech-link,, null, 1746370623057, https://earthquake.usgs.gov/earthquakes/eventpage/ci41143776)</td><td>Feature</td></tr><tr><td>List(List(-104.578, 31.717, 3.3701), Point)</td><td>tx2025iput</td><td>List(null, null, 2025iput, https://earthquake.usgs.gov/fdsnws/event/1/query?eventid=tx2025iput&format=geojson, 0.1, null, 210.0, ,tx2025iput,, 1.6, ml, null, tx, 8, 54 km SSW of Whites City, New Mexico, 0.2, 39, ,tx,, automatic, 1746272625551, M 1.6 - 54 km SSW of Whites City, New Mexico, 0, earthquake, ,origin,phase-data,, null, 1746275211403, https://earthquake.usgs.gov/earthquakes/eventpage/tx2025iput)</td><td>Feature</td></tr><tr><td>List(List(-116.724, 33.9046667, 15.09), Point)</td><td>ci41143768</td><td>List(null, null, 41143768, https://earthquake.usgs.gov/fdsnws/event/1/query?eventid=ci41143768&format=geojson, 0.09356, null, 53.0, ,ci41143768,, 0.75, ml, null, ci, 29, 6 km ESE of Cabazon, CA, 0.13, 9, ,ci,, automatic, 1746272522990, M 0.8 - 6 km ESE of Cabazon, CA, 0, earthquake, ,nearby-cities,origin,phase-data,scitech-link,, null, 1746272730623, https://earthquake.usgs.gov/earthquakes/eventpage/ci41143768)</td><td>Feature</td></tr><tr><td>List(List(-68.7381, -21.4829, 123.71), Point)</td><td>us7000pwvh</td><td>List(null, null, 7000pwvh, https://earthquake.usgs.gov/fdsnws/event/1/query?eventid=us7000pwvh&format=geojson, 0.563, null, 122.0, ,us7000pwvh,, 4.2, mb, null, us, 26, 57 km WSW of Ollagüe, Chile, 0.72, 271, ,us,, reviewed, 1746271901914, M 4.2 - 57 km WSW of Ollagüe, Chile, 0, earthquake, ,origin,phase-data,, null, 1746279614040, https://earthquake.usgs.gov/earthquakes/eventpage/us7000pwvh)</td><td>Feature</td></tr><tr><td>List(List(-122.818336486816, 38.8103332519531, 3.16000008583069), Point)</td><td>nc75175926</td><td>List(null, null, 75175926, https://earthquake.usgs.gov/fdsnws/event/1/query?eventid=nc75175926&format=geojson, 0.008596, null, 86.0, ,nc75175926,, 0.54, md, null, nc, 10, 7 km NW of The Geysers, CA, 0.02, 4, ,nc,, automatic, 1746271898490, M 0.5 - 7 km NW of The Geysers, CA, 0, earthquake, ,nearby-cities,origin,phase-data,scitech-link,, null, 1746275239664, https://earthquake.usgs.gov/earthquakes/eventpage/nc75175926)</td><td>Feature</td></tr><tr><td>List(List(-179.5722, -27.7253, 478.229), Point)</td><td>us7000pwvi</td><td>List(null, null, 7000pwvi, https://earthquake.usgs.gov/fdsnws/event/1/query?eventid=us7000pwvi&format=geojson, 2.094, null, 84.0, ,us7000pwvi,, 4.5, mb, null, us, 33, Kermadec Islands region, 0.79, 312, ,us,, reviewed, 1746271818490, M 4.5 - Kermadec Islands region, 0, earthquake, ,origin,phase-data,, null, 1746273398040, https://earthquake.usgs.gov/earthquakes/eventpage/us7000pwvi)</td><td>Feature</td></tr><tr><td>List(List(-104.161, 31.521, 3.4859), Point)</td><td>tx2025ipuc</td><td>List(null, null, 2025ipuc, https://earthquake.usgs.gov/fdsnws/event/1/query?eventid=tx2025ipuc&format=geojson, 0.1, null, 74.0, ,tx2025ipuc,, 1.5, ml, null, tx, 17, 41 km WNW of Toyah, Texas, 0.3, 35, ,tx,, automatic, 1746271423329, M 1.5 - 41 km WNW of Toyah, Texas, 0, earthquake, ,origin,phase-data,, null, 1746271829602, https://earthquake.usgs.gov/earthquakes/eventpage/tx2025ipuc)</td><td>Feature</td></tr><tr><td>List(List(-122.875503540039, 38.829833984375, 2.27999997138977), Point)</td><td>nc75175921</td><td>List(null, null, 75175921, https://earthquake.usgs.gov/fdsnws/event/1/query?eventid=nc75175921&format=geojson, 0.01043, null, 160.0, ,nc75175921,, 0.74, md, null, nc, 12, 12 km NW of The Geysers, CA, 0.02, 8, ,nc,, automatic, 1746271152980, M 0.7 - 12 km NW of The Geysers, CA, 0, earthquake, ,nearby-cities,origin,phase-data,scitech-link,, null, 1746272236243, https://earthquake.usgs.gov/earthquakes/eventpage/nc75175921)</td><td>Feature</td></tr><tr><td>List(List(-122.818832397461, 38.8153343200684, 2.74000000953674), Point)</td><td>nc75175916</td><td>List(null, null, 75175916, https://earthquake.usgs.gov/fdsnws/event/1/query?eventid=nc75175916&format=geojson, 0.01035, null, 86.0, ,nc75175916,, 0.79, md, null, nc, 12, 7 km NW of The Geysers, CA, 0.01, 10, ,nc,, automatic, 1746270436610, M 0.8 - 7 km NW of The Geysers, CA, 0, earthquake, ,nearby-cities,origin,phase-data,scitech-link,, null, 1746271340156, https://earthquake.usgs.gov/earthquakes/eventpage/nc75175916)</td><td>Feature</td></tr><tr><td>List(List(-117.4083333, 35.9861667, 1.66), Point)</td><td>ci41143744</td><td>List(null, null, 41143744, https://earthquake.usgs.gov/fdsnws/event/1/query?eventid=ci41143744&format=geojson, 0.139, null, 69.0, ,ci41143744,, 1.91, ml, null, ci, 28, 24 km N of Searles Valley, CA, 0.16, 56, ,ci,, reviewed, 1746270202310, M 1.9 - 24 km N of Searles Valley, CA, 0, earthquake, ,nearby-cities,origin,phase-data,scitech-link,, null, 1746370702618, https://earthquake.usgs.gov/earthquakes/eventpage/ci41143744)</td><td>Feature</td></tr><tr><td>List(List(-67.2467, -57.1941, 10.0), Point)</td><td>us7000pwvf</td><td>List(null, null, 7000pwvf, https://earthquake.usgs.gov/fdsnws/event/1/query?eventid=us7000pwvf&format=geojson, 4.567, null, 133.0, ,us7000pwvf,, 4.9, mb, null, us, 40, 273 km SSE of Ushuaia, Argentina, 1.04, 369, ,us,, reviewed, 1746269443557, M 4.9 - 273 km SSE of Ushuaia, Argentina, 0, earthquake, ,origin,phase-data,, null, 1746270471040, https://earthquake.usgs.gov/earthquakes/eventpage/us7000pwvf)</td><td>Feature</td></tr><tr><td>List(List(-122.801498413086, 38.8158340454102, 2.34999990463257), Point)</td><td>nc75175901</td><td>List(null, null, 75175901, https://earthquake.usgs.gov/fdsnws/event/1/query?eventid=nc75175901&format=geojson, 0.009226, null, 39.0, ,nc75175901,, 1.31, md, null, nc, 27, 6 km NNW of The Geysers, CA, 0.02, 26, ,nc,, automatic, 1746269441000, M 1.3 - 6 km NNW of The Geysers, CA, 0, earthquake, ,nearby-cities,origin,phase-data,scitech-link,, null, 1746273137348, https://earthquake.usgs.gov/earthquakes/eventpage/nc75175901)</td><td>Feature</td></tr><tr><td>List(List(-112.529333333333, 46.8793333333333, 8.89), Point)</td><td>mb90081333</td><td>List(null, null, 90081333, https://earthquake.usgs.gov/fdsnws/event/1/query?eventid=mb90081333&format=geojson, 0.05356, null, 123.0, ,mb90081333,, 0.83, ml, null, mb, 11, 14 km SE of Lincoln, Montana, 0.09, 11, ,mb,, reviewed, 1746267931390, M 0.8 - 14 km SE of Lincoln, Montana, 0, earthquake, ,origin,phase-data,, null, 1746281471390, https://earthquake.usgs.gov/earthquakes/eventpage/mb90081333)</td><td>Feature</td></tr><tr><td>List(List(-152.1449, 60.279, 89.6), Point)</td><td>ak0255nl6mzx</td><td>List(null, null, 0255nl6mzx, https://earthquake.usgs.gov/fdsnws/event/1/query?eventid=ak0255nl6mzx&format=geojson, null, null, null, ,ak0255nl6mzx,, 1.7, ml, null, ak, null, 36 km NW of Ninilchik, Alaska, 0.57, 44, ,ak,, automatic, 1746267714052, M 1.7 - 36 km NW of Ninilchik, Alaska, 0, earthquake, ,origin,phase-data,, null, 1746267835243, https://earthquake.usgs.gov/earthquakes/eventpage/ak0255nl6mzx)</td><td>Feature</td></tr><tr><td>List(List(-178.3288, 52.2898, 204.765), Point)</td><td>us7000pwv9</td><td>List(null, null, 7000pwv9, https://earthquake.usgs.gov/fdsnws/event/1/query?eventid=us7000pwv9&format=geojson, 0.849, null, 249.0, ,ak0255nl3lxy,us7000pwv9,, 4.1, mb, 2.341, us, 84, 125 km WNW of Adak, Alaska, 0.7, 259, ,ak,us,, reviewed, 1746266855322, M 4.1 - 125 km WNW of Adak, Alaska, 0, earthquake, ,origin,phase-data,shakemap,, null, 1746305016304, https://earthquake.usgs.gov/earthquakes/eventpage/us7000pwv9)</td><td>Feature</td></tr><tr><td>List(List(178.8832, 51.6216, 68.6), Point)</td><td>ak0255nl3fj8</td><td>List(null, null, 0255nl3fj8, https://earthquake.usgs.gov/fdsnws/event/1/query?eventid=ak0255nl3fj8&format=geojson, null, null, null, ,ak0255nl3fj8,, 3.6, ml, 2.223, ak, null, Rat Islands, Aleutian Islands, Alaska, 0.34, 199, ,ak,, reviewed, 1746266818336, M 3.6 - Rat Islands, Aleutian Islands, Alaska, 0, earthquake, ,origin,phase-data,shakemap,, null, 1746304301973, https://earthquake.usgs.gov/earthquakes/eventpage/ak0255nl3fj8)</td><td>Feature</td></tr><tr><td>List(List(-123.540496826172, 39.1590003967285, 2.4300000667572), Point)</td><td>nc75175876</td><td>List(null, null, 75175876, https://earthquake.usgs.gov/fdsnws/event/1/query?eventid=nc75175876&format=geojson, 0.06208, null, 50.0, ,nc75175876,, 1.74, md, null, nc, 12, 20 km ESE of Navarro Head, CA, 0.05, 47, ,nc,, automatic, 1746266805210, M 1.7 - 20 km ESE of Navarro Head, CA, 0, earthquake, ,nearby-cities,origin,phase-data,scitech-link,, null, 1746270439060, https://earthquake.usgs.gov/earthquakes/eventpage/nc75175876)</td><td>Feature</td></tr><tr><td>List(List(-67.7044, -57.0849, 10.0), Point)</td><td>us7000pwvb</td><td>List(null, null, 7000pwvb, https://earthquake.usgs.gov/fdsnws/event/1/query?eventid=us7000pwvb&format=geojson, 4.382, null, 145.0, ,us7000pwvb,, 5.0, mb, null, us, 43, 256 km S of Ushuaia, Argentina, 1.08, 385, ,us,, reviewed, 1746266793184, M 5.0 - 256 km S of Ushuaia, Argentina, 0, earthquake, ,origin,phase-data,, null, 1746267781040, https://earthquake.usgs.gov/earthquakes/eventpage/us7000pwvb)</td><td>Feature</td></tr><tr><td>List(List(-116.6408333, 33.5963333, 15.86), Point)</td><td>ci41143736</td><td>List(null, null, 41143736, https://earthquake.usgs.gov/fdsnws/event/1/query?eventid=ci41143736&format=geojson, 0.0308, null, 118.0, ,ci41143736,, 0.69, ml, null, ci, 17, 6 km NNE of Anza, CA, 0.13, 7, ,ci,, automatic, 1746266707560, M 0.7 - 6 km NNE of Anza, CA, 0, earthquake, ,nearby-cities,origin,phase-data,scitech-link,, null, 1746266919660, https://earthquake.usgs.gov/earthquakes/eventpage/ci41143736)</td><td>Feature</td></tr><tr><td>List(List(-116.8168333, 33.698, 15.66), Point)</td><td>ci41143728</td><td>List(null, null, 41143728, https://earthquake.usgs.gov/fdsnws/event/1/query?eventid=ci41143728&format=geojson, 0.07257, null, 34.0, ,ci41143728,, 1.01, ml, null, ci, 48, 9 km SE of Valle Vista, CA, 0.19, 16, ,ci,, reviewed, 1746266238540, M 1.0 - 9 km SE of Valle Vista, CA, 0, earthquake, ,focal-mechanism,nearby-cities,origin,phase-data,scitech-link,, null, 1746370761320, https://earthquake.usgs.gov/earthquakes/eventpage/ci41143728)</td><td>Feature</td></tr><tr><td>List(List(-173.0797, 52.9492, 193.934), Point)</td><td>us7000pwv8</td><td>List(null, null, 7000pwv8, https://earthquake.usgs.gov/fdsnws/event/1/query?eventid=us7000pwv8&format=geojson, 1.013, null, 134.0, ,us7000pwv8,, 4.0, mb, null, us, 75, 113 km NE of Atka, Alaska, 0.8, 246, ,us,, reviewed, 1746264917473, M 4.0 - 113 km NE of Atka, Alaska, 0, earthquake, ,origin,phase-data,, null, 1746268568040, https://earthquake.usgs.gov/earthquakes/eventpage/us7000pwv8)</td><td>Feature</td></tr><tr><td>List(List(-122.810668945312, 38.7986679077148, 3.25999999046326), Point)</td><td>nc75175861</td><td>List(null, null, 75175861, https://earthquake.usgs.gov/fdsnws/event/1/query?eventid=nc75175861&format=geojson, 0.01191, null, 70.0, ,nc75175861,, 1.32, md, null, nc, 29, 5 km NW of The Geysers, CA, 0.02, 27, ,nc,, automatic, 1746264906570, M 1.3 - 5 km NW of The Geysers, CA, 0, earthquake, ,nearby-cities,origin,phase-data,scitech-link,, null, 1746269536955, https://earthquake.usgs.gov/earthquakes/eventpage/nc75175861)</td><td>Feature</td></tr><tr><td>List(List(-122.728332519531, 38.7630004882812, 1.76999998092651), Point)</td><td>nc75175856</td><td>List(null, null, 75175856, https://earthquake.usgs.gov/fdsnws/event/1/query?eventid=nc75175856&format=geojson, 0.003056, null, 94.0, ,nc75175856,, 0.76, md, null, nc, 7, 3 km SE of The Geysers, CA, 0.02, 9, ,nc,, automatic, 1746264891770, M 0.8 - 3 km SE of The Geysers, CA, 0, earthquake, ,nearby-cities,origin,phase-data,scitech-link,, null, 1746268336822, https://earthquake.usgs.gov/earthquakes/eventpage/nc75175856)</td><td>Feature</td></tr><tr><td>List(List(-122.729164123535, 38.7620010375977, 2.21000003814697), Point)</td><td>nc75175851</td><td>List(null, null, 75175851, https://earthquake.usgs.gov/fdsnws/event/1/query?eventid=nc75175851&format=geojson, 0.003389, null, 107.0, ,nc75175851,, 1.37, md, null, nc, 22, 3 km SE of The Geysers, CA, 0.04, 29, ,nc,, automatic, 1746264877990, M 1.4 - 3 km SE of The Geysers, CA, 0, earthquake, ,nearby-cities,origin,phase-data,scitech-link,, null, 1746266838740, https://earthquake.usgs.gov/earthquakes/eventpage/nc75175851)</td><td>Feature</td></tr><tr><td>List(List(-150.5113, 64.5572, 17.3), Point)</td><td>ak0255nklzre</td><td>List(null, null, 0255nklzre, https://earthquake.usgs.gov/fdsnws/event/1/query?eventid=ak0255nklzre&format=geojson, null, null, null, ,ak0255nklzre,, 1.2, ml, null, ak, null, 49 km S of Manley Hot Springs, Alaska, 0.56, 22, ,ak,, automatic, 1746264321707, M 1.2 - 49 km S of Manley Hot Springs, Alaska, 0, earthquake, ,origin,phase-data,, null, 1746264429559, https://earthquake.usgs.gov/earthquakes/eventpage/ak0255nklzre)</td><td>Feature</td></tr><tr><td>List(List(-117.8041667, 35.3531667, 8.17), Point)</td><td>ci41143720</td><td>List(null, null, 41143720, https://earthquake.usgs.gov/fdsnws/event/1/query?eventid=ci41143720&format=geojson, 0.09208, null, 94.0, ,ci41143720,, 0.83, ml, null, ci, 25, 16 km W of Johannesburg, CA, 0.14, 11, ,ci,, reviewed, 1746264201590, M 0.8 - 16 km W of Johannesburg, CA, 0, earthquake, ,nearby-cities,origin,phase-data,scitech-link,, null, 1746370737228, https://earthquake.usgs.gov/earthquakes/eventpage/ci41143720)</td><td>Feature</td></tr><tr><td>List(List(-122.814834594727, 38.8318328857422, 1.60000002384186), Point)</td><td>nc75175841</td><td>List(null, null, 75175841, https://earthquake.usgs.gov/fdsnws/event/1/query?eventid=nc75175841&format=geojson, 0.00921, null, 44.0, ,nc75175841,, 1.37, md, null, nc, 23, 8 km NNW of The Geysers, CA, 0.01, 29, ,nc,, automatic, 1746263013500, M 1.4 - 8 km NNW of The Geysers, CA, 0, earthquake, ,nearby-cities,origin,phase-data,scitech-link,, null, 1746265638601, https://earthquake.usgs.gov/earthquakes/eventpage/nc75175841)</td><td>Feature</td></tr><tr><td>List(List(-122.715667724609, 38.7605018615723, 1.38999998569489), Point)</td><td>nc75175836</td><td>List(null, null, 75175836, https://earthquake.usgs.gov/fdsnws/event/1/query?eventid=nc75175836&format=geojson, 0.00727, null, 117.0, ,nc75175836,, 1.13, md, null, nc, 7, 3 km WSW of Anderson Springs, CA, 0.01, 20, ,nc,, automatic, 1746262662010, M 1.1 - 3 km WSW of Anderson Springs, CA, 0, earthquake, ,nearby-cities,origin,phase-data,scitech-link,, null, 1746264438382, https://earthquake.usgs.gov/earthquakes/eventpage/nc75175836)</td><td>Feature</td></tr><tr><td>List(List(-121.7975, 47.60883333333334, 16.74), Point)</td><td>uw62092257</td><td>List(null, 1.0, 62092257, https://earthquake.usgs.gov/fdsnws/event/1/query?eventid=uw62092257&format=geojson, 0.1065, 1, 77.0, ,uw62092257,, 1.79, ml, null, uw, 48, 8 km NE of Fall City, Washington, 0.16, 49, ,uw,, reviewed, 1746262489300, M 1.8 - 8 km NE of Fall City, Washington, 0, earthquake, ,dyfi,origin,phase-data,, null, 1746333800255, https://earthquake.usgs.gov/earthquakes/eventpage/uw62092257)</td><td>Feature</td></tr><tr><td>List(List(-119.4608, 39.8242, 9.9), Point)</td><td>nn00897168</td><td>List(null, null, 00897168, https://earthquake.usgs.gov/fdsnws/event/1/query?eventid=nn00897168&format=geojson, 0.304, null, 121.67000000000002, ,nn00897168,, 1.2, ml, null, nn, 10, 8 km W of Nixon, Nevada, 0.1557, 22, ,nn,, automatic, 1746260793535, M 1.2 - 8 km W of Nixon, Nevada, 0, earthquake, ,origin,phase-data,, null, 1746260923492, https://earthquake.usgs.gov/earthquakes/eventpage/nn00897168)</td><td>Feature</td></tr><tr><td>List(List(-119.4674, 39.8262, 10.7), Point)</td><td>nn00897166</td><td>List(null, null, 00897166, https://earthquake.usgs.gov/fdsnws/event/1/query?eventid=nn00897166&format=geojson, 0.299, null, 121.30000000000001, ,nn00897166,, 1.3, ml, null, nn, 10, 9 km W of Nixon, Nevada, 0.192, 26, ,nn,, automatic, 1746260135418, M 1.3 - 9 km W of Nixon, Nevada, 0, earthquake, ,origin,phase-data,, null, 1746260263542, https://earthquake.usgs.gov/earthquakes/eventpage/nn00897166)</td><td>Feature</td></tr><tr><td>List(List(-119.0529, 39.1498, 8.9), Point)</td><td>nn00897164</td><td>List(null, null, 00897164, https://earthquake.usgs.gov/fdsnws/event/1/query?eventid=nn00897164&format=geojson, 0.022, null, 117.48, ,nn00897164,, 1.0, ml, null, nn, 11, 20 km NNE of Yerington, Nevada, 0.1318, 15, ,nn,, automatic, 1746259929892, M 1.0 - 20 km NNE of Yerington, Nevada, 0, earthquake, ,origin,phase-data,, null, 1746260063905, https://earthquake.usgs.gov/earthquakes/eventpage/nn00897164)</td><td>Feature</td></tr><tr><td>List(List(-119.0572, 39.1397, 6.4), Point)</td><td>nn00897163</td><td>List(null, null, 00897163, https://earthquake.usgs.gov/fdsnws/event/1/query?eventid=nn00897163&format=geojson, 0.032, null, 119.18, ,nn00897163,, 0.9, ml, null, nn, 10, 19 km NNE of Yerington, Nevada, 0.1613, 12, ,nn,, automatic, 1746259879999, M 0.9 - 19 km NNE of Yerington, Nevada, 0, earthquake, ,origin,phase-data,, null, 1746260013331, https://earthquake.usgs.gov/earthquakes/eventpage/nn00897163)</td><td>Feature</td></tr><tr><td>List(List(-115.8505, 32.6748333, 8.84), Point)</td><td>ci41143696</td><td>List(null, null, 41143696, https://earthquake.usgs.gov/fdsnws/event/1/query?eventid=ci41143696&format=geojson, 0.06638, null, 48.0, ,ci41143696,, 1.45, ml, null, ci, 38, 15 km ESE of Ocotillo, CA, 0.18, 32, ,ci,, reviewed, 1746259741710, M 1.5 - 15 km ESE of Ocotillo, CA, 0, earthquake, ,focal-mechanism,nearby-cities,origin,phase-data,scitech-link,, null, 1746370824280, https://earthquake.usgs.gov/earthquakes/eventpage/ci41143696)</td><td>Feature</td></tr><tr><td>List(List(81.8832, 33.5302, 10.0), Point)</td><td>us7000pwux</td><td>List(null, null, 7000pwux, https://earthquake.usgs.gov/fdsnws/event/1/query?eventid=us7000pwux&format=geojson, 7.906, null, 159.0, ,us7000pwux,, 4.4, mb, null, us, 42, western Xizang, 0.65, 298, ,us,, reviewed, 1746258847734, M 4.4 - western Xizang, 0, earthquake, ,origin,phase-data,, null, 1746260373040, https://earthquake.usgs.gov/earthquakes/eventpage/us7000pwux)</td><td>Feature</td></tr><tr><td>List(List(-104.35, 31.656, 4.0103), Point)</td><td>tx2025ipna</td><td>List(null, null, 2025ipna, https://earthquake.usgs.gov/fdsnws/event/1/query?eventid=tx2025ipna&format=geojson, 0.1, null, 127.0, ,tx2025ipna,, 1.6, ml, null, tx, 17, 57 km S of Whites City, New Mexico, 0.3, 39, ,tx,, automatic, 1746258680761, M 1.6 - 57 km S of Whites City, New Mexico, 0, earthquake, ,origin,phase-data,, null, 1746259465072, https://earthquake.usgs.gov/earthquakes/eventpage/tx2025ipna)</td><td>Feature</td></tr><tr><td>List(List(70.8337, 36.6747, 218.701), Point)</td><td>us7000pwuv</td><td>List(null, null, 7000pwuv, https://earthquake.usgs.gov/fdsnws/event/1/query?eventid=us7000pwuv&format=geojson, 2.097, null, 155.0, ,us7000pwuv,, 4.0, mb, null, us, 28, 21 km S of Jurm, Afghanistan, 0.63, 246, ,us,, reviewed, 1746258635082, M 4.0 - 21 km S of Jurm, Afghanistan, 0, earthquake, ,origin,phase-data,, null, 1746260133040, https://earthquake.usgs.gov/earthquakes/eventpage/us7000pwuv)</td><td>Feature</td></tr><tr><td>List(List(-67.0685, -57.0831, 10.0), Point)</td><td>us7000pwuu</td><td>List(null, null, 7000pwuu, https://earthquake.usgs.gov/fdsnws/event/1/query?eventid=us7000pwuu&format=geojson, 4.487, null, 163.0, ,us7000pwuu,, 4.9, mb, null, us, 46, 264 km SSE of Ushuaia, Argentina, 0.54, 369, ,us,, reviewed, 1746258484521, M 4.9 - 264 km SSE of Ushuaia, Argentina, 0, earthquake, ,origin,phase-data,, null, 1746259414040, https://earthquake.usgs.gov/earthquakes/eventpage/us7000pwuu)</td><td>Feature</td></tr><tr><td>List(List(-121.9205, 46.828, 11.18), Point)</td><td>uw62092242</td><td>List(null, null, 62092242, https://earthquake.usgs.gov/fdsnws/event/1/query?eventid=uw62092242&format=geojson, 0.02382, null, 38.0, ,uw62092242,, 0.91, ml, null, uw, 35, 11 km NE of Ashford, Washington, 0.1, 13, ,uw,, reviewed, 1746257773240, M 0.9 - 11 km NE of Ashford, Washington, 0, earthquake, ,origin,phase-data,, null, 1746338804870, https://earthquake.usgs.gov/earthquakes/eventpage/uw62092242)</td><td>Feature</td></tr><tr><td>List(List(-89.5521666666667, 36.4913333333333, 8.24), Point)</td><td>nm60605461</td><td>List(null, 2.2, 60605461, https://earthquake.usgs.gov/fdsnws/event/1/query?eventid=nm60605461&format=geojson, 0.04827, 1, 45.0, ,nm60605461,, 2.39, md, null, nm, 28, 6 km ESE of Marston, Missouri, 0.06, 88, ,nm,, reviewed, 1746257579520, M 2.4 - 6 km ESE of Marston, Missouri, 0, earthquake, ,dyfi,origin,phase-data,, null, 1746290836783, https://earthquake.usgs.gov/earthquakes/eventpage/nm60605461)</td><td>Feature</td></tr><tr><td>List(List(-66.8052, -57.2341, 10.0), Point)</td><td>us7000pwuw</td><td>List(null, null, 7000pwuw, https://earthquake.usgs.gov/fdsnws/event/1/query?eventid=us7000pwuw&format=geojson, 4.675, null, 131.0, ,us7000pwuw,, 4.7, mb, null, us, 32, 285 km SSE of Ushuaia, Argentina, 0.55, 340, ,us,, reviewed, 1746256693011, M 4.7 - 285 km SSE of Ushuaia, Argentina, 0, earthquake, ,origin,phase-data,, null, 1746259967040, https://earthquake.usgs.gov/earthquakes/eventpage/us7000pwuw)</td><td>Feature</td></tr><tr><td>List(List(-122.770835876465, 38.7879981994629, 0.980000019073486), Point)</td><td>nc75175806</td><td>List(null, null, 75175806, https://earthquake.usgs.gov/fdsnws/event/1/query?eventid=nc75175806&format=geojson, 0.01432, null, 81.0, ,nc75175806,, 1.54, md, null, nc, 33, 2 km NW of The Geysers, CA, 0.06, 36, ,nc,, automatic, 1746256670760, M 1.5 - 2 km NW of The Geysers, CA, 0, earthquake, ,nearby-cities,origin,phase-data,scitech-link,, null, 1746259637857, https://earthquake.usgs.gov/earthquakes/eventpage/nc75175806)</td><td>Feature</td></tr><tr><td>List(List(-147.2872, 61.3065, 14.5), Point)</td><td>ak0255njclrv</td><td>List(null, null, 0255njclrv, https://earthquake.usgs.gov/fdsnws/event/1/query?eventid=ak0255njclrv&format=geojson, null, null, null, ,ak0255njclrv,, 1.6, ml, null, ak, null, 54 km WNW of Valdez, Alaska, 0.71, 39, ,ak,, automatic, 1746256425233, M 1.6 - 54 km WNW of Valdez, Alaska, 0, earthquake, ,origin,phase-data,, null, 1746256539426, https://earthquake.usgs.gov/earthquakes/eventpage/ak0255njclrv)</td><td>Feature</td></tr><tr><td>List(List(-116.7186667, 33.5325, 5.83), Point)</td><td>ci41143680</td><td>List(null, null, 41143680, https://earthquake.usgs.gov/fdsnws/event/1/query?eventid=ci41143680&format=geojson, 0.03632, null, 28.0, ,ci41143680,, 0.75, ml, null, ci, 32, 5 km WSW of Anza, CA, 0.14, 9, ,ci,, reviewed, 1746255793850, M 0.8 - 5 km WSW of Anza, CA, 0, earthquake, ,focal-mechanism,nearby-cities,origin,phase-data,scitech-link,, null, 1746370827060, https://earthquake.usgs.gov/earthquakes/eventpage/ci41143680)</td><td>Feature</td></tr><tr><td>List(List(-153.5873, 58.3246, 56.9), Point)</td><td>ak0255niw2pb</td><td>List(null, null, 0255niw2pb, https://earthquake.usgs.gov/fdsnws/event/1/query?eventid=ak0255niw2pb&format=geojson, null, null, null, ,ak0255niw2pb,, 1.6, ml, null, ak, null, 49 km NW of Aleneva, Alaska, 0.16, 39, ,ak,, automatic, 1746254193112, M 1.6 - 49 km NW of Aleneva, Alaska, 0, earthquake, ,origin,phase-data,, null, 1746254334183, https://earthquake.usgs.gov/earthquakes/eventpage/ak0255niw2pb)</td><td>Feature</td></tr><tr><td>List(List(-122.816665649414, 38.8305015563965, 1.88999998569489), Point)</td><td>nc75175796</td><td>List(null, null, 75175796, https://earthquake.usgs.gov/fdsnws/event/1/query?eventid=nc75175796&format=geojson, 0.01613, null, 80.0, ,nc75175796,, 0.72, md, null, nc, 10, 8 km NNW of The Geysers, CA, 0.01, 8, ,nc,, automatic, 1746254184140, M 0.7 - 8 km NNW of The Geysers, CA, 0, earthquake, ,nearby-cities,origin,phase-data,scitech-link,, null, 1746254845442, https://earthquake.usgs.gov/earthquakes/eventpage/nc75175796)</td><td>Feature</td></tr><tr><td>List(List(-119.0542, 39.0914, 9.8), Point)</td><td>nn00897162</td><td>List(null, null, 00897162, https://earthquake.usgs.gov/fdsnws/event/1/query?eventid=nn00897162&format=geojson, 0.078, null, 110.97999999999999, ,nn00897162,, 1.2, ml, null, nn, 9, 15 km NE of Yerington, Nevada, 0.1339, 22, ,nn,, automatic, 1746252699141, M 1.2 - 15 km NE of Yerington, Nevada, 0, earthquake, ,origin,phase-data,, null, 1746252833433, https://earthquake.usgs.gov/earthquakes/eventpage/nn00897162)</td><td>Feature</td></tr><tr><td>List(List(-116.4676667, 33.0011667, 9.16), Point)</td><td>ci41143672</td><td>List(null, null, 41143672, https://earthquake.usgs.gov/fdsnws/event/1/query?eventid=ci41143672&format=geojson, 0.05616, null, 62.0, ,ci41143672,, 0.72, ml, null, ci, 32, 15 km SE of Julian, CA, 0.14, 8, ,ci,, reviewed, 1746251981470, M 0.7 - 15 km SE of Julian, CA, 0, earthquake, ,nearby-cities,origin,phase-data,scitech-link,, null, 1746370762623, https://earthquake.usgs.gov/earthquakes/eventpage/ci41143672)</td><td>Feature</td></tr><tr><td>List(List(-122.823501586914, 38.8408317565918, 1.6599999666214), Point)</td><td>nc75175781</td><td>List(null, null, 75175781, https://earthquake.usgs.gov/fdsnws/event/1/query?eventid=nc75175781&format=geojson, 0.009624, null, 66.0, ,nc75175781,, 0.98, md, null, nc, 19, 9 km WNW of Cobb, CA, 0.03, 15, ,nc,, automatic, 1746251760300, M 1.0 - 9 km WNW of Cobb, CA, 0, earthquake, ,nearby-cities,origin,phase-data,scitech-link,, null, 1746252735149, https://earthquake.usgs.gov/earthquakes/eventpage/nc75175781)</td><td>Feature</td></tr><tr><td>List(List(-117.8043333, 35.3555, 7.04), Point)</td><td>ci41143664</td><td>List(null, null, 41143664, https://earthquake.usgs.gov/fdsnws/event/1/query?eventid=ci41143664&format=geojson, 0.0942, null, 37.0, ,ci41143664,, 1.35, ml, null, ci, 37, 16 km W of Johannesburg, CA, 0.19, 28, ,ci,, reviewed, 1746251607860, M 1.4 - 16 km W of Johannesburg, CA, 0, earthquake, ,nearby-cities,origin,phase-data,scitech-link,, null, 1746370828625, https://earthquake.usgs.gov/earthquakes/eventpage/ci41143664)</td><td>Feature</td></tr><tr><td>List(List(-122.821334838867, 38.8178329467773, 2.26999998092651), Point)</td><td>nc75175776</td><td>List(null, null, 75175776, https://earthquake.usgs.gov/fdsnws/event/1/query?eventid=nc75175776&format=geojson, 0.0104, null, 61.0, ,nc75175776,, 1.12, md, null, nc, 23, 7 km NW of The Geysers, CA, 0.02, 19, ,nc,, automatic, 1746251401060, M 1.1 - 7 km NW of The Geysers, CA, 0, earthquake, ,nearby-cities,origin,phase-data,scitech-link,, null, 1746257237613, https://earthquake.usgs.gov/earthquakes/eventpage/nc75175776)</td><td>Feature</td></tr><tr><td>List(List(-122.738670349121, 38.7931671142578, 1.11000001430511), Point)</td><td>nc75175771</td><td>List(null, null, 75175771, https://earthquake.usgs.gov/fdsnws/event/1/query?eventid=nc75175771&format=geojson, 0.01003, null, 94.0, ,nc75175771,, 1.1, md, null, nc, 13, 2 km NE of The Geysers, CA, 0.03, 19, ,nc,, automatic, 1746250891820, M 1.1 - 2 km NE of The Geysers, CA, 0, earthquake, ,nearby-cities,origin,phase-data,scitech-link,, null, 1746256037481, https://earthquake.usgs.gov/earthquakes/eventpage/nc75175771)</td><td>Feature</td></tr><tr><td>List(List(-152.3823, 59.4986, 80.9), Point)</td><td>ak0255nibp6o</td><td>List(null, null, 0255nibp6o, https://earthquake.usgs.gov/fdsnws/event/1/query?eventid=ak0255nibp6o&format=geojson, null, null, null, ,ak0255nibp6o,, 2.1, ml, null, ak, null, 30 km WNW of Nanwalek, Alaska, 0.37, 68, ,ak,, automatic, 1746250886727, M 2.1 - 30 km WNW of Nanwalek, Alaska, 0, earthquake, ,origin,phase-data,, null, 1746251035736, https://earthquake.usgs.gov/earthquakes/eventpage/ak0255nibp6o)</td><td>Feature</td></tr><tr><td>List(List(-122.739501953125, 38.7938346862793, 1.13999998569489), Point)</td><td>nc75175766</td><td>List(null, null, 75175766, https://earthquake.usgs.gov/fdsnws/event/1/query?eventid=nc75175766&format=geojson, 0.0108, null, 95.0, ,nc75175766,, 1.4, md, null, nc, 19, 2 km NE of The Geysers, CA, 0.02, 30, ,nc,, automatic, 1746250853120, M 1.4 - 2 km NE of The Geysers, CA, 0, earthquake, ,nearby-cities,origin,phase-data,scitech-link,, null, 1746255140384, https://earthquake.usgs.gov/earthquakes/eventpage/nc75175766)</td><td>Feature</td></tr><tr><td>List(List(-150.5123, 61.1995, 42.1), Point)</td><td>ak0255ni8nia</td><td>List(null, null, 0255ni8nia, https://earthquake.usgs.gov/fdsnws/event/1/query?eventid=ak0255ni8nia&format=geojson, null, null, null, ,ak0255ni8nia,, 1.8, ml, null, ak, null, 31 km ENE of Beluga, Alaska, 0.29, 50, ,ak,, automatic, 1746250025300, M 1.8 - 31 km ENE of Beluga, Alaska, 0, earthquake, ,origin,phase-data,, null, 1746250122401, https://earthquake.usgs.gov/earthquakes/eventpage/ak0255ni8nia)</td><td>Feature</td></tr><tr><td>List(List(-122.757499694824, 38.7818336486816, 2.4300000667572), Point)</td><td>nc75175761</td><td>List(null, null, 75175761, https://earthquake.usgs.gov/fdsnws/event/1/query?eventid=nc75175761&format=geojson, 0.01283, null, 117.0, ,nc75175761,, 0.45, md, null, nc, 8, 1 km N of The Geysers, CA, 0.05, 3, ,nc,, automatic, 1746249554580, M 0.5 - 1 km N of The Geysers, CA, 0, earthquake, ,nearby-cities,origin,phase-data,scitech-link,, null, 1746253039187, https://earthquake.usgs.gov/earthquakes/eventpage/nc75175761)</td><td>Feature</td></tr><tr><td>List(List(-150.7248, 63.0023, 93.1), Point)</td><td>ak0255ni6e8x</td><td>List(null, null, 0255ni6e8x, https://earthquake.usgs.gov/fdsnws/event/1/query?eventid=ak0255ni6e8x&format=geojson, null, null, null, ,ak0255ni6e8x,, 1.5, ml, null, ak, null, 56 km N of Petersville, Alaska, 0.45, 35, ,ak,, automatic, 1746249412170, M 1.5 - 56 km N of Petersville, Alaska, 0, earthquake, ,origin,phase-data,, null, 1746249539912, https://earthquake.usgs.gov/earthquakes/eventpage/ak0255ni6e8x)</td><td>Feature</td></tr><tr><td>List(List(140.9884, -3.1677, 35.0), Point)</td><td>us7000pwu9</td><td>List(green, 6.0, 7000pwu9, https://earthquake.usgs.gov/fdsnws/event/1/query?eventid=us7000pwu9&format=geojson, 0.709, 9, 50.0, ,us7000pwu9,usauto7000pwu9,, 5.4, mb, 6.339, us, 67, 63 km SSW of Vanimo, Papua New Guinea, 0.81, 454, ,us,usauto,, reviewed, 1746249040426, M 5.4 - 63 km SSW of Vanimo, Papua New Guinea, 0, earthquake, ,dyfi,ground-failure,internal-moment-tensor,losspager,origin,phase-data,shakemap,, null, 1746336937341, https://earthquake.usgs.gov/earthquakes/eventpage/us7000pwu9)</td><td>Feature</td></tr><tr><td>List(List(-116.3955, 33.0333333, 11.62), Point)</td><td>ci41143640</td><td>List(null, null, 41143640, https://earthquake.usgs.gov/fdsnws/event/1/query?eventid=ci41143640&format=geojson, 0.05664, null, 97.0, ,ci41143640,, 0.5, ml, null, ci, 25, 20 km ESE of Julian, CA, 0.13, 4, ,ci,, reviewed, 1746248476790, M 0.5 - 20 km ESE of Julian, CA, 0, earthquake, ,nearby-cities,origin,phase-data,scitech-link,, null, 1746370843449, https://earthquake.usgs.gov/earthquakes/eventpage/ci41143640)</td><td>Feature</td></tr><tr><td>List(List(-115.4453333, 32.811, 9.57), Point)</td><td>ci41143632</td><td>List(null, null, 41143632, https://earthquake.usgs.gov/fdsnws/event/1/query?eventid=ci41143632&format=geojson, 0.005795, null, 57.0, ,ci41143632,, 1.4, ml, null, ci, 24, 6 km W of Holtville, CA, 0.26, 30, ,ci,, automatic, 1746248189740, M 1.4 - 6 km W of Holtville, CA, 0, earthquake, ,nearby-cities,origin,phase-data,scitech-link,, null, 1746248410196, https://earthquake.usgs.gov/earthquakes/eventpage/ci41143632)</td><td>Feature</td></tr><tr><td>List(List(-113.057333333333, 44.179, 3.52), Point)</td><td>mb90081308</td><td>List(null, null, 90081308, https://earthquake.usgs.gov/fdsnws/event/1/query?eventid=mb90081308&format=geojson, 0.1401, null, 73.0, ,mb90081308,, 1.01, ml, null, mb, 12, 53 km ENE of Mackay, Idaho, 0.11, 16, ,mb,, reviewed, 1746247593590, M 1.0 - 53 km ENE of Mackay, Idaho, 0, earthquake, ,origin,phase-data,, null, 1746276790870, https://earthquake.usgs.gov/earthquakes/eventpage/mb90081308)</td><td>Feature</td></tr><tr><td>List(List(103.3802, -6.4072, 10.0), Point)</td><td>us7000pwu6</td><td>List(null, null, 7000pwu6, https://earthquake.usgs.gov/fdsnws/event/1/query?eventid=us7000pwu6&format=geojson, 1.665, null, 161.0, ,us7000pwu6,, 4.8, mb, null, us, 27, 234 km WSW of Bandar Lampung, Indonesia, 0.83, 354, ,us,, reviewed, 1746247555454, M 4.8 - 234 km WSW of Bandar Lampung, Indonesia, 0, earthquake, ,origin,phase-data,, null, 1746248788040, https://earthquake.usgs.gov/earthquakes/eventpage/us7000pwu6)</td><td>Feature</td></tr><tr><td>List(List(-122.821662902832, 38.832332611084, 2.22000002861023), Point)</td><td>nc75175756</td><td>List(null, null, 75175756, https://earthquake.usgs.gov/fdsnws/event/1/query?eventid=nc75175756&format=geojson, 0.01247, null, 76.0, ,nc75175756,, 0.77, md, null, nc, 10, 8 km NNW of The Geysers, CA, 0.01, 9, ,nc,, automatic, 1746247123440, M 0.8 - 8 km NNW of The Geysers, CA, 0, earthquake, ,nearby-cities,origin,phase-data,scitech-link,, null, 1746248835763, https://earthquake.usgs.gov/earthquakes/eventpage/nc75175756)</td><td>Feature</td></tr><tr><td>List(List(-122.820503234863, 38.8315010070801, 2.07999992370605), Point)</td><td>nc75175751</td><td>List(null, null, 75175751, https://earthquake.usgs.gov/fdsnws/event/1/query?eventid=nc75175751&format=geojson, 0.01148, null, 76.0, ,nc75175751,, 1.08, md, null, nc, 13, 8 km NNW of The Geysers, CA, 0.02, 18, ,nc,, automatic, 1746247109790, M 1.1 - 8 km NNW of The Geysers, CA, 0, earthquake, ,nearby-cities,origin,phase-data,scitech-link,, null, 1746250937961, https://earthquake.usgs.gov/earthquakes/eventpage/nc75175751)</td><td>Feature</td></tr><tr><td>List(List(-152.0718, 61.0057, 93.6), Point)</td><td>ak0255nhn2p9</td><td>List(null, null, 0255nhn2p9, https://earthquake.usgs.gov/fdsnws/event/1/query?eventid=ak0255nhn2p9&format=geojson, null, null, null, ,ak0255nhn2p9,, 1.5, ml, null, ak, null, 50 km W of Tyonek, Alaska, 0.48, 35, ,ak,, automatic, 1746246397890, M 1.5 - 50 km W of Tyonek, Alaska, 0, earthquake, ,origin,phase-data,, null, 1746246502337, https://earthquake.usgs.gov/earthquakes/eventpage/ak0255nhn2p9)</td><td>Feature</td></tr><tr><td>List(List(-118.1648333, 35.2006667, 2.27), Point)</td><td>ci41143624</td><td>List(null, 0.0, 41143624, https://earthquake.usgs.gov/fdsnws/event/1/query?eventid=ci41143624&format=geojson, 0.0572, 1, 36.0, ,ci41143624,, 1.96, ml, null, ci, 53, 16 km N of Mojave, CA, 0.19, 59, ,ci,, reviewed, 1746245106370, M 2.0 - 16 km N of Mojave, CA, 0, earthquake, ,dyfi,nearby-cities,origin,phase-data,scitech-link,, null, 1746370913630, https://earthquake.usgs.gov/earthquakes/eventpage/ci41143624)</td><td>Feature</td></tr><tr><td>List(List(-66.896, 17.9651666666667, 11.5), Point)</td><td>pr71481223</td><td>List(null, null, 71481223, https://earthquake.usgs.gov/fdsnws/event/1/query?eventid=pr71481223&format=geojson, 0.01392, null, 198.0, ,pr71481223,, 2.32, md, null, pr, 8, 1 km ESE of Guánica, Puerto Rico, 0.08, 83, ,pr,, reviewed, 1746244765600, M 2.3 - 1 km ESE of Guánica, Puerto Rico, 0, earthquake, ,origin,phase-data,, null, 1746245206630, https://earthquake.usgs.gov/earthquakes/eventpage/pr71481223)</td><td>Feature</td></tr><tr><td>List(List(-111.856166666667, 45.8046666666667, 11.76), Point)</td><td>mb90081303</td><td>List(null, null, 90081303, https://earthquake.usgs.gov/fdsnws/event/1/query?eventid=mb90081303&format=geojson, 0.03667, null, 90.0, ,mb90081303,, 0.29, ml, null, mb, 6, 9 km SE of Cardwell, Montana, 0.1, 1, ,mb,, reviewed, 1746244673720, M 0.3 - 9 km SE of Cardwell, Montana, 0, earthquake, ,origin,phase-data,, null, 1746278217110, https://earthquake.usgs.gov/earthquakes/eventpage/mb90081303)</td><td>Feature</td></tr><tr><td>List(List(-116.117666666667, 44.3585, 6.61), Point)</td><td>mb90081298</td><td>List(null, null, 90081298, https://earthquake.usgs.gov/fdsnws/event/1/query?eventid=mb90081298&format=geojson, 0.05943, null, 145.0, ,mb90081298,, 1.81, ml, null, mb, 7, 6 km NNW of Smiths Ferry, Idaho, 0.05, 50, ,mb,, reviewed, 1746244449280, M 1.8 - 6 km NNW of Smiths Ferry, Idaho, 0, earthquake, ,origin,phase-data,, null, 1746277870460, https://earthquake.usgs.gov/earthquakes/eventpage/mb90081298)</td><td>Feature</td></tr><tr><td>List(List(-66.8375, 17.9241666666667, 9.35), Point)</td><td>pr71481238</td><td>List(null, null, 71481238, https://earthquake.usgs.gov/fdsnws/event/1/query?eventid=pr71481238&format=geojson, 0.05622, null, 222.0, ,pr71481238,, 2.36, md, null, pr, 9, 7 km SSW of Indios, Puerto Rico, 0.06, 86, ,pr,, reviewed, 1746244105530, M 2.4 - 7 km SSW of Indios, Puerto Rico, 0, earthquake, ,origin,phase-data,, null, 1746289174970, https://earthquake.usgs.gov/earthquakes/eventpage/pr71481238)</td><td>Feature</td></tr><tr><td>List(List(-122.817169189453, 38.8033332824707, 0.00999999977648258), Point)</td><td>nc75175736</td><td>List(null, 2.0, 75175736, https://earthquake.usgs.gov/fdsnws/event/1/query?eventid=nc75175736&format=geojson, 0.01089, 1, 161.0, ,nc75175736,, 1.09, md, null, nc, 11, 6 km NW of The Geysers, CA, 0.15, 18, ,nc,, automatic, 1746243815850, M 1.1 - 6 km NW of The Geysers, CA, 0, earthquake, ,dyfi,nearby-cities,origin,phase-data,scitech-link,, null, 1746244744873, https://earthquake.usgs.gov/earthquakes/eventpage/nc75175736)</td><td>Feature</td></tr><tr><td>List(List(-155.494003295898, 19.1841659545898, 31.0400009155273), Point)</td><td>hv74664847</td><td>List(null, null, 74664847, https://earthquake.usgs.gov/fdsnws/event/1/query?eventid=hv74664847&format=geojson, 0.04155, null, 133.0, ,us7000pwtv,hv74664847,, 2.32, ml, null, hv, 54, 2 km SW of Pāhala, Hawaii, 0.119999997, 83, ,us,hv,, automatic, 1746243707840, M 2.3 - 2 km SW of Pāhala, Hawaii, 0, earthquake, ,origin,phase-data,, null, 1746245445040, https://earthquake.usgs.gov/earthquakes/eventpage/hv74664847)</td><td>Feature</td></tr><tr><td>List(List(-116.7885, 33.6911667, 16.11), Point)</td><td>ci41143600</td><td>List(null, 2.0, 41143600, https://earthquake.usgs.gov/fdsnws/event/1/query?eventid=ci41143600&format=geojson, 0.06783, 1, 68.0, ,ci41143600,, 0.52, ml, null, ci, 24, 8 km SW of Idyllwild, CA, 0.13, 4, ,ci,, reviewed, 1746243696740, M 0.5 - 8 km SW of Idyllwild, CA, 0, earthquake, ,dyfi,nearby-cities,origin,phase-data,scitech-link,, null, 1746370926216, https://earthquake.usgs.gov/earthquakes/eventpage/ci41143600)</td><td>Feature</td></tr><tr><td>List(List(-104.025, 31.634, 6.5741), Point)</td><td>tx2025ipeo</td><td>List(null, 4.3, 2025ipeo, https://earthquake.usgs.gov/fdsnws/event/1/query?eventid=tx2025ipeo&format=geojson, 0.0, 66, 60.0, ,tx2025ipeo,us7000pwtr,, 3.4, ml, 4.024, tx, 21, 41 km W of Mentone, Texas, 0.1, 206, ,tx,us,, reviewed, 1746243296636, M 3.4 - 41 km W of Mentone, Texas, 0, earthquake, ,dyfi,origin,phase-data,shakemap,, null, 1746362767888, https://earthquake.usgs.gov/earthquakes/eventpage/tx2025ipeo)</td><td>Feature</td></tr><tr><td>List(List(-122.788497924805, 38.798168182373, -0.0900000035762787), Point)</td><td>nc75175731</td><td>List(null, null, 75175731, https://earthquake.usgs.gov/fdsnws/event/1/query?eventid=nc75175731&format=geojson, 0.01504, null, 59.0, ,nc75175731,, 1.1, md, null, nc, 15, 4 km NW of The Geysers, CA, 0.04, 19, ,nc,, automatic, 1746242789310, M 1.1 - 4 km NW of The Geysers, CA, 0, earthquake, ,nearby-cities,origin,phase-data,scitech-link,, null, 1746248837763, https://earthquake.usgs.gov/earthquakes/eventpage/nc75175731)</td><td>Feature</td></tr><tr><td>List(List(-118.3506667, 33.9175, 10.78), Point)</td><td>ci41143584</td><td>List(null, 2.2, 41143584, https://earthquake.usgs.gov/fdsnws/event/1/query?eventid=ci41143584&format=geojson, 0.02041, 1, 92.0, ,ci41143584,, 1.5, ml, null, ci, 37, 0 km NE of Hawthorne, CA, 0.27, 35, ,ci,, automatic, 1746242275760, M 1.5 - 0 km NE of Hawthorne, CA, 0, earthquake, ,dyfi,nearby-cities,origin,phase-data,scitech-link,, null, 1746242998319, https://earthquake.usgs.gov/earthquakes/eventpage/ci41143584)</td><td>Feature</td></tr><tr><td>List(List(-68.4143, 18.923, 9.0), Point)</td><td>pr2025123000</td><td>List(null, null, 2025123000, https://earthquake.usgs.gov/fdsnws/event/1/query?eventid=pr2025123000&format=geojson, 0.4104, null, 205.0, ,pr2025123000,, 3.48, md, null, pr, 8, 37 km N of Punta Cana, Dominican Republic, 0.48, 186, ,pr,, reviewed, 1746240707260, M 3.5 - 37 km N of Punta Cana, Dominican Republic, 0, earthquake, ,origin,phase-data,, null, 1746245721448, https://earthquake.usgs.gov/earthquakes/eventpage/pr2025123000)</td><td>Feature</td></tr><tr><td>List(List(-119.0751, 39.1578, 7.8), Point)</td><td>nn00897160</td><td>List(null, null, 00897160, https://earthquake.usgs.gov/fdsnws/event/1/query?eventid=nn00897160&format=geojson, 0.03, null, 79.81, ,nn00897160,, 1.1, ml, null, nn, 13, 20 km NNE of Yerington, Nevada, 0.0894, 19, ,nn,, automatic, 1746240129334, M 1.1 - 20 km NNE of Yerington, Nevada, 0, earthquake, ,origin,phase-data,, null, 1746240262920, https://earthquake.usgs.gov/earthquakes/eventpage/nn00897160)</td><td>Feature</td></tr><tr><td>List(List(-116.0352, 36.7623, 5.0), Point)</td><td>nn00897179</td><td>List(null, null, 00897179, https://earthquake.usgs.gov/fdsnws/event/1/query?eventid=nn00897179&format=geojson, 0.005, null, 173.57, ,nn00897179,, -0.3, ml, null, nn, 15, 38 km WNW of Indian Springs, Nevada, 0.0508, 0, ,nn,, reviewed, 1746240003519, M -0.3 - 38 km WNW of Indian Springs, Nevada, 0, earthquake, ,origin,phase-data,, null, 1746280626640, https://earthquake.usgs.gov/earthquakes/eventpage/nn00897179)</td><td>Feature</td></tr><tr><td>List(List(-117.7623333, 36.0346667, 1.64), Point)</td><td>ci41143544</td><td>List(null, null, 41143544, https://earthquake.usgs.gov/fdsnws/event/1/query?eventid=ci41143544&format=geojson, 0.009731, null, 50.0, ,ci41143544,, 1.3, ml, null, ci, 24, 17 km E of Coso Junction, CA, 0.2, 26, ,ci,, automatic, 1746239869950, M 1.3 - 17 km E of Coso Junction, CA, 0, earthquake, ,nearby-cities,origin,phase-data,scitech-link,, null, 1746240078217, https://earthquake.usgs.gov/earthquakes/eventpage/ci41143544)</td><td>Feature</td></tr><tr><td>List(List(-48.7346, -54.2791, 10.0), Point)</td><td>us7000pwti</td><td>List(null, null, 7000pwti, https://earthquake.usgs.gov/fdsnws/event/1/query?eventid=us7000pwti&format=geojson, 7.172, null, 82.0, ,us7000pwti,, 5.0, mb, null, us, 42, South Atlantic Ocean, 1.03, 385, ,us,, reviewed, 1746239804869, M 5.0 - South Atlantic Ocean, 0, earthquake, ,origin,phase-data,, null, 1746240999040, https://earthquake.usgs.gov/earthquakes/eventpage/us7000pwti)</td><td>Feature</td></tr><tr><td>List(List(-122.0935, 46.17366666666667, 7.35), Point)</td><td>uw62092132</td><td>List(null, null, 62092132, https://earthquake.usgs.gov/fdsnws/event/1/query?eventid=uw62092132&format=geojson, 0.04648, null, 191.0, ,uw62092132,, 0.51, ml, null, uw, 13, 40 km NE of Amboy, Washington, 0.17, 4, ,uw,, reviewed, 1746239416180, M 0.5 - 40 km NE of Amboy, Washington, 0, earthquake, ,origin,phase-data,, null, 1746248593070, https://earthquake.usgs.gov/earthquakes/eventpage/uw62092132)</td><td>Feature</td></tr><tr><td>List(List(-122.75316619873, 38.7948341369629, 0.0599999986588955), Point)</td><td>nc75175721</td><td>List(null, null, 75175721, https://earthquake.usgs.gov/fdsnws/event/1/query?eventid=nc75175721&format=geojson, 0.00772, null, 90.0, ,nc75175721,, 1.47, md, null, nc, 25, 2 km NNE of The Geysers, CA, 0.06, 33, ,nc,, automatic, 1746239312860, M 1.5 - 2 km NNE of The Geysers, CA, 0, earthquake, ,nearby-cities,origin,phase-data,scitech-link,, null, 1746247640625, https://earthquake.usgs.gov/earthquakes/eventpage/nc75175721)</td><td>Feature</td></tr><tr><td>List(List(114.0138, -9.2067, 67.512), Point)</td><td>us7000pwte</td><td>List(null, 2.1, 7000pwte, https://earthquake.usgs.gov/fdsnws/event/1/query?eventid=us7000pwte&format=geojson, 0.744, 2, 46.0, ,us7000pwte,, 4.8, mb, null, us, 75, 91 km S of Gambiran Satu, Indonesia, 0.95, 355, ,us,, reviewed, 1746238759848, M 4.8 - 91 km S of Gambiran Satu, Indonesia, 0, earthquake, ,dyfi,origin,phase-data,, null, 1746254469086, https://earthquake.usgs.gov/earthquakes/eventpage/us7000pwte)</td><td>Feature</td></tr><tr><td>List(List(-66.8285, 18.0223333333333, 18.39), Point)</td><td>pr71481193</td><td>List(null, null, 71481193, https://earthquake.usgs.gov/fdsnws/event/1/query?eventid=pr71481193&format=geojson, 0.06247, null, 134.0, ,pr71481193,, 2.16, md, null, pr, 12, 2 km ESE of Yauco, Puerto Rico, 0.14, 72, ,pr,, reviewed, 1746238425970, M 2.2 - 2 km ESE of Yauco, Puerto Rico, 0, earthquake, ,origin,phase-data,, null, 1746239086230, https://earthquake.usgs.gov/earthquakes/eventpage/pr71481193)</td><td>Feature</td></tr><tr><td>List(List(-67.0511666666667, 18.7121666666667, 24.91), Point)</td><td>pr71481183</td><td>List(null, 2.7, 71481183, https://earthquake.usgs.gov/fdsnws/event/1/query?eventid=pr71481183&format=geojson, 0.2499, 1, 281.0, ,pr71481183,, 3.19, md, null, pr, 11, 23 km N of Isabela, Puerto Rico, 0.19, 157, ,pr,, reviewed, 1746238059210, M 3.2 - 23 km N of Isabela, Puerto Rico, 0, earthquake, ,dyfi,origin,phase-data,, null, 1746241733465, https://earthquake.usgs.gov/earthquakes/eventpage/pr71481183)</td><td>Feature</td></tr><tr><td>List(List(-122.749336242676, 38.7893333435059, 5.94000005722046), Point)</td><td>nc75175716</td><td>List(null, null, 75175716, https://earthquake.usgs.gov/fdsnws/event/1/query?eventid=nc75175716&format=geojson, 0.01158, null, 156.0, ,nc75175716,, 0.31, md, null, nc, 6, 1 km NE of The Geysers, CA, 0.05, 1, ,nc,, automatic, 1746237908000, M 0.3 - 1 km NE of The Geysers, CA, 0, earthquake, ,nearby-cities,origin,phase-data,scitech-link,, null, 1746238936623, https://earthquake.usgs.gov/earthquakes/eventpage/nc75175716)</td><td>Feature</td></tr><tr><td>List(List(-122.764999389648, 38.7881660461426, 1.25), Point)</td><td>nc75175711</td><td>List(null, null, 75175711, https://earthquake.usgs.gov/fdsnws/event/1/query?eventid=nc75175711&format=geojson, 0.01311, null, 72.0, ,nc75175711,, 0.96, md, null, nc, 16, 1 km NNW of The Geysers, CA, 0.03, 14, ,nc,, automatic, 1746237848360, M 1.0 - 1 km NNW of The Geysers, CA, 0, earthquake, ,nearby-cities,origin,phase-data,scitech-link,, null, 1746238936718, https://earthquake.usgs.gov/earthquakes/eventpage/nc75175711)</td><td>Feature</td></tr><tr><td>List(List(-122.752334594727, 38.7934989929199, 0.560000002384186), Point)</td><td>nc75175706</td><td>List(null, null, 75175706, https://earthquake.usgs.gov/fdsnws/event/1/query?eventid=nc75175706&format=geojson, 0.009158, null, 89.0, ,nc75175706,, 1.76, md, null, nc, 36, 2 km NNE of The Geysers, CA, 0.04, 48, ,nc,, automatic, 1746237714150, M 1.8 - 2 km NNE of The Geysers, CA, 0, earthquake, ,nearby-cities,origin,phase-data,scitech-link,, null, 1746246739521, https://earthquake.usgs.gov/earthquakes/eventpage/nc75175706)</td><td>Feature</td></tr><tr><td>List(List(-103.753, 31.224, 9.9079), Point)</td><td>tx2025ipbd</td><td>List(null, null, 2025ipbd, https://earthquake.usgs.gov/fdsnws/event/1/query?eventid=tx2025ipbd&format=geojson, 0.0, null, 82.0, ,tx2025ipbd,, 1.5, ml, null, tx, 11, 10 km SSE of Toyah, Texas, 0.3, 35, ,tx,, automatic, 1746237174975, M 1.5 - 10 km SSE of Toyah, Texas, 0, earthquake, ,origin,phase-data,, null, 1746237693171, https://earthquake.usgs.gov/earthquakes/eventpage/tx2025ipbd)</td><td>Feature</td></tr><tr><td>List(List(-122.823669433594, 38.8201675415039, 2.08999991416931), Point)</td><td>nc75175701</td><td>List(null, null, 75175701, https://earthquake.usgs.gov/fdsnws/event/1/query?eventid=nc75175701&format=geojson, 0.00935, null, 126.0, ,nc75175701,, 0.79, md, null, nc, 10, 8 km NW of The Geysers, CA, 0.01, 10, ,nc,, automatic, 1746237144870, M 0.8 - 8 km NW of The Geysers, CA, 0, earthquake, ,nearby-cities,origin,phase-data,scitech-link,, null, 1746238338556, https://earthquake.usgs.gov/earthquakes/eventpage/nc75175701)</td><td>Feature</td></tr><tr><td>List(List(-122.772163391113, 38.7886657714844, 1.0), Point)</td><td>nc75175696</td><td>List(null, null, 75175696, https://earthquake.usgs.gov/fdsnws/event/1/query?eventid=nc75175696&format=geojson, 0.01311, null, 126.0, ,nc75175696,, 0.58, md, null, nc, 8, 2 km NW of The Geysers, CA, 0.02, 5, ,nc,, automatic, 1746237056390, M 0.6 - 2 km NW of The Geysers, CA, 0, earthquake, ,nearby-cities,origin,phase-data,scitech-link,, null, 1746238039624, https://earthquake.usgs.gov/earthquakes/eventpage/nc75175696)</td><td>Feature</td></tr><tr><td>List(List(-121.203834533691, 37.1726684570312, 0.159999996423721), Point)</td><td>nc75175691</td><td>List(null, null, 75175691, https://earthquake.usgs.gov/fdsnws/event/1/query?eventid=nc75175691&format=geojson, 0.1259, null, 119.0, ,nc75175691,, 2.02, md, null, nc, 38, 20 km WSW of Gustine, CA, 0.33, 63, ,nc,, automatic, 1746236803720, M 2.0 - 20 km WSW of Gustine, CA, 0, earthquake, ,nearby-cities,origin,phase-data,scitech-link,, null, 1746245539496, https://earthquake.usgs.gov/earthquakes/eventpage/nc75175691)</td><td>Feature</td></tr><tr><td>List(List(-151.8257, 60.0178, 57.1), Point)</td><td>ak0255nfyzoo</td><td>List(null, null, 0255nfyzoo, https://earthquake.usgs.gov/fdsnws/event/1/query?eventid=ak0255nfyzoo&format=geojson, null, null, null, ,ak0255nfyzoo,, 1.5, ml, null, ak, null, 9 km NNW of Happy Valley, Alaska, 0.3, 35, ,ak,, automatic, 1746236765206, M 1.5 - 9 km NNW of Happy Valley, Alaska, 0, earthquake, ,origin,phase-data,, null, 1746236897589, https://earthquake.usgs.gov/earthquakes/eventpage/ak0255nfyzoo)</td><td>Feature</td></tr><tr><td>List(List(-103.758, 31.227, 8.0911), Point)</td><td>tx2025ipav</td><td>List(null, null, 2025ipav, https://earthquake.usgs.gov/fdsnws/event/1/query?eventid=tx2025ipav&format=geojson, 0.0, null, 81.0, ,tx2025ipav,, 1.7, ml, null, tx, 10, 10 km SSE of Toyah, Texas, 0.3, 44, ,tx,, automatic, 1746236712581, M 1.7 - 10 km SSE of Toyah, Texas, 0, earthquake, ,origin,phase-data,, null, 1746237028988, https://earthquake.usgs.gov/earthquakes/eventpage/tx2025ipav)</td><td>Feature</td></tr><tr><td>List(List(151.799, -6.0738, 10.0), Point)</td><td>us7000pwt8</td><td>List(null, null, 7000pwt8, https://earthquake.usgs.gov/fdsnws/event/1/query?eventid=us7000pwt8&format=geojson, 1.905, null, 152.0, ,us7000pwt8,, 4.9, mb, null, us, 37, 192 km ESE of Kimbe, Papua New Guinea, 0.62, 369, ,us,, reviewed, 1746236672188, M 4.9 - 192 km ESE of Kimbe, Papua New Guinea, 0, earthquake, ,origin,phase-data,, null, 1746239552040, https://earthquake.usgs.gov/earthquakes/eventpage/us7000pwt8)</td><td>Feature</td></tr><tr><td>List(List(-116.8918333, 33.4803333, 13.59), Point)</td><td>ci41143504</td><td>List(null, null, 41143504, https://earthquake.usgs.gov/fdsnws/event/1/query?eventid=ci41143504&format=geojson, 0.01642, null, 18.0, ,ci41143504,, 1.39, ml, null, ci, 62, 5 km NNW of Aguanga, CA, 0.21, 30, ,ci,, reviewed, 1746236407160, M 1.4 - 5 km NNW of Aguanga, CA, 0, earthquake, ,focal-mechanism,nearby-cities,origin,phase-data,scitech-link,, null, 1746371077740, https://earthquake.usgs.gov/earthquakes/eventpage/ci41143504)</td><td>Feature</td></tr><tr><td>List(List(-121.96166666666667, 47.18366666666667, 17.08), Point)</td><td>uw62092107</td><td>List(null, null, 62092107, https://earthquake.usgs.gov/fdsnws/event/1/query?eventid=uw62092107&format=geojson, 0.01903, null, 116.0, ,uw62092107,, 0.89, ml, null, uw, 22, 3 km SE of Enumclaw, Washington, 0.13, 12, ,uw,, reviewed, 1746235563350, M 0.9 - 3 km SE of Enumclaw, Washington, 0, earthquake, ,origin,phase-data,, null, 1746247935430, https://earthquake.usgs.gov/earthquakes/eventpage/uw62092107)</td><td>Feature</td></tr><tr><td>List(List(-122.773002624512, 38.7883338928223, 0.889999985694885), Point)</td><td>nc75175676</td><td>List(null, null, 75175676, https://earthquake.usgs.gov/fdsnws/event/1/query?eventid=nc75175676&format=geojson, 0.01262, null, 81.0, ,nc75175676,, 1.11, md, null, nc, 15, 2 km NW of The Geysers, CA, 0.03, 19, ,nc,, automatic, 1746234928090, M 1.1 - 2 km NW of The Geysers, CA, 0, earthquake, ,nearby-cities,origin,phase-data,scitech-link,, null, 1746244642388, https://earthquake.usgs.gov/earthquakes/eventpage/nc75175676)</td><td>Feature</td></tr><tr><td>List(List(-122.783996582031, 38.8411674499512, 2.69000005722046), Point)</td><td>nc75175671</td><td>List(null, null, 75175671, https://earthquake.usgs.gov/fdsnws/event/1/query?eventid=nc75175671&format=geojson, 0.005671, null, 195.0, ,nc75175671,, 0.29, md, null, nc, 8, 6 km WNW of Cobb, CA, 0.01, 1, ,nc,, automatic, 1746234619080, M 0.3 - 6 km WNW of Cobb, CA, 0, earthquake, ,nearby-cities,origin,phase-data,scitech-link,, null, 1746236237396, https://earthquake.usgs.gov/earthquakes/eventpage/nc75175671)</td><td>Feature</td></tr><tr><td>List(List(-122.818664550781, 38.7991676330566, 2.92000007629395), Point)</td><td>nc75175661</td><td>List(null, null, 75175661, https://earthquake.usgs.gov/fdsnws/event/1/query?eventid=nc75175661&format=geojson, 0.0127, null, 92.0, ,nc75175661,, 0.9, md, null, nc, 13, 6 km NW of The Geysers, CA, 0.02, 12, ,nc,, automatic, 1746234089300, M 0.9 - 6 km NW of The Geysers, CA, 0, earthquake, ,nearby-cities,origin,phase-data,, null, 1746234185936, https://earthquake.usgs.gov/earthquakes/eventpage/nc75175661)</td><td>Feature</td></tr><tr><td>List(List(-121.026168823242, 36.6311683654785, 0.629999995231628), Point)</td><td>nc75175656</td><td>List(null, null, 75175656, https://earthquake.usgs.gov/fdsnws/event/1/query?eventid=nc75175656&format=geojson, 0.05367, null, 109.0, ,nc75175656,, 1.4, md, null, nc, 12, 15 km NE of Pinnacles, CA, 0.19, 30, ,nc,, automatic, 1746233894150, M 1.4 - 15 km NE of Pinnacles, CA, 0, earthquake, ,nearby-cities,origin,phase-data,scitech-link,, null, 1746235938285, https://earthquake.usgs.gov/earthquakes/eventpage/nc75175656)</td><td>Feature</td></tr><tr><td>List(List(-153.744, 59.549, 130.2), Point)</td><td>ak0255nffr53</td><td>List(null, null, 0255nffr53, https://earthquake.usgs.gov/fdsnws/event/1/query?eventid=ak0255nffr53&format=geojson, null, null, null, ,us7000pwt5,ak0255nffr53,, 2.8, ml, null, ak, null, 33 km SE of Pedro Bay, Alaska, 0.57, 121, ,us,ak,, automatic, 1746233797032, M 2.8 - 33 km SE of Pedro Bay, Alaska, 0, earthquake, ,origin,phase-data,, null, 1746238536040, https://earthquake.usgs.gov/earthquakes/eventpage/ak0255nffr53)</td><td>Feature</td></tr><tr><td>List(List(-156.3976, 58.1455, 0.3), Point)</td><td>ak0255nfdlse</td><td>List(null, null, 0255nfdlse, https://earthquake.usgs.gov/fdsnws/event/1/query?eventid=ak0255nfdlse&format=geojson, null, null, null, ,us7000pwt3,ak0255nfdlse,, 3.3, ml, null, ak, null, 58 km E of Egegik, Alaska, 0.76, 168, ,us,ak,, automatic, 1746233187340, M 3.3 - 58 km E of Egegik, Alaska, 0, earthquake, ,origin,phase-data,, null, 1746237388040, https://earthquake.usgs.gov/earthquakes/eventpage/ak0255nfdlse)</td><td>Feature</td></tr><tr><td>List(List(-117.8083333, 35.3523333, 8.07), Point)</td><td>ci41143480</td><td>List(null, null, 41143480, https://earthquake.usgs.gov/fdsnws/event/1/query?eventid=ci41143480&format=geojson, 0.0901, null, 65.0, ,ci41143480,, 1.05, ml, null, ci, 23, 16 km W of Johannesburg, CA, 0.14, 17, ,ci,, reviewed, 1746233082740, M 1.1 - 16 km W of Johannesburg, CA, 0, earthquake, ,nearby-cities,origin,phase-data,scitech-link,, null, 1746371054647, https://earthquake.usgs.gov/earthquakes/eventpage/ci41143480)</td><td>Feature</td></tr><tr><td>List(List(-122.732330322266, 38.7576675415039, 1.19000005722046), Point)</td><td>nc75175631</td><td>List(null, null, 75175631, https://earthquake.usgs.gov/fdsnws/event/1/query?eventid=nc75175631&format=geojson, 0.02576, null, 107.0, ,nc75175631,, 1.65, md, null, nc, 12, 3 km SSE of The Geysers, CA, 0.06, 42, ,nc,, automatic, 1746232990360, M 1.7 - 3 km SSE of The Geysers, CA, 0, earthquake, ,nearby-cities,origin,phase-data,scitech-link,, null, 1746241639949, https://earthquake.usgs.gov/earthquakes/eventpage/nc75175631)</td><td>Feature</td></tr><tr><td>List(List(-122.773170471191, 38.8018341064453, 0.109999999403954), Point)</td><td>nc75175621</td><td>List(null, null, 75175621, https://earthquake.usgs.gov/fdsnws/event/1/query?eventid=nc75175621&format=geojson, 0.01059, null, 82.0, ,nc75175621,, 1.1, md, null, nc, 13, 3 km NNW of The Geysers, CA, 0.02, 19, ,nc,, automatic, 1746232879000, M 1.1 - 3 km NNW of The Geysers, CA, 0, earthquake, ,nearby-cities,origin,phase-data,scitech-link,, null, 1746240439805, https://earthquake.usgs.gov/earthquakes/eventpage/nc75175621)</td><td>Feature</td></tr><tr><td>List(List(-122.748168945312, 38.7949981689453, -0.129999995231628), Point)</td><td>nc75175601</td><td>List(null, null, 75175601, https://earthquake.usgs.gov/fdsnws/event/1/query?eventid=nc75175601&format=geojson, 0.01476, null, 93.0, ,nc75175601,, 1.28, md, null, nc, 21, 2 km NNE of The Geysers, CA, 0.04, 25, ,nc,, automatic, 1746232652140, M 1.3 - 2 km NNE of The Geysers, CA, 0, earthquake, ,nearby-cities,origin,phase-data,scitech-link,, null, 1746239239663, https://earthquake.usgs.gov/earthquakes/eventpage/nc75175601)</td><td>Feature</td></tr><tr><td>List(List(-122.739334106445, 38.7908325195312, 0.46000000834465), Point)</td><td>nc75175591</td><td>List(null, null, 75175591, https://earthquake.usgs.gov/fdsnws/event/1/query?eventid=nc75175591&format=geojson, 0.007854, null, 189.0, ,nc75175591,, 0.55, md, null, nc, 9, 2 km NE of The Geysers, CA, 0.02, 5, ,nc,, automatic, 1746232615010, M 0.6 - 2 km NE of The Geysers, CA, 0, earthquake, ,nearby-cities,origin,phase-data,scitech-link,, null, 1746234439124, https://earthquake.usgs.gov/earthquakes/eventpage/nc75175591)</td><td>Feature</td></tr><tr><td>List(List(-122.769332885742, 38.7890014648438, 1.98000001907349), Point)</td><td>nc75175586</td><td>List(null, null, 75175586, https://earthquake.usgs.gov/fdsnws/event/1/query?eventid=nc75175586&format=geojson, 0.01383, null, 98.0, ,nc75175586,, 0.87, md, null, nc, 12, 2 km NNW of The Geysers, CA, 0.03, 12, ,nc,, automatic, 1746232597930, M 0.9 - 2 km NNW of The Geysers, CA, 0, earthquake, ,nearby-cities,origin,phase-data,scitech-link,, null, 1746233841065, https://earthquake.usgs.gov/earthquakes/eventpage/nc75175586)</td><td>Feature</td></tr><tr><td>List(List(-122.726165771484, 38.7911682128906, 0.330000013113022), Point)</td><td>nc75175576</td><td>List(null, 2.7, 75175576, https://earthquake.usgs.gov/fdsnws/event/1/query?eventid=nc75175576&format=geojson, 0.01144, 1, 92.0, ,nc75175576,, 1.26, md, null, nc, 12, 3 km ENE of The Geysers, CA, 0.05, 25, ,nc,, automatic, 1746232576430, M 1.3 - 3 km ENE of The Geysers, CA, 0, earthquake, ,dyfi,nearby-cities,origin,phase-data,scitech-link,, null, 1746241017675, https://earthquake.usgs.gov/earthquakes/eventpage/nc75175576)</td><td>Feature</td></tr><tr><td>List(List(-122.7585, 38.7903333333333, 2.27), Point)</td><td>nc75175581</td><td>List(null, 3.8, 75175581, https://earthquake.usgs.gov/fdsnws/event/1/query?eventid=nc75175581&format=geojson, 0.01032, 31, 29.0, ,ew1746232520,nc75175581,us7000pwt2,, 3.7, mw, 4.312, nc, 125, 1 km N of The Geysers, CA, 0.07, 222, ,ew,nc,us,, reviewed, 1746232518960, M 3.7 - 1 km N of The Geysers, CA, 0, earthquake, ,dyfi,moment-tensor,nearby-cities,origin,phase-data,scitech-link,shake-alert,shakemap,, null, 1746337634419, https://earthquake.usgs.gov/earthquakes/eventpage/nc75175581)</td><td>Feature</td></tr><tr><td>List(List(-121.344329833984, 36.738166809082, 15.7200002670288), Point)</td><td>nc75175571</td><td>List(null, null, 75175571, https://earthquake.usgs.gov/fdsnws/event/1/query?eventid=nc75175571&format=geojson, 0.0307, null, 104.0, ,nc75175571,, 1.61, md, null, nc, 8, 6 km SSW of Tres Pinos, CA, 0.05, 40, ,nc,, automatic, 1746232295200, M 1.6 - 6 km SSW of Tres Pinos, CA, 0, earthquake, ,nearby-cities,origin,phase-data,scitech-link,, null, 1746235041191, https://earthquake.usgs.gov/earthquakes/eventpage/nc75175571)</td><td>Feature</td></tr><tr><td>List(List(-117.5641667, 35.7351667, 7.22), Point)</td><td>ci41143472</td><td>List(null, null, 41143472, https://earthquake.usgs.gov/fdsnws/event/1/query?eventid=ci41143472&format=geojson, 0.1171, null, 64.0, ,ci41143472,, 1.57, ml, null, ci, 31, 15 km WSW of Searles Valley, CA, 0.18, 38, ,ci,, automatic, 1746232273380, M 1.6 - 15 km WSW of Searles Valley, CA, 0, earthquake, ,nearby-cities,origin,phase-data,scitech-link,, null, 1746232497193, https://earthquake.usgs.gov/earthquakes/eventpage/ci41143472)</td><td>Feature</td></tr><tr><td>List(List(-151.6716, 60.6585, 75.4), Point)</td><td>ak0255nf9qy5</td><td>List(null, null, 0255nf9qy5, https://earthquake.usgs.gov/fdsnws/event/1/query?eventid=ak0255nf9qy5&format=geojson, null, null, null, ,ak0255nf9qy5,, 1.8, ml, null, ak, null, 19 km WNW of Salamatof, Alaska, 0.53, 50, ,ak,, automatic, 1746232107977, M 1.8 - 19 km WNW of Salamatof, Alaska, 0, earthquake, ,origin,phase-data,, null, 1746232261111, https://earthquake.usgs.gov/earthquakes/eventpage/ak0255nf9qy5)</td><td>Feature</td></tr><tr><td>List(List(-118.204, 34.0191667, 15.63), Point)</td><td>ci41143456</td><td>List(null, null, 41143456, https://earthquake.usgs.gov/fdsnws/event/1/query?eventid=ci41143456&format=geojson, 0.02778, null, 88.0, ,ci41143456,, 1.43, ml, null, ci, 37, 4 km WSW of East Los Angeles, CA, 0.2, 31, ,ci,, automatic, 1746231181320, M 1.4 - 4 km WSW of East Los Angeles, CA, 0, earthquake, ,focal-mechanism,nearby-cities,origin,phase-data,scitech-link,, null, 1746231803300, https://earthquake.usgs.gov/earthquakes/eventpage/ci41143456)</td><td>Feature</td></tr><tr><td>List(List(-155.100666666667, 19.3598333333333, 7.44), Point)</td><td>hv74664737</td><td>List(null, null, 74664737, https://earthquake.usgs.gov/fdsnws/event/1/query?eventid=hv74664737&format=geojson, 0.03402, null, 141.0, ,hv74664737,, 1.7, ml, null, hv, 28, 12 km SSE of Fern Forest, Hawaii, 0.09, 44, ,hv,, reviewed, 1746230416050, M 1.7 - 12 km SSE of Fern Forest, Hawaii, 0, earthquake, ,origin,phase-data,, null, 1746237113960, https://earthquake.usgs.gov/earthquakes/eventpage/hv74664737)</td><td>Feature</td></tr></tbody></table></div>"
      ]
     },
     "metadata": {
      "application/vnd.databricks.v1+output": {
       "addedWidgets": {},
       "aggData": [],
       "aggError": "",
       "aggOverflow": false,
       "aggSchema": [],
       "aggSeriesLimitReached": false,
       "aggType": "",
       "arguments": {},
       "columnCustomDisplayInfos": {},
       "data": [
        [
         [
          [
           -92.9183333333333,
           35.873,
           2.76
          ],
          "Point"
         ],
         "nm60503563",
         [
          null,
          2.2,
          "60503563",
          "https://earthquake.usgs.gov/fdsnws/event/1/query?eventid=nm60503563&format=geojson",
          0.4851,
          1,
          94.0,
          ",nm60503563,",
          2.38,
          "md",
          null,
          "nm",
          13,
          "14 km NE of Pelsor, Arkansas",
          0.26,
          87,
          ",nm,",
          "reviewed",
          1746316297500,
          "M 2.4 - 14 km NE of Pelsor, Arkansas",
          0,
          "earthquake",
          ",dyfi,origin,phase-data,",
          null,
          1746373147630,
          "https://earthquake.usgs.gov/earthquakes/eventpage/nm60503563"
         ],
         "Feature"
        ],
        [
         [
          [
           -119.3563,
           39.6467,
           12.1
          ],
          "Point"
         ],
         "nn00897188",
         [
          null,
          null,
          "00897188",
          "https://earthquake.usgs.gov/fdsnws/event/1/query?eventid=nn00897188&format=geojson",
          0.348,
          null,
          130.84999999999997,
          ",nn00897188,",
          1.4,
          "ml",
          null,
          "nn",
          16,
          "6 km WNW of Wadsworth, Nevada",
          0.1902,
          30,
          ",nn,",
          "automatic",
          1746315476027,
          "M 1.4 - 6 km WNW of Wadsworth, Nevada",
          0,
          "earthquake",
          ",origin,phase-data,",
          null,
          1746315629162,
          "https://earthquake.usgs.gov/earthquakes/eventpage/nn00897188"
         ],
         "Feature"
        ],
        [
         [
          [
           -121.63200378418,
           36.8481674194336,
           0.689999997615814
          ],
          "Point"
         ],
         "nc75176126",
         [
          null,
          null,
          "75176126",
          "https://earthquake.usgs.gov/fdsnws/event/1/query?eventid=nc75176126&format=geojson",
          0.0484,
          null,
          169.0,
          ",nc75176126,",
          1.42,
          "md",
          null,
          "nc",
          10,
          "5 km S of Aromas, CA",
          0.16,
          31,
          ",nc,",
          "automatic",
          1746314360660,
          "M 1.4 - 5 km S of Aromas, CA",
          0,
          "earthquake",
          ",nearby-cities,origin,phase-data,scitech-link,",
          null,
          1746316039185,
          "https://earthquake.usgs.gov/earthquakes/eventpage/nc75176126"
         ],
         "Feature"
        ],
        [
         [
          [
           -147.4666,
           64.9681,
           0.0
          ],
          "Point"
         ],
         "ak0255nsv4h2",
         [
          null,
          null,
          "0255nsv4h2",
          "https://earthquake.usgs.gov/fdsnws/event/1/query?eventid=ak0255nsv4h2&format=geojson",
          null,
          null,
          null,
          ",ak0255nsv4h2,",
          1.1,
          "ml",
          null,
          "ak",
          null,
          "7 km E of Fox, Alaska",
          0.63,
          19,
          ",ak,",
          "automatic",
          1746313911102,
          "M 1.1 - 7 km E of Fox, Alaska",
          0,
          "earthquake",
          ",origin,phase-data,",
          null,
          1746314018235,
          "https://earthquake.usgs.gov/earthquakes/eventpage/ak0255nsv4h2"
         ],
         "Feature"
        ],
        [
         [
          [
           -151.8208,
           64.4694,
           2.3
          ],
          "Point"
         ],
         "ak0255nstyyw",
         [
          null,
          null,
          "0255nstyyw",
          "https://earthquake.usgs.gov/fdsnws/event/1/query?eventid=ak0255nstyyw&format=geojson",
          null,
          null,
          null,
          ",ak0255nstyyw,",
          1.1,
          "ml",
          null,
          "ak",
          null,
          "69 km NNE of Lake Minchumina, Alaska",
          0.82,
          19,
          ",ak,",
          "automatic",
          1746313573207,
          "M 1.1 - 69 km NNE of Lake Minchumina, Alaska",
          0,
          "earthquake",
          ",origin,phase-data,",
          null,
          1746313713885,
          "https://earthquake.usgs.gov/earthquakes/eventpage/ak0255nstyyw"
         ],
         "Feature"
        ],
        [
         [
          [
           -148.3672,
           61.5458,
           20.9
          ],
          "Point"
         ],
         "ak0255nstyqr",
         [
          null,
          null,
          "0255nstyqr",
          "https://earthquake.usgs.gov/fdsnws/event/1/query?eventid=ak0255nstyqr&format=geojson",
          null,
          null,
          null,
          ",ak0255nstyqr,",
          1.2,
          "ml",
          null,
          "ak",
          null,
          "28 km S of Chickaloon, Alaska",
          0.25,
          22,
          ",ak,",
          "automatic",
          1746313570274,
          "M 1.2 - 28 km S of Chickaloon, Alaska",
          0,
          "earthquake",
          ",origin,phase-data,",
          null,
          1746313643518,
          "https://earthquake.usgs.gov/earthquakes/eventpage/ak0255nstyqr"
         ],
         "Feature"
        ],
        [
         [
          [
           -156.8836,
           56.015,
           2.4
          ],
          "Point"
         ],
         "ak0255nssoyd",
         [
          null,
          null,
          "0255nssoyd",
          "https://earthquake.usgs.gov/fdsnws/event/1/query?eventid=ak0255nssoyd&format=geojson",
          null,
          null,
          null,
          ",ak0255nssoyd,",
          2.3,
          "ml",
          null,
          "ak",
          null,
          "99 km ESE of Chignik, Alaska",
          0.54,
          81,
          ",ak,",
          "automatic",
          1746313216851,
          "M 2.3 - 99 km ESE of Chignik, Alaska",
          0,
          "earthquake",
          ",origin,phase-data,",
          null,
          1746313356258,
          "https://earthquake.usgs.gov/earthquakes/eventpage/ak0255nssoyd"
         ],
         "Feature"
        ],
        [
         [
          [
           -148.183,
           65.4472,
           3.6
          ],
          "Point"
         ],
         "ak0255nsim6z",
         [
          null,
          null,
          "0255nsim6z",
          "https://earthquake.usgs.gov/fdsnws/event/1/query?eventid=ak0255nsim6z&format=geojson",
          null,
          null,
          null,
          ",ak0255nsim6z,",
          2.5,
          "ml",
          null,
          "ak",
          null,
          "18 km ESE of Livengood, Alaska",
          0.63,
          96,
          ",ak,",
          "automatic",
          1746312795479,
          "M 2.5 - 18 km ESE of Livengood, Alaska",
          0,
          "earthquake",
          ",origin,phase-data,",
          null,
          1746312905336,
          "https://earthquake.usgs.gov/earthquakes/eventpage/ak0255nsim6z"
         ],
         "Feature"
        ],
        [
         [
          [
           -149.5192,
           63.6266,
           57.4
          ],
          "Point"
         ],
         "ak0255nsesao",
         [
          null,
          null,
          "0255nsesao",
          "https://earthquake.usgs.gov/fdsnws/event/1/query?eventid=ak0255nsesao&format=geojson",
          null,
          null,
          null,
          ",ak0255nsesao,",
          1.5,
          "ml",
          null,
          "ak",
          null,
          "32 km WSW of Denali Park, Alaska",
          1.41,
          35,
          ",ak,",
          "automatic",
          1746311728322,
          "M 1.5 - 32 km WSW of Denali Park, Alaska",
          0,
          "earthquake",
          ",origin,phase-data,",
          null,
          1746311848679,
          "https://earthquake.usgs.gov/earthquakes/eventpage/ak0255nsesao"
         ],
         "Feature"
        ],
        [
         [
          [
           -122.77116394043,
           38.787166595459,
           1.23000001907349
          ],
          "Point"
         ],
         "nc75176121",
         [
          null,
          null,
          "75176121",
          "https://earthquake.usgs.gov/fdsnws/event/1/query?eventid=nc75176121&format=geojson",
          0.01615,
          null,
          92.0,
          ",nc75176121,",
          0.74,
          "md",
          null,
          "nc",
          9,
          "2 km NW of The Geysers, CA",
          0.01,
          8,
          ",nc,",
          "automatic",
          1746311338900,
          "M 0.7 - 2 km NW of The Geysers, CA",
          0,
          "earthquake",
          ",nearby-cities,origin,phase-data,scitech-link,",
          null,
          1746314240990,
          "https://earthquake.usgs.gov/earthquakes/eventpage/nc75176121"
         ],
         "Feature"
        ],
        [
         [
          [
           -149.9093,
           61.8635,
           44.4
          ],
          "Point"
         ],
         "ak0255nscto4",
         [
          null,
          null,
          "0255nscto4",
          "https://earthquake.usgs.gov/fdsnws/event/1/query?eventid=ak0255nscto4&format=geojson",
          null,
          null,
          null,
          ",ak0255nscto4,",
          1.2,
          "ml",
          null,
          "ak",
          null,
          "14 km NNE of Willow, Alaska",
          0.46,
          22,
          ",ak,",
          "automatic",
          1746311173006,
          "M 1.2 - 14 km NNE of Willow, Alaska",
          0,
          "earthquake",
          ",origin,phase-data,",
          null,
          1746311332589,
          "https://earthquake.usgs.gov/earthquakes/eventpage/ak0255nscto4"
         ],
         "Feature"
        ],
        [
         [
          [
           -121.40983581543,
           36.9259986877441,
           15.460000038147
          ],
          "Point"
         ],
         "nc75176116",
         [
          null,
          null,
          "75176116",
          "https://earthquake.usgs.gov/fdsnws/event/1/query?eventid=nc75176116&format=geojson",
          0.0774,
          null,
          135.0,
          ",nc75176116,",
          1.17,
          "md",
          null,
          "nc",
          8,
          "9 km N of Hollister, CA",
          0.06,
          21,
          ",nc,",
          "automatic",
          1746311058460,
          "M 1.2 - 9 km N of Hollister, CA",
          0,
          "earthquake",
          ",nearby-cities,origin,phase-data,scitech-link,",
          null,
          1746313036859,
          "https://earthquake.usgs.gov/earthquakes/eventpage/nc75176116"
         ],
         "Feature"
        ],
        [
         [
          [
           -116.4306667,
           33.4388333,
           11.01
          ],
          "Point"
         ],
         "ci41144264",
         [
          null,
          null,
          "41144264",
          "https://earthquake.usgs.gov/fdsnws/event/1/query?eventid=ci41144264&format=geojson",
          0.1238,
          null,
          72.0,
          ",ci41144264,",
          0.66,
          "ml",
          null,
          "ci",
          25,
          "21 km NNW of Borrego Springs, CA",
          0.17,
          7,
          ",ci,",
          "automatic",
          1746311039330,
          "M 0.7 - 21 km NNW of Borrego Springs, CA",
          0,
          "earthquake",
          ",nearby-cities,origin,phase-data,scitech-link,",
          null,
          1746311252528,
          "https://earthquake.usgs.gov/earthquakes/eventpage/ci41144264"
         ],
         "Feature"
        ],
        [
         [
          [
           -123.03916666666667,
           45.143166666666666,
           23.31
          ],
          "Point"
         ],
         "uw62092622",
         [
          null,
          null,
          "62092622",
          "https://earthquake.usgs.gov/fdsnws/event/1/query?eventid=uw62092622&format=geojson",
          0.03729,
          null,
          31.0,
          ",uw62092622,",
          1.6500000000000001,
          "ml",
          null,
          "uw",
          30,
          "9 km SSW of Saint Paul, Oregon",
          0.16,
          42,
          ",uw,",
          "reviewed",
          1746310566660,
          "M 1.7 - 9 km SSW of Saint Paul, Oregon",
          0,
          "earthquake",
          ",origin,phase-data,",
          null,
          1746336811830,
          "https://earthquake.usgs.gov/earthquakes/eventpage/uw62092622"
         ],
         "Feature"
        ],
        [
         [
          [
           -112.828666666667,
           44.8706666666667,
           11.09
          ],
          "Point"
         ],
         "mb90081398",
         [
          null,
          null,
          "90081398",
          "https://earthquake.usgs.gov/fdsnws/event/1/query?eventid=mb90081398&format=geojson",
          0.04532,
          null,
          176.0,
          ",mb90081398,",
          0.8,
          "ml",
          null,
          "mb",
          7,
          "32 km NW of Lima, Montana",
          0.04,
          10,
          ",mb,",
          "reviewed",
          1746309075780,
          "M 0.8 - 32 km NW of Lima, Montana",
          0,
          "earthquake",
          ",origin,phase-data,",
          null,
          1746310463030,
          "https://earthquake.usgs.gov/earthquakes/eventpage/mb90081398"
         ],
         "Feature"
        ],
        [
         [
          [
           -122.783836364746,
           38.8348350524902,
           2.9300000667572
          ],
          "Point"
         ],
         "nc75176096",
         [
          null,
          null,
          "75176096",
          "https://earthquake.usgs.gov/fdsnws/event/1/query?eventid=nc75176096&format=geojson",
          0.00621,
          null,
          75.0,
          ",nc75176096,",
          0.72,
          "md",
          null,
          "nc",
          9,
          "5 km WNW of Cobb, CA",
          0.04,
          8,
          ",nc,",
          "automatic",
          1746308703430,
          "M 0.7 - 5 km WNW of Cobb, CA",
          0,
          "earthquake",
          ",nearby-cities,origin,phase-data,scitech-link,",
          null,
          1746310640588,
          "https://earthquake.usgs.gov/earthquakes/eventpage/nc75176096"
         ],
         "Feature"
        ],
        [
         [
          [
           -112.520833333333,
           46.8988333333333,
           11.38
          ],
          "Point"
         ],
         "mb90081388",
         [
          null,
          null,
          "90081388",
          "https://earthquake.usgs.gov/fdsnws/event/1/query?eventid=mb90081388&format=geojson",
          0.05907,
          null,
          123.0,
          ",mb90081388,",
          1.08,
          "ml",
          null,
          "mb",
          11,
          "13 km ESE of Lincoln, Montana",
          0.11,
          18,
          ",mb,",
          "reviewed",
          1746307799610,
          "M 1.1 - 13 km ESE of Lincoln, Montana",
          0,
          "earthquake",
          ",origin,phase-data,",
          null,
          1746310191780,
          "https://earthquake.usgs.gov/earthquakes/eventpage/mb90081388"
         ],
         "Feature"
        ],
        [
         [
          [
           -149.3607,
           62.9757,
           69.3
          ],
          "Point"
         ],
         "ak0255nrrmzh",
         [
          null,
          null,
          "0255nrrmzh",
          "https://earthquake.usgs.gov/fdsnws/event/1/query?eventid=ak0255nrrmzh&format=geojson",
          null,
          null,
          null,
          ",ak0255nrrmzh,",
          1.7,
          "ml",
          null,
          "ak",
          null,
          "50 km SSW of Cantwell, Alaska",
          0.59,
          44,
          ",ak,",
          "automatic",
          1746307648616,
          "M 1.7 - 50 km SSW of Cantwell, Alaska",
          0,
          "earthquake",
          ",origin,phase-data,",
          null,
          1746307759382,
          "https://earthquake.usgs.gov/earthquakes/eventpage/ak0255nrrmzh"
         ],
         "Feature"
        ],
        [
         [
          [
           117.7102,
           -7.8887,
           10.0
          ],
          "Point"
         ],
         "us7000pwyv",
         [
          null,
          null,
          "7000pwyv",
          "https://earthquake.usgs.gov/fdsnws/event/1/query?eventid=us7000pwyv&format=geojson",
          0.935,
          null,
          76.0,
          ",us7000pwyv,",
          4.5,
          "mb",
          null,
          "us",
          24,
          "63 km NNE of Pototano, Indonesia",
          0.72,
          312,
          ",us,",
          "reviewed",
          1746307586077,
          "M 4.5 - 63 km NNE of Pototano, Indonesia",
          0,
          "earthquake",
          ",origin,phase-data,",
          null,
          1746310323040,
          "https://earthquake.usgs.gov/earthquakes/eventpage/us7000pwyv"
         ],
         "Feature"
        ],
        [
         [
          [
           129.9592,
           -6.8264,
           120.086
          ],
          "Point"
         ],
         "us7000pwys",
         [
          null,
          null,
          "7000pwys",
          "https://earthquake.usgs.gov/fdsnws/event/1/query?eventid=us7000pwys&format=geojson",
          4.502,
          null,
          33.0,
          ",us7000pwys,",
          4.4,
          "mb",
          null,
          "us",
          50,
          "Banda Sea",
          0.63,
          298,
          ",us,",
          "reviewed",
          1746306827179,
          "M 4.4 - Banda Sea",
          0,
          "earthquake",
          ",origin,phase-data,",
          null,
          1746309537040,
          "https://earthquake.usgs.gov/earthquakes/eventpage/us7000pwys"
         ],
         "Feature"
        ],
        [
         [
          [
           -115.7873333,
           31.6046667,
           0.81
          ],
          "Point"
         ],
         "ci41144208",
         [
          null,
          null,
          "41144208",
          "https://earthquake.usgs.gov/fdsnws/event/1/query?eventid=ci41144208&format=geojson",
          0.2126,
          null,
          78.0,
          ",ci41144208,",
          2.54,
          "ml",
          null,
          "ci",
          9,
          "75 km E of Maneadero, B.C., MX",
          0.17,
          99,
          ",ci,",
          "automatic",
          1746304545640,
          "M 2.5 - 75 km E of Maneadero, B.C., MX",
          0,
          "earthquake",
          ",nearby-cities,origin,phase-data,scitech-link,",
          null,
          1746304767728,
          "https://earthquake.usgs.gov/earthquakes/eventpage/ci41144208"
         ],
         "Feature"
        ],
        [
         [
          [
           -117.8098333,
           35.354,
           7.99
          ],
          "Point"
         ],
         "ci41144200",
         [
          null,
          null,
          "41144200",
          "https://earthquake.usgs.gov/fdsnws/event/1/query?eventid=ci41144200&format=geojson",
          0.09126,
          null,
          36.0,
          ",ci41144200,",
          2.15,
          "ml",
          null,
          "ci",
          42,
          "16 km W of Johannesburg, CA",
          0.18,
          71,
          ",ci,",
          "automatic",
          1746303788610,
          "M 2.2 - 16 km W of Johannesburg, CA",
          0,
          "earthquake",
          ",focal-mechanism,nearby-cities,origin,phase-data,scitech-link,",
          null,
          1746304457470,
          "https://earthquake.usgs.gov/earthquakes/eventpage/ci41144200"
         ],
         "Feature"
        ],
        [
         [
          [
           -122.778831481934,
           38.8019981384277,
           3.24000000953674
          ],
          "Point"
         ],
         "nc75176076",
         [
          null,
          null,
          "75176076",
          "https://earthquake.usgs.gov/fdsnws/event/1/query?eventid=nc75176076&format=geojson",
          0.01131,
          null,
          67.0,
          ",nc75176076,",
          1.07,
          "md",
          null,
          "nc",
          20,
          "3 km NNW of The Geysers, CA",
          0.02,
          18,
          ",nc,",
          "automatic",
          1746303301230,
          "M 1.1 - 3 km NNW of The Geysers, CA",
          0,
          "earthquake",
          ",nearby-cities,origin,phase-data,scitech-link,",
          null,
          1746304037843,
          "https://earthquake.usgs.gov/earthquakes/eventpage/nc75176076"
         ],
         "Feature"
        ],
        [
         [
          [
           -122.738670349121,
           38.7529983520508,
           0.920000016689301
          ],
          "Point"
         ],
         "nc75176066",
         [
          null,
          null,
          "75176066",
          "https://earthquake.usgs.gov/fdsnws/event/1/query?eventid=nc75176066&format=geojson",
          0.00459,
          null,
          137.0,
          ",nc75176066,",
          1.06,
          "md",
          null,
          "nc",
          6,
          "3 km SSE of The Geysers, CA",
          0.01,
          17,
          ",nc,",
          "automatic",
          1746302738470,
          "M 1.1 - 3 km SSE of The Geysers, CA",
          0,
          "earthquake",
          ",nearby-cities,origin,phase-data,scitech-link,",
          null,
          1746305537009,
          "https://earthquake.usgs.gov/earthquakes/eventpage/nc75176066"
         ],
         "Feature"
        ],
        [
         [
          [
           -67.5971,
           -56.8254,
           10.0
          ],
          "Point"
         ],
         "us7000pwyb",
         [
          null,
          null,
          "7000pwyb",
          "https://earthquake.usgs.gov/fdsnws/event/1/query?eventid=us7000pwyb&format=geojson",
          3.403,
          null,
          133.0,
          ",us7000pwyb,",
          4.4,
          "mb",
          null,
          "us",
          28,
          "228 km SSE of Ushuaia, Argentina",
          0.43,
          298,
          ",us,",
          "reviewed",
          1746302619848,
          "M 4.4 - 228 km SSE of Ushuaia, Argentina",
          0,
          "earthquake",
          ",origin,phase-data,",
          null,
          1746304260040,
          "https://earthquake.usgs.gov/earthquakes/eventpage/us7000pwyb"
         ],
         "Feature"
        ],
        [
         [
          [
           -152.7858,
           59.468,
           72.8
          ],
          "Point"
         ],
         "ak0255nqr5ca",
         [
          null,
          null,
          "0255nqr5ca",
          "https://earthquake.usgs.gov/fdsnws/event/1/query?eventid=ak0255nqr5ca&format=geojson",
          null,
          null,
          null,
          ",ak0255nqr5ca,",
          1.8,
          "ml",
          null,
          "ak",
          null,
          "50 km WNW of Nanwalek, Alaska",
          0.68,
          50,
          ",ak,",
          "automatic",
          1746302223780,
          "M 1.8 - 50 km WNW of Nanwalek, Alaska",
          0,
          "earthquake",
          ",origin,phase-data,",
          null,
          1746302369861,
          "https://earthquake.usgs.gov/earthquakes/eventpage/ak0255nqr5ca"
         ],
         "Feature"
        ],
        [
         [
          [
           -148.4196,
           61.5398,
           3.1
          ],
          "Point"
         ],
         "ak0255nqppg5",
         [
          null,
          null,
          "0255nqppg5",
          "https://earthquake.usgs.gov/fdsnws/event/1/query?eventid=ak0255nqppg5&format=geojson",
          null,
          null,
          null,
          ",ak0255nqppg5,",
          2.2,
          "ml",
          null,
          "ak",
          null,
          "27 km ENE of Knik River, Alaska",
          0.92,
          74,
          ",ak,",
          "automatic",
          1746301831389,
          "M 2.2 - 27 km ENE of Knik River, Alaska",
          0,
          "earthquake",
          ",origin,phase-data,",
          null,
          1746301937754,
          "https://earthquake.usgs.gov/earthquakes/eventpage/ak0255nqppg5"
         ],
         "Feature"
        ],
        [
         [
          [
           -116.7168333,
           33.5376667,
           5.26
          ],
          "Point"
         ],
         "ci41144160",
         [
          null,
          null,
          "41144160",
          "https://earthquake.usgs.gov/fdsnws/event/1/query?eventid=ci41144160&format=geojson",
          0.03251,
          null,
          44.0,
          ",ci41144160,",
          0.57,
          "ml",
          null,
          "ci",
          19,
          "4 km WSW of Anza, CA",
          0.07,
          5,
          ",ci,",
          "reviewed",
          1746301813010,
          "M 0.6 - 4 km WSW of Anza, CA",
          0,
          "earthquake",
          ",nearby-cities,origin,phase-data,scitech-link,",
          null,
          1746370181561,
          "https://earthquake.usgs.gov/earthquakes/eventpage/ci41144160"
         ],
         "Feature"
        ],
        [
         [
          [
           -117.4926667,
           34.2833333,
           12.62
          ],
          "Point"
         ],
         "ci41144144",
         [
          null,
          null,
          "41144144",
          "https://earthquake.usgs.gov/fdsnws/event/1/query?eventid=ci41144144&format=geojson",
          0.04997,
          null,
          35.0,
          ",ci41144144,",
          1.26,
          "ml",
          null,
          "ci",
          40,
          "3 km NNE of Lytle Creek, CA",
          0.14,
          24,
          ",ci,",
          "automatic",
          1746301643310,
          "M 1.3 - 3 km NNE of Lytle Creek, CA",
          0,
          "earthquake",
          ",nearby-cities,origin,phase-data,scitech-link,",
          null,
          1746301851507,
          "https://earthquake.usgs.gov/earthquakes/eventpage/ci41144144"
         ],
         "Feature"
        ],
        [
         [
          [
           -122.807334899902,
           38.8294982910156,
           1.92999994754791
          ],
          "Point"
         ],
         "nc75176061",
         [
          null,
          null,
          "75176061",
          "https://earthquake.usgs.gov/fdsnws/event/1/query?eventid=nc75176061&format=geojson",
          0.006459,
          null,
          43.0,
          ",nc75176061,",
          0.75,
          "md",
          null,
          "nc",
          14,
          "7 km NNW of The Geysers, CA",
          0.02,
          9,
          ",nc,",
          "automatic",
          1746301173480,
          "M 0.8 - 7 km NNW of The Geysers, CA",
          0,
          "earthquake",
          ",nearby-cities,origin,phase-data,scitech-link,",
          null,
          1746304635912,
          "https://earthquake.usgs.gov/earthquakes/eventpage/nc75176061"
         ],
         "Feature"
        ],
        [
         [
          [
           -119.0624,
           39.1504,
           9.5
          ],
          "Point"
         ],
         "nn00897186",
         [
          null,
          null,
          "00897186",
          "https://earthquake.usgs.gov/fdsnws/event/1/query?eventid=nn00897186&format=geojson",
          0.026,
          null,
          66.58999999999997,
          ",nn00897186,",
          0.9,
          "ml",
          null,
          "nn",
          9,
          "20 km NNE of Yerington, Nevada",
          0.0922,
          12,
          ",nn,",
          "automatic",
          1746301171556,
          "M 0.9 - 20 km NNE of Yerington, Nevada",
          0,
          "earthquake",
          ",origin,phase-data,",
          null,
          1746301296266,
          "https://earthquake.usgs.gov/earthquakes/eventpage/nn00897186"
         ],
         "Feature"
        ],
        [
         [
          [
           -121.555335998535,
           36.8213348388672,
           5.44000005722046
          ],
          "Point"
         ],
         "nc75176056",
         [
          null,
          null,
          "75176056",
          "https://earthquake.usgs.gov/fdsnws/event/1/query?eventid=nc75176056&format=geojson",
          0.02787,
          null,
          48.0,
          ",nc75176056,",
          2.18,
          "md",
          null,
          "nc",
          47,
          "3 km SW of San Juan Bautista, CA",
          0.16,
          73,
          ",nc,",
          "automatic",
          1746301020320,
          "M 2.2 - 3 km SW of San Juan Bautista, CA",
          0,
          "earthquake",
          ",focal-mechanism,nearby-cities,origin,phase-data,scitech-link,",
          null,
          1746303439779,
          "https://earthquake.usgs.gov/earthquakes/eventpage/nc75176056"
         ],
         "Feature"
        ],
        [
         [
          [
           -122.782836914062,
           38.7953338623047,
           3.27999997138977
          ],
          "Point"
         ],
         "nc75176051",
         [
          null,
          null,
          "75176051",
          "https://earthquake.usgs.gov/fdsnws/event/1/query?eventid=nc75176051&format=geojson",
          0.004516,
          null,
          76.0,
          ",nc75176051,",
          0.81,
          "md",
          null,
          "nc",
          19,
          "3 km NW of The Geysers, CA",
          0.02,
          10,
          ",nc,",
          "automatic",
          1746300068780,
          "M 0.8 - 3 km NW of The Geysers, CA",
          0,
          "earthquake",
          ",nearby-cities,origin,phase-data,scitech-link,",
          null,
          1746301641553,
          "https://earthquake.usgs.gov/earthquakes/eventpage/nc75176051"
         ],
         "Feature"
        ],
        [
         [
          [
           -117.4338333,
           35.6186667,
           4.64
          ],
          "Point"
         ],
         "ci41144096",
         [
          null,
          null,
          "41144096",
          "https://earthquake.usgs.gov/fdsnws/event/1/query?eventid=ci41144096&format=geojson",
          0.04707,
          null,
          51.0,
          ",ci41144096,",
          1.38,
          "ml",
          null,
          "ci",
          31,
          "17 km S of Searles Valley, CA",
          0.18,
          29,
          ",ci,",
          "automatic",
          1746297517130,
          "M 1.4 - 17 km S of Searles Valley, CA",
          0,
          "earthquake",
          ",nearby-cities,origin,phase-data,scitech-link,",
          null,
          1746297722739,
          "https://earthquake.usgs.gov/earthquakes/eventpage/ci41144096"
         ],
         "Feature"
        ],
        [
         [
          [
           -122.75,
           38.776668548584,
           -0.800000011920929
          ],
          "Point"
         ],
         "nc75176036",
         [
          null,
          null,
          "75176036",
          "https://earthquake.usgs.gov/fdsnws/event/1/query?eventid=nc75176036&format=geojson",
          0.01227,
          null,
          129.0,
          ",nc75176036,",
          1.02,
          "md",
          null,
          "nc",
          7,
          "1 km ESE of The Geysers, CA",
          0.31,
          16,
          ",nc,",
          "automatic",
          1746297362880,
          "M 1.0 - 1 km ESE of The Geysers, CA",
          0,
          "earthquake",
          ",nearby-cities,origin,phase-data,scitech-link,",
          null,
          1746299540304,
          "https://earthquake.usgs.gov/earthquakes/eventpage/nc75176036"
         ],
         "Feature"
        ],
        [
         [
          [
           -117.239,
           34.0351667,
           16.81
          ],
          "Point"
         ],
         "ci41144080",
         [
          null,
          null,
          "41144080",
          "https://earthquake.usgs.gov/fdsnws/event/1/query?eventid=ci41144080&format=geojson",
          null,
          null,
          29.0,
          ",ci41144080,",
          1.37,
          "ml",
          null,
          "ci",
          50,
          "2 km SE of Loma Linda, CA",
          0.18,
          29,
          ",ci,",
          "automatic",
          1746297343880,
          "M 1.4 - 2 km SE of Loma Linda, CA",
          0,
          "earthquake",
          ",nearby-cities,origin,phase-data,scitech-link,",
          null,
          1746297555093,
          "https://earthquake.usgs.gov/earthquakes/eventpage/ci41144080"
         ],
         "Feature"
        ],
        [
         [
          [
           -121.99866666666667,
           47.16916666666667,
           14.59
          ],
          "Point"
         ],
         "uw62092382",
         [
          null,
          null,
          "62092382",
          "https://earthquake.usgs.gov/fdsnws/event/1/query?eventid=uw62092382&format=geojson",
          0.0201,
          null,
          191.0,
          ",uw62092382,",
          0.78,
          "ml",
          null,
          "uw",
          21,
          "2 km ENE of Buckley, Washington",
          0.12,
          9,
          ",uw,",
          "reviewed",
          1746297048720,
          "M 0.8 - 2 km ENE of Buckley, Washington",
          0,
          "earthquake",
          ",origin,phase-data,",
          null,
          1746337494760,
          "https://earthquake.usgs.gov/earthquakes/eventpage/uw62092382"
         ],
         "Feature"
        ],
        [
         [
          [
           -152.8552,
           59.5572,
           76.6
          ],
          "Point"
         ],
         "ak0255npzm6f",
         [
          null,
          null,
          "0255npzm6f",
          "https://earthquake.usgs.gov/fdsnws/event/1/query?eventid=ak0255npzm6f&format=geojson",
          null,
          null,
          null,
          ",ak0255npzm6f,",
          1.8,
          "ml",
          null,
          "ak",
          null,
          "57 km WNW of Nanwalek, Alaska",
          0.3,
          50,
          ",ak,",
          "automatic",
          1746296938315,
          "M 1.8 - 57 km WNW of Nanwalek, Alaska",
          0,
          "earthquake",
          ",origin,phase-data,",
          null,
          1746297058254,
          "https://earthquake.usgs.gov/earthquakes/eventpage/ak0255npzm6f"
         ],
         "Feature"
        ],
        [
         [
          [
           -116.4026667,
           33.0378333,
           13.09
          ],
          "Point"
         ],
         "ci41144056",
         [
          null,
          null,
          "41144056",
          "https://earthquake.usgs.gov/fdsnws/event/1/query?eventid=ci41144056&format=geojson",
          0.04939,
          null,
          28.0,
          ",ci41144056,",
          1.62,
          "ml",
          null,
          "ci",
          69,
          "19 km ESE of Julian, CA",
          0.22,
          40,
          ",ci,",
          "reviewed",
          1746296378100,
          "M 1.6 - 19 km ESE of Julian, CA",
          0,
          "earthquake",
          ",focal-mechanism,nearby-cities,origin,phase-data,scitech-link,",
          null,
          1746370381290,
          "https://earthquake.usgs.gov/earthquakes/eventpage/ci41144056"
         ],
         "Feature"
        ],
        [
         [
          [
           -150.7706,
           63.1499,
           116.2
          ],
          "Point"
         ],
         "ak0255npv3uc",
         [
          null,
          null,
          "0255npv3uc",
          "https://earthquake.usgs.gov/fdsnws/event/1/query?eventid=ak0255npv3uc&format=geojson",
          null,
          null,
          null,
          ",ak0255npv3uc,",
          2.0,
          "ml",
          null,
          "ak",
          null,
          "64 km SE of Denali National Park, Alaska",
          0.42,
          62,
          ",ak,",
          "automatic",
          1746295674449,
          "M 2.0 - 64 km SE of Denali National Park, Alaska",
          0,
          "earthquake",
          ",origin,phase-data,",
          null,
          1746295821085,
          "https://earthquake.usgs.gov/earthquakes/eventpage/ak0255npv3uc"
         ],
         "Feature"
        ],
        [
         [
          [
           -150.7607,
           61.8504,
           68.5
          ],
          "Point"
         ],
         "ak0255npthvl",
         [
          null,
          null,
          "0255npthvl",
          "https://earthquake.usgs.gov/fdsnws/event/1/query?eventid=ak0255npthvl&format=geojson",
          null,
          null,
          null,
          ",ak0255npthvl,",
          1.4,
          "ml",
          null,
          "ak",
          null,
          "36 km NNW of Susitna, Alaska",
          0.64,
          30,
          ",ak,",
          "automatic",
          1746295203210,
          "M 1.4 - 36 km NNW of Susitna, Alaska",
          0,
          "earthquake",
          ",origin,phase-data,",
          null,
          1746295360526,
          "https://earthquake.usgs.gov/earthquakes/eventpage/ak0255npthvl"
         ],
         "Feature"
        ],
        [
         [
          [
           -116.7238333,
           33.5301667,
           4.89
          ],
          "Point"
         ],
         "ci41144040",
         [
          null,
          null,
          "41144040",
          "https://earthquake.usgs.gov/fdsnws/event/1/query?eventid=ci41144040&format=geojson",
          0.0369,
          null,
          26.0,
          ",ci41144040,",
          1.26,
          "ml",
          null,
          "ci",
          59,
          "5 km WSW of Anza, CA",
          0.19,
          24,
          ",ci,",
          "reviewed",
          1746294622620,
          "M 1.3 - 5 km WSW of Anza, CA",
          0,
          "earthquake",
          ",focal-mechanism,nearby-cities,origin,phase-data,scitech-link,",
          null,
          1746370444390,
          "https://earthquake.usgs.gov/earthquakes/eventpage/ci41144040"
         ],
         "Feature"
        ],
        [
         [
          [
           -116.6,
           33.058,
           12.66
          ],
          "Point"
         ],
         "ci41144032",
         [
          null,
          null,
          "41144032",
          "https://earthquake.usgs.gov/fdsnws/event/1/query?eventid=ci41144032&format=geojson",
          0.02301,
          null,
          87.0,
          ",ci41144032,",
          0.55,
          "ml",
          null,
          "ci",
          14,
          "2 km S of Julian, CA",
          0.17,
          5,
          ",ci,",
          "automatic",
          1746293980370,
          "M 0.6 - 2 km S of Julian, CA",
          0,
          "earthquake",
          ",nearby-cities,origin,phase-data,scitech-link,",
          null,
          1746294231365,
          "https://earthquake.usgs.gov/earthquakes/eventpage/ci41144032"
         ],
         "Feature"
        ],
        [
         [
          [
           -152.8776,
           59.5647,
           103.6
          ],
          "Point"
         ],
         "ak0255npaou1",
         [
          null,
          null,
          "0255npaou1",
          "https://earthquake.usgs.gov/fdsnws/event/1/query?eventid=ak0255npaou1&format=geojson",
          null,
          null,
          null,
          ",ak0255npaou1,",
          1.4,
          "ml",
          null,
          "ak",
          null,
          "59 km WNW of Nanwalek, Alaska",
          0.08,
          30,
          ",ak,",
          "automatic",
          1746292348736,
          "M 1.4 - 59 km WNW of Nanwalek, Alaska",
          0,
          "earthquake",
          ",origin,phase-data,",
          null,
          1746292459018,
          "https://earthquake.usgs.gov/earthquakes/eventpage/ak0255npaou1"
         ],
         "Feature"
        ],
        [
         [
          [
           -76.5027,
           -45.5225,
           10.0
          ],
          "Point"
         ],
         "us7000pwxk",
         [
          null,
          null,
          "7000pwxk",
          "https://earthquake.usgs.gov/fdsnws/event/1/query?eventid=us7000pwxk&format=geojson",
          2.142,
          null,
          142.0,
          ",us7000pwxk,",
          4.4,
          "mb",
          null,
          "us",
          30,
          "288 km W of Puerto Chacabuco, Chile",
          0.67,
          298,
          ",us,",
          "reviewed",
          1746291913378,
          "M 4.4 - 288 km W of Puerto Chacabuco, Chile",
          0,
          "earthquake",
          ",origin,phase-data,",
          null,
          1746295732040,
          "https://earthquake.usgs.gov/earthquakes/eventpage/us7000pwxk"
         ],
         "Feature"
        ],
        [
         [
          [
           141.0809,
           -3.2569,
           28.97
          ],
          "Point"
         ],
         "us7000pwxj",
         [
          null,
          2.5,
          "7000pwxj",
          "https://earthquake.usgs.gov/fdsnws/event/1/query?eventid=us7000pwxj&format=geojson",
          0.828,
          2,
          28.0,
          ",us7000pwxj,",
          5.1,
          "mb",
          null,
          "us",
          173,
          "67 km SSW of Vanimo, Papua New Guinea",
          0.93,
          401,
          ",us,",
          "reviewed",
          1746291853537,
          "M 5.1 - 67 km SSW of Vanimo, Papua New Guinea",
          0,
          "earthquake",
          ",dyfi,origin,phase-data,",
          null,
          1746292957399,
          "https://earthquake.usgs.gov/earthquakes/eventpage/us7000pwxj"
         ],
         "Feature"
        ],
        [
         [
          [
           -122.790000915527,
           38.8354988098145,
           1.73000001907349
          ],
          "Point"
         ],
         "nc75176011",
         [
          null,
          null,
          "75176011",
          "https://earthquake.usgs.gov/fdsnws/event/1/query?eventid=nc75176011&format=geojson",
          0.002918,
          null,
          60.0,
          ",nc75176011,",
          0.85,
          "md",
          null,
          "nc",
          14,
          "6 km WNW of Cobb, CA",
          0.01,
          11,
          ",nc,",
          "automatic",
          1746291305930,
          "M 0.9 - 6 km WNW of Cobb, CA",
          0,
          "earthquake",
          ",nearby-cities,origin,phase-data,scitech-link,",
          null,
          1746295636886,
          "https://earthquake.usgs.gov/earthquakes/eventpage/nc75176011"
         ],
         "Feature"
        ],
        [
         [
          [
           -138.0379,
           60.0996,
           2.786
          ],
          "Point"
         ],
         "us7000pwxh",
         [
          null,
          null,
          "7000pwxh",
          "https://earthquake.usgs.gov/fdsnws/event/1/query?eventid=us7000pwxh&format=geojson",
          0.775,
          null,
          104.0,
          ",us7000pwxh,",
          2.9,
          "ml",
          null,
          "us",
          28,
          "113 km ENE of Yakutat, Alaska",
          0.95,
          129,
          ",us,",
          "reviewed",
          1746290767896,
          "M 2.9 - 113 km ENE of Yakutat, Alaska",
          0,
          "earthquake",
          ",origin,phase-data,",
          null,
          1746294744040,
          "https://earthquake.usgs.gov/earthquakes/eventpage/us7000pwxh"
         ],
         "Feature"
        ],
        [
         [
          [
           -122.816329956055,
           38.8311653137207,
           1.37999999523163
          ],
          "Point"
         ],
         "nc75176001",
         [
          null,
          null,
          "75176001",
          "https://earthquake.usgs.gov/fdsnws/event/1/query?eventid=nc75176001&format=geojson",
          0.009169,
          null,
          83.0,
          ",nc75176001,",
          0.27,
          "md",
          null,
          "nc",
          7,
          "8 km NNW of The Geysers, CA",
          0.01,
          1,
          ",nc,",
          "automatic",
          1746290711320,
          "M 0.3 - 8 km NNW of The Geysers, CA",
          0,
          "earthquake",
          ",nearby-cities,origin,phase-data,scitech-link,",
          null,
          1746292941547,
          "https://earthquake.usgs.gov/earthquakes/eventpage/nc75176001"
         ],
         "Feature"
        ],
        [
         [
          [
           -115.168,
           44.2723333333333,
           9.84
          ],
          "Point"
         ],
         "mb90081358",
         [
          null,
          null,
          "90081358",
          "https://earthquake.usgs.gov/fdsnws/event/1/query?eventid=mb90081358&format=geojson",
          0.2847,
          null,
          68.0,
          ",mb90081358,",
          1.99,
          "ml",
          null,
          "mb",
          16,
          "19 km WNW of Stanley, Idaho",
          0.23,
          61,
          ",mb,",
          "reviewed",
          1746289918310,
          "M 2.0 - 19 km WNW of Stanley, Idaho",
          0,
          "earthquake",
          ",origin,phase-data,",
          null,
          1746367546030,
          "https://earthquake.usgs.gov/earthquakes/eventpage/mb90081358"
         ],
         "Feature"
        ],
        [
         [
          [
           -117.5406667,
           35.6831667,
           6.65
          ],
          "Point"
         ],
         "ci41143976",
         [
          null,
          null,
          "41143976",
          "https://earthquake.usgs.gov/fdsnws/event/1/query?eventid=ci41143976&format=geojson",
          0.09692,
          null,
          38.0,
          ",ci41143976,",
          1.81,
          "ml",
          null,
          "ci",
          36,
          "14 km ENE of Ridgecrest, CA",
          0.19,
          50,
          ",ci,",
          "reviewed",
          1746289833370,
          "M 1.8 - 14 km ENE of Ridgecrest, CA",
          0,
          "earthquake",
          ",focal-mechanism,nearby-cities,origin,phase-data,scitech-link,",
          null,
          1746370507300,
          "https://earthquake.usgs.gov/earthquakes/eventpage/ci41143976"
         ],
         "Feature"
        ],
        [
         [
          [
           -104.9999,
           37.0592,
           5.0
          ],
          "Point"
         ],
         "us7000pwxc",
         [
          null,
          null,
          "7000pwxc",
          "https://earthquake.usgs.gov/fdsnws/event/1/query?eventid=us7000pwxc&format=geojson",
          0.185,
          null,
          76.0,
          ",us7000pwxc,",
          2.1,
          "ml",
          null,
          "us",
          12,
          "10 km SSE of Stonewall Gap, Colorado",
          0.57,
          68,
          ",us,",
          "reviewed",
          1746289518399,
          "M 2.1 - 10 km SSE of Stonewall Gap, Colorado",
          0,
          "earthquake",
          ",origin,phase-data,",
          null,
          1746293532040,
          "https://earthquake.usgs.gov/earthquakes/eventpage/us7000pwxc"
         ],
         "Feature"
        ],
        [
         [
          [
           143.6087,
           -3.3448,
           10.0
          ],
          "Point"
         ],
         "us7000pwxb",
         [
          null,
          5.4,
          "7000pwxb",
          "https://earthquake.usgs.gov/fdsnws/event/1/query?eventid=us7000pwxb&format=geojson",
          3.017,
          2,
          32.0,
          ",us7000pwxb,",
          5.0,
          "mb",
          null,
          "us",
          118,
          "22 km N of Wewak, Papua New Guinea",
          0.62,
          386,
          ",us,",
          "reviewed",
          1746289270836,
          "M 5.0 - 22 km N of Wewak, Papua New Guinea",
          0,
          "earthquake",
          ",dyfi,origin,phase-data,",
          null,
          1746293058059,
          "https://earthquake.usgs.gov/earthquakes/eventpage/us7000pwxb"
         ],
         "Feature"
        ],
        [
         [
          [
           -115.169333333333,
           44.2703333333333,
           9.07
          ],
          "Point"
         ],
         "mb90081348",
         [
          null,
          null,
          "90081348",
          "https://earthquake.usgs.gov/fdsnws/event/1/query?eventid=mb90081348&format=geojson",
          0.2843,
          null,
          68.0,
          ",mb90081348,",
          2.23,
          "ml",
          null,
          "mb",
          17,
          "19 km WNW of Stanley, Idaho",
          0.18,
          77,
          ",mb,",
          "reviewed",
          1746287881530,
          "M 2.2 - 19 km WNW of Stanley, Idaho",
          0,
          "earthquake",
          ",origin,phase-data,",
          null,
          1746366801860,
          "https://earthquake.usgs.gov/earthquakes/eventpage/mb90081348"
         ],
         "Feature"
        ],
        [
         [
          [
           -72.8176,
           -15.1934,
           99.185
          ],
          "Point"
         ],
         "us7000pwx5",
         [
          null,
          null,
          "7000pwx5",
          "https://earthquake.usgs.gov/fdsnws/event/1/query?eventid=us7000pwx5&format=geojson",
          3.95,
          null,
          145.0,
          ",us7000pwx5,",
          4.4,
          "mb",
          null,
          "us",
          75,
          "2 km SSE of Tomepampa, Peru",
          0.61,
          298,
          ",us,",
          "reviewed",
          1746287574308,
          "M 4.4 - 2 km SSE of Tomepampa, Peru",
          0,
          "earthquake",
          ",origin,phase-data,",
          null,
          1746293157040,
          "https://earthquake.usgs.gov/earthquakes/eventpage/us7000pwx5"
         ],
         "Feature"
        ],
        [
         [
          [
           167.9858,
           -17.5155,
           35.088
          ],
          "Point"
         ],
         "us7000pwx4",
         [
          null,
          3.8,
          "7000pwx4",
          "https://earthquake.usgs.gov/fdsnws/event/1/query?eventid=us7000pwx4&format=geojson",
          2.19,
          4,
          75.0,
          ",us7000pwx4,",
          5.0,
          "mb",
          null,
          "us",
          99,
          "42 km NW of Port-Vila, Vanuatu",
          0.66,
          386,
          ",us,",
          "reviewed",
          1746287347098,
          "M 5.0 - 42 km NW of Port-Vila, Vanuatu",
          0,
          "earthquake",
          ",dyfi,origin,phase-data,",
          null,
          1746358443929,
          "https://earthquake.usgs.gov/earthquakes/eventpage/us7000pwx4"
         ],
         "Feature"
        ],
        [
         [
          [
           -117.497,
           34.2841667,
           11.51
          ],
          "Point"
         ],
         "ci41143928",
         [
          null,
          null,
          "41143928",
          "https://earthquake.usgs.gov/fdsnws/event/1/query?eventid=ci41143928&format=geojson",
          null,
          null,
          25.0,
          ",ci41143928,",
          1.32,
          "ml",
          null,
          "ci",
          52,
          "3 km N of Lytle Creek, CA",
          0.19,
          27,
          ",ci,",
          "reviewed",
          1746287093370,
          "M 1.3 - 3 km N of Lytle Creek, CA",
          0,
          "earthquake",
          ",nearby-cities,origin,phase-data,scitech-link,",
          null,
          1746370447512,
          "https://earthquake.usgs.gov/earthquakes/eventpage/ci41143928"
         ],
         "Feature"
        ],
        [
         [
          [
           -122.844329833984,
           38.8228340148926,
           2.25999999046326
          ],
          "Point"
         ],
         "nc75175981",
         [
          null,
          null,
          "75175981",
          "https://earthquake.usgs.gov/fdsnws/event/1/query?eventid=nc75175981&format=geojson",
          0.00727,
          null,
          104.0,
          ",nc75175981,",
          0.92,
          "md",
          null,
          "nc",
          17,
          "9 km NW of The Geysers, CA",
          0.01,
          13,
          ",nc,",
          "automatic",
          1746286450160,
          "M 0.9 - 9 km NW of The Geysers, CA",
          0,
          "earthquake",
          ",nearby-cities,origin,phase-data,scitech-link,",
          null,
          1746288740070,
          "https://earthquake.usgs.gov/earthquakes/eventpage/nc75175981"
         ],
         "Feature"
        ],
        [
         [
          [
           -117.7813333,
           34.5808333,
           8.76
          ],
          "Point"
         ],
         "ci41143920",
         [
          null,
          null,
          "41143920",
          "https://earthquake.usgs.gov/fdsnws/event/1/query?eventid=ci41143920&format=geojson",
          null,
          null,
          61.0,
          ",ci41143920,",
          1.65,
          "ml",
          null,
          "ci",
          68,
          "6 km SE of Lake Los Angeles, CA",
          0.18,
          42,
          ",ci,",
          "reviewed",
          1746286438920,
          "M 1.7 - 6 km SE of Lake Los Angeles, CA",
          0,
          "earthquake",
          ",focal-mechanism,nearby-cities,origin,phase-data,scitech-link,",
          null,
          1746370511200,
          "https://earthquake.usgs.gov/earthquakes/eventpage/ci41143920"
         ],
         "Feature"
        ],
        [
         [
          [
           -145.4394,
           60.0951,
           1.7
          ],
          "Point"
         ],
         "ak0255no4gbe",
         [
          null,
          null,
          "0255no4gbe",
          "https://earthquake.usgs.gov/fdsnws/event/1/query?eventid=ak0255no4gbe&format=geojson",
          null,
          null,
          null,
          ",ak0255no4gbe,",
          2.2,
          "ml",
          null,
          "ak",
          null,
          "52 km SSE of Cordova, Alaska",
          0.59,
          74,
          ",ak,",
          "automatic",
          1746285322826,
          "M 2.2 - 52 km SSE of Cordova, Alaska",
          0,
          "earthquake",
          ",origin,phase-data,",
          null,
          1746285454865,
          "https://earthquake.usgs.gov/earthquakes/eventpage/ak0255no4gbe"
         ],
         "Feature"
        ],
        [
         [
          [
           -67.1035,
           -57.0433,
           10.0
          ],
          "Point"
         ],
         "us7000pwx1",
         [
          null,
          null,
          "7000pwx1",
          "https://earthquake.usgs.gov/fdsnws/event/1/query?eventid=us7000pwx1&format=geojson",
          3.73,
          null,
          146.0,
          ",us7000pwx1,",
          4.2,
          "mb",
          null,
          "us",
          17,
          "259 km SSE of Ushuaia, Argentina",
          1.09,
          271,
          ",us,",
          "reviewed",
          1746285146966,
          "M 4.2 - 259 km SSE of Ushuaia, Argentina",
          0,
          "earthquake",
          ",origin,phase-data,",
          null,
          1746290200040,
          "https://earthquake.usgs.gov/earthquakes/eventpage/us7000pwx1"
         ],
         "Feature"
        ],
        [
         [
          [
           -152.0863,
           60.5794,
           77.9
          ],
          "Point"
         ],
         "ak0255nns9e4",
         [
          null,
          null,
          "0255nns9e4",
          "https://earthquake.usgs.gov/fdsnws/event/1/query?eventid=ak0255nns9e4&format=geojson",
          null,
          null,
          null,
          ",ak0255nns9e4,",
          1.7,
          "ml",
          null,
          "ak",
          null,
          "42 km W of Salamatof, Alaska",
          0.22,
          44,
          ",ak,",
          "automatic",
          1746284314360,
          "M 1.7 - 42 km W of Salamatof, Alaska",
          0,
          "earthquake",
          ",origin,phase-data,",
          null,
          1746284403737,
          "https://earthquake.usgs.gov/earthquakes/eventpage/ak0255nns9e4"
         ],
         "Feature"
        ],
        [
         [
          [
           -77.9596,
           -0.6213,
           10.0
          ],
          "Point"
         ],
         "us7000pwwy",
         [
          null,
          3.1,
          "7000pwwy",
          "https://earthquake.usgs.gov/fdsnws/event/1/query?eventid=us7000pwwy&format=geojson",
          0.244,
          1,
          88.0,
          ",us7000pwwy,",
          4.6,
          "mb",
          null,
          "us",
          28,
          "36 km NNW of Archidona, Ecuador",
          0.93,
          326,
          ",us,",
          "reviewed",
          1746283814693,
          "M 4.6 - 36 km NNW of Archidona, Ecuador",
          0,
          "earthquake",
          ",dyfi,origin,phase-data,",
          null,
          1746289474025,
          "https://earthquake.usgs.gov/earthquakes/eventpage/us7000pwwy"
         ],
         "Feature"
        ],
        [
         [
          [
           -67.701,
           -57.1289,
           10.0
          ],
          "Point"
         ],
         "us7000pwwx",
         [
          null,
          null,
          "7000pwwx",
          "https://earthquake.usgs.gov/fdsnws/event/1/query?eventid=us7000pwwx&format=geojson",
          3.644,
          null,
          147.0,
          ",us7000pwwx,",
          4.6,
          "mb",
          null,
          "us",
          25,
          "260 km S of Ushuaia, Argentina",
          0.96,
          326,
          ",us,",
          "reviewed",
          1746283292337,
          "M 4.6 - 260 km S of Ushuaia, Argentina",
          0,
          "earthquake",
          ",origin,phase-data,",
          null,
          1746288158040,
          "https://earthquake.usgs.gov/earthquakes/eventpage/us7000pwwx"
         ],
         "Feature"
        ],
        [
         [
          [
           -153.144,
           59.8151,
           94.9
          ],
          "Point"
         ],
         "ak0255nnnyyq",
         [
          null,
          null,
          "0255nnnyyq",
          "https://earthquake.usgs.gov/fdsnws/event/1/query?eventid=ak0255nnnyyq&format=geojson",
          null,
          null,
          null,
          ",ak0255nnnyyq,",
          1.9,
          "ml",
          null,
          "ak",
          null,
          "54 km E of Pedro Bay, Alaska",
          0.29,
          56,
          ",ak,",
          "automatic",
          1746283112989,
          "M 1.9 - 54 km E of Pedro Bay, Alaska",
          0,
          "earthquake",
          ",origin,phase-data,",
          null,
          1746283235754,
          "https://earthquake.usgs.gov/earthquakes/eventpage/ak0255nnnyyq"
         ],
         "Feature"
        ],
        [
         [
          [
           -123.35717010498,
           39.4133338928223,
           1.85000002384186
          ],
          "Point"
         ],
         "nc75175966",
         [
          null,
          3.4,
          "75175966",
          "https://earthquake.usgs.gov/fdsnws/event/1/query?eventid=nc75175966&format=geojson",
          0.05765,
          5,
          73.0,
          ",nc75175966,",
          2.19,
          "md",
          null,
          "nc",
          21,
          "0 km  of Willits, CA",
          0.07,
          75,
          ",nc,",
          "automatic",
          1746282565620,
          "M 2.2 - 0 km  of Willits, CA",
          0,
          "earthquake",
          ",dyfi,nearby-cities,origin,phase-data,scitech-link,",
          null,
          1746288548307,
          "https://earthquake.usgs.gov/earthquakes/eventpage/nc75175966"
         ],
         "Feature"
        ],
        [
         [
          [
           -119.0158,
           39.0878,
           9.0
          ],
          "Point"
         ],
         "nn00897181",
         [
          null,
          null,
          "00897181",
          "https://earthquake.usgs.gov/fdsnws/event/1/query?eventid=nn00897181&format=geojson",
          0.083,
          null,
          85.28,
          ",nn00897181,",
          0.8,
          "ml",
          null,
          "nn",
          9,
          "17 km NE of Yerington, Nevada",
          0.197,
          10,
          ",nn,",
          "automatic",
          1746282313700,
          "M 0.8 - 17 km NE of Yerington, Nevada",
          0,
          "earthquake",
          ",origin,phase-data,",
          null,
          1746282444771,
          "https://earthquake.usgs.gov/earthquakes/eventpage/nn00897181"
         ],
         "Feature"
        ],
        [
         [
          [
           -149.8182,
           61.6993,
           32.0
          ],
          "Point"
         ],
         "ak0255nnkrsf",
         [
          null,
          null,
          "0255nnkrsf",
          "https://earthquake.usgs.gov/fdsnws/event/1/query?eventid=ak0255nnkrsf&format=geojson",
          null,
          null,
          null,
          ",ak0255nnkrsf,",
          2.1,
          "ml",
          null,
          "ak",
          null,
          "7 km N of Houston, Alaska",
          0.65,
          68,
          ",ak,",
          "automatic",
          1746282220315,
          "M 2.1 - 7 km N of Houston, Alaska",
          0,
          "earthquake",
          ",origin,phase-data,",
          null,
          1746282356337,
          "https://earthquake.usgs.gov/earthquakes/eventpage/ak0255nnkrsf"
         ],
         "Feature"
        ],
        [
         [
          [
           -122.813499450684,
           38.8308334350586,
           2.00999999046326
          ],
          "Point"
         ],
         "nc75175956",
         [
          null,
          null,
          "75175956",
          "https://earthquake.usgs.gov/fdsnws/event/1/query?eventid=nc75175956&format=geojson",
          0.007895,
          null,
          42.0,
          ",nc75175956,",
          1.36,
          "md",
          null,
          "nc",
          28,
          "8 km NNW of The Geysers, CA",
          0.02,
          28,
          ",nc,",
          "automatic",
          1746282155470,
          "M 1.4 - 8 km NNW of The Geysers, CA",
          0,
          "earthquake",
          ",nearby-cities,origin,phase-data,scitech-link,",
          null,
          1746284237599,
          "https://earthquake.usgs.gov/earthquakes/eventpage/nc75175956"
         ],
         "Feature"
        ],
        [
         [
          [
           124.4235,
           1.1743,
           231.402
          ],
          "Point"
         ],
         "us7000pwwu",
         [
          null,
          null,
          "7000pwwu",
          "https://earthquake.usgs.gov/fdsnws/event/1/query?eventid=us7000pwwu&format=geojson",
          2.97,
          null,
          79.0,
          ",us7000pwwu,",
          4.5,
          "mb",
          null,
          "us",
          41,
          "45 km WSW of Tomohon, Indonesia",
          1.08,
          312,
          ",us,",
          "reviewed",
          1746282050752,
          "M 4.5 - 45 km WSW of Tomohon, Indonesia",
          0,
          "earthquake",
          ",origin,phase-data,",
          null,
          1746282925040,
          "https://earthquake.usgs.gov/earthquakes/eventpage/us7000pwwu"
         ],
         "Feature"
        ],
        [
         [
          [
           -149.3222,
           64.6614,
           17.4
          ],
          "Point"
         ],
         "ak0255nnhq6i",
         [
          null,
          null,
          "0255nnhq6i",
          "https://earthquake.usgs.gov/fdsnws/event/1/query?eventid=ak0255nnhq6i&format=geojson",
          null,
          null,
          null,
          ",ak0255nnhq6i,",
          1.1,
          "ml",
          null,
          "ak",
          null,
          "11 km NW of Four Mile Road, Alaska",
          0.41,
          19,
          ",ak,",
          "automatic",
          1746281359782,
          "M 1.1 - 11 km NW of Four Mile Road, Alaska",
          0,
          "earthquake",
          ",origin,phase-data,",
          null,
          1746281468201,
          "https://earthquake.usgs.gov/earthquakes/eventpage/ak0255nnhq6i"
         ],
         "Feature"
        ],
        [
         [
          [
           -116.7245,
           33.5286667,
           4.87
          ],
          "Point"
         ],
         "ci41143872",
         [
          null,
          null,
          "41143872",
          "https://earthquake.usgs.gov/fdsnws/event/1/query?eventid=ci41143872&format=geojson",
          0.03816,
          null,
          28.0,
          ",ci41143872,",
          0.76,
          "ml",
          null,
          "ci",
          39,
          "6 km WSW of Anza, CA",
          0.17,
          9,
          ",ci,",
          "reviewed",
          1746281345060,
          "M 0.8 - 6 km WSW of Anza, CA",
          0,
          "earthquake",
          ",focal-mechanism,nearby-cities,origin,phase-data,scitech-link,",
          null,
          1746370514020,
          "https://earthquake.usgs.gov/earthquakes/eventpage/ci41143872"
         ],
         "Feature"
        ],
        [
         [
          [
           -67.9455,
           -57.2338,
           10.0
          ],
          "Point"
         ],
         "us7000pwwr",
         [
          null,
          null,
          "7000pwwr",
          "https://earthquake.usgs.gov/fdsnws/event/1/query?eventid=us7000pwwr&format=geojson",
          3.683,
          null,
          149.0,
          ",us7000pwwr,",
          4.5,
          "mb",
          null,
          "us",
          21,
          "270 km S of Ushuaia, Argentina",
          0.77,
          312,
          ",us,",
          "reviewed",
          1746281270285,
          "M 4.5 - 270 km S of Ushuaia, Argentina",
          0,
          "earthquake",
          ",origin,phase-data,",
          null,
          1746287538040,
          "https://earthquake.usgs.gov/earthquakes/eventpage/us7000pwwr"
         ],
         "Feature"
        ],
        [
         [
          [
           -150.2221,
           60.7169,
           40.8
          ],
          "Point"
         ],
         "ak0255nnfuy4",
         [
          null,
          2.0,
          "0255nnfuy4",
          "https://earthquake.usgs.gov/fdsnws/event/1/query?eventid=ak0255nnfuy4&format=geojson",
          null,
          1,
          null,
          ",ak0255nnfuy4,",
          1.5,
          "ml",
          null,
          "ak",
          null,
          "33 km NW of Cooper Landing, Alaska",
          0.7,
          35,
          ",ak,",
          "automatic",
          1746280848448,
          "M 1.5 - 33 km NW of Cooper Landing, Alaska",
          0,
          "earthquake",
          ",dyfi,origin,phase-data,",
          null,
          1746372253255,
          "https://earthquake.usgs.gov/earthquakes/eventpage/ak0255nnfuy4"
         ],
         "Feature"
        ],
        [
         [
          [
           -122.813331604004,
           38.8209991455078,
           3.09999990463257
          ],
          "Point"
         ],
         "nc75175946",
         [
          null,
          null,
          "75175946",
          "https://earthquake.usgs.gov/fdsnws/event/1/query?eventid=nc75175946&format=geojson",
          0.003493,
          null,
          90.0,
          ",nc75175946,",
          0.8,
          "md",
          null,
          "nc",
          14,
          "7 km NW of The Geysers, CA",
          0.01,
          10,
          ",nc,",
          "automatic",
          1746279847530,
          "M 0.8 - 7 km NW of The Geysers, CA",
          0,
          "earthquake",
          ",nearby-cities,origin,phase-data,scitech-link,",
          null,
          1746281538307,
          "https://earthquake.usgs.gov/earthquakes/eventpage/nc75175946"
         ],
         "Feature"
        ],
        [
         [
          [
           -116.3078,
           36.716,
           9.1
          ],
          "Point"
         ],
         "nn00897177",
         [
          null,
          null,
          "00897177",
          "https://earthquake.usgs.gov/fdsnws/event/1/query?eventid=nn00897177&format=geojson",
          0.017,
          null,
          206.06,
          ",nn00897177,",
          -0.3,
          "ml",
          null,
          "nn",
          20,
          "45 km ESE of Beatty, Nevada",
          0.0854,
          0,
          ",nn,",
          "reviewed",
          1746279622074,
          "M -0.3 - 45 km ESE of Beatty, Nevada",
          0,
          "earthquake",
          ",origin,phase-data,",
          null,
          1746282460914,
          "https://earthquake.usgs.gov/earthquakes/eventpage/nn00897177"
         ],
         "Feature"
        ],
        [
         [
          [
           -115.8332,
           38.129,
           13.6
          ],
          "Point"
         ],
         "nn00897173",
         [
          null,
          null,
          "00897173",
          "https://earthquake.usgs.gov/fdsnws/event/1/query?eventid=nn00897173&format=geojson",
          0.951,
          null,
          293.6,
          ",nn00897173,",
          1.5,
          "ml",
          null,
          "nn",
          8,
          "54 km N of Rachel, Nevada",
          0.2243,
          35,
          ",nn,",
          "automatic",
          1746278497724,
          "M 1.5 - 54 km N of Rachel, Nevada",
          0,
          "earthquake",
          ",origin,phase-data,",
          null,
          1746278644111,
          "https://earthquake.usgs.gov/earthquakes/eventpage/nn00897173"
         ],
         "Feature"
        ],
        [
         [
          [
           -116.0951667,
           33.2523333,
           10.45
          ],
          "Point"
         ],
         "ci41143832",
         [
          null,
          null,
          "41143832",
          "https://earthquake.usgs.gov/fdsnws/event/1/query?eventid=ci41143832&format=geojson",
          0.09568,
          null,
          56.0,
          ",ci41143832,",
          0.49,
          "ml",
          null,
          "ci",
          34,
          "13 km NNE of Ocotillo Wells, CA",
          0.2,
          4,
          ",ci,",
          "automatic",
          1746276837340,
          "M 0.5 - 13 km NNE of Ocotillo Wells, CA",
          0,
          "earthquake",
          ",nearby-cities,origin,phase-data,scitech-link,",
          null,
          1746277046907,
          "https://earthquake.usgs.gov/earthquakes/eventpage/ci41143832"
         ],
         "Feature"
        ],
        [
         [
          [
           -116.4656667,
           32.9408333,
           8.16
          ],
          "Point"
         ],
         "ci41143824",
         [
          null,
          null,
          "41143824",
          "https://earthquake.usgs.gov/fdsnws/event/1/query?eventid=ci41143824&format=geojson",
          0.05563,
          null,
          62.0,
          ",ci41143824,",
          0.13,
          "ml",
          null,
          "ci",
          16,
          "14 km NNE of Pine Valley, CA",
          0.13,
          0,
          ",ci,",
          "automatic",
          1746276776970,
          "M 0.1 - 14 km NNE of Pine Valley, CA",
          0,
          "earthquake",
          ",nearby-cities,origin,phase-data,scitech-link,",
          null,
          1746276987049,
          "https://earthquake.usgs.gov/earthquakes/eventpage/ci41143824"
         ],
         "Feature"
        ],
        [
         [
          [
           121.5769,
           0.501,
           108.386
          ],
          "Point"
         ],
         "us7000pwvy",
         [
          "green",
          6.4,
          "7000pwvy",
          "https://earthquake.usgs.gov/fdsnws/event/1/query?eventid=us7000pwvy&format=geojson",
          1.0,
          8,
          27.0,
          ",us7000pwvy,usauto7000pwvy,pt25123000,at00svorqa,",
          6.0,
          "mww",
          4.329,
          "us",
          135,
          "165 km W of Gorontalo, Indonesia",
          1.18,
          559,
          ",us,usauto,pt,at,",
          "reviewed",
          1746276705137,
          "M 6.0 - 165 km W of Gorontalo, Indonesia",
          0,
          "earthquake",
          ",dyfi,ground-failure,internal-moment-tensor,internal-origin,losspager,moment-tensor,origin,phase-data,shakemap,",
          null,
          1746374103863,
          "https://earthquake.usgs.gov/earthquakes/eventpage/us7000pwvy"
         ],
         "Feature"
        ],
        [
         [
          [
           -116.7253333,
           33.5371667,
           6.68
          ],
          "Point"
         ],
         "ci41143816",
         [
          null,
          null,
          "41143816",
          "https://earthquake.usgs.gov/fdsnws/event/1/query?eventid=ci41143816&format=geojson",
          0.02988,
          null,
          70.0,
          ",ci41143816,",
          1.44,
          "ml",
          null,
          "ci",
          11,
          "5 km WSW of Anza, CA",
          0.14,
          32,
          ",ci,",
          "automatic",
          1746276460870,
          "M 1.4 - 5 km WSW of Anza, CA",
          0,
          "earthquake",
          ",nearby-cities,origin,phase-data,scitech-link,",
          null,
          1746276679021,
          "https://earthquake.usgs.gov/earthquakes/eventpage/ci41143816"
         ],
         "Feature"
        ],
        [
         [
          [
           -103.207,
           31.039,
           4.2434
          ],
          "Point"
         ],
         "tx2025ipwr",
         [
          null,
          null,
          "2025ipwr",
          "https://earthquake.usgs.gov/fdsnws/event/1/query?eventid=tx2025ipwr&format=geojson",
          0.1,
          null,
          78.0,
          ",tx2025ipwr,",
          1.7,
          "ml",
          null,
          "tx",
          15,
          "26 km SSW of Coyanosa, Texas",
          1.2,
          44,
          ",tx,",
          "automatic",
          1746276246741,
          "M 1.7 - 26 km SSW of Coyanosa, Texas",
          0,
          "earthquake",
          ",origin,phase-data,",
          null,
          1746276853917,
          "https://earthquake.usgs.gov/earthquakes/eventpage/tx2025ipwr"
         ],
         "Feature"
        ],
        [
         [
          [
           -122.780334472656,
           38.7948341369629,
           3.45000004768372
          ],
          "Point"
         ],
         "nc75175936",
         [
          null,
          null,
          "75175936",
          "https://earthquake.usgs.gov/fdsnws/event/1/query?eventid=nc75175936&format=geojson",
          0.006152,
          null,
          77.0,
          ",nc75175936,",
          1.09,
          "md",
          null,
          "nc",
          22,
          "3 km NW of The Geysers, CA",
          0.02,
          18,
          ",nc,",
          "automatic",
          1746275801000,
          "M 1.1 - 3 km NW of The Geysers, CA",
          0,
          "earthquake",
          ",nearby-cities,origin,phase-data,scitech-link,",
          null,
          1746277639868,
          "https://earthquake.usgs.gov/earthquakes/eventpage/nc75175936"
         ],
         "Feature"
        ],
        [
         [
          [
           -147.4434,
           64.506,
           1.8
          ],
          "Point"
         ],
         "ak0255nmezbo",
         [
          null,
          null,
          "0255nmezbo",
          "https://earthquake.usgs.gov/fdsnws/event/1/query?eventid=ak0255nmezbo&format=geojson",
          null,
          null,
          null,
          ",ak0255nmezbo,",
          1.2,
          "ml",
          null,
          "ak",
          null,
          "25 km SW of Eielson Air Force Base, Alaska",
          0.7,
          22,
          ",ak,",
          "automatic",
          1746275322442,
          "M 1.2 - 25 km SW of Eielson Air Force Base, Alaska",
          0,
          "earthquake",
          ",origin,phase-data,",
          null,
          1746275471358,
          "https://earthquake.usgs.gov/earthquakes/eventpage/ak0255nmezbo"
         ],
         "Feature"
        ],
        [
         [
          [
           -122.815002441406,
           38.8296661376953,
           1.91999995708466
          ],
          "Point"
         ],
         "nc75175931",
         [
          null,
          null,
          "75175931",
          "https://earthquake.usgs.gov/fdsnws/event/1/query?eventid=nc75175931&format=geojson",
          0.007351,
          null,
          44.0,
          ",nc75175931,",
          1.31,
          "md",
          null,
          "nc",
          22,
          "8 km NNW of The Geysers, CA",
          0.01,
          26,
          ",nc,",
          "automatic",
          1746274045200,
          "M 1.3 - 8 km NNW of The Geysers, CA",
          0,
          "earthquake",
          ",nearby-cities,origin,phase-data,scitech-link,",
          null,
          1746276443726,
          "https://earthquake.usgs.gov/earthquakes/eventpage/nc75175931"
         ],
         "Feature"
        ],
        [
         [
          [
           -68.4964,
           -57.0756,
           10.0
          ],
          "Point"
         ],
         "us7000pwvl",
         [
          null,
          null,
          "7000pwvl",
          "https://earthquake.usgs.gov/fdsnws/event/1/query?eventid=us7000pwvl&format=geojson",
          4.194,
          null,
          140.0,
          ",us7000pwvl,",
          4.6,
          "mb",
          null,
          "us",
          30,
          "252 km S of Ushuaia, Argentina",
          1.3,
          326,
          ",us,",
          "reviewed",
          1746273282234,
          "M 4.6 - 252 km S of Ushuaia, Argentina",
          0,
          "earthquake",
          ",origin,phase-data,",
          null,
          1746274703040,
          "https://earthquake.usgs.gov/earthquakes/eventpage/us7000pwvl"
         ],
         "Feature"
        ],
        [
         [
          [
           -66.8405,
           17.9048333333333,
           11.64
          ],
          "Point"
         ],
         "pr71481233",
         [
          null,
          null,
          "71481233",
          "https://earthquake.usgs.gov/fdsnws/event/1/query?eventid=pr71481233&format=geojson",
          0.07222,
          null,
          231.0,
          ",pr71481233,",
          2.56,
          "md",
          null,
          "pr",
          13,
          "9 km SSE of Maria Antonia, Puerto Rico",
          0.07,
          101,
          ",pr,",
          "reviewed",
          1746273254540,
          "M 2.6 - 9 km SSE of Maria Antonia, Puerto Rico",
          0,
          "earthquake",
          ",origin,phase-data,",
          null,
          1746274266370,
          "https://earthquake.usgs.gov/earthquakes/eventpage/pr71481233"
         ],
         "Feature"
        ],
        [
         [
          [
           -115.6071667,
           33.119,
           9.46
          ],
          "Point"
         ],
         "ci41143784",
         [
          null,
          null,
          "41143784",
          "https://earthquake.usgs.gov/fdsnws/event/1/query?eventid=ci41143784&format=geojson",
          0.02276,
          null,
          44.0,
          ",ci41143784,",
          1.29,
          "ml",
          null,
          "ci",
          37,
          "9 km W of Calipatria, CA",
          0.21,
          26,
          ",ci,",
          "automatic",
          1746273124590,
          "M 1.3 - 9 km W of Calipatria, CA",
          0,
          "earthquake",
          ",nearby-cities,origin,phase-data,scitech-link,",
          null,
          1746273337146,
          "https://earthquake.usgs.gov/earthquakes/eventpage/ci41143784"
         ],
         "Feature"
        ],
        [
         [
          [
           -117.8106667,
           35.3533333,
           6.62
          ],
          "Point"
         ],
         "ci41143776",
         [
          null,
          0.0,
          "41143776",
          "https://earthquake.usgs.gov/fdsnws/event/1/query?eventid=ci41143776&format=geojson",
          0.09041,
          1,
          36.0,
          ",ci41143776,",
          1.21,
          "ml",
          null,
          "ci",
          34,
          "16 km W of Johannesburg, CA",
          0.19,
          23,
          ",ci,",
          "reviewed",
          1746272979870,
          "M 1.2 - 16 km W of Johannesburg, CA",
          0,
          "earthquake",
          ",dyfi,nearby-cities,origin,phase-data,scitech-link,",
          null,
          1746370623057,
          "https://earthquake.usgs.gov/earthquakes/eventpage/ci41143776"
         ],
         "Feature"
        ],
        [
         [
          [
           -104.578,
           31.717,
           3.3701
          ],
          "Point"
         ],
         "tx2025iput",
         [
          null,
          null,
          "2025iput",
          "https://earthquake.usgs.gov/fdsnws/event/1/query?eventid=tx2025iput&format=geojson",
          0.1,
          null,
          210.0,
          ",tx2025iput,",
          1.6,
          "ml",
          null,
          "tx",
          8,
          "54 km SSW of Whites City, New Mexico",
          0.2,
          39,
          ",tx,",
          "automatic",
          1746272625551,
          "M 1.6 - 54 km SSW of Whites City, New Mexico",
          0,
          "earthquake",
          ",origin,phase-data,",
          null,
          1746275211403,
          "https://earthquake.usgs.gov/earthquakes/eventpage/tx2025iput"
         ],
         "Feature"
        ],
        [
         [
          [
           -116.724,
           33.9046667,
           15.09
          ],
          "Point"
         ],
         "ci41143768",
         [
          null,
          null,
          "41143768",
          "https://earthquake.usgs.gov/fdsnws/event/1/query?eventid=ci41143768&format=geojson",
          0.09356,
          null,
          53.0,
          ",ci41143768,",
          0.75,
          "ml",
          null,
          "ci",
          29,
          "6 km ESE of Cabazon, CA",
          0.13,
          9,
          ",ci,",
          "automatic",
          1746272522990,
          "M 0.8 - 6 km ESE of Cabazon, CA",
          0,
          "earthquake",
          ",nearby-cities,origin,phase-data,scitech-link,",
          null,
          1746272730623,
          "https://earthquake.usgs.gov/earthquakes/eventpage/ci41143768"
         ],
         "Feature"
        ],
        [
         [
          [
           -68.7381,
           -21.4829,
           123.71
          ],
          "Point"
         ],
         "us7000pwvh",
         [
          null,
          null,
          "7000pwvh",
          "https://earthquake.usgs.gov/fdsnws/event/1/query?eventid=us7000pwvh&format=geojson",
          0.563,
          null,
          122.0,
          ",us7000pwvh,",
          4.2,
          "mb",
          null,
          "us",
          26,
          "57 km WSW of Ollagüe, Chile",
          0.72,
          271,
          ",us,",
          "reviewed",
          1746271901914,
          "M 4.2 - 57 km WSW of Ollagüe, Chile",
          0,
          "earthquake",
          ",origin,phase-data,",
          null,
          1746279614040,
          "https://earthquake.usgs.gov/earthquakes/eventpage/us7000pwvh"
         ],
         "Feature"
        ],
        [
         [
          [
           -122.818336486816,
           38.8103332519531,
           3.16000008583069
          ],
          "Point"
         ],
         "nc75175926",
         [
          null,
          null,
          "75175926",
          "https://earthquake.usgs.gov/fdsnws/event/1/query?eventid=nc75175926&format=geojson",
          0.008596,
          null,
          86.0,
          ",nc75175926,",
          0.54,
          "md",
          null,
          "nc",
          10,
          "7 km NW of The Geysers, CA",
          0.02,
          4,
          ",nc,",
          "automatic",
          1746271898490,
          "M 0.5 - 7 km NW of The Geysers, CA",
          0,
          "earthquake",
          ",nearby-cities,origin,phase-data,scitech-link,",
          null,
          1746275239664,
          "https://earthquake.usgs.gov/earthquakes/eventpage/nc75175926"
         ],
         "Feature"
        ],
        [
         [
          [
           -179.5722,
           -27.7253,
           478.229
          ],
          "Point"
         ],
         "us7000pwvi",
         [
          null,
          null,
          "7000pwvi",
          "https://earthquake.usgs.gov/fdsnws/event/1/query?eventid=us7000pwvi&format=geojson",
          2.094,
          null,
          84.0,
          ",us7000pwvi,",
          4.5,
          "mb",
          null,
          "us",
          33,
          "Kermadec Islands region",
          0.79,
          312,
          ",us,",
          "reviewed",
          1746271818490,
          "M 4.5 - Kermadec Islands region",
          0,
          "earthquake",
          ",origin,phase-data,",
          null,
          1746273398040,
          "https://earthquake.usgs.gov/earthquakes/eventpage/us7000pwvi"
         ],
         "Feature"
        ],
        [
         [
          [
           -104.161,
           31.521,
           3.4859
          ],
          "Point"
         ],
         "tx2025ipuc",
         [
          null,
          null,
          "2025ipuc",
          "https://earthquake.usgs.gov/fdsnws/event/1/query?eventid=tx2025ipuc&format=geojson",
          0.1,
          null,
          74.0,
          ",tx2025ipuc,",
          1.5,
          "ml",
          null,
          "tx",
          17,
          "41 km WNW of Toyah, Texas",
          0.3,
          35,
          ",tx,",
          "automatic",
          1746271423329,
          "M 1.5 - 41 km WNW of Toyah, Texas",
          0,
          "earthquake",
          ",origin,phase-data,",
          null,
          1746271829602,
          "https://earthquake.usgs.gov/earthquakes/eventpage/tx2025ipuc"
         ],
         "Feature"
        ],
        [
         [
          [
           -122.875503540039,
           38.829833984375,
           2.27999997138977
          ],
          "Point"
         ],
         "nc75175921",
         [
          null,
          null,
          "75175921",
          "https://earthquake.usgs.gov/fdsnws/event/1/query?eventid=nc75175921&format=geojson",
          0.01043,
          null,
          160.0,
          ",nc75175921,",
          0.74,
          "md",
          null,
          "nc",
          12,
          "12 km NW of The Geysers, CA",
          0.02,
          8,
          ",nc,",
          "automatic",
          1746271152980,
          "M 0.7 - 12 km NW of The Geysers, CA",
          0,
          "earthquake",
          ",nearby-cities,origin,phase-data,scitech-link,",
          null,
          1746272236243,
          "https://earthquake.usgs.gov/earthquakes/eventpage/nc75175921"
         ],
         "Feature"
        ],
        [
         [
          [
           -122.818832397461,
           38.8153343200684,
           2.74000000953674
          ],
          "Point"
         ],
         "nc75175916",
         [
          null,
          null,
          "75175916",
          "https://earthquake.usgs.gov/fdsnws/event/1/query?eventid=nc75175916&format=geojson",
          0.01035,
          null,
          86.0,
          ",nc75175916,",
          0.79,
          "md",
          null,
          "nc",
          12,
          "7 km NW of The Geysers, CA",
          0.01,
          10,
          ",nc,",
          "automatic",
          1746270436610,
          "M 0.8 - 7 km NW of The Geysers, CA",
          0,
          "earthquake",
          ",nearby-cities,origin,phase-data,scitech-link,",
          null,
          1746271340156,
          "https://earthquake.usgs.gov/earthquakes/eventpage/nc75175916"
         ],
         "Feature"
        ],
        [
         [
          [
           -117.4083333,
           35.9861667,
           1.66
          ],
          "Point"
         ],
         "ci41143744",
         [
          null,
          null,
          "41143744",
          "https://earthquake.usgs.gov/fdsnws/event/1/query?eventid=ci41143744&format=geojson",
          0.139,
          null,
          69.0,
          ",ci41143744,",
          1.91,
          "ml",
          null,
          "ci",
          28,
          "24 km N of Searles Valley, CA",
          0.16,
          56,
          ",ci,",
          "reviewed",
          1746270202310,
          "M 1.9 - 24 km N of Searles Valley, CA",
          0,
          "earthquake",
          ",nearby-cities,origin,phase-data,scitech-link,",
          null,
          1746370702618,
          "https://earthquake.usgs.gov/earthquakes/eventpage/ci41143744"
         ],
         "Feature"
        ],
        [
         [
          [
           -67.2467,
           -57.1941,
           10.0
          ],
          "Point"
         ],
         "us7000pwvf",
         [
          null,
          null,
          "7000pwvf",
          "https://earthquake.usgs.gov/fdsnws/event/1/query?eventid=us7000pwvf&format=geojson",
          4.567,
          null,
          133.0,
          ",us7000pwvf,",
          4.9,
          "mb",
          null,
          "us",
          40,
          "273 km SSE of Ushuaia, Argentina",
          1.04,
          369,
          ",us,",
          "reviewed",
          1746269443557,
          "M 4.9 - 273 km SSE of Ushuaia, Argentina",
          0,
          "earthquake",
          ",origin,phase-data,",
          null,
          1746270471040,
          "https://earthquake.usgs.gov/earthquakes/eventpage/us7000pwvf"
         ],
         "Feature"
        ],
        [
         [
          [
           -122.801498413086,
           38.8158340454102,
           2.34999990463257
          ],
          "Point"
         ],
         "nc75175901",
         [
          null,
          null,
          "75175901",
          "https://earthquake.usgs.gov/fdsnws/event/1/query?eventid=nc75175901&format=geojson",
          0.009226,
          null,
          39.0,
          ",nc75175901,",
          1.31,
          "md",
          null,
          "nc",
          27,
          "6 km NNW of The Geysers, CA",
          0.02,
          26,
          ",nc,",
          "automatic",
          1746269441000,
          "M 1.3 - 6 km NNW of The Geysers, CA",
          0,
          "earthquake",
          ",nearby-cities,origin,phase-data,scitech-link,",
          null,
          1746273137348,
          "https://earthquake.usgs.gov/earthquakes/eventpage/nc75175901"
         ],
         "Feature"
        ],
        [
         [
          [
           -112.529333333333,
           46.8793333333333,
           8.89
          ],
          "Point"
         ],
         "mb90081333",
         [
          null,
          null,
          "90081333",
          "https://earthquake.usgs.gov/fdsnws/event/1/query?eventid=mb90081333&format=geojson",
          0.05356,
          null,
          123.0,
          ",mb90081333,",
          0.83,
          "ml",
          null,
          "mb",
          11,
          "14 km SE of Lincoln, Montana",
          0.09,
          11,
          ",mb,",
          "reviewed",
          1746267931390,
          "M 0.8 - 14 km SE of Lincoln, Montana",
          0,
          "earthquake",
          ",origin,phase-data,",
          null,
          1746281471390,
          "https://earthquake.usgs.gov/earthquakes/eventpage/mb90081333"
         ],
         "Feature"
        ],
        [
         [
          [
           -152.1449,
           60.279,
           89.6
          ],
          "Point"
         ],
         "ak0255nl6mzx",
         [
          null,
          null,
          "0255nl6mzx",
          "https://earthquake.usgs.gov/fdsnws/event/1/query?eventid=ak0255nl6mzx&format=geojson",
          null,
          null,
          null,
          ",ak0255nl6mzx,",
          1.7,
          "ml",
          null,
          "ak",
          null,
          "36 km NW of Ninilchik, Alaska",
          0.57,
          44,
          ",ak,",
          "automatic",
          1746267714052,
          "M 1.7 - 36 km NW of Ninilchik, Alaska",
          0,
          "earthquake",
          ",origin,phase-data,",
          null,
          1746267835243,
          "https://earthquake.usgs.gov/earthquakes/eventpage/ak0255nl6mzx"
         ],
         "Feature"
        ],
        [
         [
          [
           -178.3288,
           52.2898,
           204.765
          ],
          "Point"
         ],
         "us7000pwv9",
         [
          null,
          null,
          "7000pwv9",
          "https://earthquake.usgs.gov/fdsnws/event/1/query?eventid=us7000pwv9&format=geojson",
          0.849,
          null,
          249.0,
          ",ak0255nl3lxy,us7000pwv9,",
          4.1,
          "mb",
          2.341,
          "us",
          84,
          "125 km WNW of Adak, Alaska",
          0.7,
          259,
          ",ak,us,",
          "reviewed",
          1746266855322,
          "M 4.1 - 125 km WNW of Adak, Alaska",
          0,
          "earthquake",
          ",origin,phase-data,shakemap,",
          null,
          1746305016304,
          "https://earthquake.usgs.gov/earthquakes/eventpage/us7000pwv9"
         ],
         "Feature"
        ],
        [
         [
          [
           178.8832,
           51.6216,
           68.6
          ],
          "Point"
         ],
         "ak0255nl3fj8",
         [
          null,
          null,
          "0255nl3fj8",
          "https://earthquake.usgs.gov/fdsnws/event/1/query?eventid=ak0255nl3fj8&format=geojson",
          null,
          null,
          null,
          ",ak0255nl3fj8,",
          3.6,
          "ml",
          2.223,
          "ak",
          null,
          "Rat Islands, Aleutian Islands, Alaska",
          0.34,
          199,
          ",ak,",
          "reviewed",
          1746266818336,
          "M 3.6 - Rat Islands, Aleutian Islands, Alaska",
          0,
          "earthquake",
          ",origin,phase-data,shakemap,",
          null,
          1746304301973,
          "https://earthquake.usgs.gov/earthquakes/eventpage/ak0255nl3fj8"
         ],
         "Feature"
        ],
        [
         [
          [
           -123.540496826172,
           39.1590003967285,
           2.4300000667572
          ],
          "Point"
         ],
         "nc75175876",
         [
          null,
          null,
          "75175876",
          "https://earthquake.usgs.gov/fdsnws/event/1/query?eventid=nc75175876&format=geojson",
          0.06208,
          null,
          50.0,
          ",nc75175876,",
          1.74,
          "md",
          null,
          "nc",
          12,
          "20 km ESE of Navarro Head, CA",
          0.05,
          47,
          ",nc,",
          "automatic",
          1746266805210,
          "M 1.7 - 20 km ESE of Navarro Head, CA",
          0,
          "earthquake",
          ",nearby-cities,origin,phase-data,scitech-link,",
          null,
          1746270439060,
          "https://earthquake.usgs.gov/earthquakes/eventpage/nc75175876"
         ],
         "Feature"
        ],
        [
         [
          [
           -67.7044,
           -57.0849,
           10.0
          ],
          "Point"
         ],
         "us7000pwvb",
         [
          null,
          null,
          "7000pwvb",
          "https://earthquake.usgs.gov/fdsnws/event/1/query?eventid=us7000pwvb&format=geojson",
          4.382,
          null,
          145.0,
          ",us7000pwvb,",
          5.0,
          "mb",
          null,
          "us",
          43,
          "256 km S of Ushuaia, Argentina",
          1.08,
          385,
          ",us,",
          "reviewed",
          1746266793184,
          "M 5.0 - 256 km S of Ushuaia, Argentina",
          0,
          "earthquake",
          ",origin,phase-data,",
          null,
          1746267781040,
          "https://earthquake.usgs.gov/earthquakes/eventpage/us7000pwvb"
         ],
         "Feature"
        ],
        [
         [
          [
           -116.6408333,
           33.5963333,
           15.86
          ],
          "Point"
         ],
         "ci41143736",
         [
          null,
          null,
          "41143736",
          "https://earthquake.usgs.gov/fdsnws/event/1/query?eventid=ci41143736&format=geojson",
          0.0308,
          null,
          118.0,
          ",ci41143736,",
          0.69,
          "ml",
          null,
          "ci",
          17,
          "6 km NNE of Anza, CA",
          0.13,
          7,
          ",ci,",
          "automatic",
          1746266707560,
          "M 0.7 - 6 km NNE of Anza, CA",
          0,
          "earthquake",
          ",nearby-cities,origin,phase-data,scitech-link,",
          null,
          1746266919660,
          "https://earthquake.usgs.gov/earthquakes/eventpage/ci41143736"
         ],
         "Feature"
        ],
        [
         [
          [
           -116.8168333,
           33.698,
           15.66
          ],
          "Point"
         ],
         "ci41143728",
         [
          null,
          null,
          "41143728",
          "https://earthquake.usgs.gov/fdsnws/event/1/query?eventid=ci41143728&format=geojson",
          0.07257,
          null,
          34.0,
          ",ci41143728,",
          1.01,
          "ml",
          null,
          "ci",
          48,
          "9 km SE of Valle Vista, CA",
          0.19,
          16,
          ",ci,",
          "reviewed",
          1746266238540,
          "M 1.0 - 9 km SE of Valle Vista, CA",
          0,
          "earthquake",
          ",focal-mechanism,nearby-cities,origin,phase-data,scitech-link,",
          null,
          1746370761320,
          "https://earthquake.usgs.gov/earthquakes/eventpage/ci41143728"
         ],
         "Feature"
        ],
        [
         [
          [
           -173.0797,
           52.9492,
           193.934
          ],
          "Point"
         ],
         "us7000pwv8",
         [
          null,
          null,
          "7000pwv8",
          "https://earthquake.usgs.gov/fdsnws/event/1/query?eventid=us7000pwv8&format=geojson",
          1.013,
          null,
          134.0,
          ",us7000pwv8,",
          4.0,
          "mb",
          null,
          "us",
          75,
          "113 km NE of Atka, Alaska",
          0.8,
          246,
          ",us,",
          "reviewed",
          1746264917473,
          "M 4.0 - 113 km NE of Atka, Alaska",
          0,
          "earthquake",
          ",origin,phase-data,",
          null,
          1746268568040,
          "https://earthquake.usgs.gov/earthquakes/eventpage/us7000pwv8"
         ],
         "Feature"
        ],
        [
         [
          [
           -122.810668945312,
           38.7986679077148,
           3.25999999046326
          ],
          "Point"
         ],
         "nc75175861",
         [
          null,
          null,
          "75175861",
          "https://earthquake.usgs.gov/fdsnws/event/1/query?eventid=nc75175861&format=geojson",
          0.01191,
          null,
          70.0,
          ",nc75175861,",
          1.32,
          "md",
          null,
          "nc",
          29,
          "5 km NW of The Geysers, CA",
          0.02,
          27,
          ",nc,",
          "automatic",
          1746264906570,
          "M 1.3 - 5 km NW of The Geysers, CA",
          0,
          "earthquake",
          ",nearby-cities,origin,phase-data,scitech-link,",
          null,
          1746269536955,
          "https://earthquake.usgs.gov/earthquakes/eventpage/nc75175861"
         ],
         "Feature"
        ],
        [
         [
          [
           -122.728332519531,
           38.7630004882812,
           1.76999998092651
          ],
          "Point"
         ],
         "nc75175856",
         [
          null,
          null,
          "75175856",
          "https://earthquake.usgs.gov/fdsnws/event/1/query?eventid=nc75175856&format=geojson",
          0.003056,
          null,
          94.0,
          ",nc75175856,",
          0.76,
          "md",
          null,
          "nc",
          7,
          "3 km SE of The Geysers, CA",
          0.02,
          9,
          ",nc,",
          "automatic",
          1746264891770,
          "M 0.8 - 3 km SE of The Geysers, CA",
          0,
          "earthquake",
          ",nearby-cities,origin,phase-data,scitech-link,",
          null,
          1746268336822,
          "https://earthquake.usgs.gov/earthquakes/eventpage/nc75175856"
         ],
         "Feature"
        ],
        [
         [
          [
           -122.729164123535,
           38.7620010375977,
           2.21000003814697
          ],
          "Point"
         ],
         "nc75175851",
         [
          null,
          null,
          "75175851",
          "https://earthquake.usgs.gov/fdsnws/event/1/query?eventid=nc75175851&format=geojson",
          0.003389,
          null,
          107.0,
          ",nc75175851,",
          1.37,
          "md",
          null,
          "nc",
          22,
          "3 km SE of The Geysers, CA",
          0.04,
          29,
          ",nc,",
          "automatic",
          1746264877990,
          "M 1.4 - 3 km SE of The Geysers, CA",
          0,
          "earthquake",
          ",nearby-cities,origin,phase-data,scitech-link,",
          null,
          1746266838740,
          "https://earthquake.usgs.gov/earthquakes/eventpage/nc75175851"
         ],
         "Feature"
        ],
        [
         [
          [
           -150.5113,
           64.5572,
           17.3
          ],
          "Point"
         ],
         "ak0255nklzre",
         [
          null,
          null,
          "0255nklzre",
          "https://earthquake.usgs.gov/fdsnws/event/1/query?eventid=ak0255nklzre&format=geojson",
          null,
          null,
          null,
          ",ak0255nklzre,",
          1.2,
          "ml",
          null,
          "ak",
          null,
          "49 km S of Manley Hot Springs, Alaska",
          0.56,
          22,
          ",ak,",
          "automatic",
          1746264321707,
          "M 1.2 - 49 km S of Manley Hot Springs, Alaska",
          0,
          "earthquake",
          ",origin,phase-data,",
          null,
          1746264429559,
          "https://earthquake.usgs.gov/earthquakes/eventpage/ak0255nklzre"
         ],
         "Feature"
        ],
        [
         [
          [
           -117.8041667,
           35.3531667,
           8.17
          ],
          "Point"
         ],
         "ci41143720",
         [
          null,
          null,
          "41143720",
          "https://earthquake.usgs.gov/fdsnws/event/1/query?eventid=ci41143720&format=geojson",
          0.09208,
          null,
          94.0,
          ",ci41143720,",
          0.83,
          "ml",
          null,
          "ci",
          25,
          "16 km W of Johannesburg, CA",
          0.14,
          11,
          ",ci,",
          "reviewed",
          1746264201590,
          "M 0.8 - 16 km W of Johannesburg, CA",
          0,
          "earthquake",
          ",nearby-cities,origin,phase-data,scitech-link,",
          null,
          1746370737228,
          "https://earthquake.usgs.gov/earthquakes/eventpage/ci41143720"
         ],
         "Feature"
        ],
        [
         [
          [
           -122.814834594727,
           38.8318328857422,
           1.60000002384186
          ],
          "Point"
         ],
         "nc75175841",
         [
          null,
          null,
          "75175841",
          "https://earthquake.usgs.gov/fdsnws/event/1/query?eventid=nc75175841&format=geojson",
          0.00921,
          null,
          44.0,
          ",nc75175841,",
          1.37,
          "md",
          null,
          "nc",
          23,
          "8 km NNW of The Geysers, CA",
          0.01,
          29,
          ",nc,",
          "automatic",
          1746263013500,
          "M 1.4 - 8 km NNW of The Geysers, CA",
          0,
          "earthquake",
          ",nearby-cities,origin,phase-data,scitech-link,",
          null,
          1746265638601,
          "https://earthquake.usgs.gov/earthquakes/eventpage/nc75175841"
         ],
         "Feature"
        ],
        [
         [
          [
           -122.715667724609,
           38.7605018615723,
           1.38999998569489
          ],
          "Point"
         ],
         "nc75175836",
         [
          null,
          null,
          "75175836",
          "https://earthquake.usgs.gov/fdsnws/event/1/query?eventid=nc75175836&format=geojson",
          0.00727,
          null,
          117.0,
          ",nc75175836,",
          1.13,
          "md",
          null,
          "nc",
          7,
          "3 km WSW of Anderson Springs, CA",
          0.01,
          20,
          ",nc,",
          "automatic",
          1746262662010,
          "M 1.1 - 3 km WSW of Anderson Springs, CA",
          0,
          "earthquake",
          ",nearby-cities,origin,phase-data,scitech-link,",
          null,
          1746264438382,
          "https://earthquake.usgs.gov/earthquakes/eventpage/nc75175836"
         ],
         "Feature"
        ],
        [
         [
          [
           -121.7975,
           47.60883333333334,
           16.74
          ],
          "Point"
         ],
         "uw62092257",
         [
          null,
          1.0,
          "62092257",
          "https://earthquake.usgs.gov/fdsnws/event/1/query?eventid=uw62092257&format=geojson",
          0.1065,
          1,
          77.0,
          ",uw62092257,",
          1.79,
          "ml",
          null,
          "uw",
          48,
          "8 km NE of Fall City, Washington",
          0.16,
          49,
          ",uw,",
          "reviewed",
          1746262489300,
          "M 1.8 - 8 km NE of Fall City, Washington",
          0,
          "earthquake",
          ",dyfi,origin,phase-data,",
          null,
          1746333800255,
          "https://earthquake.usgs.gov/earthquakes/eventpage/uw62092257"
         ],
         "Feature"
        ],
        [
         [
          [
           -119.4608,
           39.8242,
           9.9
          ],
          "Point"
         ],
         "nn00897168",
         [
          null,
          null,
          "00897168",
          "https://earthquake.usgs.gov/fdsnws/event/1/query?eventid=nn00897168&format=geojson",
          0.304,
          null,
          121.67000000000002,
          ",nn00897168,",
          1.2,
          "ml",
          null,
          "nn",
          10,
          "8 km W of Nixon, Nevada",
          0.1557,
          22,
          ",nn,",
          "automatic",
          1746260793535,
          "M 1.2 - 8 km W of Nixon, Nevada",
          0,
          "earthquake",
          ",origin,phase-data,",
          null,
          1746260923492,
          "https://earthquake.usgs.gov/earthquakes/eventpage/nn00897168"
         ],
         "Feature"
        ],
        [
         [
          [
           -119.4674,
           39.8262,
           10.7
          ],
          "Point"
         ],
         "nn00897166",
         [
          null,
          null,
          "00897166",
          "https://earthquake.usgs.gov/fdsnws/event/1/query?eventid=nn00897166&format=geojson",
          0.299,
          null,
          121.30000000000001,
          ",nn00897166,",
          1.3,
          "ml",
          null,
          "nn",
          10,
          "9 km W of Nixon, Nevada",
          0.192,
          26,
          ",nn,",
          "automatic",
          1746260135418,
          "M 1.3 - 9 km W of Nixon, Nevada",
          0,
          "earthquake",
          ",origin,phase-data,",
          null,
          1746260263542,
          "https://earthquake.usgs.gov/earthquakes/eventpage/nn00897166"
         ],
         "Feature"
        ],
        [
         [
          [
           -119.0529,
           39.1498,
           8.9
          ],
          "Point"
         ],
         "nn00897164",
         [
          null,
          null,
          "00897164",
          "https://earthquake.usgs.gov/fdsnws/event/1/query?eventid=nn00897164&format=geojson",
          0.022,
          null,
          117.48,
          ",nn00897164,",
          1.0,
          "ml",
          null,
          "nn",
          11,
          "20 km NNE of Yerington, Nevada",
          0.1318,
          15,
          ",nn,",
          "automatic",
          1746259929892,
          "M 1.0 - 20 km NNE of Yerington, Nevada",
          0,
          "earthquake",
          ",origin,phase-data,",
          null,
          1746260063905,
          "https://earthquake.usgs.gov/earthquakes/eventpage/nn00897164"
         ],
         "Feature"
        ],
        [
         [
          [
           -119.0572,
           39.1397,
           6.4
          ],
          "Point"
         ],
         "nn00897163",
         [
          null,
          null,
          "00897163",
          "https://earthquake.usgs.gov/fdsnws/event/1/query?eventid=nn00897163&format=geojson",
          0.032,
          null,
          119.18,
          ",nn00897163,",
          0.9,
          "ml",
          null,
          "nn",
          10,
          "19 km NNE of Yerington, Nevada",
          0.1613,
          12,
          ",nn,",
          "automatic",
          1746259879999,
          "M 0.9 - 19 km NNE of Yerington, Nevada",
          0,
          "earthquake",
          ",origin,phase-data,",
          null,
          1746260013331,
          "https://earthquake.usgs.gov/earthquakes/eventpage/nn00897163"
         ],
         "Feature"
        ],
        [
         [
          [
           -115.8505,
           32.6748333,
           8.84
          ],
          "Point"
         ],
         "ci41143696",
         [
          null,
          null,
          "41143696",
          "https://earthquake.usgs.gov/fdsnws/event/1/query?eventid=ci41143696&format=geojson",
          0.06638,
          null,
          48.0,
          ",ci41143696,",
          1.45,
          "ml",
          null,
          "ci",
          38,
          "15 km ESE of Ocotillo, CA",
          0.18,
          32,
          ",ci,",
          "reviewed",
          1746259741710,
          "M 1.5 - 15 km ESE of Ocotillo, CA",
          0,
          "earthquake",
          ",focal-mechanism,nearby-cities,origin,phase-data,scitech-link,",
          null,
          1746370824280,
          "https://earthquake.usgs.gov/earthquakes/eventpage/ci41143696"
         ],
         "Feature"
        ],
        [
         [
          [
           81.8832,
           33.5302,
           10.0
          ],
          "Point"
         ],
         "us7000pwux",
         [
          null,
          null,
          "7000pwux",
          "https://earthquake.usgs.gov/fdsnws/event/1/query?eventid=us7000pwux&format=geojson",
          7.906,
          null,
          159.0,
          ",us7000pwux,",
          4.4,
          "mb",
          null,
          "us",
          42,
          "western Xizang",
          0.65,
          298,
          ",us,",
          "reviewed",
          1746258847734,
          "M 4.4 - western Xizang",
          0,
          "earthquake",
          ",origin,phase-data,",
          null,
          1746260373040,
          "https://earthquake.usgs.gov/earthquakes/eventpage/us7000pwux"
         ],
         "Feature"
        ],
        [
         [
          [
           -104.35,
           31.656,
           4.0103
          ],
          "Point"
         ],
         "tx2025ipna",
         [
          null,
          null,
          "2025ipna",
          "https://earthquake.usgs.gov/fdsnws/event/1/query?eventid=tx2025ipna&format=geojson",
          0.1,
          null,
          127.0,
          ",tx2025ipna,",
          1.6,
          "ml",
          null,
          "tx",
          17,
          "57 km S of Whites City, New Mexico",
          0.3,
          39,
          ",tx,",
          "automatic",
          1746258680761,
          "M 1.6 - 57 km S of Whites City, New Mexico",
          0,
          "earthquake",
          ",origin,phase-data,",
          null,
          1746259465072,
          "https://earthquake.usgs.gov/earthquakes/eventpage/tx2025ipna"
         ],
         "Feature"
        ],
        [
         [
          [
           70.8337,
           36.6747,
           218.701
          ],
          "Point"
         ],
         "us7000pwuv",
         [
          null,
          null,
          "7000pwuv",
          "https://earthquake.usgs.gov/fdsnws/event/1/query?eventid=us7000pwuv&format=geojson",
          2.097,
          null,
          155.0,
          ",us7000pwuv,",
          4.0,
          "mb",
          null,
          "us",
          28,
          "21 km S of Jurm, Afghanistan",
          0.63,
          246,
          ",us,",
          "reviewed",
          1746258635082,
          "M 4.0 - 21 km S of Jurm, Afghanistan",
          0,
          "earthquake",
          ",origin,phase-data,",
          null,
          1746260133040,
          "https://earthquake.usgs.gov/earthquakes/eventpage/us7000pwuv"
         ],
         "Feature"
        ],
        [
         [
          [
           -67.0685,
           -57.0831,
           10.0
          ],
          "Point"
         ],
         "us7000pwuu",
         [
          null,
          null,
          "7000pwuu",
          "https://earthquake.usgs.gov/fdsnws/event/1/query?eventid=us7000pwuu&format=geojson",
          4.487,
          null,
          163.0,
          ",us7000pwuu,",
          4.9,
          "mb",
          null,
          "us",
          46,
          "264 km SSE of Ushuaia, Argentina",
          0.54,
          369,
          ",us,",
          "reviewed",
          1746258484521,
          "M 4.9 - 264 km SSE of Ushuaia, Argentina",
          0,
          "earthquake",
          ",origin,phase-data,",
          null,
          1746259414040,
          "https://earthquake.usgs.gov/earthquakes/eventpage/us7000pwuu"
         ],
         "Feature"
        ],
        [
         [
          [
           -121.9205,
           46.828,
           11.18
          ],
          "Point"
         ],
         "uw62092242",
         [
          null,
          null,
          "62092242",
          "https://earthquake.usgs.gov/fdsnws/event/1/query?eventid=uw62092242&format=geojson",
          0.02382,
          null,
          38.0,
          ",uw62092242,",
          0.91,
          "ml",
          null,
          "uw",
          35,
          "11 km NE of Ashford, Washington",
          0.1,
          13,
          ",uw,",
          "reviewed",
          1746257773240,
          "M 0.9 - 11 km NE of Ashford, Washington",
          0,
          "earthquake",
          ",origin,phase-data,",
          null,
          1746338804870,
          "https://earthquake.usgs.gov/earthquakes/eventpage/uw62092242"
         ],
         "Feature"
        ],
        [
         [
          [
           -89.5521666666667,
           36.4913333333333,
           8.24
          ],
          "Point"
         ],
         "nm60605461",
         [
          null,
          2.2,
          "60605461",
          "https://earthquake.usgs.gov/fdsnws/event/1/query?eventid=nm60605461&format=geojson",
          0.04827,
          1,
          45.0,
          ",nm60605461,",
          2.39,
          "md",
          null,
          "nm",
          28,
          "6 km ESE of Marston, Missouri",
          0.06,
          88,
          ",nm,",
          "reviewed",
          1746257579520,
          "M 2.4 - 6 km ESE of Marston, Missouri",
          0,
          "earthquake",
          ",dyfi,origin,phase-data,",
          null,
          1746290836783,
          "https://earthquake.usgs.gov/earthquakes/eventpage/nm60605461"
         ],
         "Feature"
        ],
        [
         [
          [
           -66.8052,
           -57.2341,
           10.0
          ],
          "Point"
         ],
         "us7000pwuw",
         [
          null,
          null,
          "7000pwuw",
          "https://earthquake.usgs.gov/fdsnws/event/1/query?eventid=us7000pwuw&format=geojson",
          4.675,
          null,
          131.0,
          ",us7000pwuw,",
          4.7,
          "mb",
          null,
          "us",
          32,
          "285 km SSE of Ushuaia, Argentina",
          0.55,
          340,
          ",us,",
          "reviewed",
          1746256693011,
          "M 4.7 - 285 km SSE of Ushuaia, Argentina",
          0,
          "earthquake",
          ",origin,phase-data,",
          null,
          1746259967040,
          "https://earthquake.usgs.gov/earthquakes/eventpage/us7000pwuw"
         ],
         "Feature"
        ],
        [
         [
          [
           -122.770835876465,
           38.7879981994629,
           0.980000019073486
          ],
          "Point"
         ],
         "nc75175806",
         [
          null,
          null,
          "75175806",
          "https://earthquake.usgs.gov/fdsnws/event/1/query?eventid=nc75175806&format=geojson",
          0.01432,
          null,
          81.0,
          ",nc75175806,",
          1.54,
          "md",
          null,
          "nc",
          33,
          "2 km NW of The Geysers, CA",
          0.06,
          36,
          ",nc,",
          "automatic",
          1746256670760,
          "M 1.5 - 2 km NW of The Geysers, CA",
          0,
          "earthquake",
          ",nearby-cities,origin,phase-data,scitech-link,",
          null,
          1746259637857,
          "https://earthquake.usgs.gov/earthquakes/eventpage/nc75175806"
         ],
         "Feature"
        ],
        [
         [
          [
           -147.2872,
           61.3065,
           14.5
          ],
          "Point"
         ],
         "ak0255njclrv",
         [
          null,
          null,
          "0255njclrv",
          "https://earthquake.usgs.gov/fdsnws/event/1/query?eventid=ak0255njclrv&format=geojson",
          null,
          null,
          null,
          ",ak0255njclrv,",
          1.6,
          "ml",
          null,
          "ak",
          null,
          "54 km WNW of Valdez, Alaska",
          0.71,
          39,
          ",ak,",
          "automatic",
          1746256425233,
          "M 1.6 - 54 km WNW of Valdez, Alaska",
          0,
          "earthquake",
          ",origin,phase-data,",
          null,
          1746256539426,
          "https://earthquake.usgs.gov/earthquakes/eventpage/ak0255njclrv"
         ],
         "Feature"
        ],
        [
         [
          [
           -116.7186667,
           33.5325,
           5.83
          ],
          "Point"
         ],
         "ci41143680",
         [
          null,
          null,
          "41143680",
          "https://earthquake.usgs.gov/fdsnws/event/1/query?eventid=ci41143680&format=geojson",
          0.03632,
          null,
          28.0,
          ",ci41143680,",
          0.75,
          "ml",
          null,
          "ci",
          32,
          "5 km WSW of Anza, CA",
          0.14,
          9,
          ",ci,",
          "reviewed",
          1746255793850,
          "M 0.8 - 5 km WSW of Anza, CA",
          0,
          "earthquake",
          ",focal-mechanism,nearby-cities,origin,phase-data,scitech-link,",
          null,
          1746370827060,
          "https://earthquake.usgs.gov/earthquakes/eventpage/ci41143680"
         ],
         "Feature"
        ],
        [
         [
          [
           -153.5873,
           58.3246,
           56.9
          ],
          "Point"
         ],
         "ak0255niw2pb",
         [
          null,
          null,
          "0255niw2pb",
          "https://earthquake.usgs.gov/fdsnws/event/1/query?eventid=ak0255niw2pb&format=geojson",
          null,
          null,
          null,
          ",ak0255niw2pb,",
          1.6,
          "ml",
          null,
          "ak",
          null,
          "49 km NW of Aleneva, Alaska",
          0.16,
          39,
          ",ak,",
          "automatic",
          1746254193112,
          "M 1.6 - 49 km NW of Aleneva, Alaska",
          0,
          "earthquake",
          ",origin,phase-data,",
          null,
          1746254334183,
          "https://earthquake.usgs.gov/earthquakes/eventpage/ak0255niw2pb"
         ],
         "Feature"
        ],
        [
         [
          [
           -122.816665649414,
           38.8305015563965,
           1.88999998569489
          ],
          "Point"
         ],
         "nc75175796",
         [
          null,
          null,
          "75175796",
          "https://earthquake.usgs.gov/fdsnws/event/1/query?eventid=nc75175796&format=geojson",
          0.01613,
          null,
          80.0,
          ",nc75175796,",
          0.72,
          "md",
          null,
          "nc",
          10,
          "8 km NNW of The Geysers, CA",
          0.01,
          8,
          ",nc,",
          "automatic",
          1746254184140,
          "M 0.7 - 8 km NNW of The Geysers, CA",
          0,
          "earthquake",
          ",nearby-cities,origin,phase-data,scitech-link,",
          null,
          1746254845442,
          "https://earthquake.usgs.gov/earthquakes/eventpage/nc75175796"
         ],
         "Feature"
        ],
        [
         [
          [
           -119.0542,
           39.0914,
           9.8
          ],
          "Point"
         ],
         "nn00897162",
         [
          null,
          null,
          "00897162",
          "https://earthquake.usgs.gov/fdsnws/event/1/query?eventid=nn00897162&format=geojson",
          0.078,
          null,
          110.97999999999999,
          ",nn00897162,",
          1.2,
          "ml",
          null,
          "nn",
          9,
          "15 km NE of Yerington, Nevada",
          0.1339,
          22,
          ",nn,",
          "automatic",
          1746252699141,
          "M 1.2 - 15 km NE of Yerington, Nevada",
          0,
          "earthquake",
          ",origin,phase-data,",
          null,
          1746252833433,
          "https://earthquake.usgs.gov/earthquakes/eventpage/nn00897162"
         ],
         "Feature"
        ],
        [
         [
          [
           -116.4676667,
           33.0011667,
           9.16
          ],
          "Point"
         ],
         "ci41143672",
         [
          null,
          null,
          "41143672",
          "https://earthquake.usgs.gov/fdsnws/event/1/query?eventid=ci41143672&format=geojson",
          0.05616,
          null,
          62.0,
          ",ci41143672,",
          0.72,
          "ml",
          null,
          "ci",
          32,
          "15 km SE of Julian, CA",
          0.14,
          8,
          ",ci,",
          "reviewed",
          1746251981470,
          "M 0.7 - 15 km SE of Julian, CA",
          0,
          "earthquake",
          ",nearby-cities,origin,phase-data,scitech-link,",
          null,
          1746370762623,
          "https://earthquake.usgs.gov/earthquakes/eventpage/ci41143672"
         ],
         "Feature"
        ],
        [
         [
          [
           -122.823501586914,
           38.8408317565918,
           1.6599999666214
          ],
          "Point"
         ],
         "nc75175781",
         [
          null,
          null,
          "75175781",
          "https://earthquake.usgs.gov/fdsnws/event/1/query?eventid=nc75175781&format=geojson",
          0.009624,
          null,
          66.0,
          ",nc75175781,",
          0.98,
          "md",
          null,
          "nc",
          19,
          "9 km WNW of Cobb, CA",
          0.03,
          15,
          ",nc,",
          "automatic",
          1746251760300,
          "M 1.0 - 9 km WNW of Cobb, CA",
          0,
          "earthquake",
          ",nearby-cities,origin,phase-data,scitech-link,",
          null,
          1746252735149,
          "https://earthquake.usgs.gov/earthquakes/eventpage/nc75175781"
         ],
         "Feature"
        ],
        [
         [
          [
           -117.8043333,
           35.3555,
           7.04
          ],
          "Point"
         ],
         "ci41143664",
         [
          null,
          null,
          "41143664",
          "https://earthquake.usgs.gov/fdsnws/event/1/query?eventid=ci41143664&format=geojson",
          0.0942,
          null,
          37.0,
          ",ci41143664,",
          1.35,
          "ml",
          null,
          "ci",
          37,
          "16 km W of Johannesburg, CA",
          0.19,
          28,
          ",ci,",
          "reviewed",
          1746251607860,
          "M 1.4 - 16 km W of Johannesburg, CA",
          0,
          "earthquake",
          ",nearby-cities,origin,phase-data,scitech-link,",
          null,
          1746370828625,
          "https://earthquake.usgs.gov/earthquakes/eventpage/ci41143664"
         ],
         "Feature"
        ],
        [
         [
          [
           -122.821334838867,
           38.8178329467773,
           2.26999998092651
          ],
          "Point"
         ],
         "nc75175776",
         [
          null,
          null,
          "75175776",
          "https://earthquake.usgs.gov/fdsnws/event/1/query?eventid=nc75175776&format=geojson",
          0.0104,
          null,
          61.0,
          ",nc75175776,",
          1.12,
          "md",
          null,
          "nc",
          23,
          "7 km NW of The Geysers, CA",
          0.02,
          19,
          ",nc,",
          "automatic",
          1746251401060,
          "M 1.1 - 7 km NW of The Geysers, CA",
          0,
          "earthquake",
          ",nearby-cities,origin,phase-data,scitech-link,",
          null,
          1746257237613,
          "https://earthquake.usgs.gov/earthquakes/eventpage/nc75175776"
         ],
         "Feature"
        ],
        [
         [
          [
           -122.738670349121,
           38.7931671142578,
           1.11000001430511
          ],
          "Point"
         ],
         "nc75175771",
         [
          null,
          null,
          "75175771",
          "https://earthquake.usgs.gov/fdsnws/event/1/query?eventid=nc75175771&format=geojson",
          0.01003,
          null,
          94.0,
          ",nc75175771,",
          1.1,
          "md",
          null,
          "nc",
          13,
          "2 km NE of The Geysers, CA",
          0.03,
          19,
          ",nc,",
          "automatic",
          1746250891820,
          "M 1.1 - 2 km NE of The Geysers, CA",
          0,
          "earthquake",
          ",nearby-cities,origin,phase-data,scitech-link,",
          null,
          1746256037481,
          "https://earthquake.usgs.gov/earthquakes/eventpage/nc75175771"
         ],
         "Feature"
        ],
        [
         [
          [
           -152.3823,
           59.4986,
           80.9
          ],
          "Point"
         ],
         "ak0255nibp6o",
         [
          null,
          null,
          "0255nibp6o",
          "https://earthquake.usgs.gov/fdsnws/event/1/query?eventid=ak0255nibp6o&format=geojson",
          null,
          null,
          null,
          ",ak0255nibp6o,",
          2.1,
          "ml",
          null,
          "ak",
          null,
          "30 km WNW of Nanwalek, Alaska",
          0.37,
          68,
          ",ak,",
          "automatic",
          1746250886727,
          "M 2.1 - 30 km WNW of Nanwalek, Alaska",
          0,
          "earthquake",
          ",origin,phase-data,",
          null,
          1746251035736,
          "https://earthquake.usgs.gov/earthquakes/eventpage/ak0255nibp6o"
         ],
         "Feature"
        ],
        [
         [
          [
           -122.739501953125,
           38.7938346862793,
           1.13999998569489
          ],
          "Point"
         ],
         "nc75175766",
         [
          null,
          null,
          "75175766",
          "https://earthquake.usgs.gov/fdsnws/event/1/query?eventid=nc75175766&format=geojson",
          0.0108,
          null,
          95.0,
          ",nc75175766,",
          1.4,
          "md",
          null,
          "nc",
          19,
          "2 km NE of The Geysers, CA",
          0.02,
          30,
          ",nc,",
          "automatic",
          1746250853120,
          "M 1.4 - 2 km NE of The Geysers, CA",
          0,
          "earthquake",
          ",nearby-cities,origin,phase-data,scitech-link,",
          null,
          1746255140384,
          "https://earthquake.usgs.gov/earthquakes/eventpage/nc75175766"
         ],
         "Feature"
        ],
        [
         [
          [
           -150.5123,
           61.1995,
           42.1
          ],
          "Point"
         ],
         "ak0255ni8nia",
         [
          null,
          null,
          "0255ni8nia",
          "https://earthquake.usgs.gov/fdsnws/event/1/query?eventid=ak0255ni8nia&format=geojson",
          null,
          null,
          null,
          ",ak0255ni8nia,",
          1.8,
          "ml",
          null,
          "ak",
          null,
          "31 km ENE of Beluga, Alaska",
          0.29,
          50,
          ",ak,",
          "automatic",
          1746250025300,
          "M 1.8 - 31 km ENE of Beluga, Alaska",
          0,
          "earthquake",
          ",origin,phase-data,",
          null,
          1746250122401,
          "https://earthquake.usgs.gov/earthquakes/eventpage/ak0255ni8nia"
         ],
         "Feature"
        ],
        [
         [
          [
           -122.757499694824,
           38.7818336486816,
           2.4300000667572
          ],
          "Point"
         ],
         "nc75175761",
         [
          null,
          null,
          "75175761",
          "https://earthquake.usgs.gov/fdsnws/event/1/query?eventid=nc75175761&format=geojson",
          0.01283,
          null,
          117.0,
          ",nc75175761,",
          0.45,
          "md",
          null,
          "nc",
          8,
          "1 km N of The Geysers, CA",
          0.05,
          3,
          ",nc,",
          "automatic",
          1746249554580,
          "M 0.5 - 1 km N of The Geysers, CA",
          0,
          "earthquake",
          ",nearby-cities,origin,phase-data,scitech-link,",
          null,
          1746253039187,
          "https://earthquake.usgs.gov/earthquakes/eventpage/nc75175761"
         ],
         "Feature"
        ],
        [
         [
          [
           -150.7248,
           63.0023,
           93.1
          ],
          "Point"
         ],
         "ak0255ni6e8x",
         [
          null,
          null,
          "0255ni6e8x",
          "https://earthquake.usgs.gov/fdsnws/event/1/query?eventid=ak0255ni6e8x&format=geojson",
          null,
          null,
          null,
          ",ak0255ni6e8x,",
          1.5,
          "ml",
          null,
          "ak",
          null,
          "56 km N of Petersville, Alaska",
          0.45,
          35,
          ",ak,",
          "automatic",
          1746249412170,
          "M 1.5 - 56 km N of Petersville, Alaska",
          0,
          "earthquake",
          ",origin,phase-data,",
          null,
          1746249539912,
          "https://earthquake.usgs.gov/earthquakes/eventpage/ak0255ni6e8x"
         ],
         "Feature"
        ],
        [
         [
          [
           140.9884,
           -3.1677,
           35.0
          ],
          "Point"
         ],
         "us7000pwu9",
         [
          "green",
          6.0,
          "7000pwu9",
          "https://earthquake.usgs.gov/fdsnws/event/1/query?eventid=us7000pwu9&format=geojson",
          0.709,
          9,
          50.0,
          ",us7000pwu9,usauto7000pwu9,",
          5.4,
          "mb",
          6.339,
          "us",
          67,
          "63 km SSW of Vanimo, Papua New Guinea",
          0.81,
          454,
          ",us,usauto,",
          "reviewed",
          1746249040426,
          "M 5.4 - 63 km SSW of Vanimo, Papua New Guinea",
          0,
          "earthquake",
          ",dyfi,ground-failure,internal-moment-tensor,losspager,origin,phase-data,shakemap,",
          null,
          1746336937341,
          "https://earthquake.usgs.gov/earthquakes/eventpage/us7000pwu9"
         ],
         "Feature"
        ],
        [
         [
          [
           -116.3955,
           33.0333333,
           11.62
          ],
          "Point"
         ],
         "ci41143640",
         [
          null,
          null,
          "41143640",
          "https://earthquake.usgs.gov/fdsnws/event/1/query?eventid=ci41143640&format=geojson",
          0.05664,
          null,
          97.0,
          ",ci41143640,",
          0.5,
          "ml",
          null,
          "ci",
          25,
          "20 km ESE of Julian, CA",
          0.13,
          4,
          ",ci,",
          "reviewed",
          1746248476790,
          "M 0.5 - 20 km ESE of Julian, CA",
          0,
          "earthquake",
          ",nearby-cities,origin,phase-data,scitech-link,",
          null,
          1746370843449,
          "https://earthquake.usgs.gov/earthquakes/eventpage/ci41143640"
         ],
         "Feature"
        ],
        [
         [
          [
           -115.4453333,
           32.811,
           9.57
          ],
          "Point"
         ],
         "ci41143632",
         [
          null,
          null,
          "41143632",
          "https://earthquake.usgs.gov/fdsnws/event/1/query?eventid=ci41143632&format=geojson",
          0.005795,
          null,
          57.0,
          ",ci41143632,",
          1.4,
          "ml",
          null,
          "ci",
          24,
          "6 km W of Holtville, CA",
          0.26,
          30,
          ",ci,",
          "automatic",
          1746248189740,
          "M 1.4 - 6 km W of Holtville, CA",
          0,
          "earthquake",
          ",nearby-cities,origin,phase-data,scitech-link,",
          null,
          1746248410196,
          "https://earthquake.usgs.gov/earthquakes/eventpage/ci41143632"
         ],
         "Feature"
        ],
        [
         [
          [
           -113.057333333333,
           44.179,
           3.52
          ],
          "Point"
         ],
         "mb90081308",
         [
          null,
          null,
          "90081308",
          "https://earthquake.usgs.gov/fdsnws/event/1/query?eventid=mb90081308&format=geojson",
          0.1401,
          null,
          73.0,
          ",mb90081308,",
          1.01,
          "ml",
          null,
          "mb",
          12,
          "53 km ENE of Mackay, Idaho",
          0.11,
          16,
          ",mb,",
          "reviewed",
          1746247593590,
          "M 1.0 - 53 km ENE of Mackay, Idaho",
          0,
          "earthquake",
          ",origin,phase-data,",
          null,
          1746276790870,
          "https://earthquake.usgs.gov/earthquakes/eventpage/mb90081308"
         ],
         "Feature"
        ],
        [
         [
          [
           103.3802,
           -6.4072,
           10.0
          ],
          "Point"
         ],
         "us7000pwu6",
         [
          null,
          null,
          "7000pwu6",
          "https://earthquake.usgs.gov/fdsnws/event/1/query?eventid=us7000pwu6&format=geojson",
          1.665,
          null,
          161.0,
          ",us7000pwu6,",
          4.8,
          "mb",
          null,
          "us",
          27,
          "234 km WSW of Bandar Lampung, Indonesia",
          0.83,
          354,
          ",us,",
          "reviewed",
          1746247555454,
          "M 4.8 - 234 km WSW of Bandar Lampung, Indonesia",
          0,
          "earthquake",
          ",origin,phase-data,",
          null,
          1746248788040,
          "https://earthquake.usgs.gov/earthquakes/eventpage/us7000pwu6"
         ],
         "Feature"
        ],
        [
         [
          [
           -122.821662902832,
           38.832332611084,
           2.22000002861023
          ],
          "Point"
         ],
         "nc75175756",
         [
          null,
          null,
          "75175756",
          "https://earthquake.usgs.gov/fdsnws/event/1/query?eventid=nc75175756&format=geojson",
          0.01247,
          null,
          76.0,
          ",nc75175756,",
          0.77,
          "md",
          null,
          "nc",
          10,
          "8 km NNW of The Geysers, CA",
          0.01,
          9,
          ",nc,",
          "automatic",
          1746247123440,
          "M 0.8 - 8 km NNW of The Geysers, CA",
          0,
          "earthquake",
          ",nearby-cities,origin,phase-data,scitech-link,",
          null,
          1746248835763,
          "https://earthquake.usgs.gov/earthquakes/eventpage/nc75175756"
         ],
         "Feature"
        ],
        [
         [
          [
           -122.820503234863,
           38.8315010070801,
           2.07999992370605
          ],
          "Point"
         ],
         "nc75175751",
         [
          null,
          null,
          "75175751",
          "https://earthquake.usgs.gov/fdsnws/event/1/query?eventid=nc75175751&format=geojson",
          0.01148,
          null,
          76.0,
          ",nc75175751,",
          1.08,
          "md",
          null,
          "nc",
          13,
          "8 km NNW of The Geysers, CA",
          0.02,
          18,
          ",nc,",
          "automatic",
          1746247109790,
          "M 1.1 - 8 km NNW of The Geysers, CA",
          0,
          "earthquake",
          ",nearby-cities,origin,phase-data,scitech-link,",
          null,
          1746250937961,
          "https://earthquake.usgs.gov/earthquakes/eventpage/nc75175751"
         ],
         "Feature"
        ],
        [
         [
          [
           -152.0718,
           61.0057,
           93.6
          ],
          "Point"
         ],
         "ak0255nhn2p9",
         [
          null,
          null,
          "0255nhn2p9",
          "https://earthquake.usgs.gov/fdsnws/event/1/query?eventid=ak0255nhn2p9&format=geojson",
          null,
          null,
          null,
          ",ak0255nhn2p9,",
          1.5,
          "ml",
          null,
          "ak",
          null,
          "50 km W of Tyonek, Alaska",
          0.48,
          35,
          ",ak,",
          "automatic",
          1746246397890,
          "M 1.5 - 50 km W of Tyonek, Alaska",
          0,
          "earthquake",
          ",origin,phase-data,",
          null,
          1746246502337,
          "https://earthquake.usgs.gov/earthquakes/eventpage/ak0255nhn2p9"
         ],
         "Feature"
        ],
        [
         [
          [
           -118.1648333,
           35.2006667,
           2.27
          ],
          "Point"
         ],
         "ci41143624",
         [
          null,
          0.0,
          "41143624",
          "https://earthquake.usgs.gov/fdsnws/event/1/query?eventid=ci41143624&format=geojson",
          0.0572,
          1,
          36.0,
          ",ci41143624,",
          1.96,
          "ml",
          null,
          "ci",
          53,
          "16 km N of Mojave, CA",
          0.19,
          59,
          ",ci,",
          "reviewed",
          1746245106370,
          "M 2.0 - 16 km N of Mojave, CA",
          0,
          "earthquake",
          ",dyfi,nearby-cities,origin,phase-data,scitech-link,",
          null,
          1746370913630,
          "https://earthquake.usgs.gov/earthquakes/eventpage/ci41143624"
         ],
         "Feature"
        ],
        [
         [
          [
           -66.896,
           17.9651666666667,
           11.5
          ],
          "Point"
         ],
         "pr71481223",
         [
          null,
          null,
          "71481223",
          "https://earthquake.usgs.gov/fdsnws/event/1/query?eventid=pr71481223&format=geojson",
          0.01392,
          null,
          198.0,
          ",pr71481223,",
          2.32,
          "md",
          null,
          "pr",
          8,
          "1 km ESE of Guánica, Puerto Rico",
          0.08,
          83,
          ",pr,",
          "reviewed",
          1746244765600,
          "M 2.3 - 1 km ESE of Guánica, Puerto Rico",
          0,
          "earthquake",
          ",origin,phase-data,",
          null,
          1746245206630,
          "https://earthquake.usgs.gov/earthquakes/eventpage/pr71481223"
         ],
         "Feature"
        ],
        [
         [
          [
           -111.856166666667,
           45.8046666666667,
           11.76
          ],
          "Point"
         ],
         "mb90081303",
         [
          null,
          null,
          "90081303",
          "https://earthquake.usgs.gov/fdsnws/event/1/query?eventid=mb90081303&format=geojson",
          0.03667,
          null,
          90.0,
          ",mb90081303,",
          0.29,
          "ml",
          null,
          "mb",
          6,
          "9 km SE of Cardwell, Montana",
          0.1,
          1,
          ",mb,",
          "reviewed",
          1746244673720,
          "M 0.3 - 9 km SE of Cardwell, Montana",
          0,
          "earthquake",
          ",origin,phase-data,",
          null,
          1746278217110,
          "https://earthquake.usgs.gov/earthquakes/eventpage/mb90081303"
         ],
         "Feature"
        ],
        [
         [
          [
           -116.117666666667,
           44.3585,
           6.61
          ],
          "Point"
         ],
         "mb90081298",
         [
          null,
          null,
          "90081298",
          "https://earthquake.usgs.gov/fdsnws/event/1/query?eventid=mb90081298&format=geojson",
          0.05943,
          null,
          145.0,
          ",mb90081298,",
          1.81,
          "ml",
          null,
          "mb",
          7,
          "6 km NNW of Smiths Ferry, Idaho",
          0.05,
          50,
          ",mb,",
          "reviewed",
          1746244449280,
          "M 1.8 - 6 km NNW of Smiths Ferry, Idaho",
          0,
          "earthquake",
          ",origin,phase-data,",
          null,
          1746277870460,
          "https://earthquake.usgs.gov/earthquakes/eventpage/mb90081298"
         ],
         "Feature"
        ],
        [
         [
          [
           -66.8375,
           17.9241666666667,
           9.35
          ],
          "Point"
         ],
         "pr71481238",
         [
          null,
          null,
          "71481238",
          "https://earthquake.usgs.gov/fdsnws/event/1/query?eventid=pr71481238&format=geojson",
          0.05622,
          null,
          222.0,
          ",pr71481238,",
          2.36,
          "md",
          null,
          "pr",
          9,
          "7 km SSW of Indios, Puerto Rico",
          0.06,
          86,
          ",pr,",
          "reviewed",
          1746244105530,
          "M 2.4 - 7 km SSW of Indios, Puerto Rico",
          0,
          "earthquake",
          ",origin,phase-data,",
          null,
          1746289174970,
          "https://earthquake.usgs.gov/earthquakes/eventpage/pr71481238"
         ],
         "Feature"
        ],
        [
         [
          [
           -122.817169189453,
           38.8033332824707,
           0.00999999977648258
          ],
          "Point"
         ],
         "nc75175736",
         [
          null,
          2.0,
          "75175736",
          "https://earthquake.usgs.gov/fdsnws/event/1/query?eventid=nc75175736&format=geojson",
          0.01089,
          1,
          161.0,
          ",nc75175736,",
          1.09,
          "md",
          null,
          "nc",
          11,
          "6 km NW of The Geysers, CA",
          0.15,
          18,
          ",nc,",
          "automatic",
          1746243815850,
          "M 1.1 - 6 km NW of The Geysers, CA",
          0,
          "earthquake",
          ",dyfi,nearby-cities,origin,phase-data,scitech-link,",
          null,
          1746244744873,
          "https://earthquake.usgs.gov/earthquakes/eventpage/nc75175736"
         ],
         "Feature"
        ],
        [
         [
          [
           -155.494003295898,
           19.1841659545898,
           31.0400009155273
          ],
          "Point"
         ],
         "hv74664847",
         [
          null,
          null,
          "74664847",
          "https://earthquake.usgs.gov/fdsnws/event/1/query?eventid=hv74664847&format=geojson",
          0.04155,
          null,
          133.0,
          ",us7000pwtv,hv74664847,",
          2.32,
          "ml",
          null,
          "hv",
          54,
          "2 km SW of Pāhala, Hawaii",
          0.119999997,
          83,
          ",us,hv,",
          "automatic",
          1746243707840,
          "M 2.3 - 2 km SW of Pāhala, Hawaii",
          0,
          "earthquake",
          ",origin,phase-data,",
          null,
          1746245445040,
          "https://earthquake.usgs.gov/earthquakes/eventpage/hv74664847"
         ],
         "Feature"
        ],
        [
         [
          [
           -116.7885,
           33.6911667,
           16.11
          ],
          "Point"
         ],
         "ci41143600",
         [
          null,
          2.0,
          "41143600",
          "https://earthquake.usgs.gov/fdsnws/event/1/query?eventid=ci41143600&format=geojson",
          0.06783,
          1,
          68.0,
          ",ci41143600,",
          0.52,
          "ml",
          null,
          "ci",
          24,
          "8 km SW of Idyllwild, CA",
          0.13,
          4,
          ",ci,",
          "reviewed",
          1746243696740,
          "M 0.5 - 8 km SW of Idyllwild, CA",
          0,
          "earthquake",
          ",dyfi,nearby-cities,origin,phase-data,scitech-link,",
          null,
          1746370926216,
          "https://earthquake.usgs.gov/earthquakes/eventpage/ci41143600"
         ],
         "Feature"
        ],
        [
         [
          [
           -104.025,
           31.634,
           6.5741
          ],
          "Point"
         ],
         "tx2025ipeo",
         [
          null,
          4.3,
          "2025ipeo",
          "https://earthquake.usgs.gov/fdsnws/event/1/query?eventid=tx2025ipeo&format=geojson",
          0.0,
          66,
          60.0,
          ",tx2025ipeo,us7000pwtr,",
          3.4,
          "ml",
          4.024,
          "tx",
          21,
          "41 km W of Mentone, Texas",
          0.1,
          206,
          ",tx,us,",
          "reviewed",
          1746243296636,
          "M 3.4 - 41 km W of Mentone, Texas",
          0,
          "earthquake",
          ",dyfi,origin,phase-data,shakemap,",
          null,
          1746362767888,
          "https://earthquake.usgs.gov/earthquakes/eventpage/tx2025ipeo"
         ],
         "Feature"
        ],
        [
         [
          [
           -122.788497924805,
           38.798168182373,
           -0.0900000035762787
          ],
          "Point"
         ],
         "nc75175731",
         [
          null,
          null,
          "75175731",
          "https://earthquake.usgs.gov/fdsnws/event/1/query?eventid=nc75175731&format=geojson",
          0.01504,
          null,
          59.0,
          ",nc75175731,",
          1.1,
          "md",
          null,
          "nc",
          15,
          "4 km NW of The Geysers, CA",
          0.04,
          19,
          ",nc,",
          "automatic",
          1746242789310,
          "M 1.1 - 4 km NW of The Geysers, CA",
          0,
          "earthquake",
          ",nearby-cities,origin,phase-data,scitech-link,",
          null,
          1746248837763,
          "https://earthquake.usgs.gov/earthquakes/eventpage/nc75175731"
         ],
         "Feature"
        ],
        [
         [
          [
           -118.3506667,
           33.9175,
           10.78
          ],
          "Point"
         ],
         "ci41143584",
         [
          null,
          2.2,
          "41143584",
          "https://earthquake.usgs.gov/fdsnws/event/1/query?eventid=ci41143584&format=geojson",
          0.02041,
          1,
          92.0,
          ",ci41143584,",
          1.5,
          "ml",
          null,
          "ci",
          37,
          "0 km NE of Hawthorne, CA",
          0.27,
          35,
          ",ci,",
          "automatic",
          1746242275760,
          "M 1.5 - 0 km NE of Hawthorne, CA",
          0,
          "earthquake",
          ",dyfi,nearby-cities,origin,phase-data,scitech-link,",
          null,
          1746242998319,
          "https://earthquake.usgs.gov/earthquakes/eventpage/ci41143584"
         ],
         "Feature"
        ],
        [
         [
          [
           -68.4143,
           18.923,
           9.0
          ],
          "Point"
         ],
         "pr2025123000",
         [
          null,
          null,
          "2025123000",
          "https://earthquake.usgs.gov/fdsnws/event/1/query?eventid=pr2025123000&format=geojson",
          0.4104,
          null,
          205.0,
          ",pr2025123000,",
          3.48,
          "md",
          null,
          "pr",
          8,
          "37 km N of Punta Cana, Dominican Republic",
          0.48,
          186,
          ",pr,",
          "reviewed",
          1746240707260,
          "M 3.5 - 37 km N of Punta Cana, Dominican Republic",
          0,
          "earthquake",
          ",origin,phase-data,",
          null,
          1746245721448,
          "https://earthquake.usgs.gov/earthquakes/eventpage/pr2025123000"
         ],
         "Feature"
        ],
        [
         [
          [
           -119.0751,
           39.1578,
           7.8
          ],
          "Point"
         ],
         "nn00897160",
         [
          null,
          null,
          "00897160",
          "https://earthquake.usgs.gov/fdsnws/event/1/query?eventid=nn00897160&format=geojson",
          0.03,
          null,
          79.81,
          ",nn00897160,",
          1.1,
          "ml",
          null,
          "nn",
          13,
          "20 km NNE of Yerington, Nevada",
          0.0894,
          19,
          ",nn,",
          "automatic",
          1746240129334,
          "M 1.1 - 20 km NNE of Yerington, Nevada",
          0,
          "earthquake",
          ",origin,phase-data,",
          null,
          1746240262920,
          "https://earthquake.usgs.gov/earthquakes/eventpage/nn00897160"
         ],
         "Feature"
        ],
        [
         [
          [
           -116.0352,
           36.7623,
           5.0
          ],
          "Point"
         ],
         "nn00897179",
         [
          null,
          null,
          "00897179",
          "https://earthquake.usgs.gov/fdsnws/event/1/query?eventid=nn00897179&format=geojson",
          0.005,
          null,
          173.57,
          ",nn00897179,",
          -0.3,
          "ml",
          null,
          "nn",
          15,
          "38 km WNW of Indian Springs, Nevada",
          0.0508,
          0,
          ",nn,",
          "reviewed",
          1746240003519,
          "M -0.3 - 38 km WNW of Indian Springs, Nevada",
          0,
          "earthquake",
          ",origin,phase-data,",
          null,
          1746280626640,
          "https://earthquake.usgs.gov/earthquakes/eventpage/nn00897179"
         ],
         "Feature"
        ],
        [
         [
          [
           -117.7623333,
           36.0346667,
           1.64
          ],
          "Point"
         ],
         "ci41143544",
         [
          null,
          null,
          "41143544",
          "https://earthquake.usgs.gov/fdsnws/event/1/query?eventid=ci41143544&format=geojson",
          0.009731,
          null,
          50.0,
          ",ci41143544,",
          1.3,
          "ml",
          null,
          "ci",
          24,
          "17 km E of Coso Junction, CA",
          0.2,
          26,
          ",ci,",
          "automatic",
          1746239869950,
          "M 1.3 - 17 km E of Coso Junction, CA",
          0,
          "earthquake",
          ",nearby-cities,origin,phase-data,scitech-link,",
          null,
          1746240078217,
          "https://earthquake.usgs.gov/earthquakes/eventpage/ci41143544"
         ],
         "Feature"
        ],
        [
         [
          [
           -48.7346,
           -54.2791,
           10.0
          ],
          "Point"
         ],
         "us7000pwti",
         [
          null,
          null,
          "7000pwti",
          "https://earthquake.usgs.gov/fdsnws/event/1/query?eventid=us7000pwti&format=geojson",
          7.172,
          null,
          82.0,
          ",us7000pwti,",
          5.0,
          "mb",
          null,
          "us",
          42,
          "South Atlantic Ocean",
          1.03,
          385,
          ",us,",
          "reviewed",
          1746239804869,
          "M 5.0 - South Atlantic Ocean",
          0,
          "earthquake",
          ",origin,phase-data,",
          null,
          1746240999040,
          "https://earthquake.usgs.gov/earthquakes/eventpage/us7000pwti"
         ],
         "Feature"
        ],
        [
         [
          [
           -122.0935,
           46.17366666666667,
           7.35
          ],
          "Point"
         ],
         "uw62092132",
         [
          null,
          null,
          "62092132",
          "https://earthquake.usgs.gov/fdsnws/event/1/query?eventid=uw62092132&format=geojson",
          0.04648,
          null,
          191.0,
          ",uw62092132,",
          0.51,
          "ml",
          null,
          "uw",
          13,
          "40 km NE of Amboy, Washington",
          0.17,
          4,
          ",uw,",
          "reviewed",
          1746239416180,
          "M 0.5 - 40 km NE of Amboy, Washington",
          0,
          "earthquake",
          ",origin,phase-data,",
          null,
          1746248593070,
          "https://earthquake.usgs.gov/earthquakes/eventpage/uw62092132"
         ],
         "Feature"
        ],
        [
         [
          [
           -122.75316619873,
           38.7948341369629,
           0.0599999986588955
          ],
          "Point"
         ],
         "nc75175721",
         [
          null,
          null,
          "75175721",
          "https://earthquake.usgs.gov/fdsnws/event/1/query?eventid=nc75175721&format=geojson",
          0.00772,
          null,
          90.0,
          ",nc75175721,",
          1.47,
          "md",
          null,
          "nc",
          25,
          "2 km NNE of The Geysers, CA",
          0.06,
          33,
          ",nc,",
          "automatic",
          1746239312860,
          "M 1.5 - 2 km NNE of The Geysers, CA",
          0,
          "earthquake",
          ",nearby-cities,origin,phase-data,scitech-link,",
          null,
          1746247640625,
          "https://earthquake.usgs.gov/earthquakes/eventpage/nc75175721"
         ],
         "Feature"
        ],
        [
         [
          [
           114.0138,
           -9.2067,
           67.512
          ],
          "Point"
         ],
         "us7000pwte",
         [
          null,
          2.1,
          "7000pwte",
          "https://earthquake.usgs.gov/fdsnws/event/1/query?eventid=us7000pwte&format=geojson",
          0.744,
          2,
          46.0,
          ",us7000pwte,",
          4.8,
          "mb",
          null,
          "us",
          75,
          "91 km S of Gambiran Satu, Indonesia",
          0.95,
          355,
          ",us,",
          "reviewed",
          1746238759848,
          "M 4.8 - 91 km S of Gambiran Satu, Indonesia",
          0,
          "earthquake",
          ",dyfi,origin,phase-data,",
          null,
          1746254469086,
          "https://earthquake.usgs.gov/earthquakes/eventpage/us7000pwte"
         ],
         "Feature"
        ],
        [
         [
          [
           -66.8285,
           18.0223333333333,
           18.39
          ],
          "Point"
         ],
         "pr71481193",
         [
          null,
          null,
          "71481193",
          "https://earthquake.usgs.gov/fdsnws/event/1/query?eventid=pr71481193&format=geojson",
          0.06247,
          null,
          134.0,
          ",pr71481193,",
          2.16,
          "md",
          null,
          "pr",
          12,
          "2 km ESE of Yauco, Puerto Rico",
          0.14,
          72,
          ",pr,",
          "reviewed",
          1746238425970,
          "M 2.2 - 2 km ESE of Yauco, Puerto Rico",
          0,
          "earthquake",
          ",origin,phase-data,",
          null,
          1746239086230,
          "https://earthquake.usgs.gov/earthquakes/eventpage/pr71481193"
         ],
         "Feature"
        ],
        [
         [
          [
           -67.0511666666667,
           18.7121666666667,
           24.91
          ],
          "Point"
         ],
         "pr71481183",
         [
          null,
          2.7,
          "71481183",
          "https://earthquake.usgs.gov/fdsnws/event/1/query?eventid=pr71481183&format=geojson",
          0.2499,
          1,
          281.0,
          ",pr71481183,",
          3.19,
          "md",
          null,
          "pr",
          11,
          "23 km N of Isabela, Puerto Rico",
          0.19,
          157,
          ",pr,",
          "reviewed",
          1746238059210,
          "M 3.2 - 23 km N of Isabela, Puerto Rico",
          0,
          "earthquake",
          ",dyfi,origin,phase-data,",
          null,
          1746241733465,
          "https://earthquake.usgs.gov/earthquakes/eventpage/pr71481183"
         ],
         "Feature"
        ],
        [
         [
          [
           -122.749336242676,
           38.7893333435059,
           5.94000005722046
          ],
          "Point"
         ],
         "nc75175716",
         [
          null,
          null,
          "75175716",
          "https://earthquake.usgs.gov/fdsnws/event/1/query?eventid=nc75175716&format=geojson",
          0.01158,
          null,
          156.0,
          ",nc75175716,",
          0.31,
          "md",
          null,
          "nc",
          6,
          "1 km NE of The Geysers, CA",
          0.05,
          1,
          ",nc,",
          "automatic",
          1746237908000,
          "M 0.3 - 1 km NE of The Geysers, CA",
          0,
          "earthquake",
          ",nearby-cities,origin,phase-data,scitech-link,",
          null,
          1746238936623,
          "https://earthquake.usgs.gov/earthquakes/eventpage/nc75175716"
         ],
         "Feature"
        ],
        [
         [
          [
           -122.764999389648,
           38.7881660461426,
           1.25
          ],
          "Point"
         ],
         "nc75175711",
         [
          null,
          null,
          "75175711",
          "https://earthquake.usgs.gov/fdsnws/event/1/query?eventid=nc75175711&format=geojson",
          0.01311,
          null,
          72.0,
          ",nc75175711,",
          0.96,
          "md",
          null,
          "nc",
          16,
          "1 km NNW of The Geysers, CA",
          0.03,
          14,
          ",nc,",
          "automatic",
          1746237848360,
          "M 1.0 - 1 km NNW of The Geysers, CA",
          0,
          "earthquake",
          ",nearby-cities,origin,phase-data,scitech-link,",
          null,
          1746238936718,
          "https://earthquake.usgs.gov/earthquakes/eventpage/nc75175711"
         ],
         "Feature"
        ],
        [
         [
          [
           -122.752334594727,
           38.7934989929199,
           0.560000002384186
          ],
          "Point"
         ],
         "nc75175706",
         [
          null,
          null,
          "75175706",
          "https://earthquake.usgs.gov/fdsnws/event/1/query?eventid=nc75175706&format=geojson",
          0.009158,
          null,
          89.0,
          ",nc75175706,",
          1.76,
          "md",
          null,
          "nc",
          36,
          "2 km NNE of The Geysers, CA",
          0.04,
          48,
          ",nc,",
          "automatic",
          1746237714150,
          "M 1.8 - 2 km NNE of The Geysers, CA",
          0,
          "earthquake",
          ",nearby-cities,origin,phase-data,scitech-link,",
          null,
          1746246739521,
          "https://earthquake.usgs.gov/earthquakes/eventpage/nc75175706"
         ],
         "Feature"
        ],
        [
         [
          [
           -103.753,
           31.224,
           9.9079
          ],
          "Point"
         ],
         "tx2025ipbd",
         [
          null,
          null,
          "2025ipbd",
          "https://earthquake.usgs.gov/fdsnws/event/1/query?eventid=tx2025ipbd&format=geojson",
          0.0,
          null,
          82.0,
          ",tx2025ipbd,",
          1.5,
          "ml",
          null,
          "tx",
          11,
          "10 km SSE of Toyah, Texas",
          0.3,
          35,
          ",tx,",
          "automatic",
          1746237174975,
          "M 1.5 - 10 km SSE of Toyah, Texas",
          0,
          "earthquake",
          ",origin,phase-data,",
          null,
          1746237693171,
          "https://earthquake.usgs.gov/earthquakes/eventpage/tx2025ipbd"
         ],
         "Feature"
        ],
        [
         [
          [
           -122.823669433594,
           38.8201675415039,
           2.08999991416931
          ],
          "Point"
         ],
         "nc75175701",
         [
          null,
          null,
          "75175701",
          "https://earthquake.usgs.gov/fdsnws/event/1/query?eventid=nc75175701&format=geojson",
          0.00935,
          null,
          126.0,
          ",nc75175701,",
          0.79,
          "md",
          null,
          "nc",
          10,
          "8 km NW of The Geysers, CA",
          0.01,
          10,
          ",nc,",
          "automatic",
          1746237144870,
          "M 0.8 - 8 km NW of The Geysers, CA",
          0,
          "earthquake",
          ",nearby-cities,origin,phase-data,scitech-link,",
          null,
          1746238338556,
          "https://earthquake.usgs.gov/earthquakes/eventpage/nc75175701"
         ],
         "Feature"
        ],
        [
         [
          [
           -122.772163391113,
           38.7886657714844,
           1.0
          ],
          "Point"
         ],
         "nc75175696",
         [
          null,
          null,
          "75175696",
          "https://earthquake.usgs.gov/fdsnws/event/1/query?eventid=nc75175696&format=geojson",
          0.01311,
          null,
          126.0,
          ",nc75175696,",
          0.58,
          "md",
          null,
          "nc",
          8,
          "2 km NW of The Geysers, CA",
          0.02,
          5,
          ",nc,",
          "automatic",
          1746237056390,
          "M 0.6 - 2 km NW of The Geysers, CA",
          0,
          "earthquake",
          ",nearby-cities,origin,phase-data,scitech-link,",
          null,
          1746238039624,
          "https://earthquake.usgs.gov/earthquakes/eventpage/nc75175696"
         ],
         "Feature"
        ],
        [
         [
          [
           -121.203834533691,
           37.1726684570312,
           0.159999996423721
          ],
          "Point"
         ],
         "nc75175691",
         [
          null,
          null,
          "75175691",
          "https://earthquake.usgs.gov/fdsnws/event/1/query?eventid=nc75175691&format=geojson",
          0.1259,
          null,
          119.0,
          ",nc75175691,",
          2.02,
          "md",
          null,
          "nc",
          38,
          "20 km WSW of Gustine, CA",
          0.33,
          63,
          ",nc,",
          "automatic",
          1746236803720,
          "M 2.0 - 20 km WSW of Gustine, CA",
          0,
          "earthquake",
          ",nearby-cities,origin,phase-data,scitech-link,",
          null,
          1746245539496,
          "https://earthquake.usgs.gov/earthquakes/eventpage/nc75175691"
         ],
         "Feature"
        ],
        [
         [
          [
           -151.8257,
           60.0178,
           57.1
          ],
          "Point"
         ],
         "ak0255nfyzoo",
         [
          null,
          null,
          "0255nfyzoo",
          "https://earthquake.usgs.gov/fdsnws/event/1/query?eventid=ak0255nfyzoo&format=geojson",
          null,
          null,
          null,
          ",ak0255nfyzoo,",
          1.5,
          "ml",
          null,
          "ak",
          null,
          "9 km NNW of Happy Valley, Alaska",
          0.3,
          35,
          ",ak,",
          "automatic",
          1746236765206,
          "M 1.5 - 9 km NNW of Happy Valley, Alaska",
          0,
          "earthquake",
          ",origin,phase-data,",
          null,
          1746236897589,
          "https://earthquake.usgs.gov/earthquakes/eventpage/ak0255nfyzoo"
         ],
         "Feature"
        ],
        [
         [
          [
           -103.758,
           31.227,
           8.0911
          ],
          "Point"
         ],
         "tx2025ipav",
         [
          null,
          null,
          "2025ipav",
          "https://earthquake.usgs.gov/fdsnws/event/1/query?eventid=tx2025ipav&format=geojson",
          0.0,
          null,
          81.0,
          ",tx2025ipav,",
          1.7,
          "ml",
          null,
          "tx",
          10,
          "10 km SSE of Toyah, Texas",
          0.3,
          44,
          ",tx,",
          "automatic",
          1746236712581,
          "M 1.7 - 10 km SSE of Toyah, Texas",
          0,
          "earthquake",
          ",origin,phase-data,",
          null,
          1746237028988,
          "https://earthquake.usgs.gov/earthquakes/eventpage/tx2025ipav"
         ],
         "Feature"
        ],
        [
         [
          [
           151.799,
           -6.0738,
           10.0
          ],
          "Point"
         ],
         "us7000pwt8",
         [
          null,
          null,
          "7000pwt8",
          "https://earthquake.usgs.gov/fdsnws/event/1/query?eventid=us7000pwt8&format=geojson",
          1.905,
          null,
          152.0,
          ",us7000pwt8,",
          4.9,
          "mb",
          null,
          "us",
          37,
          "192 km ESE of Kimbe, Papua New Guinea",
          0.62,
          369,
          ",us,",
          "reviewed",
          1746236672188,
          "M 4.9 - 192 km ESE of Kimbe, Papua New Guinea",
          0,
          "earthquake",
          ",origin,phase-data,",
          null,
          1746239552040,
          "https://earthquake.usgs.gov/earthquakes/eventpage/us7000pwt8"
         ],
         "Feature"
        ],
        [
         [
          [
           -116.8918333,
           33.4803333,
           13.59
          ],
          "Point"
         ],
         "ci41143504",
         [
          null,
          null,
          "41143504",
          "https://earthquake.usgs.gov/fdsnws/event/1/query?eventid=ci41143504&format=geojson",
          0.01642,
          null,
          18.0,
          ",ci41143504,",
          1.39,
          "ml",
          null,
          "ci",
          62,
          "5 km NNW of Aguanga, CA",
          0.21,
          30,
          ",ci,",
          "reviewed",
          1746236407160,
          "M 1.4 - 5 km NNW of Aguanga, CA",
          0,
          "earthquake",
          ",focal-mechanism,nearby-cities,origin,phase-data,scitech-link,",
          null,
          1746371077740,
          "https://earthquake.usgs.gov/earthquakes/eventpage/ci41143504"
         ],
         "Feature"
        ],
        [
         [
          [
           -121.96166666666667,
           47.18366666666667,
           17.08
          ],
          "Point"
         ],
         "uw62092107",
         [
          null,
          null,
          "62092107",
          "https://earthquake.usgs.gov/fdsnws/event/1/query?eventid=uw62092107&format=geojson",
          0.01903,
          null,
          116.0,
          ",uw62092107,",
          0.89,
          "ml",
          null,
          "uw",
          22,
          "3 km SE of Enumclaw, Washington",
          0.13,
          12,
          ",uw,",
          "reviewed",
          1746235563350,
          "M 0.9 - 3 km SE of Enumclaw, Washington",
          0,
          "earthquake",
          ",origin,phase-data,",
          null,
          1746247935430,
          "https://earthquake.usgs.gov/earthquakes/eventpage/uw62092107"
         ],
         "Feature"
        ],
        [
         [
          [
           -122.773002624512,
           38.7883338928223,
           0.889999985694885
          ],
          "Point"
         ],
         "nc75175676",
         [
          null,
          null,
          "75175676",
          "https://earthquake.usgs.gov/fdsnws/event/1/query?eventid=nc75175676&format=geojson",
          0.01262,
          null,
          81.0,
          ",nc75175676,",
          1.11,
          "md",
          null,
          "nc",
          15,
          "2 km NW of The Geysers, CA",
          0.03,
          19,
          ",nc,",
          "automatic",
          1746234928090,
          "M 1.1 - 2 km NW of The Geysers, CA",
          0,
          "earthquake",
          ",nearby-cities,origin,phase-data,scitech-link,",
          null,
          1746244642388,
          "https://earthquake.usgs.gov/earthquakes/eventpage/nc75175676"
         ],
         "Feature"
        ],
        [
         [
          [
           -122.783996582031,
           38.8411674499512,
           2.69000005722046
          ],
          "Point"
         ],
         "nc75175671",
         [
          null,
          null,
          "75175671",
          "https://earthquake.usgs.gov/fdsnws/event/1/query?eventid=nc75175671&format=geojson",
          0.005671,
          null,
          195.0,
          ",nc75175671,",
          0.29,
          "md",
          null,
          "nc",
          8,
          "6 km WNW of Cobb, CA",
          0.01,
          1,
          ",nc,",
          "automatic",
          1746234619080,
          "M 0.3 - 6 km WNW of Cobb, CA",
          0,
          "earthquake",
          ",nearby-cities,origin,phase-data,scitech-link,",
          null,
          1746236237396,
          "https://earthquake.usgs.gov/earthquakes/eventpage/nc75175671"
         ],
         "Feature"
        ],
        [
         [
          [
           -122.818664550781,
           38.7991676330566,
           2.92000007629395
          ],
          "Point"
         ],
         "nc75175661",
         [
          null,
          null,
          "75175661",
          "https://earthquake.usgs.gov/fdsnws/event/1/query?eventid=nc75175661&format=geojson",
          0.0127,
          null,
          92.0,
          ",nc75175661,",
          0.9,
          "md",
          null,
          "nc",
          13,
          "6 km NW of The Geysers, CA",
          0.02,
          12,
          ",nc,",
          "automatic",
          1746234089300,
          "M 0.9 - 6 km NW of The Geysers, CA",
          0,
          "earthquake",
          ",nearby-cities,origin,phase-data,",
          null,
          1746234185936,
          "https://earthquake.usgs.gov/earthquakes/eventpage/nc75175661"
         ],
         "Feature"
        ],
        [
         [
          [
           -121.026168823242,
           36.6311683654785,
           0.629999995231628
          ],
          "Point"
         ],
         "nc75175656",
         [
          null,
          null,
          "75175656",
          "https://earthquake.usgs.gov/fdsnws/event/1/query?eventid=nc75175656&format=geojson",
          0.05367,
          null,
          109.0,
          ",nc75175656,",
          1.4,
          "md",
          null,
          "nc",
          12,
          "15 km NE of Pinnacles, CA",
          0.19,
          30,
          ",nc,",
          "automatic",
          1746233894150,
          "M 1.4 - 15 km NE of Pinnacles, CA",
          0,
          "earthquake",
          ",nearby-cities,origin,phase-data,scitech-link,",
          null,
          1746235938285,
          "https://earthquake.usgs.gov/earthquakes/eventpage/nc75175656"
         ],
         "Feature"
        ],
        [
         [
          [
           -153.744,
           59.549,
           130.2
          ],
          "Point"
         ],
         "ak0255nffr53",
         [
          null,
          null,
          "0255nffr53",
          "https://earthquake.usgs.gov/fdsnws/event/1/query?eventid=ak0255nffr53&format=geojson",
          null,
          null,
          null,
          ",us7000pwt5,ak0255nffr53,",
          2.8,
          "ml",
          null,
          "ak",
          null,
          "33 km SE of Pedro Bay, Alaska",
          0.57,
          121,
          ",us,ak,",
          "automatic",
          1746233797032,
          "M 2.8 - 33 km SE of Pedro Bay, Alaska",
          0,
          "earthquake",
          ",origin,phase-data,",
          null,
          1746238536040,
          "https://earthquake.usgs.gov/earthquakes/eventpage/ak0255nffr53"
         ],
         "Feature"
        ],
        [
         [
          [
           -156.3976,
           58.1455,
           0.3
          ],
          "Point"
         ],
         "ak0255nfdlse",
         [
          null,
          null,
          "0255nfdlse",
          "https://earthquake.usgs.gov/fdsnws/event/1/query?eventid=ak0255nfdlse&format=geojson",
          null,
          null,
          null,
          ",us7000pwt3,ak0255nfdlse,",
          3.3,
          "ml",
          null,
          "ak",
          null,
          "58 km E of Egegik, Alaska",
          0.76,
          168,
          ",us,ak,",
          "automatic",
          1746233187340,
          "M 3.3 - 58 km E of Egegik, Alaska",
          0,
          "earthquake",
          ",origin,phase-data,",
          null,
          1746237388040,
          "https://earthquake.usgs.gov/earthquakes/eventpage/ak0255nfdlse"
         ],
         "Feature"
        ],
        [
         [
          [
           -117.8083333,
           35.3523333,
           8.07
          ],
          "Point"
         ],
         "ci41143480",
         [
          null,
          null,
          "41143480",
          "https://earthquake.usgs.gov/fdsnws/event/1/query?eventid=ci41143480&format=geojson",
          0.0901,
          null,
          65.0,
          ",ci41143480,",
          1.05,
          "ml",
          null,
          "ci",
          23,
          "16 km W of Johannesburg, CA",
          0.14,
          17,
          ",ci,",
          "reviewed",
          1746233082740,
          "M 1.1 - 16 km W of Johannesburg, CA",
          0,
          "earthquake",
          ",nearby-cities,origin,phase-data,scitech-link,",
          null,
          1746371054647,
          "https://earthquake.usgs.gov/earthquakes/eventpage/ci41143480"
         ],
         "Feature"
        ],
        [
         [
          [
           -122.732330322266,
           38.7576675415039,
           1.19000005722046
          ],
          "Point"
         ],
         "nc75175631",
         [
          null,
          null,
          "75175631",
          "https://earthquake.usgs.gov/fdsnws/event/1/query?eventid=nc75175631&format=geojson",
          0.02576,
          null,
          107.0,
          ",nc75175631,",
          1.65,
          "md",
          null,
          "nc",
          12,
          "3 km SSE of The Geysers, CA",
          0.06,
          42,
          ",nc,",
          "automatic",
          1746232990360,
          "M 1.7 - 3 km SSE of The Geysers, CA",
          0,
          "earthquake",
          ",nearby-cities,origin,phase-data,scitech-link,",
          null,
          1746241639949,
          "https://earthquake.usgs.gov/earthquakes/eventpage/nc75175631"
         ],
         "Feature"
        ],
        [
         [
          [
           -122.773170471191,
           38.8018341064453,
           0.109999999403954
          ],
          "Point"
         ],
         "nc75175621",
         [
          null,
          null,
          "75175621",
          "https://earthquake.usgs.gov/fdsnws/event/1/query?eventid=nc75175621&format=geojson",
          0.01059,
          null,
          82.0,
          ",nc75175621,",
          1.1,
          "md",
          null,
          "nc",
          13,
          "3 km NNW of The Geysers, CA",
          0.02,
          19,
          ",nc,",
          "automatic",
          1746232879000,
          "M 1.1 - 3 km NNW of The Geysers, CA",
          0,
          "earthquake",
          ",nearby-cities,origin,phase-data,scitech-link,",
          null,
          1746240439805,
          "https://earthquake.usgs.gov/earthquakes/eventpage/nc75175621"
         ],
         "Feature"
        ],
        [
         [
          [
           -122.748168945312,
           38.7949981689453,
           -0.129999995231628
          ],
          "Point"
         ],
         "nc75175601",
         [
          null,
          null,
          "75175601",
          "https://earthquake.usgs.gov/fdsnws/event/1/query?eventid=nc75175601&format=geojson",
          0.01476,
          null,
          93.0,
          ",nc75175601,",
          1.28,
          "md",
          null,
          "nc",
          21,
          "2 km NNE of The Geysers, CA",
          0.04,
          25,
          ",nc,",
          "automatic",
          1746232652140,
          "M 1.3 - 2 km NNE of The Geysers, CA",
          0,
          "earthquake",
          ",nearby-cities,origin,phase-data,scitech-link,",
          null,
          1746239239663,
          "https://earthquake.usgs.gov/earthquakes/eventpage/nc75175601"
         ],
         "Feature"
        ],
        [
         [
          [
           -122.739334106445,
           38.7908325195312,
           0.46000000834465
          ],
          "Point"
         ],
         "nc75175591",
         [
          null,
          null,
          "75175591",
          "https://earthquake.usgs.gov/fdsnws/event/1/query?eventid=nc75175591&format=geojson",
          0.007854,
          null,
          189.0,
          ",nc75175591,",
          0.55,
          "md",
          null,
          "nc",
          9,
          "2 km NE of The Geysers, CA",
          0.02,
          5,
          ",nc,",
          "automatic",
          1746232615010,
          "M 0.6 - 2 km NE of The Geysers, CA",
          0,
          "earthquake",
          ",nearby-cities,origin,phase-data,scitech-link,",
          null,
          1746234439124,
          "https://earthquake.usgs.gov/earthquakes/eventpage/nc75175591"
         ],
         "Feature"
        ],
        [
         [
          [
           -122.769332885742,
           38.7890014648438,
           1.98000001907349
          ],
          "Point"
         ],
         "nc75175586",
         [
          null,
          null,
          "75175586",
          "https://earthquake.usgs.gov/fdsnws/event/1/query?eventid=nc75175586&format=geojson",
          0.01383,
          null,
          98.0,
          ",nc75175586,",
          0.87,
          "md",
          null,
          "nc",
          12,
          "2 km NNW of The Geysers, CA",
          0.03,
          12,
          ",nc,",
          "automatic",
          1746232597930,
          "M 0.9 - 2 km NNW of The Geysers, CA",
          0,
          "earthquake",
          ",nearby-cities,origin,phase-data,scitech-link,",
          null,
          1746233841065,
          "https://earthquake.usgs.gov/earthquakes/eventpage/nc75175586"
         ],
         "Feature"
        ],
        [
         [
          [
           -122.726165771484,
           38.7911682128906,
           0.330000013113022
          ],
          "Point"
         ],
         "nc75175576",
         [
          null,
          2.7,
          "75175576",
          "https://earthquake.usgs.gov/fdsnws/event/1/query?eventid=nc75175576&format=geojson",
          0.01144,
          1,
          92.0,
          ",nc75175576,",
          1.26,
          "md",
          null,
          "nc",
          12,
          "3 km ENE of The Geysers, CA",
          0.05,
          25,
          ",nc,",
          "automatic",
          1746232576430,
          "M 1.3 - 3 km ENE of The Geysers, CA",
          0,
          "earthquake",
          ",dyfi,nearby-cities,origin,phase-data,scitech-link,",
          null,
          1746241017675,
          "https://earthquake.usgs.gov/earthquakes/eventpage/nc75175576"
         ],
         "Feature"
        ],
        [
         [
          [
           -122.7585,
           38.7903333333333,
           2.27
          ],
          "Point"
         ],
         "nc75175581",
         [
          null,
          3.8,
          "75175581",
          "https://earthquake.usgs.gov/fdsnws/event/1/query?eventid=nc75175581&format=geojson",
          0.01032,
          31,
          29.0,
          ",ew1746232520,nc75175581,us7000pwt2,",
          3.7,
          "mw",
          4.312,
          "nc",
          125,
          "1 km N of The Geysers, CA",
          0.07,
          222,
          ",ew,nc,us,",
          "reviewed",
          1746232518960,
          "M 3.7 - 1 km N of The Geysers, CA",
          0,
          "earthquake",
          ",dyfi,moment-tensor,nearby-cities,origin,phase-data,scitech-link,shake-alert,shakemap,",
          null,
          1746337634419,
          "https://earthquake.usgs.gov/earthquakes/eventpage/nc75175581"
         ],
         "Feature"
        ],
        [
         [
          [
           -121.344329833984,
           36.738166809082,
           15.7200002670288
          ],
          "Point"
         ],
         "nc75175571",
         [
          null,
          null,
          "75175571",
          "https://earthquake.usgs.gov/fdsnws/event/1/query?eventid=nc75175571&format=geojson",
          0.0307,
          null,
          104.0,
          ",nc75175571,",
          1.61,
          "md",
          null,
          "nc",
          8,
          "6 km SSW of Tres Pinos, CA",
          0.05,
          40,
          ",nc,",
          "automatic",
          1746232295200,
          "M 1.6 - 6 km SSW of Tres Pinos, CA",
          0,
          "earthquake",
          ",nearby-cities,origin,phase-data,scitech-link,",
          null,
          1746235041191,
          "https://earthquake.usgs.gov/earthquakes/eventpage/nc75175571"
         ],
         "Feature"
        ],
        [
         [
          [
           -117.5641667,
           35.7351667,
           7.22
          ],
          "Point"
         ],
         "ci41143472",
         [
          null,
          null,
          "41143472",
          "https://earthquake.usgs.gov/fdsnws/event/1/query?eventid=ci41143472&format=geojson",
          0.1171,
          null,
          64.0,
          ",ci41143472,",
          1.57,
          "ml",
          null,
          "ci",
          31,
          "15 km WSW of Searles Valley, CA",
          0.18,
          38,
          ",ci,",
          "automatic",
          1746232273380,
          "M 1.6 - 15 km WSW of Searles Valley, CA",
          0,
          "earthquake",
          ",nearby-cities,origin,phase-data,scitech-link,",
          null,
          1746232497193,
          "https://earthquake.usgs.gov/earthquakes/eventpage/ci41143472"
         ],
         "Feature"
        ],
        [
         [
          [
           -151.6716,
           60.6585,
           75.4
          ],
          "Point"
         ],
         "ak0255nf9qy5",
         [
          null,
          null,
          "0255nf9qy5",
          "https://earthquake.usgs.gov/fdsnws/event/1/query?eventid=ak0255nf9qy5&format=geojson",
          null,
          null,
          null,
          ",ak0255nf9qy5,",
          1.8,
          "ml",
          null,
          "ak",
          null,
          "19 km WNW of Salamatof, Alaska",
          0.53,
          50,
          ",ak,",
          "automatic",
          1746232107977,
          "M 1.8 - 19 km WNW of Salamatof, Alaska",
          0,
          "earthquake",
          ",origin,phase-data,",
          null,
          1746232261111,
          "https://earthquake.usgs.gov/earthquakes/eventpage/ak0255nf9qy5"
         ],
         "Feature"
        ],
        [
         [
          [
           -118.204,
           34.0191667,
           15.63
          ],
          "Point"
         ],
         "ci41143456",
         [
          null,
          null,
          "41143456",
          "https://earthquake.usgs.gov/fdsnws/event/1/query?eventid=ci41143456&format=geojson",
          0.02778,
          null,
          88.0,
          ",ci41143456,",
          1.43,
          "ml",
          null,
          "ci",
          37,
          "4 km WSW of East Los Angeles, CA",
          0.2,
          31,
          ",ci,",
          "automatic",
          1746231181320,
          "M 1.4 - 4 km WSW of East Los Angeles, CA",
          0,
          "earthquake",
          ",focal-mechanism,nearby-cities,origin,phase-data,scitech-link,",
          null,
          1746231803300,
          "https://earthquake.usgs.gov/earthquakes/eventpage/ci41143456"
         ],
         "Feature"
        ],
        [
         [
          [
           -155.100666666667,
           19.3598333333333,
           7.44
          ],
          "Point"
         ],
         "hv74664737",
         [
          null,
          null,
          "74664737",
          "https://earthquake.usgs.gov/fdsnws/event/1/query?eventid=hv74664737&format=geojson",
          0.03402,
          null,
          141.0,
          ",hv74664737,",
          1.7,
          "ml",
          null,
          "hv",
          28,
          "12 km SSE of Fern Forest, Hawaii",
          0.09,
          44,
          ",hv,",
          "reviewed",
          1746230416050,
          "M 1.7 - 12 km SSE of Fern Forest, Hawaii",
          0,
          "earthquake",
          ",origin,phase-data,",
          null,
          1746237113960,
          "https://earthquake.usgs.gov/earthquakes/eventpage/hv74664737"
         ],
         "Feature"
        ]
       ],
       "datasetInfos": [],
       "dbfsResultPath": null,
       "isJsonSchema": true,
       "metadata": {},
       "overflow": false,
       "plotOptions": {
        "customPlotOptions": {},
        "displayType": "table",
        "pivotAggregation": null,
        "pivotColumns": null,
        "xColumns": null,
        "yColumns": null
       },
       "removedWidgets": [],
       "schema": [
        {
         "metadata": "{}",
         "name": "geometry",
         "type": "{\"fields\":[{\"metadata\":{},\"name\":\"coordinates\",\"nullable\":true,\"type\":{\"containsNull\":true,\"elementType\":\"double\",\"type\":\"array\"}},{\"metadata\":{},\"name\":\"type\",\"nullable\":true,\"type\":\"string\"}],\"type\":\"struct\"}"
        },
        {
         "metadata": "{}",
         "name": "id",
         "type": "\"string\""
        },
        {
         "metadata": "{}",
         "name": "properties",
         "type": "{\"fields\":[{\"metadata\":{},\"name\":\"alert\",\"nullable\":true,\"type\":\"string\"},{\"metadata\":{},\"name\":\"cdi\",\"nullable\":true,\"type\":\"double\"},{\"metadata\":{},\"name\":\"code\",\"nullable\":true,\"type\":\"string\"},{\"metadata\":{},\"name\":\"detail\",\"nullable\":true,\"type\":\"string\"},{\"metadata\":{},\"name\":\"dmin\",\"nullable\":true,\"type\":\"double\"},{\"metadata\":{},\"name\":\"felt\",\"nullable\":true,\"type\":\"long\"},{\"metadata\":{},\"name\":\"gap\",\"nullable\":true,\"type\":\"double\"},{\"metadata\":{},\"name\":\"ids\",\"nullable\":true,\"type\":\"string\"},{\"metadata\":{},\"name\":\"mag\",\"nullable\":true,\"type\":\"double\"},{\"metadata\":{},\"name\":\"magType\",\"nullable\":true,\"type\":\"string\"},{\"metadata\":{},\"name\":\"mmi\",\"nullable\":true,\"type\":\"double\"},{\"metadata\":{},\"name\":\"net\",\"nullable\":true,\"type\":\"string\"},{\"metadata\":{},\"name\":\"nst\",\"nullable\":true,\"type\":\"long\"},{\"metadata\":{},\"name\":\"place\",\"nullable\":true,\"type\":\"string\"},{\"metadata\":{},\"name\":\"rms\",\"nullable\":true,\"type\":\"double\"},{\"metadata\":{},\"name\":\"sig\",\"nullable\":true,\"type\":\"long\"},{\"metadata\":{},\"name\":\"sources\",\"nullable\":true,\"type\":\"string\"},{\"metadata\":{},\"name\":\"status\",\"nullable\":true,\"type\":\"string\"},{\"metadata\":{},\"name\":\"time\",\"nullable\":true,\"type\":\"long\"},{\"metadata\":{},\"name\":\"title\",\"nullable\":true,\"type\":\"string\"},{\"metadata\":{},\"name\":\"tsunami\",\"nullable\":true,\"type\":\"long\"},{\"metadata\":{},\"name\":\"type\",\"nullable\":true,\"type\":\"string\"},{\"metadata\":{},\"name\":\"types\",\"nullable\":true,\"type\":\"string\"},{\"metadata\":{},\"name\":\"tz\",\"nullable\":true,\"type\":\"string\"},{\"metadata\":{},\"name\":\"updated\",\"nullable\":true,\"type\":\"long\"},{\"metadata\":{},\"name\":\"url\",\"nullable\":true,\"type\":\"string\"}],\"type\":\"struct\"}"
        },
        {
         "metadata": "{}",
         "name": "type",
         "type": "\"string\""
        }
       ],
       "type": "table"
      }
     },
     "output_type": "display_data"
    }
   ],
   "source": [
    "df.display()"
   ]
  },
  {
   "cell_type": "code",
   "execution_count": 0,
   "metadata": {
    "application/vnd.databricks.v1+cell": {
     "cellMetadata": {
      "byteLimit": 2048000,
      "rowLimit": 10000
     },
     "inputWidgets": {},
     "nuid": "941c0242-b761-451a-853b-b7dff0db342a",
     "showTitle": false,
     "tableResultSettingsMap": {},
     "title": ""
    }
   },
   "outputs": [],
   "source": [
    "\n",
    "# Reshape earthquake data\n",
    "df = (\n",
    "    df\n",
    "    .select(\n",
    "        'id',\n",
    "        col('geometry.coordinates').getItem(0).alias('longitude'),\n",
    "        col('geometry.coordinates').getItem(1).alias('latitude'),\n",
    "        col('geometry.coordinates').getItem(2).alias('elevation'),\n",
    "        col('properties.title').alias('title'),\n",
    "        col('properties.place').alias('place_description'),\n",
    "        col('properties.sig').alias('sig'),\n",
    "        col('properties.mag').alias('mag'),\n",
    "        col('properties.magType').alias('magType'),\n",
    "        col('properties.time').alias('time'),\n",
    "        col('properties.updated').alias('updated')\n",
    "    )\n",
    ")\n",
    "    "
   ]
  },
  {
   "cell_type": "code",
   "execution_count": 0,
   "metadata": {
    "application/vnd.databricks.v1+cell": {
     "cellMetadata": {
      "byteLimit": 2048000,
      "rowLimit": 10000
     },
     "inputWidgets": {},
     "nuid": "23f2179c-3735-4da5-af25-3d3d38b7b69d",
     "showTitle": false,
     "tableResultSettingsMap": {},
     "title": ""
    }
   },
   "outputs": [
    {
     "output_type": "execute_result",
     "data": {
      "text/plain": [
       "Row(id='nm60503563', longitude=-92.9183333333333, latitude=35.873, elevation=2.76, title='M 2.4 - 14 km NE of Pelsor, Arkansas', place_description='14 km NE of Pelsor, Arkansas', sig=87, mag=2.38, magType='md', time=1746316297500, updated=1746373147630)"
      ]
     },
     "execution_count": 50,
     "metadata": {},
     "output_type": "execute_result"
    }
   ],
   "source": [
    "df.head()"
   ]
  },
  {
   "cell_type": "code",
   "execution_count": 0,
   "metadata": {
    "application/vnd.databricks.v1+cell": {
     "cellMetadata": {
      "byteLimit": 2048000,
      "rowLimit": 10000
     },
     "inputWidgets": {},
     "nuid": "becd53c2-b783-4585-bdd4-d718c6e65a24",
     "showTitle": false,
     "tableResultSettingsMap": {},
     "title": ""
    }
   },
   "outputs": [
    {
     "output_type": "display_data",
     "data": {
      "text/html": [
       "<style scoped>\n",
       "  .table-result-container {\n",
       "    max-height: 300px;\n",
       "    overflow: auto;\n",
       "  }\n",
       "  table, th, td {\n",
       "    border: 1px solid black;\n",
       "    border-collapse: collapse;\n",
       "  }\n",
       "  th, td {\n",
       "    padding: 5px;\n",
       "  }\n",
       "  th {\n",
       "    text-align: left;\n",
       "  }\n",
       "</style><div class='table-result-container'><table class='table-result'><thead style='background-color: white'><tr><th>id</th><th>longitude</th><th>latitude</th><th>elevation</th><th>title</th><th>place_description</th><th>sig</th><th>mag</th><th>magType</th><th>time</th><th>updated</th></tr></thead><tbody><tr><td>nm60503563</td><td>-92.9183333333333</td><td>35.873</td><td>2.76</td><td>M 2.4 - 14 km NE of Pelsor, Arkansas</td><td>14 km NE of Pelsor, Arkansas</td><td>87</td><td>2.38</td><td>md</td><td>1746316297500</td><td>1746373147630</td></tr><tr><td>nn00897188</td><td>-119.3563</td><td>39.6467</td><td>12.1</td><td>M 1.4 - 6 km WNW of Wadsworth, Nevada</td><td>6 km WNW of Wadsworth, Nevada</td><td>30</td><td>1.4</td><td>ml</td><td>1746315476027</td><td>1746315629162</td></tr><tr><td>nc75176126</td><td>-121.63200378418</td><td>36.8481674194336</td><td>0.689999997615814</td><td>M 1.4 - 5 km S of Aromas, CA</td><td>5 km S of Aromas, CA</td><td>31</td><td>1.42</td><td>md</td><td>1746314360660</td><td>1746316039185</td></tr><tr><td>ak0255nsv4h2</td><td>-147.4666</td><td>64.9681</td><td>0.0</td><td>M 1.1 - 7 km E of Fox, Alaska</td><td>7 km E of Fox, Alaska</td><td>19</td><td>1.1</td><td>ml</td><td>1746313911102</td><td>1746314018235</td></tr><tr><td>ak0255nstyyw</td><td>-151.8208</td><td>64.4694</td><td>2.3</td><td>M 1.1 - 69 km NNE of Lake Minchumina, Alaska</td><td>69 km NNE of Lake Minchumina, Alaska</td><td>19</td><td>1.1</td><td>ml</td><td>1746313573207</td><td>1746313713885</td></tr><tr><td>ak0255nstyqr</td><td>-148.3672</td><td>61.5458</td><td>20.9</td><td>M 1.2 - 28 km S of Chickaloon, Alaska</td><td>28 km S of Chickaloon, Alaska</td><td>22</td><td>1.2</td><td>ml</td><td>1746313570274</td><td>1746313643518</td></tr><tr><td>ak0255nssoyd</td><td>-156.8836</td><td>56.015</td><td>2.4</td><td>M 2.3 - 99 km ESE of Chignik, Alaska</td><td>99 km ESE of Chignik, Alaska</td><td>81</td><td>2.3</td><td>ml</td><td>1746313216851</td><td>1746313356258</td></tr><tr><td>ak0255nsim6z</td><td>-148.183</td><td>65.4472</td><td>3.6</td><td>M 2.5 - 18 km ESE of Livengood, Alaska</td><td>18 km ESE of Livengood, Alaska</td><td>96</td><td>2.5</td><td>ml</td><td>1746312795479</td><td>1746312905336</td></tr><tr><td>ak0255nsesao</td><td>-149.5192</td><td>63.6266</td><td>57.4</td><td>M 1.5 - 32 km WSW of Denali Park, Alaska</td><td>32 km WSW of Denali Park, Alaska</td><td>35</td><td>1.5</td><td>ml</td><td>1746311728322</td><td>1746311848679</td></tr><tr><td>nc75176121</td><td>-122.77116394043</td><td>38.787166595459</td><td>1.23000001907349</td><td>M 0.7 - 2 km NW of The Geysers, CA</td><td>2 km NW of The Geysers, CA</td><td>8</td><td>0.74</td><td>md</td><td>1746311338900</td><td>1746314240990</td></tr><tr><td>ak0255nscto4</td><td>-149.9093</td><td>61.8635</td><td>44.4</td><td>M 1.2 - 14 km NNE of Willow, Alaska</td><td>14 km NNE of Willow, Alaska</td><td>22</td><td>1.2</td><td>ml</td><td>1746311173006</td><td>1746311332589</td></tr><tr><td>nc75176116</td><td>-121.40983581543</td><td>36.9259986877441</td><td>15.460000038147</td><td>M 1.2 - 9 km N of Hollister, CA</td><td>9 km N of Hollister, CA</td><td>21</td><td>1.17</td><td>md</td><td>1746311058460</td><td>1746313036859</td></tr><tr><td>ci41144264</td><td>-116.4306667</td><td>33.4388333</td><td>11.01</td><td>M 0.7 - 21 km NNW of Borrego Springs, CA</td><td>21 km NNW of Borrego Springs, CA</td><td>7</td><td>0.66</td><td>ml</td><td>1746311039330</td><td>1746311252528</td></tr><tr><td>uw62092622</td><td>-123.03916666666667</td><td>45.143166666666666</td><td>23.31</td><td>M 1.7 - 9 km SSW of Saint Paul, Oregon</td><td>9 km SSW of Saint Paul, Oregon</td><td>42</td><td>1.6500000000000001</td><td>ml</td><td>1746310566660</td><td>1746336811830</td></tr><tr><td>mb90081398</td><td>-112.828666666667</td><td>44.8706666666667</td><td>11.09</td><td>M 0.8 - 32 km NW of Lima, Montana</td><td>32 km NW of Lima, Montana</td><td>10</td><td>0.8</td><td>ml</td><td>1746309075780</td><td>1746310463030</td></tr><tr><td>nc75176096</td><td>-122.783836364746</td><td>38.8348350524902</td><td>2.9300000667572</td><td>M 0.7 - 5 km WNW of Cobb, CA</td><td>5 km WNW of Cobb, CA</td><td>8</td><td>0.72</td><td>md</td><td>1746308703430</td><td>1746310640588</td></tr><tr><td>mb90081388</td><td>-112.520833333333</td><td>46.8988333333333</td><td>11.38</td><td>M 1.1 - 13 km ESE of Lincoln, Montana</td><td>13 km ESE of Lincoln, Montana</td><td>18</td><td>1.08</td><td>ml</td><td>1746307799610</td><td>1746310191780</td></tr><tr><td>ak0255nrrmzh</td><td>-149.3607</td><td>62.9757</td><td>69.3</td><td>M 1.7 - 50 km SSW of Cantwell, Alaska</td><td>50 km SSW of Cantwell, Alaska</td><td>44</td><td>1.7</td><td>ml</td><td>1746307648616</td><td>1746307759382</td></tr><tr><td>us7000pwyv</td><td>117.7102</td><td>-7.8887</td><td>10.0</td><td>M 4.5 - 63 km NNE of Pototano, Indonesia</td><td>63 km NNE of Pototano, Indonesia</td><td>312</td><td>4.5</td><td>mb</td><td>1746307586077</td><td>1746310323040</td></tr><tr><td>us7000pwys</td><td>129.9592</td><td>-6.8264</td><td>120.086</td><td>M 4.4 - Banda Sea</td><td>Banda Sea</td><td>298</td><td>4.4</td><td>mb</td><td>1746306827179</td><td>1746309537040</td></tr><tr><td>ci41144208</td><td>-115.7873333</td><td>31.6046667</td><td>0.81</td><td>M 2.5 - 75 km E of Maneadero, B.C., MX</td><td>75 km E of Maneadero, B.C., MX</td><td>99</td><td>2.54</td><td>ml</td><td>1746304545640</td><td>1746304767728</td></tr><tr><td>ci41144200</td><td>-117.8098333</td><td>35.354</td><td>7.99</td><td>M 2.2 - 16 km W of Johannesburg, CA</td><td>16 km W of Johannesburg, CA</td><td>71</td><td>2.15</td><td>ml</td><td>1746303788610</td><td>1746304457470</td></tr><tr><td>nc75176076</td><td>-122.778831481934</td><td>38.8019981384277</td><td>3.24000000953674</td><td>M 1.1 - 3 km NNW of The Geysers, CA</td><td>3 km NNW of The Geysers, CA</td><td>18</td><td>1.07</td><td>md</td><td>1746303301230</td><td>1746304037843</td></tr><tr><td>nc75176066</td><td>-122.738670349121</td><td>38.7529983520508</td><td>0.920000016689301</td><td>M 1.1 - 3 km SSE of The Geysers, CA</td><td>3 km SSE of The Geysers, CA</td><td>17</td><td>1.06</td><td>md</td><td>1746302738470</td><td>1746305537009</td></tr><tr><td>us7000pwyb</td><td>-67.5971</td><td>-56.8254</td><td>10.0</td><td>M 4.4 - 228 km SSE of Ushuaia, Argentina</td><td>228 km SSE of Ushuaia, Argentina</td><td>298</td><td>4.4</td><td>mb</td><td>1746302619848</td><td>1746304260040</td></tr><tr><td>ak0255nqr5ca</td><td>-152.7858</td><td>59.468</td><td>72.8</td><td>M 1.8 - 50 km WNW of Nanwalek, Alaska</td><td>50 km WNW of Nanwalek, Alaska</td><td>50</td><td>1.8</td><td>ml</td><td>1746302223780</td><td>1746302369861</td></tr><tr><td>ak0255nqppg5</td><td>-148.4196</td><td>61.5398</td><td>3.1</td><td>M 2.2 - 27 km ENE of Knik River, Alaska</td><td>27 km ENE of Knik River, Alaska</td><td>74</td><td>2.2</td><td>ml</td><td>1746301831389</td><td>1746301937754</td></tr><tr><td>ci41144160</td><td>-116.7168333</td><td>33.5376667</td><td>5.26</td><td>M 0.6 - 4 km WSW of Anza, CA</td><td>4 km WSW of Anza, CA</td><td>5</td><td>0.57</td><td>ml</td><td>1746301813010</td><td>1746370181561</td></tr><tr><td>ci41144144</td><td>-117.4926667</td><td>34.2833333</td><td>12.62</td><td>M 1.3 - 3 km NNE of Lytle Creek, CA</td><td>3 km NNE of Lytle Creek, CA</td><td>24</td><td>1.26</td><td>ml</td><td>1746301643310</td><td>1746301851507</td></tr><tr><td>nc75176061</td><td>-122.807334899902</td><td>38.8294982910156</td><td>1.92999994754791</td><td>M 0.8 - 7 km NNW of The Geysers, CA</td><td>7 km NNW of The Geysers, CA</td><td>9</td><td>0.75</td><td>md</td><td>1746301173480</td><td>1746304635912</td></tr><tr><td>nn00897186</td><td>-119.0624</td><td>39.1504</td><td>9.5</td><td>M 0.9 - 20 km NNE of Yerington, Nevada</td><td>20 km NNE of Yerington, Nevada</td><td>12</td><td>0.9</td><td>ml</td><td>1746301171556</td><td>1746301296266</td></tr><tr><td>nc75176056</td><td>-121.555335998535</td><td>36.8213348388672</td><td>5.44000005722046</td><td>M 2.2 - 3 km SW of San Juan Bautista, CA</td><td>3 km SW of San Juan Bautista, CA</td><td>73</td><td>2.18</td><td>md</td><td>1746301020320</td><td>1746303439779</td></tr><tr><td>nc75176051</td><td>-122.782836914062</td><td>38.7953338623047</td><td>3.27999997138977</td><td>M 0.8 - 3 km NW of The Geysers, CA</td><td>3 km NW of The Geysers, CA</td><td>10</td><td>0.81</td><td>md</td><td>1746300068780</td><td>1746301641553</td></tr><tr><td>ci41144096</td><td>-117.4338333</td><td>35.6186667</td><td>4.64</td><td>M 1.4 - 17 km S of Searles Valley, CA</td><td>17 km S of Searles Valley, CA</td><td>29</td><td>1.38</td><td>ml</td><td>1746297517130</td><td>1746297722739</td></tr><tr><td>nc75176036</td><td>-122.75</td><td>38.776668548584</td><td>-0.800000011920929</td><td>M 1.0 - 1 km ESE of The Geysers, CA</td><td>1 km ESE of The Geysers, CA</td><td>16</td><td>1.02</td><td>md</td><td>1746297362880</td><td>1746299540304</td></tr><tr><td>ci41144080</td><td>-117.239</td><td>34.0351667</td><td>16.81</td><td>M 1.4 - 2 km SE of Loma Linda, CA</td><td>2 km SE of Loma Linda, CA</td><td>29</td><td>1.37</td><td>ml</td><td>1746297343880</td><td>1746297555093</td></tr><tr><td>uw62092382</td><td>-121.99866666666667</td><td>47.16916666666667</td><td>14.59</td><td>M 0.8 - 2 km ENE of Buckley, Washington</td><td>2 km ENE of Buckley, Washington</td><td>9</td><td>0.78</td><td>ml</td><td>1746297048720</td><td>1746337494760</td></tr><tr><td>ak0255npzm6f</td><td>-152.8552</td><td>59.5572</td><td>76.6</td><td>M 1.8 - 57 km WNW of Nanwalek, Alaska</td><td>57 km WNW of Nanwalek, Alaska</td><td>50</td><td>1.8</td><td>ml</td><td>1746296938315</td><td>1746297058254</td></tr><tr><td>ci41144056</td><td>-116.4026667</td><td>33.0378333</td><td>13.09</td><td>M 1.6 - 19 km ESE of Julian, CA</td><td>19 km ESE of Julian, CA</td><td>40</td><td>1.62</td><td>ml</td><td>1746296378100</td><td>1746370381290</td></tr><tr><td>ak0255npv3uc</td><td>-150.7706</td><td>63.1499</td><td>116.2</td><td>M 2.0 - 64 km SE of Denali National Park, Alaska</td><td>64 km SE of Denali National Park, Alaska</td><td>62</td><td>2.0</td><td>ml</td><td>1746295674449</td><td>1746295821085</td></tr><tr><td>ak0255npthvl</td><td>-150.7607</td><td>61.8504</td><td>68.5</td><td>M 1.4 - 36 km NNW of Susitna, Alaska</td><td>36 km NNW of Susitna, Alaska</td><td>30</td><td>1.4</td><td>ml</td><td>1746295203210</td><td>1746295360526</td></tr><tr><td>ci41144040</td><td>-116.7238333</td><td>33.5301667</td><td>4.89</td><td>M 1.3 - 5 km WSW of Anza, CA</td><td>5 km WSW of Anza, CA</td><td>24</td><td>1.26</td><td>ml</td><td>1746294622620</td><td>1746370444390</td></tr><tr><td>ci41144032</td><td>-116.6</td><td>33.058</td><td>12.66</td><td>M 0.6 - 2 km S of Julian, CA</td><td>2 km S of Julian, CA</td><td>5</td><td>0.55</td><td>ml</td><td>1746293980370</td><td>1746294231365</td></tr><tr><td>ak0255npaou1</td><td>-152.8776</td><td>59.5647</td><td>103.6</td><td>M 1.4 - 59 km WNW of Nanwalek, Alaska</td><td>59 km WNW of Nanwalek, Alaska</td><td>30</td><td>1.4</td><td>ml</td><td>1746292348736</td><td>1746292459018</td></tr><tr><td>us7000pwxk</td><td>-76.5027</td><td>-45.5225</td><td>10.0</td><td>M 4.4 - 288 km W of Puerto Chacabuco, Chile</td><td>288 km W of Puerto Chacabuco, Chile</td><td>298</td><td>4.4</td><td>mb</td><td>1746291913378</td><td>1746295732040</td></tr><tr><td>us7000pwxj</td><td>141.0809</td><td>-3.2569</td><td>28.97</td><td>M 5.1 - 67 km SSW of Vanimo, Papua New Guinea</td><td>67 km SSW of Vanimo, Papua New Guinea</td><td>401</td><td>5.1</td><td>mb</td><td>1746291853537</td><td>1746292957399</td></tr><tr><td>nc75176011</td><td>-122.790000915527</td><td>38.8354988098145</td><td>1.73000001907349</td><td>M 0.9 - 6 km WNW of Cobb, CA</td><td>6 km WNW of Cobb, CA</td><td>11</td><td>0.85</td><td>md</td><td>1746291305930</td><td>1746295636886</td></tr><tr><td>us7000pwxh</td><td>-138.0379</td><td>60.0996</td><td>2.786</td><td>M 2.9 - 113 km ENE of Yakutat, Alaska</td><td>113 km ENE of Yakutat, Alaska</td><td>129</td><td>2.9</td><td>ml</td><td>1746290767896</td><td>1746294744040</td></tr><tr><td>nc75176001</td><td>-122.816329956055</td><td>38.8311653137207</td><td>1.37999999523163</td><td>M 0.3 - 8 km NNW of The Geysers, CA</td><td>8 km NNW of The Geysers, CA</td><td>1</td><td>0.27</td><td>md</td><td>1746290711320</td><td>1746292941547</td></tr><tr><td>mb90081358</td><td>-115.168</td><td>44.2723333333333</td><td>9.84</td><td>M 2.0 - 19 km WNW of Stanley, Idaho</td><td>19 km WNW of Stanley, Idaho</td><td>61</td><td>1.99</td><td>ml</td><td>1746289918310</td><td>1746367546030</td></tr><tr><td>ci41143976</td><td>-117.5406667</td><td>35.6831667</td><td>6.65</td><td>M 1.8 - 14 km ENE of Ridgecrest, CA</td><td>14 km ENE of Ridgecrest, CA</td><td>50</td><td>1.81</td><td>ml</td><td>1746289833370</td><td>1746370507300</td></tr><tr><td>us7000pwxc</td><td>-104.9999</td><td>37.0592</td><td>5.0</td><td>M 2.1 - 10 km SSE of Stonewall Gap, Colorado</td><td>10 km SSE of Stonewall Gap, Colorado</td><td>68</td><td>2.1</td><td>ml</td><td>1746289518399</td><td>1746293532040</td></tr><tr><td>us7000pwxb</td><td>143.6087</td><td>-3.3448</td><td>10.0</td><td>M 5.0 - 22 km N of Wewak, Papua New Guinea</td><td>22 km N of Wewak, Papua New Guinea</td><td>386</td><td>5.0</td><td>mb</td><td>1746289270836</td><td>1746293058059</td></tr><tr><td>mb90081348</td><td>-115.169333333333</td><td>44.2703333333333</td><td>9.07</td><td>M 2.2 - 19 km WNW of Stanley, Idaho</td><td>19 km WNW of Stanley, Idaho</td><td>77</td><td>2.23</td><td>ml</td><td>1746287881530</td><td>1746366801860</td></tr><tr><td>us7000pwx5</td><td>-72.8176</td><td>-15.1934</td><td>99.185</td><td>M 4.4 - 2 km SSE of Tomepampa, Peru</td><td>2 km SSE of Tomepampa, Peru</td><td>298</td><td>4.4</td><td>mb</td><td>1746287574308</td><td>1746293157040</td></tr><tr><td>us7000pwx4</td><td>167.9858</td><td>-17.5155</td><td>35.088</td><td>M 5.0 - 42 km NW of Port-Vila, Vanuatu</td><td>42 km NW of Port-Vila, Vanuatu</td><td>386</td><td>5.0</td><td>mb</td><td>1746287347098</td><td>1746358443929</td></tr><tr><td>ci41143928</td><td>-117.497</td><td>34.2841667</td><td>11.51</td><td>M 1.3 - 3 km N of Lytle Creek, CA</td><td>3 km N of Lytle Creek, CA</td><td>27</td><td>1.32</td><td>ml</td><td>1746287093370</td><td>1746370447512</td></tr><tr><td>nc75175981</td><td>-122.844329833984</td><td>38.8228340148926</td><td>2.25999999046326</td><td>M 0.9 - 9 km NW of The Geysers, CA</td><td>9 km NW of The Geysers, CA</td><td>13</td><td>0.92</td><td>md</td><td>1746286450160</td><td>1746288740070</td></tr><tr><td>ci41143920</td><td>-117.7813333</td><td>34.5808333</td><td>8.76</td><td>M 1.7 - 6 km SE of Lake Los Angeles, CA</td><td>6 km SE of Lake Los Angeles, CA</td><td>42</td><td>1.65</td><td>ml</td><td>1746286438920</td><td>1746370511200</td></tr><tr><td>ak0255no4gbe</td><td>-145.4394</td><td>60.0951</td><td>1.7</td><td>M 2.2 - 52 km SSE of Cordova, Alaska</td><td>52 km SSE of Cordova, Alaska</td><td>74</td><td>2.2</td><td>ml</td><td>1746285322826</td><td>1746285454865</td></tr><tr><td>us7000pwx1</td><td>-67.1035</td><td>-57.0433</td><td>10.0</td><td>M 4.2 - 259 km SSE of Ushuaia, Argentina</td><td>259 km SSE of Ushuaia, Argentina</td><td>271</td><td>4.2</td><td>mb</td><td>1746285146966</td><td>1746290200040</td></tr><tr><td>ak0255nns9e4</td><td>-152.0863</td><td>60.5794</td><td>77.9</td><td>M 1.7 - 42 km W of Salamatof, Alaska</td><td>42 km W of Salamatof, Alaska</td><td>44</td><td>1.7</td><td>ml</td><td>1746284314360</td><td>1746284403737</td></tr><tr><td>us7000pwwy</td><td>-77.9596</td><td>-0.6213</td><td>10.0</td><td>M 4.6 - 36 km NNW of Archidona, Ecuador</td><td>36 km NNW of Archidona, Ecuador</td><td>326</td><td>4.6</td><td>mb</td><td>1746283814693</td><td>1746289474025</td></tr><tr><td>us7000pwwx</td><td>-67.701</td><td>-57.1289</td><td>10.0</td><td>M 4.6 - 260 km S of Ushuaia, Argentina</td><td>260 km S of Ushuaia, Argentina</td><td>326</td><td>4.6</td><td>mb</td><td>1746283292337</td><td>1746288158040</td></tr><tr><td>ak0255nnnyyq</td><td>-153.144</td><td>59.8151</td><td>94.9</td><td>M 1.9 - 54 km E of Pedro Bay, Alaska</td><td>54 km E of Pedro Bay, Alaska</td><td>56</td><td>1.9</td><td>ml</td><td>1746283112989</td><td>1746283235754</td></tr><tr><td>nc75175966</td><td>-123.35717010498</td><td>39.4133338928223</td><td>1.85000002384186</td><td>M 2.2 - 0 km  of Willits, CA</td><td>0 km  of Willits, CA</td><td>75</td><td>2.19</td><td>md</td><td>1746282565620</td><td>1746288548307</td></tr><tr><td>nn00897181</td><td>-119.0158</td><td>39.0878</td><td>9.0</td><td>M 0.8 - 17 km NE of Yerington, Nevada</td><td>17 km NE of Yerington, Nevada</td><td>10</td><td>0.8</td><td>ml</td><td>1746282313700</td><td>1746282444771</td></tr><tr><td>ak0255nnkrsf</td><td>-149.8182</td><td>61.6993</td><td>32.0</td><td>M 2.1 - 7 km N of Houston, Alaska</td><td>7 km N of Houston, Alaska</td><td>68</td><td>2.1</td><td>ml</td><td>1746282220315</td><td>1746282356337</td></tr><tr><td>nc75175956</td><td>-122.813499450684</td><td>38.8308334350586</td><td>2.00999999046326</td><td>M 1.4 - 8 km NNW of The Geysers, CA</td><td>8 km NNW of The Geysers, CA</td><td>28</td><td>1.36</td><td>md</td><td>1746282155470</td><td>1746284237599</td></tr><tr><td>us7000pwwu</td><td>124.4235</td><td>1.1743</td><td>231.402</td><td>M 4.5 - 45 km WSW of Tomohon, Indonesia</td><td>45 km WSW of Tomohon, Indonesia</td><td>312</td><td>4.5</td><td>mb</td><td>1746282050752</td><td>1746282925040</td></tr><tr><td>ak0255nnhq6i</td><td>-149.3222</td><td>64.6614</td><td>17.4</td><td>M 1.1 - 11 km NW of Four Mile Road, Alaska</td><td>11 km NW of Four Mile Road, Alaska</td><td>19</td><td>1.1</td><td>ml</td><td>1746281359782</td><td>1746281468201</td></tr><tr><td>ci41143872</td><td>-116.7245</td><td>33.5286667</td><td>4.87</td><td>M 0.8 - 6 km WSW of Anza, CA</td><td>6 km WSW of Anza, CA</td><td>9</td><td>0.76</td><td>ml</td><td>1746281345060</td><td>1746370514020</td></tr><tr><td>us7000pwwr</td><td>-67.9455</td><td>-57.2338</td><td>10.0</td><td>M 4.5 - 270 km S of Ushuaia, Argentina</td><td>270 km S of Ushuaia, Argentina</td><td>312</td><td>4.5</td><td>mb</td><td>1746281270285</td><td>1746287538040</td></tr><tr><td>ak0255nnfuy4</td><td>-150.2221</td><td>60.7169</td><td>40.8</td><td>M 1.5 - 33 km NW of Cooper Landing, Alaska</td><td>33 km NW of Cooper Landing, Alaska</td><td>35</td><td>1.5</td><td>ml</td><td>1746280848448</td><td>1746372253255</td></tr><tr><td>nc75175946</td><td>-122.813331604004</td><td>38.8209991455078</td><td>3.09999990463257</td><td>M 0.8 - 7 km NW of The Geysers, CA</td><td>7 km NW of The Geysers, CA</td><td>10</td><td>0.8</td><td>md</td><td>1746279847530</td><td>1746281538307</td></tr><tr><td>nn00897177</td><td>-116.3078</td><td>36.716</td><td>9.1</td><td>M -0.3 - 45 km ESE of Beatty, Nevada</td><td>45 km ESE of Beatty, Nevada</td><td>0</td><td>-0.3</td><td>ml</td><td>1746279622074</td><td>1746282460914</td></tr><tr><td>nn00897173</td><td>-115.8332</td><td>38.129</td><td>13.6</td><td>M 1.5 - 54 km N of Rachel, Nevada</td><td>54 km N of Rachel, Nevada</td><td>35</td><td>1.5</td><td>ml</td><td>1746278497724</td><td>1746278644111</td></tr><tr><td>ci41143832</td><td>-116.0951667</td><td>33.2523333</td><td>10.45</td><td>M 0.5 - 13 km NNE of Ocotillo Wells, CA</td><td>13 km NNE of Ocotillo Wells, CA</td><td>4</td><td>0.49</td><td>ml</td><td>1746276837340</td><td>1746277046907</td></tr><tr><td>ci41143824</td><td>-116.4656667</td><td>32.9408333</td><td>8.16</td><td>M 0.1 - 14 km NNE of Pine Valley, CA</td><td>14 km NNE of Pine Valley, CA</td><td>0</td><td>0.13</td><td>ml</td><td>1746276776970</td><td>1746276987049</td></tr><tr><td>us7000pwvy</td><td>121.5769</td><td>0.501</td><td>108.386</td><td>M 6.0 - 165 km W of Gorontalo, Indonesia</td><td>165 km W of Gorontalo, Indonesia</td><td>559</td><td>6.0</td><td>mww</td><td>1746276705137</td><td>1746374103863</td></tr><tr><td>ci41143816</td><td>-116.7253333</td><td>33.5371667</td><td>6.68</td><td>M 1.4 - 5 km WSW of Anza, CA</td><td>5 km WSW of Anza, CA</td><td>32</td><td>1.44</td><td>ml</td><td>1746276460870</td><td>1746276679021</td></tr><tr><td>tx2025ipwr</td><td>-103.207</td><td>31.039</td><td>4.2434</td><td>M 1.7 - 26 km SSW of Coyanosa, Texas</td><td>26 km SSW of Coyanosa, Texas</td><td>44</td><td>1.7</td><td>ml</td><td>1746276246741</td><td>1746276853917</td></tr><tr><td>nc75175936</td><td>-122.780334472656</td><td>38.7948341369629</td><td>3.45000004768372</td><td>M 1.1 - 3 km NW of The Geysers, CA</td><td>3 km NW of The Geysers, CA</td><td>18</td><td>1.09</td><td>md</td><td>1746275801000</td><td>1746277639868</td></tr><tr><td>ak0255nmezbo</td><td>-147.4434</td><td>64.506</td><td>1.8</td><td>M 1.2 - 25 km SW of Eielson Air Force Base, Alaska</td><td>25 km SW of Eielson Air Force Base, Alaska</td><td>22</td><td>1.2</td><td>ml</td><td>1746275322442</td><td>1746275471358</td></tr><tr><td>nc75175931</td><td>-122.815002441406</td><td>38.8296661376953</td><td>1.91999995708466</td><td>M 1.3 - 8 km NNW of The Geysers, CA</td><td>8 km NNW of The Geysers, CA</td><td>26</td><td>1.31</td><td>md</td><td>1746274045200</td><td>1746276443726</td></tr><tr><td>us7000pwvl</td><td>-68.4964</td><td>-57.0756</td><td>10.0</td><td>M 4.6 - 252 km S of Ushuaia, Argentina</td><td>252 km S of Ushuaia, Argentina</td><td>326</td><td>4.6</td><td>mb</td><td>1746273282234</td><td>1746274703040</td></tr><tr><td>pr71481233</td><td>-66.8405</td><td>17.9048333333333</td><td>11.64</td><td>M 2.6 - 9 km SSE of Maria Antonia, Puerto Rico</td><td>9 km SSE of Maria Antonia, Puerto Rico</td><td>101</td><td>2.56</td><td>md</td><td>1746273254540</td><td>1746274266370</td></tr><tr><td>ci41143784</td><td>-115.6071667</td><td>33.119</td><td>9.46</td><td>M 1.3 - 9 km W of Calipatria, CA</td><td>9 km W of Calipatria, CA</td><td>26</td><td>1.29</td><td>ml</td><td>1746273124590</td><td>1746273337146</td></tr><tr><td>ci41143776</td><td>-117.8106667</td><td>35.3533333</td><td>6.62</td><td>M 1.2 - 16 km W of Johannesburg, CA</td><td>16 km W of Johannesburg, CA</td><td>23</td><td>1.21</td><td>ml</td><td>1746272979870</td><td>1746370623057</td></tr><tr><td>tx2025iput</td><td>-104.578</td><td>31.717</td><td>3.3701</td><td>M 1.6 - 54 km SSW of Whites City, New Mexico</td><td>54 km SSW of Whites City, New Mexico</td><td>39</td><td>1.6</td><td>ml</td><td>1746272625551</td><td>1746275211403</td></tr><tr><td>ci41143768</td><td>-116.724</td><td>33.9046667</td><td>15.09</td><td>M 0.8 - 6 km ESE of Cabazon, CA</td><td>6 km ESE of Cabazon, CA</td><td>9</td><td>0.75</td><td>ml</td><td>1746272522990</td><td>1746272730623</td></tr><tr><td>us7000pwvh</td><td>-68.7381</td><td>-21.4829</td><td>123.71</td><td>M 4.2 - 57 km WSW of Ollagüe, Chile</td><td>57 km WSW of Ollagüe, Chile</td><td>271</td><td>4.2</td><td>mb</td><td>1746271901914</td><td>1746279614040</td></tr><tr><td>nc75175926</td><td>-122.818336486816</td><td>38.8103332519531</td><td>3.16000008583069</td><td>M 0.5 - 7 km NW of The Geysers, CA</td><td>7 km NW of The Geysers, CA</td><td>4</td><td>0.54</td><td>md</td><td>1746271898490</td><td>1746275239664</td></tr><tr><td>us7000pwvi</td><td>-179.5722</td><td>-27.7253</td><td>478.229</td><td>M 4.5 - Kermadec Islands region</td><td>Kermadec Islands region</td><td>312</td><td>4.5</td><td>mb</td><td>1746271818490</td><td>1746273398040</td></tr><tr><td>tx2025ipuc</td><td>-104.161</td><td>31.521</td><td>3.4859</td><td>M 1.5 - 41 km WNW of Toyah, Texas</td><td>41 km WNW of Toyah, Texas</td><td>35</td><td>1.5</td><td>ml</td><td>1746271423329</td><td>1746271829602</td></tr><tr><td>nc75175921</td><td>-122.875503540039</td><td>38.829833984375</td><td>2.27999997138977</td><td>M 0.7 - 12 km NW of The Geysers, CA</td><td>12 km NW of The Geysers, CA</td><td>8</td><td>0.74</td><td>md</td><td>1746271152980</td><td>1746272236243</td></tr><tr><td>nc75175916</td><td>-122.818832397461</td><td>38.8153343200684</td><td>2.74000000953674</td><td>M 0.8 - 7 km NW of The Geysers, CA</td><td>7 km NW of The Geysers, CA</td><td>10</td><td>0.79</td><td>md</td><td>1746270436610</td><td>1746271340156</td></tr><tr><td>ci41143744</td><td>-117.4083333</td><td>35.9861667</td><td>1.66</td><td>M 1.9 - 24 km N of Searles Valley, CA</td><td>24 km N of Searles Valley, CA</td><td>56</td><td>1.91</td><td>ml</td><td>1746270202310</td><td>1746370702618</td></tr><tr><td>us7000pwvf</td><td>-67.2467</td><td>-57.1941</td><td>10.0</td><td>M 4.9 - 273 km SSE of Ushuaia, Argentina</td><td>273 km SSE of Ushuaia, Argentina</td><td>369</td><td>4.9</td><td>mb</td><td>1746269443557</td><td>1746270471040</td></tr><tr><td>nc75175901</td><td>-122.801498413086</td><td>38.8158340454102</td><td>2.34999990463257</td><td>M 1.3 - 6 km NNW of The Geysers, CA</td><td>6 km NNW of The Geysers, CA</td><td>26</td><td>1.31</td><td>md</td><td>1746269441000</td><td>1746273137348</td></tr><tr><td>mb90081333</td><td>-112.529333333333</td><td>46.8793333333333</td><td>8.89</td><td>M 0.8 - 14 km SE of Lincoln, Montana</td><td>14 km SE of Lincoln, Montana</td><td>11</td><td>0.83</td><td>ml</td><td>1746267931390</td><td>1746281471390</td></tr><tr><td>ak0255nl6mzx</td><td>-152.1449</td><td>60.279</td><td>89.6</td><td>M 1.7 - 36 km NW of Ninilchik, Alaska</td><td>36 km NW of Ninilchik, Alaska</td><td>44</td><td>1.7</td><td>ml</td><td>1746267714052</td><td>1746267835243</td></tr><tr><td>us7000pwv9</td><td>-178.3288</td><td>52.2898</td><td>204.765</td><td>M 4.1 - 125 km WNW of Adak, Alaska</td><td>125 km WNW of Adak, Alaska</td><td>259</td><td>4.1</td><td>mb</td><td>1746266855322</td><td>1746305016304</td></tr><tr><td>ak0255nl3fj8</td><td>178.8832</td><td>51.6216</td><td>68.6</td><td>M 3.6 - Rat Islands, Aleutian Islands, Alaska</td><td>Rat Islands, Aleutian Islands, Alaska</td><td>199</td><td>3.6</td><td>ml</td><td>1746266818336</td><td>1746304301973</td></tr><tr><td>nc75175876</td><td>-123.540496826172</td><td>39.1590003967285</td><td>2.4300000667572</td><td>M 1.7 - 20 km ESE of Navarro Head, CA</td><td>20 km ESE of Navarro Head, CA</td><td>47</td><td>1.74</td><td>md</td><td>1746266805210</td><td>1746270439060</td></tr><tr><td>us7000pwvb</td><td>-67.7044</td><td>-57.0849</td><td>10.0</td><td>M 5.0 - 256 km S of Ushuaia, Argentina</td><td>256 km S of Ushuaia, Argentina</td><td>385</td><td>5.0</td><td>mb</td><td>1746266793184</td><td>1746267781040</td></tr><tr><td>ci41143736</td><td>-116.6408333</td><td>33.5963333</td><td>15.86</td><td>M 0.7 - 6 km NNE of Anza, CA</td><td>6 km NNE of Anza, CA</td><td>7</td><td>0.69</td><td>ml</td><td>1746266707560</td><td>1746266919660</td></tr><tr><td>ci41143728</td><td>-116.8168333</td><td>33.698</td><td>15.66</td><td>M 1.0 - 9 km SE of Valle Vista, CA</td><td>9 km SE of Valle Vista, CA</td><td>16</td><td>1.01</td><td>ml</td><td>1746266238540</td><td>1746370761320</td></tr><tr><td>us7000pwv8</td><td>-173.0797</td><td>52.9492</td><td>193.934</td><td>M 4.0 - 113 km NE of Atka, Alaska</td><td>113 km NE of Atka, Alaska</td><td>246</td><td>4.0</td><td>mb</td><td>1746264917473</td><td>1746268568040</td></tr><tr><td>nc75175861</td><td>-122.810668945312</td><td>38.7986679077148</td><td>3.25999999046326</td><td>M 1.3 - 5 km NW of The Geysers, CA</td><td>5 km NW of The Geysers, CA</td><td>27</td><td>1.32</td><td>md</td><td>1746264906570</td><td>1746269536955</td></tr><tr><td>nc75175856</td><td>-122.728332519531</td><td>38.7630004882812</td><td>1.76999998092651</td><td>M 0.8 - 3 km SE of The Geysers, CA</td><td>3 km SE of The Geysers, CA</td><td>9</td><td>0.76</td><td>md</td><td>1746264891770</td><td>1746268336822</td></tr><tr><td>nc75175851</td><td>-122.729164123535</td><td>38.7620010375977</td><td>2.21000003814697</td><td>M 1.4 - 3 km SE of The Geysers, CA</td><td>3 km SE of The Geysers, CA</td><td>29</td><td>1.37</td><td>md</td><td>1746264877990</td><td>1746266838740</td></tr><tr><td>ak0255nklzre</td><td>-150.5113</td><td>64.5572</td><td>17.3</td><td>M 1.2 - 49 km S of Manley Hot Springs, Alaska</td><td>49 km S of Manley Hot Springs, Alaska</td><td>22</td><td>1.2</td><td>ml</td><td>1746264321707</td><td>1746264429559</td></tr><tr><td>ci41143720</td><td>-117.8041667</td><td>35.3531667</td><td>8.17</td><td>M 0.8 - 16 km W of Johannesburg, CA</td><td>16 km W of Johannesburg, CA</td><td>11</td><td>0.83</td><td>ml</td><td>1746264201590</td><td>1746370737228</td></tr><tr><td>nc75175841</td><td>-122.814834594727</td><td>38.8318328857422</td><td>1.60000002384186</td><td>M 1.4 - 8 km NNW of The Geysers, CA</td><td>8 km NNW of The Geysers, CA</td><td>29</td><td>1.37</td><td>md</td><td>1746263013500</td><td>1746265638601</td></tr><tr><td>nc75175836</td><td>-122.715667724609</td><td>38.7605018615723</td><td>1.38999998569489</td><td>M 1.1 - 3 km WSW of Anderson Springs, CA</td><td>3 km WSW of Anderson Springs, CA</td><td>20</td><td>1.13</td><td>md</td><td>1746262662010</td><td>1746264438382</td></tr><tr><td>uw62092257</td><td>-121.7975</td><td>47.60883333333334</td><td>16.74</td><td>M 1.8 - 8 km NE of Fall City, Washington</td><td>8 km NE of Fall City, Washington</td><td>49</td><td>1.79</td><td>ml</td><td>1746262489300</td><td>1746333800255</td></tr><tr><td>nn00897168</td><td>-119.4608</td><td>39.8242</td><td>9.9</td><td>M 1.2 - 8 km W of Nixon, Nevada</td><td>8 km W of Nixon, Nevada</td><td>22</td><td>1.2</td><td>ml</td><td>1746260793535</td><td>1746260923492</td></tr><tr><td>nn00897166</td><td>-119.4674</td><td>39.8262</td><td>10.7</td><td>M 1.3 - 9 km W of Nixon, Nevada</td><td>9 km W of Nixon, Nevada</td><td>26</td><td>1.3</td><td>ml</td><td>1746260135418</td><td>1746260263542</td></tr><tr><td>nn00897164</td><td>-119.0529</td><td>39.1498</td><td>8.9</td><td>M 1.0 - 20 km NNE of Yerington, Nevada</td><td>20 km NNE of Yerington, Nevada</td><td>15</td><td>1.0</td><td>ml</td><td>1746259929892</td><td>1746260063905</td></tr><tr><td>nn00897163</td><td>-119.0572</td><td>39.1397</td><td>6.4</td><td>M 0.9 - 19 km NNE of Yerington, Nevada</td><td>19 km NNE of Yerington, Nevada</td><td>12</td><td>0.9</td><td>ml</td><td>1746259879999</td><td>1746260013331</td></tr><tr><td>ci41143696</td><td>-115.8505</td><td>32.6748333</td><td>8.84</td><td>M 1.5 - 15 km ESE of Ocotillo, CA</td><td>15 km ESE of Ocotillo, CA</td><td>32</td><td>1.45</td><td>ml</td><td>1746259741710</td><td>1746370824280</td></tr><tr><td>us7000pwux</td><td>81.8832</td><td>33.5302</td><td>10.0</td><td>M 4.4 - western Xizang</td><td>western Xizang</td><td>298</td><td>4.4</td><td>mb</td><td>1746258847734</td><td>1746260373040</td></tr><tr><td>tx2025ipna</td><td>-104.35</td><td>31.656</td><td>4.0103</td><td>M 1.6 - 57 km S of Whites City, New Mexico</td><td>57 km S of Whites City, New Mexico</td><td>39</td><td>1.6</td><td>ml</td><td>1746258680761</td><td>1746259465072</td></tr><tr><td>us7000pwuv</td><td>70.8337</td><td>36.6747</td><td>218.701</td><td>M 4.0 - 21 km S of Jurm, Afghanistan</td><td>21 km S of Jurm, Afghanistan</td><td>246</td><td>4.0</td><td>mb</td><td>1746258635082</td><td>1746260133040</td></tr><tr><td>us7000pwuu</td><td>-67.0685</td><td>-57.0831</td><td>10.0</td><td>M 4.9 - 264 km SSE of Ushuaia, Argentina</td><td>264 km SSE of Ushuaia, Argentina</td><td>369</td><td>4.9</td><td>mb</td><td>1746258484521</td><td>1746259414040</td></tr><tr><td>uw62092242</td><td>-121.9205</td><td>46.828</td><td>11.18</td><td>M 0.9 - 11 km NE of Ashford, Washington</td><td>11 km NE of Ashford, Washington</td><td>13</td><td>0.91</td><td>ml</td><td>1746257773240</td><td>1746338804870</td></tr><tr><td>nm60605461</td><td>-89.5521666666667</td><td>36.4913333333333</td><td>8.24</td><td>M 2.4 - 6 km ESE of Marston, Missouri</td><td>6 km ESE of Marston, Missouri</td><td>88</td><td>2.39</td><td>md</td><td>1746257579520</td><td>1746290836783</td></tr><tr><td>us7000pwuw</td><td>-66.8052</td><td>-57.2341</td><td>10.0</td><td>M 4.7 - 285 km SSE of Ushuaia, Argentina</td><td>285 km SSE of Ushuaia, Argentina</td><td>340</td><td>4.7</td><td>mb</td><td>1746256693011</td><td>1746259967040</td></tr><tr><td>nc75175806</td><td>-122.770835876465</td><td>38.7879981994629</td><td>0.980000019073486</td><td>M 1.5 - 2 km NW of The Geysers, CA</td><td>2 km NW of The Geysers, CA</td><td>36</td><td>1.54</td><td>md</td><td>1746256670760</td><td>1746259637857</td></tr><tr><td>ak0255njclrv</td><td>-147.2872</td><td>61.3065</td><td>14.5</td><td>M 1.6 - 54 km WNW of Valdez, Alaska</td><td>54 km WNW of Valdez, Alaska</td><td>39</td><td>1.6</td><td>ml</td><td>1746256425233</td><td>1746256539426</td></tr><tr><td>ci41143680</td><td>-116.7186667</td><td>33.5325</td><td>5.83</td><td>M 0.8 - 5 km WSW of Anza, CA</td><td>5 km WSW of Anza, CA</td><td>9</td><td>0.75</td><td>ml</td><td>1746255793850</td><td>1746370827060</td></tr><tr><td>ak0255niw2pb</td><td>-153.5873</td><td>58.3246</td><td>56.9</td><td>M 1.6 - 49 km NW of Aleneva, Alaska</td><td>49 km NW of Aleneva, Alaska</td><td>39</td><td>1.6</td><td>ml</td><td>1746254193112</td><td>1746254334183</td></tr><tr><td>nc75175796</td><td>-122.816665649414</td><td>38.8305015563965</td><td>1.88999998569489</td><td>M 0.7 - 8 km NNW of The Geysers, CA</td><td>8 km NNW of The Geysers, CA</td><td>8</td><td>0.72</td><td>md</td><td>1746254184140</td><td>1746254845442</td></tr><tr><td>nn00897162</td><td>-119.0542</td><td>39.0914</td><td>9.8</td><td>M 1.2 - 15 km NE of Yerington, Nevada</td><td>15 km NE of Yerington, Nevada</td><td>22</td><td>1.2</td><td>ml</td><td>1746252699141</td><td>1746252833433</td></tr><tr><td>ci41143672</td><td>-116.4676667</td><td>33.0011667</td><td>9.16</td><td>M 0.7 - 15 km SE of Julian, CA</td><td>15 km SE of Julian, CA</td><td>8</td><td>0.72</td><td>ml</td><td>1746251981470</td><td>1746370762623</td></tr><tr><td>nc75175781</td><td>-122.823501586914</td><td>38.8408317565918</td><td>1.6599999666214</td><td>M 1.0 - 9 km WNW of Cobb, CA</td><td>9 km WNW of Cobb, CA</td><td>15</td><td>0.98</td><td>md</td><td>1746251760300</td><td>1746252735149</td></tr><tr><td>ci41143664</td><td>-117.8043333</td><td>35.3555</td><td>7.04</td><td>M 1.4 - 16 km W of Johannesburg, CA</td><td>16 km W of Johannesburg, CA</td><td>28</td><td>1.35</td><td>ml</td><td>1746251607860</td><td>1746370828625</td></tr><tr><td>nc75175776</td><td>-122.821334838867</td><td>38.8178329467773</td><td>2.26999998092651</td><td>M 1.1 - 7 km NW of The Geysers, CA</td><td>7 km NW of The Geysers, CA</td><td>19</td><td>1.12</td><td>md</td><td>1746251401060</td><td>1746257237613</td></tr><tr><td>nc75175771</td><td>-122.738670349121</td><td>38.7931671142578</td><td>1.11000001430511</td><td>M 1.1 - 2 km NE of The Geysers, CA</td><td>2 km NE of The Geysers, CA</td><td>19</td><td>1.1</td><td>md</td><td>1746250891820</td><td>1746256037481</td></tr><tr><td>ak0255nibp6o</td><td>-152.3823</td><td>59.4986</td><td>80.9</td><td>M 2.1 - 30 km WNW of Nanwalek, Alaska</td><td>30 km WNW of Nanwalek, Alaska</td><td>68</td><td>2.1</td><td>ml</td><td>1746250886727</td><td>1746251035736</td></tr><tr><td>nc75175766</td><td>-122.739501953125</td><td>38.7938346862793</td><td>1.13999998569489</td><td>M 1.4 - 2 km NE of The Geysers, CA</td><td>2 km NE of The Geysers, CA</td><td>30</td><td>1.4</td><td>md</td><td>1746250853120</td><td>1746255140384</td></tr><tr><td>ak0255ni8nia</td><td>-150.5123</td><td>61.1995</td><td>42.1</td><td>M 1.8 - 31 km ENE of Beluga, Alaska</td><td>31 km ENE of Beluga, Alaska</td><td>50</td><td>1.8</td><td>ml</td><td>1746250025300</td><td>1746250122401</td></tr><tr><td>nc75175761</td><td>-122.757499694824</td><td>38.7818336486816</td><td>2.4300000667572</td><td>M 0.5 - 1 km N of The Geysers, CA</td><td>1 km N of The Geysers, CA</td><td>3</td><td>0.45</td><td>md</td><td>1746249554580</td><td>1746253039187</td></tr><tr><td>ak0255ni6e8x</td><td>-150.7248</td><td>63.0023</td><td>93.1</td><td>M 1.5 - 56 km N of Petersville, Alaska</td><td>56 km N of Petersville, Alaska</td><td>35</td><td>1.5</td><td>ml</td><td>1746249412170</td><td>1746249539912</td></tr><tr><td>us7000pwu9</td><td>140.9884</td><td>-3.1677</td><td>35.0</td><td>M 5.4 - 63 km SSW of Vanimo, Papua New Guinea</td><td>63 km SSW of Vanimo, Papua New Guinea</td><td>454</td><td>5.4</td><td>mb</td><td>1746249040426</td><td>1746336937341</td></tr><tr><td>ci41143640</td><td>-116.3955</td><td>33.0333333</td><td>11.62</td><td>M 0.5 - 20 km ESE of Julian, CA</td><td>20 km ESE of Julian, CA</td><td>4</td><td>0.5</td><td>ml</td><td>1746248476790</td><td>1746370843449</td></tr><tr><td>ci41143632</td><td>-115.4453333</td><td>32.811</td><td>9.57</td><td>M 1.4 - 6 km W of Holtville, CA</td><td>6 km W of Holtville, CA</td><td>30</td><td>1.4</td><td>ml</td><td>1746248189740</td><td>1746248410196</td></tr><tr><td>mb90081308</td><td>-113.057333333333</td><td>44.179</td><td>3.52</td><td>M 1.0 - 53 km ENE of Mackay, Idaho</td><td>53 km ENE of Mackay, Idaho</td><td>16</td><td>1.01</td><td>ml</td><td>1746247593590</td><td>1746276790870</td></tr><tr><td>us7000pwu6</td><td>103.3802</td><td>-6.4072</td><td>10.0</td><td>M 4.8 - 234 km WSW of Bandar Lampung, Indonesia</td><td>234 km WSW of Bandar Lampung, Indonesia</td><td>354</td><td>4.8</td><td>mb</td><td>1746247555454</td><td>1746248788040</td></tr><tr><td>nc75175756</td><td>-122.821662902832</td><td>38.832332611084</td><td>2.22000002861023</td><td>M 0.8 - 8 km NNW of The Geysers, CA</td><td>8 km NNW of The Geysers, CA</td><td>9</td><td>0.77</td><td>md</td><td>1746247123440</td><td>1746248835763</td></tr><tr><td>nc75175751</td><td>-122.820503234863</td><td>38.8315010070801</td><td>2.07999992370605</td><td>M 1.1 - 8 km NNW of The Geysers, CA</td><td>8 km NNW of The Geysers, CA</td><td>18</td><td>1.08</td><td>md</td><td>1746247109790</td><td>1746250937961</td></tr><tr><td>ak0255nhn2p9</td><td>-152.0718</td><td>61.0057</td><td>93.6</td><td>M 1.5 - 50 km W of Tyonek, Alaska</td><td>50 km W of Tyonek, Alaska</td><td>35</td><td>1.5</td><td>ml</td><td>1746246397890</td><td>1746246502337</td></tr><tr><td>ci41143624</td><td>-118.1648333</td><td>35.2006667</td><td>2.27</td><td>M 2.0 - 16 km N of Mojave, CA</td><td>16 km N of Mojave, CA</td><td>59</td><td>1.96</td><td>ml</td><td>1746245106370</td><td>1746370913630</td></tr><tr><td>pr71481223</td><td>-66.896</td><td>17.9651666666667</td><td>11.5</td><td>M 2.3 - 1 km ESE of Guánica, Puerto Rico</td><td>1 km ESE of Guánica, Puerto Rico</td><td>83</td><td>2.32</td><td>md</td><td>1746244765600</td><td>1746245206630</td></tr><tr><td>mb90081303</td><td>-111.856166666667</td><td>45.8046666666667</td><td>11.76</td><td>M 0.3 - 9 km SE of Cardwell, Montana</td><td>9 km SE of Cardwell, Montana</td><td>1</td><td>0.29</td><td>ml</td><td>1746244673720</td><td>1746278217110</td></tr><tr><td>mb90081298</td><td>-116.117666666667</td><td>44.3585</td><td>6.61</td><td>M 1.8 - 6 km NNW of Smiths Ferry, Idaho</td><td>6 km NNW of Smiths Ferry, Idaho</td><td>50</td><td>1.81</td><td>ml</td><td>1746244449280</td><td>1746277870460</td></tr><tr><td>pr71481238</td><td>-66.8375</td><td>17.9241666666667</td><td>9.35</td><td>M 2.4 - 7 km SSW of Indios, Puerto Rico</td><td>7 km SSW of Indios, Puerto Rico</td><td>86</td><td>2.36</td><td>md</td><td>1746244105530</td><td>1746289174970</td></tr><tr><td>nc75175736</td><td>-122.817169189453</td><td>38.8033332824707</td><td>0.00999999977648258</td><td>M 1.1 - 6 km NW of The Geysers, CA</td><td>6 km NW of The Geysers, CA</td><td>18</td><td>1.09</td><td>md</td><td>1746243815850</td><td>1746244744873</td></tr><tr><td>hv74664847</td><td>-155.494003295898</td><td>19.1841659545898</td><td>31.0400009155273</td><td>M 2.3 - 2 km SW of Pāhala, Hawaii</td><td>2 km SW of Pāhala, Hawaii</td><td>83</td><td>2.32</td><td>ml</td><td>1746243707840</td><td>1746245445040</td></tr><tr><td>ci41143600</td><td>-116.7885</td><td>33.6911667</td><td>16.11</td><td>M 0.5 - 8 km SW of Idyllwild, CA</td><td>8 km SW of Idyllwild, CA</td><td>4</td><td>0.52</td><td>ml</td><td>1746243696740</td><td>1746370926216</td></tr><tr><td>tx2025ipeo</td><td>-104.025</td><td>31.634</td><td>6.5741</td><td>M 3.4 - 41 km W of Mentone, Texas</td><td>41 km W of Mentone, Texas</td><td>206</td><td>3.4</td><td>ml</td><td>1746243296636</td><td>1746362767888</td></tr><tr><td>nc75175731</td><td>-122.788497924805</td><td>38.798168182373</td><td>-0.0900000035762787</td><td>M 1.1 - 4 km NW of The Geysers, CA</td><td>4 km NW of The Geysers, CA</td><td>19</td><td>1.1</td><td>md</td><td>1746242789310</td><td>1746248837763</td></tr><tr><td>ci41143584</td><td>-118.3506667</td><td>33.9175</td><td>10.78</td><td>M 1.5 - 0 km NE of Hawthorne, CA</td><td>0 km NE of Hawthorne, CA</td><td>35</td><td>1.5</td><td>ml</td><td>1746242275760</td><td>1746242998319</td></tr><tr><td>pr2025123000</td><td>-68.4143</td><td>18.923</td><td>9.0</td><td>M 3.5 - 37 km N of Punta Cana, Dominican Republic</td><td>37 km N of Punta Cana, Dominican Republic</td><td>186</td><td>3.48</td><td>md</td><td>1746240707260</td><td>1746245721448</td></tr><tr><td>nn00897160</td><td>-119.0751</td><td>39.1578</td><td>7.8</td><td>M 1.1 - 20 km NNE of Yerington, Nevada</td><td>20 km NNE of Yerington, Nevada</td><td>19</td><td>1.1</td><td>ml</td><td>1746240129334</td><td>1746240262920</td></tr><tr><td>nn00897179</td><td>-116.0352</td><td>36.7623</td><td>5.0</td><td>M -0.3 - 38 km WNW of Indian Springs, Nevada</td><td>38 km WNW of Indian Springs, Nevada</td><td>0</td><td>-0.3</td><td>ml</td><td>1746240003519</td><td>1746280626640</td></tr><tr><td>ci41143544</td><td>-117.7623333</td><td>36.0346667</td><td>1.64</td><td>M 1.3 - 17 km E of Coso Junction, CA</td><td>17 km E of Coso Junction, CA</td><td>26</td><td>1.3</td><td>ml</td><td>1746239869950</td><td>1746240078217</td></tr><tr><td>us7000pwti</td><td>-48.7346</td><td>-54.2791</td><td>10.0</td><td>M 5.0 - South Atlantic Ocean</td><td>South Atlantic Ocean</td><td>385</td><td>5.0</td><td>mb</td><td>1746239804869</td><td>1746240999040</td></tr><tr><td>uw62092132</td><td>-122.0935</td><td>46.17366666666667</td><td>7.35</td><td>M 0.5 - 40 km NE of Amboy, Washington</td><td>40 km NE of Amboy, Washington</td><td>4</td><td>0.51</td><td>ml</td><td>1746239416180</td><td>1746248593070</td></tr><tr><td>nc75175721</td><td>-122.75316619873</td><td>38.7948341369629</td><td>0.0599999986588955</td><td>M 1.5 - 2 km NNE of The Geysers, CA</td><td>2 km NNE of The Geysers, CA</td><td>33</td><td>1.47</td><td>md</td><td>1746239312860</td><td>1746247640625</td></tr><tr><td>us7000pwte</td><td>114.0138</td><td>-9.2067</td><td>67.512</td><td>M 4.8 - 91 km S of Gambiran Satu, Indonesia</td><td>91 km S of Gambiran Satu, Indonesia</td><td>355</td><td>4.8</td><td>mb</td><td>1746238759848</td><td>1746254469086</td></tr><tr><td>pr71481193</td><td>-66.8285</td><td>18.0223333333333</td><td>18.39</td><td>M 2.2 - 2 km ESE of Yauco, Puerto Rico</td><td>2 km ESE of Yauco, Puerto Rico</td><td>72</td><td>2.16</td><td>md</td><td>1746238425970</td><td>1746239086230</td></tr><tr><td>pr71481183</td><td>-67.0511666666667</td><td>18.7121666666667</td><td>24.91</td><td>M 3.2 - 23 km N of Isabela, Puerto Rico</td><td>23 km N of Isabela, Puerto Rico</td><td>157</td><td>3.19</td><td>md</td><td>1746238059210</td><td>1746241733465</td></tr><tr><td>nc75175716</td><td>-122.749336242676</td><td>38.7893333435059</td><td>5.94000005722046</td><td>M 0.3 - 1 km NE of The Geysers, CA</td><td>1 km NE of The Geysers, CA</td><td>1</td><td>0.31</td><td>md</td><td>1746237908000</td><td>1746238936623</td></tr><tr><td>nc75175711</td><td>-122.764999389648</td><td>38.7881660461426</td><td>1.25</td><td>M 1.0 - 1 km NNW of The Geysers, CA</td><td>1 km NNW of The Geysers, CA</td><td>14</td><td>0.96</td><td>md</td><td>1746237848360</td><td>1746238936718</td></tr><tr><td>nc75175706</td><td>-122.752334594727</td><td>38.7934989929199</td><td>0.560000002384186</td><td>M 1.8 - 2 km NNE of The Geysers, CA</td><td>2 km NNE of The Geysers, CA</td><td>48</td><td>1.76</td><td>md</td><td>1746237714150</td><td>1746246739521</td></tr><tr><td>tx2025ipbd</td><td>-103.753</td><td>31.224</td><td>9.9079</td><td>M 1.5 - 10 km SSE of Toyah, Texas</td><td>10 km SSE of Toyah, Texas</td><td>35</td><td>1.5</td><td>ml</td><td>1746237174975</td><td>1746237693171</td></tr><tr><td>nc75175701</td><td>-122.823669433594</td><td>38.8201675415039</td><td>2.08999991416931</td><td>M 0.8 - 8 km NW of The Geysers, CA</td><td>8 km NW of The Geysers, CA</td><td>10</td><td>0.79</td><td>md</td><td>1746237144870</td><td>1746238338556</td></tr><tr><td>nc75175696</td><td>-122.772163391113</td><td>38.7886657714844</td><td>1.0</td><td>M 0.6 - 2 km NW of The Geysers, CA</td><td>2 km NW of The Geysers, CA</td><td>5</td><td>0.58</td><td>md</td><td>1746237056390</td><td>1746238039624</td></tr><tr><td>nc75175691</td><td>-121.203834533691</td><td>37.1726684570312</td><td>0.159999996423721</td><td>M 2.0 - 20 km WSW of Gustine, CA</td><td>20 km WSW of Gustine, CA</td><td>63</td><td>2.02</td><td>md</td><td>1746236803720</td><td>1746245539496</td></tr><tr><td>ak0255nfyzoo</td><td>-151.8257</td><td>60.0178</td><td>57.1</td><td>M 1.5 - 9 km NNW of Happy Valley, Alaska</td><td>9 km NNW of Happy Valley, Alaska</td><td>35</td><td>1.5</td><td>ml</td><td>1746236765206</td><td>1746236897589</td></tr><tr><td>tx2025ipav</td><td>-103.758</td><td>31.227</td><td>8.0911</td><td>M 1.7 - 10 km SSE of Toyah, Texas</td><td>10 km SSE of Toyah, Texas</td><td>44</td><td>1.7</td><td>ml</td><td>1746236712581</td><td>1746237028988</td></tr><tr><td>us7000pwt8</td><td>151.799</td><td>-6.0738</td><td>10.0</td><td>M 4.9 - 192 km ESE of Kimbe, Papua New Guinea</td><td>192 km ESE of Kimbe, Papua New Guinea</td><td>369</td><td>4.9</td><td>mb</td><td>1746236672188</td><td>1746239552040</td></tr><tr><td>ci41143504</td><td>-116.8918333</td><td>33.4803333</td><td>13.59</td><td>M 1.4 - 5 km NNW of Aguanga, CA</td><td>5 km NNW of Aguanga, CA</td><td>30</td><td>1.39</td><td>ml</td><td>1746236407160</td><td>1746371077740</td></tr><tr><td>uw62092107</td><td>-121.96166666666667</td><td>47.18366666666667</td><td>17.08</td><td>M 0.9 - 3 km SE of Enumclaw, Washington</td><td>3 km SE of Enumclaw, Washington</td><td>12</td><td>0.89</td><td>ml</td><td>1746235563350</td><td>1746247935430</td></tr><tr><td>nc75175676</td><td>-122.773002624512</td><td>38.7883338928223</td><td>0.889999985694885</td><td>M 1.1 - 2 km NW of The Geysers, CA</td><td>2 km NW of The Geysers, CA</td><td>19</td><td>1.11</td><td>md</td><td>1746234928090</td><td>1746244642388</td></tr><tr><td>nc75175671</td><td>-122.783996582031</td><td>38.8411674499512</td><td>2.69000005722046</td><td>M 0.3 - 6 km WNW of Cobb, CA</td><td>6 km WNW of Cobb, CA</td><td>1</td><td>0.29</td><td>md</td><td>1746234619080</td><td>1746236237396</td></tr><tr><td>nc75175661</td><td>-122.818664550781</td><td>38.7991676330566</td><td>2.92000007629395</td><td>M 0.9 - 6 km NW of The Geysers, CA</td><td>6 km NW of The Geysers, CA</td><td>12</td><td>0.9</td><td>md</td><td>1746234089300</td><td>1746234185936</td></tr><tr><td>nc75175656</td><td>-121.026168823242</td><td>36.6311683654785</td><td>0.629999995231628</td><td>M 1.4 - 15 km NE of Pinnacles, CA</td><td>15 km NE of Pinnacles, CA</td><td>30</td><td>1.4</td><td>md</td><td>1746233894150</td><td>1746235938285</td></tr><tr><td>ak0255nffr53</td><td>-153.744</td><td>59.549</td><td>130.2</td><td>M 2.8 - 33 km SE of Pedro Bay, Alaska</td><td>33 km SE of Pedro Bay, Alaska</td><td>121</td><td>2.8</td><td>ml</td><td>1746233797032</td><td>1746238536040</td></tr><tr><td>ak0255nfdlse</td><td>-156.3976</td><td>58.1455</td><td>0.3</td><td>M 3.3 - 58 km E of Egegik, Alaska</td><td>58 km E of Egegik, Alaska</td><td>168</td><td>3.3</td><td>ml</td><td>1746233187340</td><td>1746237388040</td></tr><tr><td>ci41143480</td><td>-117.8083333</td><td>35.3523333</td><td>8.07</td><td>M 1.1 - 16 km W of Johannesburg, CA</td><td>16 km W of Johannesburg, CA</td><td>17</td><td>1.05</td><td>ml</td><td>1746233082740</td><td>1746371054647</td></tr><tr><td>nc75175631</td><td>-122.732330322266</td><td>38.7576675415039</td><td>1.19000005722046</td><td>M 1.7 - 3 km SSE of The Geysers, CA</td><td>3 km SSE of The Geysers, CA</td><td>42</td><td>1.65</td><td>md</td><td>1746232990360</td><td>1746241639949</td></tr><tr><td>nc75175621</td><td>-122.773170471191</td><td>38.8018341064453</td><td>0.109999999403954</td><td>M 1.1 - 3 km NNW of The Geysers, CA</td><td>3 km NNW of The Geysers, CA</td><td>19</td><td>1.1</td><td>md</td><td>1746232879000</td><td>1746240439805</td></tr><tr><td>nc75175601</td><td>-122.748168945312</td><td>38.7949981689453</td><td>-0.129999995231628</td><td>M 1.3 - 2 km NNE of The Geysers, CA</td><td>2 km NNE of The Geysers, CA</td><td>25</td><td>1.28</td><td>md</td><td>1746232652140</td><td>1746239239663</td></tr><tr><td>nc75175591</td><td>-122.739334106445</td><td>38.7908325195312</td><td>0.46000000834465</td><td>M 0.6 - 2 km NE of The Geysers, CA</td><td>2 km NE of The Geysers, CA</td><td>5</td><td>0.55</td><td>md</td><td>1746232615010</td><td>1746234439124</td></tr><tr><td>nc75175586</td><td>-122.769332885742</td><td>38.7890014648438</td><td>1.98000001907349</td><td>M 0.9 - 2 km NNW of The Geysers, CA</td><td>2 km NNW of The Geysers, CA</td><td>12</td><td>0.87</td><td>md</td><td>1746232597930</td><td>1746233841065</td></tr><tr><td>nc75175576</td><td>-122.726165771484</td><td>38.7911682128906</td><td>0.330000013113022</td><td>M 1.3 - 3 km ENE of The Geysers, CA</td><td>3 km ENE of The Geysers, CA</td><td>25</td><td>1.26</td><td>md</td><td>1746232576430</td><td>1746241017675</td></tr><tr><td>nc75175581</td><td>-122.7585</td><td>38.7903333333333</td><td>2.27</td><td>M 3.7 - 1 km N of The Geysers, CA</td><td>1 km N of The Geysers, CA</td><td>222</td><td>3.7</td><td>mw</td><td>1746232518960</td><td>1746337634419</td></tr><tr><td>nc75175571</td><td>-121.344329833984</td><td>36.738166809082</td><td>15.7200002670288</td><td>M 1.6 - 6 km SSW of Tres Pinos, CA</td><td>6 km SSW of Tres Pinos, CA</td><td>40</td><td>1.61</td><td>md</td><td>1746232295200</td><td>1746235041191</td></tr><tr><td>ci41143472</td><td>-117.5641667</td><td>35.7351667</td><td>7.22</td><td>M 1.6 - 15 km WSW of Searles Valley, CA</td><td>15 km WSW of Searles Valley, CA</td><td>38</td><td>1.57</td><td>ml</td><td>1746232273380</td><td>1746232497193</td></tr><tr><td>ak0255nf9qy5</td><td>-151.6716</td><td>60.6585</td><td>75.4</td><td>M 1.8 - 19 km WNW of Salamatof, Alaska</td><td>19 km WNW of Salamatof, Alaska</td><td>50</td><td>1.8</td><td>ml</td><td>1746232107977</td><td>1746232261111</td></tr><tr><td>ci41143456</td><td>-118.204</td><td>34.0191667</td><td>15.63</td><td>M 1.4 - 4 km WSW of East Los Angeles, CA</td><td>4 km WSW of East Los Angeles, CA</td><td>31</td><td>1.43</td><td>ml</td><td>1746231181320</td><td>1746231803300</td></tr><tr><td>hv74664737</td><td>-155.100666666667</td><td>19.3598333333333</td><td>7.44</td><td>M 1.7 - 12 km SSE of Fern Forest, Hawaii</td><td>12 km SSE of Fern Forest, Hawaii</td><td>44</td><td>1.7</td><td>ml</td><td>1746230416050</td><td>1746237113960</td></tr></tbody></table></div>"
      ]
     },
     "metadata": {
      "application/vnd.databricks.v1+output": {
       "addedWidgets": {},
       "aggData": [],
       "aggError": "",
       "aggOverflow": false,
       "aggSchema": [],
       "aggSeriesLimitReached": false,
       "aggType": "",
       "arguments": {},
       "columnCustomDisplayInfos": {},
       "data": [
        [
         "nm60503563",
         -92.9183333333333,
         35.873,
         2.76,
         "M 2.4 - 14 km NE of Pelsor, Arkansas",
         "14 km NE of Pelsor, Arkansas",
         87,
         2.38,
         "md",
         1746316297500,
         1746373147630
        ],
        [
         "nn00897188",
         -119.3563,
         39.6467,
         12.1,
         "M 1.4 - 6 km WNW of Wadsworth, Nevada",
         "6 km WNW of Wadsworth, Nevada",
         30,
         1.4,
         "ml",
         1746315476027,
         1746315629162
        ],
        [
         "nc75176126",
         -121.63200378418,
         36.8481674194336,
         0.689999997615814,
         "M 1.4 - 5 km S of Aromas, CA",
         "5 km S of Aromas, CA",
         31,
         1.42,
         "md",
         1746314360660,
         1746316039185
        ],
        [
         "ak0255nsv4h2",
         -147.4666,
         64.9681,
         0.0,
         "M 1.1 - 7 km E of Fox, Alaska",
         "7 km E of Fox, Alaska",
         19,
         1.1,
         "ml",
         1746313911102,
         1746314018235
        ],
        [
         "ak0255nstyyw",
         -151.8208,
         64.4694,
         2.3,
         "M 1.1 - 69 km NNE of Lake Minchumina, Alaska",
         "69 km NNE of Lake Minchumina, Alaska",
         19,
         1.1,
         "ml",
         1746313573207,
         1746313713885
        ],
        [
         "ak0255nstyqr",
         -148.3672,
         61.5458,
         20.9,
         "M 1.2 - 28 km S of Chickaloon, Alaska",
         "28 km S of Chickaloon, Alaska",
         22,
         1.2,
         "ml",
         1746313570274,
         1746313643518
        ],
        [
         "ak0255nssoyd",
         -156.8836,
         56.015,
         2.4,
         "M 2.3 - 99 km ESE of Chignik, Alaska",
         "99 km ESE of Chignik, Alaska",
         81,
         2.3,
         "ml",
         1746313216851,
         1746313356258
        ],
        [
         "ak0255nsim6z",
         -148.183,
         65.4472,
         3.6,
         "M 2.5 - 18 km ESE of Livengood, Alaska",
         "18 km ESE of Livengood, Alaska",
         96,
         2.5,
         "ml",
         1746312795479,
         1746312905336
        ],
        [
         "ak0255nsesao",
         -149.5192,
         63.6266,
         57.4,
         "M 1.5 - 32 km WSW of Denali Park, Alaska",
         "32 km WSW of Denali Park, Alaska",
         35,
         1.5,
         "ml",
         1746311728322,
         1746311848679
        ],
        [
         "nc75176121",
         -122.77116394043,
         38.787166595459,
         1.23000001907349,
         "M 0.7 - 2 km NW of The Geysers, CA",
         "2 km NW of The Geysers, CA",
         8,
         0.74,
         "md",
         1746311338900,
         1746314240990
        ],
        [
         "ak0255nscto4",
         -149.9093,
         61.8635,
         44.4,
         "M 1.2 - 14 km NNE of Willow, Alaska",
         "14 km NNE of Willow, Alaska",
         22,
         1.2,
         "ml",
         1746311173006,
         1746311332589
        ],
        [
         "nc75176116",
         -121.40983581543,
         36.9259986877441,
         15.460000038147,
         "M 1.2 - 9 km N of Hollister, CA",
         "9 km N of Hollister, CA",
         21,
         1.17,
         "md",
         1746311058460,
         1746313036859
        ],
        [
         "ci41144264",
         -116.4306667,
         33.4388333,
         11.01,
         "M 0.7 - 21 km NNW of Borrego Springs, CA",
         "21 km NNW of Borrego Springs, CA",
         7,
         0.66,
         "ml",
         1746311039330,
         1746311252528
        ],
        [
         "uw62092622",
         -123.03916666666667,
         45.143166666666666,
         23.31,
         "M 1.7 - 9 km SSW of Saint Paul, Oregon",
         "9 km SSW of Saint Paul, Oregon",
         42,
         1.6500000000000001,
         "ml",
         1746310566660,
         1746336811830
        ],
        [
         "mb90081398",
         -112.828666666667,
         44.8706666666667,
         11.09,
         "M 0.8 - 32 km NW of Lima, Montana",
         "32 km NW of Lima, Montana",
         10,
         0.8,
         "ml",
         1746309075780,
         1746310463030
        ],
        [
         "nc75176096",
         -122.783836364746,
         38.8348350524902,
         2.9300000667572,
         "M 0.7 - 5 km WNW of Cobb, CA",
         "5 km WNW of Cobb, CA",
         8,
         0.72,
         "md",
         1746308703430,
         1746310640588
        ],
        [
         "mb90081388",
         -112.520833333333,
         46.8988333333333,
         11.38,
         "M 1.1 - 13 km ESE of Lincoln, Montana",
         "13 km ESE of Lincoln, Montana",
         18,
         1.08,
         "ml",
         1746307799610,
         1746310191780
        ],
        [
         "ak0255nrrmzh",
         -149.3607,
         62.9757,
         69.3,
         "M 1.7 - 50 km SSW of Cantwell, Alaska",
         "50 km SSW of Cantwell, Alaska",
         44,
         1.7,
         "ml",
         1746307648616,
         1746307759382
        ],
        [
         "us7000pwyv",
         117.7102,
         -7.8887,
         10.0,
         "M 4.5 - 63 km NNE of Pototano, Indonesia",
         "63 km NNE of Pototano, Indonesia",
         312,
         4.5,
         "mb",
         1746307586077,
         1746310323040
        ],
        [
         "us7000pwys",
         129.9592,
         -6.8264,
         120.086,
         "M 4.4 - Banda Sea",
         "Banda Sea",
         298,
         4.4,
         "mb",
         1746306827179,
         1746309537040
        ],
        [
         "ci41144208",
         -115.7873333,
         31.6046667,
         0.81,
         "M 2.5 - 75 km E of Maneadero, B.C., MX",
         "75 km E of Maneadero, B.C., MX",
         99,
         2.54,
         "ml",
         1746304545640,
         1746304767728
        ],
        [
         "ci41144200",
         -117.8098333,
         35.354,
         7.99,
         "M 2.2 - 16 km W of Johannesburg, CA",
         "16 km W of Johannesburg, CA",
         71,
         2.15,
         "ml",
         1746303788610,
         1746304457470
        ],
        [
         "nc75176076",
         -122.778831481934,
         38.8019981384277,
         3.24000000953674,
         "M 1.1 - 3 km NNW of The Geysers, CA",
         "3 km NNW of The Geysers, CA",
         18,
         1.07,
         "md",
         1746303301230,
         1746304037843
        ],
        [
         "nc75176066",
         -122.738670349121,
         38.7529983520508,
         0.920000016689301,
         "M 1.1 - 3 km SSE of The Geysers, CA",
         "3 km SSE of The Geysers, CA",
         17,
         1.06,
         "md",
         1746302738470,
         1746305537009
        ],
        [
         "us7000pwyb",
         -67.5971,
         -56.8254,
         10.0,
         "M 4.4 - 228 km SSE of Ushuaia, Argentina",
         "228 km SSE of Ushuaia, Argentina",
         298,
         4.4,
         "mb",
         1746302619848,
         1746304260040
        ],
        [
         "ak0255nqr5ca",
         -152.7858,
         59.468,
         72.8,
         "M 1.8 - 50 km WNW of Nanwalek, Alaska",
         "50 km WNW of Nanwalek, Alaska",
         50,
         1.8,
         "ml",
         1746302223780,
         1746302369861
        ],
        [
         "ak0255nqppg5",
         -148.4196,
         61.5398,
         3.1,
         "M 2.2 - 27 km ENE of Knik River, Alaska",
         "27 km ENE of Knik River, Alaska",
         74,
         2.2,
         "ml",
         1746301831389,
         1746301937754
        ],
        [
         "ci41144160",
         -116.7168333,
         33.5376667,
         5.26,
         "M 0.6 - 4 km WSW of Anza, CA",
         "4 km WSW of Anza, CA",
         5,
         0.57,
         "ml",
         1746301813010,
         1746370181561
        ],
        [
         "ci41144144",
         -117.4926667,
         34.2833333,
         12.62,
         "M 1.3 - 3 km NNE of Lytle Creek, CA",
         "3 km NNE of Lytle Creek, CA",
         24,
         1.26,
         "ml",
         1746301643310,
         1746301851507
        ],
        [
         "nc75176061",
         -122.807334899902,
         38.8294982910156,
         1.92999994754791,
         "M 0.8 - 7 km NNW of The Geysers, CA",
         "7 km NNW of The Geysers, CA",
         9,
         0.75,
         "md",
         1746301173480,
         1746304635912
        ],
        [
         "nn00897186",
         -119.0624,
         39.1504,
         9.5,
         "M 0.9 - 20 km NNE of Yerington, Nevada",
         "20 km NNE of Yerington, Nevada",
         12,
         0.9,
         "ml",
         1746301171556,
         1746301296266
        ],
        [
         "nc75176056",
         -121.555335998535,
         36.8213348388672,
         5.44000005722046,
         "M 2.2 - 3 km SW of San Juan Bautista, CA",
         "3 km SW of San Juan Bautista, CA",
         73,
         2.18,
         "md",
         1746301020320,
         1746303439779
        ],
        [
         "nc75176051",
         -122.782836914062,
         38.7953338623047,
         3.27999997138977,
         "M 0.8 - 3 km NW of The Geysers, CA",
         "3 km NW of The Geysers, CA",
         10,
         0.81,
         "md",
         1746300068780,
         1746301641553
        ],
        [
         "ci41144096",
         -117.4338333,
         35.6186667,
         4.64,
         "M 1.4 - 17 km S of Searles Valley, CA",
         "17 km S of Searles Valley, CA",
         29,
         1.38,
         "ml",
         1746297517130,
         1746297722739
        ],
        [
         "nc75176036",
         -122.75,
         38.776668548584,
         -0.800000011920929,
         "M 1.0 - 1 km ESE of The Geysers, CA",
         "1 km ESE of The Geysers, CA",
         16,
         1.02,
         "md",
         1746297362880,
         1746299540304
        ],
        [
         "ci41144080",
         -117.239,
         34.0351667,
         16.81,
         "M 1.4 - 2 km SE of Loma Linda, CA",
         "2 km SE of Loma Linda, CA",
         29,
         1.37,
         "ml",
         1746297343880,
         1746297555093
        ],
        [
         "uw62092382",
         -121.99866666666667,
         47.16916666666667,
         14.59,
         "M 0.8 - 2 km ENE of Buckley, Washington",
         "2 km ENE of Buckley, Washington",
         9,
         0.78,
         "ml",
         1746297048720,
         1746337494760
        ],
        [
         "ak0255npzm6f",
         -152.8552,
         59.5572,
         76.6,
         "M 1.8 - 57 km WNW of Nanwalek, Alaska",
         "57 km WNW of Nanwalek, Alaska",
         50,
         1.8,
         "ml",
         1746296938315,
         1746297058254
        ],
        [
         "ci41144056",
         -116.4026667,
         33.0378333,
         13.09,
         "M 1.6 - 19 km ESE of Julian, CA",
         "19 km ESE of Julian, CA",
         40,
         1.62,
         "ml",
         1746296378100,
         1746370381290
        ],
        [
         "ak0255npv3uc",
         -150.7706,
         63.1499,
         116.2,
         "M 2.0 - 64 km SE of Denali National Park, Alaska",
         "64 km SE of Denali National Park, Alaska",
         62,
         2.0,
         "ml",
         1746295674449,
         1746295821085
        ],
        [
         "ak0255npthvl",
         -150.7607,
         61.8504,
         68.5,
         "M 1.4 - 36 km NNW of Susitna, Alaska",
         "36 km NNW of Susitna, Alaska",
         30,
         1.4,
         "ml",
         1746295203210,
         1746295360526
        ],
        [
         "ci41144040",
         -116.7238333,
         33.5301667,
         4.89,
         "M 1.3 - 5 km WSW of Anza, CA",
         "5 km WSW of Anza, CA",
         24,
         1.26,
         "ml",
         1746294622620,
         1746370444390
        ],
        [
         "ci41144032",
         -116.6,
         33.058,
         12.66,
         "M 0.6 - 2 km S of Julian, CA",
         "2 km S of Julian, CA",
         5,
         0.55,
         "ml",
         1746293980370,
         1746294231365
        ],
        [
         "ak0255npaou1",
         -152.8776,
         59.5647,
         103.6,
         "M 1.4 - 59 km WNW of Nanwalek, Alaska",
         "59 km WNW of Nanwalek, Alaska",
         30,
         1.4,
         "ml",
         1746292348736,
         1746292459018
        ],
        [
         "us7000pwxk",
         -76.5027,
         -45.5225,
         10.0,
         "M 4.4 - 288 km W of Puerto Chacabuco, Chile",
         "288 km W of Puerto Chacabuco, Chile",
         298,
         4.4,
         "mb",
         1746291913378,
         1746295732040
        ],
        [
         "us7000pwxj",
         141.0809,
         -3.2569,
         28.97,
         "M 5.1 - 67 km SSW of Vanimo, Papua New Guinea",
         "67 km SSW of Vanimo, Papua New Guinea",
         401,
         5.1,
         "mb",
         1746291853537,
         1746292957399
        ],
        [
         "nc75176011",
         -122.790000915527,
         38.8354988098145,
         1.73000001907349,
         "M 0.9 - 6 km WNW of Cobb, CA",
         "6 km WNW of Cobb, CA",
         11,
         0.85,
         "md",
         1746291305930,
         1746295636886
        ],
        [
         "us7000pwxh",
         -138.0379,
         60.0996,
         2.786,
         "M 2.9 - 113 km ENE of Yakutat, Alaska",
         "113 km ENE of Yakutat, Alaska",
         129,
         2.9,
         "ml",
         1746290767896,
         1746294744040
        ],
        [
         "nc75176001",
         -122.816329956055,
         38.8311653137207,
         1.37999999523163,
         "M 0.3 - 8 km NNW of The Geysers, CA",
         "8 km NNW of The Geysers, CA",
         1,
         0.27,
         "md",
         1746290711320,
         1746292941547
        ],
        [
         "mb90081358",
         -115.168,
         44.2723333333333,
         9.84,
         "M 2.0 - 19 km WNW of Stanley, Idaho",
         "19 km WNW of Stanley, Idaho",
         61,
         1.99,
         "ml",
         1746289918310,
         1746367546030
        ],
        [
         "ci41143976",
         -117.5406667,
         35.6831667,
         6.65,
         "M 1.8 - 14 km ENE of Ridgecrest, CA",
         "14 km ENE of Ridgecrest, CA",
         50,
         1.81,
         "ml",
         1746289833370,
         1746370507300
        ],
        [
         "us7000pwxc",
         -104.9999,
         37.0592,
         5.0,
         "M 2.1 - 10 km SSE of Stonewall Gap, Colorado",
         "10 km SSE of Stonewall Gap, Colorado",
         68,
         2.1,
         "ml",
         1746289518399,
         1746293532040
        ],
        [
         "us7000pwxb",
         143.6087,
         -3.3448,
         10.0,
         "M 5.0 - 22 km N of Wewak, Papua New Guinea",
         "22 km N of Wewak, Papua New Guinea",
         386,
         5.0,
         "mb",
         1746289270836,
         1746293058059
        ],
        [
         "mb90081348",
         -115.169333333333,
         44.2703333333333,
         9.07,
         "M 2.2 - 19 km WNW of Stanley, Idaho",
         "19 km WNW of Stanley, Idaho",
         77,
         2.23,
         "ml",
         1746287881530,
         1746366801860
        ],
        [
         "us7000pwx5",
         -72.8176,
         -15.1934,
         99.185,
         "M 4.4 - 2 km SSE of Tomepampa, Peru",
         "2 km SSE of Tomepampa, Peru",
         298,
         4.4,
         "mb",
         1746287574308,
         1746293157040
        ],
        [
         "us7000pwx4",
         167.9858,
         -17.5155,
         35.088,
         "M 5.0 - 42 km NW of Port-Vila, Vanuatu",
         "42 km NW of Port-Vila, Vanuatu",
         386,
         5.0,
         "mb",
         1746287347098,
         1746358443929
        ],
        [
         "ci41143928",
         -117.497,
         34.2841667,
         11.51,
         "M 1.3 - 3 km N of Lytle Creek, CA",
         "3 km N of Lytle Creek, CA",
         27,
         1.32,
         "ml",
         1746287093370,
         1746370447512
        ],
        [
         "nc75175981",
         -122.844329833984,
         38.8228340148926,
         2.25999999046326,
         "M 0.9 - 9 km NW of The Geysers, CA",
         "9 km NW of The Geysers, CA",
         13,
         0.92,
         "md",
         1746286450160,
         1746288740070
        ],
        [
         "ci41143920",
         -117.7813333,
         34.5808333,
         8.76,
         "M 1.7 - 6 km SE of Lake Los Angeles, CA",
         "6 km SE of Lake Los Angeles, CA",
         42,
         1.65,
         "ml",
         1746286438920,
         1746370511200
        ],
        [
         "ak0255no4gbe",
         -145.4394,
         60.0951,
         1.7,
         "M 2.2 - 52 km SSE of Cordova, Alaska",
         "52 km SSE of Cordova, Alaska",
         74,
         2.2,
         "ml",
         1746285322826,
         1746285454865
        ],
        [
         "us7000pwx1",
         -67.1035,
         -57.0433,
         10.0,
         "M 4.2 - 259 km SSE of Ushuaia, Argentina",
         "259 km SSE of Ushuaia, Argentina",
         271,
         4.2,
         "mb",
         1746285146966,
         1746290200040
        ],
        [
         "ak0255nns9e4",
         -152.0863,
         60.5794,
         77.9,
         "M 1.7 - 42 km W of Salamatof, Alaska",
         "42 km W of Salamatof, Alaska",
         44,
         1.7,
         "ml",
         1746284314360,
         1746284403737
        ],
        [
         "us7000pwwy",
         -77.9596,
         -0.6213,
         10.0,
         "M 4.6 - 36 km NNW of Archidona, Ecuador",
         "36 km NNW of Archidona, Ecuador",
         326,
         4.6,
         "mb",
         1746283814693,
         1746289474025
        ],
        [
         "us7000pwwx",
         -67.701,
         -57.1289,
         10.0,
         "M 4.6 - 260 km S of Ushuaia, Argentina",
         "260 km S of Ushuaia, Argentina",
         326,
         4.6,
         "mb",
         1746283292337,
         1746288158040
        ],
        [
         "ak0255nnnyyq",
         -153.144,
         59.8151,
         94.9,
         "M 1.9 - 54 km E of Pedro Bay, Alaska",
         "54 km E of Pedro Bay, Alaska",
         56,
         1.9,
         "ml",
         1746283112989,
         1746283235754
        ],
        [
         "nc75175966",
         -123.35717010498,
         39.4133338928223,
         1.85000002384186,
         "M 2.2 - 0 km  of Willits, CA",
         "0 km  of Willits, CA",
         75,
         2.19,
         "md",
         1746282565620,
         1746288548307
        ],
        [
         "nn00897181",
         -119.0158,
         39.0878,
         9.0,
         "M 0.8 - 17 km NE of Yerington, Nevada",
         "17 km NE of Yerington, Nevada",
         10,
         0.8,
         "ml",
         1746282313700,
         1746282444771
        ],
        [
         "ak0255nnkrsf",
         -149.8182,
         61.6993,
         32.0,
         "M 2.1 - 7 km N of Houston, Alaska",
         "7 km N of Houston, Alaska",
         68,
         2.1,
         "ml",
         1746282220315,
         1746282356337
        ],
        [
         "nc75175956",
         -122.813499450684,
         38.8308334350586,
         2.00999999046326,
         "M 1.4 - 8 km NNW of The Geysers, CA",
         "8 km NNW of The Geysers, CA",
         28,
         1.36,
         "md",
         1746282155470,
         1746284237599
        ],
        [
         "us7000pwwu",
         124.4235,
         1.1743,
         231.402,
         "M 4.5 - 45 km WSW of Tomohon, Indonesia",
         "45 km WSW of Tomohon, Indonesia",
         312,
         4.5,
         "mb",
         1746282050752,
         1746282925040
        ],
        [
         "ak0255nnhq6i",
         -149.3222,
         64.6614,
         17.4,
         "M 1.1 - 11 km NW of Four Mile Road, Alaska",
         "11 km NW of Four Mile Road, Alaska",
         19,
         1.1,
         "ml",
         1746281359782,
         1746281468201
        ],
        [
         "ci41143872",
         -116.7245,
         33.5286667,
         4.87,
         "M 0.8 - 6 km WSW of Anza, CA",
         "6 km WSW of Anza, CA",
         9,
         0.76,
         "ml",
         1746281345060,
         1746370514020
        ],
        [
         "us7000pwwr",
         -67.9455,
         -57.2338,
         10.0,
         "M 4.5 - 270 km S of Ushuaia, Argentina",
         "270 km S of Ushuaia, Argentina",
         312,
         4.5,
         "mb",
         1746281270285,
         1746287538040
        ],
        [
         "ak0255nnfuy4",
         -150.2221,
         60.7169,
         40.8,
         "M 1.5 - 33 km NW of Cooper Landing, Alaska",
         "33 km NW of Cooper Landing, Alaska",
         35,
         1.5,
         "ml",
         1746280848448,
         1746372253255
        ],
        [
         "nc75175946",
         -122.813331604004,
         38.8209991455078,
         3.09999990463257,
         "M 0.8 - 7 km NW of The Geysers, CA",
         "7 km NW of The Geysers, CA",
         10,
         0.8,
         "md",
         1746279847530,
         1746281538307
        ],
        [
         "nn00897177",
         -116.3078,
         36.716,
         9.1,
         "M -0.3 - 45 km ESE of Beatty, Nevada",
         "45 km ESE of Beatty, Nevada",
         0,
         -0.3,
         "ml",
         1746279622074,
         1746282460914
        ],
        [
         "nn00897173",
         -115.8332,
         38.129,
         13.6,
         "M 1.5 - 54 km N of Rachel, Nevada",
         "54 km N of Rachel, Nevada",
         35,
         1.5,
         "ml",
         1746278497724,
         1746278644111
        ],
        [
         "ci41143832",
         -116.0951667,
         33.2523333,
         10.45,
         "M 0.5 - 13 km NNE of Ocotillo Wells, CA",
         "13 km NNE of Ocotillo Wells, CA",
         4,
         0.49,
         "ml",
         1746276837340,
         1746277046907
        ],
        [
         "ci41143824",
         -116.4656667,
         32.9408333,
         8.16,
         "M 0.1 - 14 km NNE of Pine Valley, CA",
         "14 km NNE of Pine Valley, CA",
         0,
         0.13,
         "ml",
         1746276776970,
         1746276987049
        ],
        [
         "us7000pwvy",
         121.5769,
         0.501,
         108.386,
         "M 6.0 - 165 km W of Gorontalo, Indonesia",
         "165 km W of Gorontalo, Indonesia",
         559,
         6.0,
         "mww",
         1746276705137,
         1746374103863
        ],
        [
         "ci41143816",
         -116.7253333,
         33.5371667,
         6.68,
         "M 1.4 - 5 km WSW of Anza, CA",
         "5 km WSW of Anza, CA",
         32,
         1.44,
         "ml",
         1746276460870,
         1746276679021
        ],
        [
         "tx2025ipwr",
         -103.207,
         31.039,
         4.2434,
         "M 1.7 - 26 km SSW of Coyanosa, Texas",
         "26 km SSW of Coyanosa, Texas",
         44,
         1.7,
         "ml",
         1746276246741,
         1746276853917
        ],
        [
         "nc75175936",
         -122.780334472656,
         38.7948341369629,
         3.45000004768372,
         "M 1.1 - 3 km NW of The Geysers, CA",
         "3 km NW of The Geysers, CA",
         18,
         1.09,
         "md",
         1746275801000,
         1746277639868
        ],
        [
         "ak0255nmezbo",
         -147.4434,
         64.506,
         1.8,
         "M 1.2 - 25 km SW of Eielson Air Force Base, Alaska",
         "25 km SW of Eielson Air Force Base, Alaska",
         22,
         1.2,
         "ml",
         1746275322442,
         1746275471358
        ],
        [
         "nc75175931",
         -122.815002441406,
         38.8296661376953,
         1.91999995708466,
         "M 1.3 - 8 km NNW of The Geysers, CA",
         "8 km NNW of The Geysers, CA",
         26,
         1.31,
         "md",
         1746274045200,
         1746276443726
        ],
        [
         "us7000pwvl",
         -68.4964,
         -57.0756,
         10.0,
         "M 4.6 - 252 km S of Ushuaia, Argentina",
         "252 km S of Ushuaia, Argentina",
         326,
         4.6,
         "mb",
         1746273282234,
         1746274703040
        ],
        [
         "pr71481233",
         -66.8405,
         17.9048333333333,
         11.64,
         "M 2.6 - 9 km SSE of Maria Antonia, Puerto Rico",
         "9 km SSE of Maria Antonia, Puerto Rico",
         101,
         2.56,
         "md",
         1746273254540,
         1746274266370
        ],
        [
         "ci41143784",
         -115.6071667,
         33.119,
         9.46,
         "M 1.3 - 9 km W of Calipatria, CA",
         "9 km W of Calipatria, CA",
         26,
         1.29,
         "ml",
         1746273124590,
         1746273337146
        ],
        [
         "ci41143776",
         -117.8106667,
         35.3533333,
         6.62,
         "M 1.2 - 16 km W of Johannesburg, CA",
         "16 km W of Johannesburg, CA",
         23,
         1.21,
         "ml",
         1746272979870,
         1746370623057
        ],
        [
         "tx2025iput",
         -104.578,
         31.717,
         3.3701,
         "M 1.6 - 54 km SSW of Whites City, New Mexico",
         "54 km SSW of Whites City, New Mexico",
         39,
         1.6,
         "ml",
         1746272625551,
         1746275211403
        ],
        [
         "ci41143768",
         -116.724,
         33.9046667,
         15.09,
         "M 0.8 - 6 km ESE of Cabazon, CA",
         "6 km ESE of Cabazon, CA",
         9,
         0.75,
         "ml",
         1746272522990,
         1746272730623
        ],
        [
         "us7000pwvh",
         -68.7381,
         -21.4829,
         123.71,
         "M 4.2 - 57 km WSW of Ollagüe, Chile",
         "57 km WSW of Ollagüe, Chile",
         271,
         4.2,
         "mb",
         1746271901914,
         1746279614040
        ],
        [
         "nc75175926",
         -122.818336486816,
         38.8103332519531,
         3.16000008583069,
         "M 0.5 - 7 km NW of The Geysers, CA",
         "7 km NW of The Geysers, CA",
         4,
         0.54,
         "md",
         1746271898490,
         1746275239664
        ],
        [
         "us7000pwvi",
         -179.5722,
         -27.7253,
         478.229,
         "M 4.5 - Kermadec Islands region",
         "Kermadec Islands region",
         312,
         4.5,
         "mb",
         1746271818490,
         1746273398040
        ],
        [
         "tx2025ipuc",
         -104.161,
         31.521,
         3.4859,
         "M 1.5 - 41 km WNW of Toyah, Texas",
         "41 km WNW of Toyah, Texas",
         35,
         1.5,
         "ml",
         1746271423329,
         1746271829602
        ],
        [
         "nc75175921",
         -122.875503540039,
         38.829833984375,
         2.27999997138977,
         "M 0.7 - 12 km NW of The Geysers, CA",
         "12 km NW of The Geysers, CA",
         8,
         0.74,
         "md",
         1746271152980,
         1746272236243
        ],
        [
         "nc75175916",
         -122.818832397461,
         38.8153343200684,
         2.74000000953674,
         "M 0.8 - 7 km NW of The Geysers, CA",
         "7 km NW of The Geysers, CA",
         10,
         0.79,
         "md",
         1746270436610,
         1746271340156
        ],
        [
         "ci41143744",
         -117.4083333,
         35.9861667,
         1.66,
         "M 1.9 - 24 km N of Searles Valley, CA",
         "24 km N of Searles Valley, CA",
         56,
         1.91,
         "ml",
         1746270202310,
         1746370702618
        ],
        [
         "us7000pwvf",
         -67.2467,
         -57.1941,
         10.0,
         "M 4.9 - 273 km SSE of Ushuaia, Argentina",
         "273 km SSE of Ushuaia, Argentina",
         369,
         4.9,
         "mb",
         1746269443557,
         1746270471040
        ],
        [
         "nc75175901",
         -122.801498413086,
         38.8158340454102,
         2.34999990463257,
         "M 1.3 - 6 km NNW of The Geysers, CA",
         "6 km NNW of The Geysers, CA",
         26,
         1.31,
         "md",
         1746269441000,
         1746273137348
        ],
        [
         "mb90081333",
         -112.529333333333,
         46.8793333333333,
         8.89,
         "M 0.8 - 14 km SE of Lincoln, Montana",
         "14 km SE of Lincoln, Montana",
         11,
         0.83,
         "ml",
         1746267931390,
         1746281471390
        ],
        [
         "ak0255nl6mzx",
         -152.1449,
         60.279,
         89.6,
         "M 1.7 - 36 km NW of Ninilchik, Alaska",
         "36 km NW of Ninilchik, Alaska",
         44,
         1.7,
         "ml",
         1746267714052,
         1746267835243
        ],
        [
         "us7000pwv9",
         -178.3288,
         52.2898,
         204.765,
         "M 4.1 - 125 km WNW of Adak, Alaska",
         "125 km WNW of Adak, Alaska",
         259,
         4.1,
         "mb",
         1746266855322,
         1746305016304
        ],
        [
         "ak0255nl3fj8",
         178.8832,
         51.6216,
         68.6,
         "M 3.6 - Rat Islands, Aleutian Islands, Alaska",
         "Rat Islands, Aleutian Islands, Alaska",
         199,
         3.6,
         "ml",
         1746266818336,
         1746304301973
        ],
        [
         "nc75175876",
         -123.540496826172,
         39.1590003967285,
         2.4300000667572,
         "M 1.7 - 20 km ESE of Navarro Head, CA",
         "20 km ESE of Navarro Head, CA",
         47,
         1.74,
         "md",
         1746266805210,
         1746270439060
        ],
        [
         "us7000pwvb",
         -67.7044,
         -57.0849,
         10.0,
         "M 5.0 - 256 km S of Ushuaia, Argentina",
         "256 km S of Ushuaia, Argentina",
         385,
         5.0,
         "mb",
         1746266793184,
         1746267781040
        ],
        [
         "ci41143736",
         -116.6408333,
         33.5963333,
         15.86,
         "M 0.7 - 6 km NNE of Anza, CA",
         "6 km NNE of Anza, CA",
         7,
         0.69,
         "ml",
         1746266707560,
         1746266919660
        ],
        [
         "ci41143728",
         -116.8168333,
         33.698,
         15.66,
         "M 1.0 - 9 km SE of Valle Vista, CA",
         "9 km SE of Valle Vista, CA",
         16,
         1.01,
         "ml",
         1746266238540,
         1746370761320
        ],
        [
         "us7000pwv8",
         -173.0797,
         52.9492,
         193.934,
         "M 4.0 - 113 km NE of Atka, Alaska",
         "113 km NE of Atka, Alaska",
         246,
         4.0,
         "mb",
         1746264917473,
         1746268568040
        ],
        [
         "nc75175861",
         -122.810668945312,
         38.7986679077148,
         3.25999999046326,
         "M 1.3 - 5 km NW of The Geysers, CA",
         "5 km NW of The Geysers, CA",
         27,
         1.32,
         "md",
         1746264906570,
         1746269536955
        ],
        [
         "nc75175856",
         -122.728332519531,
         38.7630004882812,
         1.76999998092651,
         "M 0.8 - 3 km SE of The Geysers, CA",
         "3 km SE of The Geysers, CA",
         9,
         0.76,
         "md",
         1746264891770,
         1746268336822
        ],
        [
         "nc75175851",
         -122.729164123535,
         38.7620010375977,
         2.21000003814697,
         "M 1.4 - 3 km SE of The Geysers, CA",
         "3 km SE of The Geysers, CA",
         29,
         1.37,
         "md",
         1746264877990,
         1746266838740
        ],
        [
         "ak0255nklzre",
         -150.5113,
         64.5572,
         17.3,
         "M 1.2 - 49 km S of Manley Hot Springs, Alaska",
         "49 km S of Manley Hot Springs, Alaska",
         22,
         1.2,
         "ml",
         1746264321707,
         1746264429559
        ],
        [
         "ci41143720",
         -117.8041667,
         35.3531667,
         8.17,
         "M 0.8 - 16 km W of Johannesburg, CA",
         "16 km W of Johannesburg, CA",
         11,
         0.83,
         "ml",
         1746264201590,
         1746370737228
        ],
        [
         "nc75175841",
         -122.814834594727,
         38.8318328857422,
         1.60000002384186,
         "M 1.4 - 8 km NNW of The Geysers, CA",
         "8 km NNW of The Geysers, CA",
         29,
         1.37,
         "md",
         1746263013500,
         1746265638601
        ],
        [
         "nc75175836",
         -122.715667724609,
         38.7605018615723,
         1.38999998569489,
         "M 1.1 - 3 km WSW of Anderson Springs, CA",
         "3 km WSW of Anderson Springs, CA",
         20,
         1.13,
         "md",
         1746262662010,
         1746264438382
        ],
        [
         "uw62092257",
         -121.7975,
         47.60883333333334,
         16.74,
         "M 1.8 - 8 km NE of Fall City, Washington",
         "8 km NE of Fall City, Washington",
         49,
         1.79,
         "ml",
         1746262489300,
         1746333800255
        ],
        [
         "nn00897168",
         -119.4608,
         39.8242,
         9.9,
         "M 1.2 - 8 km W of Nixon, Nevada",
         "8 km W of Nixon, Nevada",
         22,
         1.2,
         "ml",
         1746260793535,
         1746260923492
        ],
        [
         "nn00897166",
         -119.4674,
         39.8262,
         10.7,
         "M 1.3 - 9 km W of Nixon, Nevada",
         "9 km W of Nixon, Nevada",
         26,
         1.3,
         "ml",
         1746260135418,
         1746260263542
        ],
        [
         "nn00897164",
         -119.0529,
         39.1498,
         8.9,
         "M 1.0 - 20 km NNE of Yerington, Nevada",
         "20 km NNE of Yerington, Nevada",
         15,
         1.0,
         "ml",
         1746259929892,
         1746260063905
        ],
        [
         "nn00897163",
         -119.0572,
         39.1397,
         6.4,
         "M 0.9 - 19 km NNE of Yerington, Nevada",
         "19 km NNE of Yerington, Nevada",
         12,
         0.9,
         "ml",
         1746259879999,
         1746260013331
        ],
        [
         "ci41143696",
         -115.8505,
         32.6748333,
         8.84,
         "M 1.5 - 15 km ESE of Ocotillo, CA",
         "15 km ESE of Ocotillo, CA",
         32,
         1.45,
         "ml",
         1746259741710,
         1746370824280
        ],
        [
         "us7000pwux",
         81.8832,
         33.5302,
         10.0,
         "M 4.4 - western Xizang",
         "western Xizang",
         298,
         4.4,
         "mb",
         1746258847734,
         1746260373040
        ],
        [
         "tx2025ipna",
         -104.35,
         31.656,
         4.0103,
         "M 1.6 - 57 km S of Whites City, New Mexico",
         "57 km S of Whites City, New Mexico",
         39,
         1.6,
         "ml",
         1746258680761,
         1746259465072
        ],
        [
         "us7000pwuv",
         70.8337,
         36.6747,
         218.701,
         "M 4.0 - 21 km S of Jurm, Afghanistan",
         "21 km S of Jurm, Afghanistan",
         246,
         4.0,
         "mb",
         1746258635082,
         1746260133040
        ],
        [
         "us7000pwuu",
         -67.0685,
         -57.0831,
         10.0,
         "M 4.9 - 264 km SSE of Ushuaia, Argentina",
         "264 km SSE of Ushuaia, Argentina",
         369,
         4.9,
         "mb",
         1746258484521,
         1746259414040
        ],
        [
         "uw62092242",
         -121.9205,
         46.828,
         11.18,
         "M 0.9 - 11 km NE of Ashford, Washington",
         "11 km NE of Ashford, Washington",
         13,
         0.91,
         "ml",
         1746257773240,
         1746338804870
        ],
        [
         "nm60605461",
         -89.5521666666667,
         36.4913333333333,
         8.24,
         "M 2.4 - 6 km ESE of Marston, Missouri",
         "6 km ESE of Marston, Missouri",
         88,
         2.39,
         "md",
         1746257579520,
         1746290836783
        ],
        [
         "us7000pwuw",
         -66.8052,
         -57.2341,
         10.0,
         "M 4.7 - 285 km SSE of Ushuaia, Argentina",
         "285 km SSE of Ushuaia, Argentina",
         340,
         4.7,
         "mb",
         1746256693011,
         1746259967040
        ],
        [
         "nc75175806",
         -122.770835876465,
         38.7879981994629,
         0.980000019073486,
         "M 1.5 - 2 km NW of The Geysers, CA",
         "2 km NW of The Geysers, CA",
         36,
         1.54,
         "md",
         1746256670760,
         1746259637857
        ],
        [
         "ak0255njclrv",
         -147.2872,
         61.3065,
         14.5,
         "M 1.6 - 54 km WNW of Valdez, Alaska",
         "54 km WNW of Valdez, Alaska",
         39,
         1.6,
         "ml",
         1746256425233,
         1746256539426
        ],
        [
         "ci41143680",
         -116.7186667,
         33.5325,
         5.83,
         "M 0.8 - 5 km WSW of Anza, CA",
         "5 km WSW of Anza, CA",
         9,
         0.75,
         "ml",
         1746255793850,
         1746370827060
        ],
        [
         "ak0255niw2pb",
         -153.5873,
         58.3246,
         56.9,
         "M 1.6 - 49 km NW of Aleneva, Alaska",
         "49 km NW of Aleneva, Alaska",
         39,
         1.6,
         "ml",
         1746254193112,
         1746254334183
        ],
        [
         "nc75175796",
         -122.816665649414,
         38.8305015563965,
         1.88999998569489,
         "M 0.7 - 8 km NNW of The Geysers, CA",
         "8 km NNW of The Geysers, CA",
         8,
         0.72,
         "md",
         1746254184140,
         1746254845442
        ],
        [
         "nn00897162",
         -119.0542,
         39.0914,
         9.8,
         "M 1.2 - 15 km NE of Yerington, Nevada",
         "15 km NE of Yerington, Nevada",
         22,
         1.2,
         "ml",
         1746252699141,
         1746252833433
        ],
        [
         "ci41143672",
         -116.4676667,
         33.0011667,
         9.16,
         "M 0.7 - 15 km SE of Julian, CA",
         "15 km SE of Julian, CA",
         8,
         0.72,
         "ml",
         1746251981470,
         1746370762623
        ],
        [
         "nc75175781",
         -122.823501586914,
         38.8408317565918,
         1.6599999666214,
         "M 1.0 - 9 km WNW of Cobb, CA",
         "9 km WNW of Cobb, CA",
         15,
         0.98,
         "md",
         1746251760300,
         1746252735149
        ],
        [
         "ci41143664",
         -117.8043333,
         35.3555,
         7.04,
         "M 1.4 - 16 km W of Johannesburg, CA",
         "16 km W of Johannesburg, CA",
         28,
         1.35,
         "ml",
         1746251607860,
         1746370828625
        ],
        [
         "nc75175776",
         -122.821334838867,
         38.8178329467773,
         2.26999998092651,
         "M 1.1 - 7 km NW of The Geysers, CA",
         "7 km NW of The Geysers, CA",
         19,
         1.12,
         "md",
         1746251401060,
         1746257237613
        ],
        [
         "nc75175771",
         -122.738670349121,
         38.7931671142578,
         1.11000001430511,
         "M 1.1 - 2 km NE of The Geysers, CA",
         "2 km NE of The Geysers, CA",
         19,
         1.1,
         "md",
         1746250891820,
         1746256037481
        ],
        [
         "ak0255nibp6o",
         -152.3823,
         59.4986,
         80.9,
         "M 2.1 - 30 km WNW of Nanwalek, Alaska",
         "30 km WNW of Nanwalek, Alaska",
         68,
         2.1,
         "ml",
         1746250886727,
         1746251035736
        ],
        [
         "nc75175766",
         -122.739501953125,
         38.7938346862793,
         1.13999998569489,
         "M 1.4 - 2 km NE of The Geysers, CA",
         "2 km NE of The Geysers, CA",
         30,
         1.4,
         "md",
         1746250853120,
         1746255140384
        ],
        [
         "ak0255ni8nia",
         -150.5123,
         61.1995,
         42.1,
         "M 1.8 - 31 km ENE of Beluga, Alaska",
         "31 km ENE of Beluga, Alaska",
         50,
         1.8,
         "ml",
         1746250025300,
         1746250122401
        ],
        [
         "nc75175761",
         -122.757499694824,
         38.7818336486816,
         2.4300000667572,
         "M 0.5 - 1 km N of The Geysers, CA",
         "1 km N of The Geysers, CA",
         3,
         0.45,
         "md",
         1746249554580,
         1746253039187
        ],
        [
         "ak0255ni6e8x",
         -150.7248,
         63.0023,
         93.1,
         "M 1.5 - 56 km N of Petersville, Alaska",
         "56 km N of Petersville, Alaska",
         35,
         1.5,
         "ml",
         1746249412170,
         1746249539912
        ],
        [
         "us7000pwu9",
         140.9884,
         -3.1677,
         35.0,
         "M 5.4 - 63 km SSW of Vanimo, Papua New Guinea",
         "63 km SSW of Vanimo, Papua New Guinea",
         454,
         5.4,
         "mb",
         1746249040426,
         1746336937341
        ],
        [
         "ci41143640",
         -116.3955,
         33.0333333,
         11.62,
         "M 0.5 - 20 km ESE of Julian, CA",
         "20 km ESE of Julian, CA",
         4,
         0.5,
         "ml",
         1746248476790,
         1746370843449
        ],
        [
         "ci41143632",
         -115.4453333,
         32.811,
         9.57,
         "M 1.4 - 6 km W of Holtville, CA",
         "6 km W of Holtville, CA",
         30,
         1.4,
         "ml",
         1746248189740,
         1746248410196
        ],
        [
         "mb90081308",
         -113.057333333333,
         44.179,
         3.52,
         "M 1.0 - 53 km ENE of Mackay, Idaho",
         "53 km ENE of Mackay, Idaho",
         16,
         1.01,
         "ml",
         1746247593590,
         1746276790870
        ],
        [
         "us7000pwu6",
         103.3802,
         -6.4072,
         10.0,
         "M 4.8 - 234 km WSW of Bandar Lampung, Indonesia",
         "234 km WSW of Bandar Lampung, Indonesia",
         354,
         4.8,
         "mb",
         1746247555454,
         1746248788040
        ],
        [
         "nc75175756",
         -122.821662902832,
         38.832332611084,
         2.22000002861023,
         "M 0.8 - 8 km NNW of The Geysers, CA",
         "8 km NNW of The Geysers, CA",
         9,
         0.77,
         "md",
         1746247123440,
         1746248835763
        ],
        [
         "nc75175751",
         -122.820503234863,
         38.8315010070801,
         2.07999992370605,
         "M 1.1 - 8 km NNW of The Geysers, CA",
         "8 km NNW of The Geysers, CA",
         18,
         1.08,
         "md",
         1746247109790,
         1746250937961
        ],
        [
         "ak0255nhn2p9",
         -152.0718,
         61.0057,
         93.6,
         "M 1.5 - 50 km W of Tyonek, Alaska",
         "50 km W of Tyonek, Alaska",
         35,
         1.5,
         "ml",
         1746246397890,
         1746246502337
        ],
        [
         "ci41143624",
         -118.1648333,
         35.2006667,
         2.27,
         "M 2.0 - 16 km N of Mojave, CA",
         "16 km N of Mojave, CA",
         59,
         1.96,
         "ml",
         1746245106370,
         1746370913630
        ],
        [
         "pr71481223",
         -66.896,
         17.9651666666667,
         11.5,
         "M 2.3 - 1 km ESE of Guánica, Puerto Rico",
         "1 km ESE of Guánica, Puerto Rico",
         83,
         2.32,
         "md",
         1746244765600,
         1746245206630
        ],
        [
         "mb90081303",
         -111.856166666667,
         45.8046666666667,
         11.76,
         "M 0.3 - 9 km SE of Cardwell, Montana",
         "9 km SE of Cardwell, Montana",
         1,
         0.29,
         "ml",
         1746244673720,
         1746278217110
        ],
        [
         "mb90081298",
         -116.117666666667,
         44.3585,
         6.61,
         "M 1.8 - 6 km NNW of Smiths Ferry, Idaho",
         "6 km NNW of Smiths Ferry, Idaho",
         50,
         1.81,
         "ml",
         1746244449280,
         1746277870460
        ],
        [
         "pr71481238",
         -66.8375,
         17.9241666666667,
         9.35,
         "M 2.4 - 7 km SSW of Indios, Puerto Rico",
         "7 km SSW of Indios, Puerto Rico",
         86,
         2.36,
         "md",
         1746244105530,
         1746289174970
        ],
        [
         "nc75175736",
         -122.817169189453,
         38.8033332824707,
         0.00999999977648258,
         "M 1.1 - 6 km NW of The Geysers, CA",
         "6 km NW of The Geysers, CA",
         18,
         1.09,
         "md",
         1746243815850,
         1746244744873
        ],
        [
         "hv74664847",
         -155.494003295898,
         19.1841659545898,
         31.0400009155273,
         "M 2.3 - 2 km SW of Pāhala, Hawaii",
         "2 km SW of Pāhala, Hawaii",
         83,
         2.32,
         "ml",
         1746243707840,
         1746245445040
        ],
        [
         "ci41143600",
         -116.7885,
         33.6911667,
         16.11,
         "M 0.5 - 8 km SW of Idyllwild, CA",
         "8 km SW of Idyllwild, CA",
         4,
         0.52,
         "ml",
         1746243696740,
         1746370926216
        ],
        [
         "tx2025ipeo",
         -104.025,
         31.634,
         6.5741,
         "M 3.4 - 41 km W of Mentone, Texas",
         "41 km W of Mentone, Texas",
         206,
         3.4,
         "ml",
         1746243296636,
         1746362767888
        ],
        [
         "nc75175731",
         -122.788497924805,
         38.798168182373,
         -0.0900000035762787,
         "M 1.1 - 4 km NW of The Geysers, CA",
         "4 km NW of The Geysers, CA",
         19,
         1.1,
         "md",
         1746242789310,
         1746248837763
        ],
        [
         "ci41143584",
         -118.3506667,
         33.9175,
         10.78,
         "M 1.5 - 0 km NE of Hawthorne, CA",
         "0 km NE of Hawthorne, CA",
         35,
         1.5,
         "ml",
         1746242275760,
         1746242998319
        ],
        [
         "pr2025123000",
         -68.4143,
         18.923,
         9.0,
         "M 3.5 - 37 km N of Punta Cana, Dominican Republic",
         "37 km N of Punta Cana, Dominican Republic",
         186,
         3.48,
         "md",
         1746240707260,
         1746245721448
        ],
        [
         "nn00897160",
         -119.0751,
         39.1578,
         7.8,
         "M 1.1 - 20 km NNE of Yerington, Nevada",
         "20 km NNE of Yerington, Nevada",
         19,
         1.1,
         "ml",
         1746240129334,
         1746240262920
        ],
        [
         "nn00897179",
         -116.0352,
         36.7623,
         5.0,
         "M -0.3 - 38 km WNW of Indian Springs, Nevada",
         "38 km WNW of Indian Springs, Nevada",
         0,
         -0.3,
         "ml",
         1746240003519,
         1746280626640
        ],
        [
         "ci41143544",
         -117.7623333,
         36.0346667,
         1.64,
         "M 1.3 - 17 km E of Coso Junction, CA",
         "17 km E of Coso Junction, CA",
         26,
         1.3,
         "ml",
         1746239869950,
         1746240078217
        ],
        [
         "us7000pwti",
         -48.7346,
         -54.2791,
         10.0,
         "M 5.0 - South Atlantic Ocean",
         "South Atlantic Ocean",
         385,
         5.0,
         "mb",
         1746239804869,
         1746240999040
        ],
        [
         "uw62092132",
         -122.0935,
         46.17366666666667,
         7.35,
         "M 0.5 - 40 km NE of Amboy, Washington",
         "40 km NE of Amboy, Washington",
         4,
         0.51,
         "ml",
         1746239416180,
         1746248593070
        ],
        [
         "nc75175721",
         -122.75316619873,
         38.7948341369629,
         0.0599999986588955,
         "M 1.5 - 2 km NNE of The Geysers, CA",
         "2 km NNE of The Geysers, CA",
         33,
         1.47,
         "md",
         1746239312860,
         1746247640625
        ],
        [
         "us7000pwte",
         114.0138,
         -9.2067,
         67.512,
         "M 4.8 - 91 km S of Gambiran Satu, Indonesia",
         "91 km S of Gambiran Satu, Indonesia",
         355,
         4.8,
         "mb",
         1746238759848,
         1746254469086
        ],
        [
         "pr71481193",
         -66.8285,
         18.0223333333333,
         18.39,
         "M 2.2 - 2 km ESE of Yauco, Puerto Rico",
         "2 km ESE of Yauco, Puerto Rico",
         72,
         2.16,
         "md",
         1746238425970,
         1746239086230
        ],
        [
         "pr71481183",
         -67.0511666666667,
         18.7121666666667,
         24.91,
         "M 3.2 - 23 km N of Isabela, Puerto Rico",
         "23 km N of Isabela, Puerto Rico",
         157,
         3.19,
         "md",
         1746238059210,
         1746241733465
        ],
        [
         "nc75175716",
         -122.749336242676,
         38.7893333435059,
         5.94000005722046,
         "M 0.3 - 1 km NE of The Geysers, CA",
         "1 km NE of The Geysers, CA",
         1,
         0.31,
         "md",
         1746237908000,
         1746238936623
        ],
        [
         "nc75175711",
         -122.764999389648,
         38.7881660461426,
         1.25,
         "M 1.0 - 1 km NNW of The Geysers, CA",
         "1 km NNW of The Geysers, CA",
         14,
         0.96,
         "md",
         1746237848360,
         1746238936718
        ],
        [
         "nc75175706",
         -122.752334594727,
         38.7934989929199,
         0.560000002384186,
         "M 1.8 - 2 km NNE of The Geysers, CA",
         "2 km NNE of The Geysers, CA",
         48,
         1.76,
         "md",
         1746237714150,
         1746246739521
        ],
        [
         "tx2025ipbd",
         -103.753,
         31.224,
         9.9079,
         "M 1.5 - 10 km SSE of Toyah, Texas",
         "10 km SSE of Toyah, Texas",
         35,
         1.5,
         "ml",
         1746237174975,
         1746237693171
        ],
        [
         "nc75175701",
         -122.823669433594,
         38.8201675415039,
         2.08999991416931,
         "M 0.8 - 8 km NW of The Geysers, CA",
         "8 km NW of The Geysers, CA",
         10,
         0.79,
         "md",
         1746237144870,
         1746238338556
        ],
        [
         "nc75175696",
         -122.772163391113,
         38.7886657714844,
         1.0,
         "M 0.6 - 2 km NW of The Geysers, CA",
         "2 km NW of The Geysers, CA",
         5,
         0.58,
         "md",
         1746237056390,
         1746238039624
        ],
        [
         "nc75175691",
         -121.203834533691,
         37.1726684570312,
         0.159999996423721,
         "M 2.0 - 20 km WSW of Gustine, CA",
         "20 km WSW of Gustine, CA",
         63,
         2.02,
         "md",
         1746236803720,
         1746245539496
        ],
        [
         "ak0255nfyzoo",
         -151.8257,
         60.0178,
         57.1,
         "M 1.5 - 9 km NNW of Happy Valley, Alaska",
         "9 km NNW of Happy Valley, Alaska",
         35,
         1.5,
         "ml",
         1746236765206,
         1746236897589
        ],
        [
         "tx2025ipav",
         -103.758,
         31.227,
         8.0911,
         "M 1.7 - 10 km SSE of Toyah, Texas",
         "10 km SSE of Toyah, Texas",
         44,
         1.7,
         "ml",
         1746236712581,
         1746237028988
        ],
        [
         "us7000pwt8",
         151.799,
         -6.0738,
         10.0,
         "M 4.9 - 192 km ESE of Kimbe, Papua New Guinea",
         "192 km ESE of Kimbe, Papua New Guinea",
         369,
         4.9,
         "mb",
         1746236672188,
         1746239552040
        ],
        [
         "ci41143504",
         -116.8918333,
         33.4803333,
         13.59,
         "M 1.4 - 5 km NNW of Aguanga, CA",
         "5 km NNW of Aguanga, CA",
         30,
         1.39,
         "ml",
         1746236407160,
         1746371077740
        ],
        [
         "uw62092107",
         -121.96166666666667,
         47.18366666666667,
         17.08,
         "M 0.9 - 3 km SE of Enumclaw, Washington",
         "3 km SE of Enumclaw, Washington",
         12,
         0.89,
         "ml",
         1746235563350,
         1746247935430
        ],
        [
         "nc75175676",
         -122.773002624512,
         38.7883338928223,
         0.889999985694885,
         "M 1.1 - 2 km NW of The Geysers, CA",
         "2 km NW of The Geysers, CA",
         19,
         1.11,
         "md",
         1746234928090,
         1746244642388
        ],
        [
         "nc75175671",
         -122.783996582031,
         38.8411674499512,
         2.69000005722046,
         "M 0.3 - 6 km WNW of Cobb, CA",
         "6 km WNW of Cobb, CA",
         1,
         0.29,
         "md",
         1746234619080,
         1746236237396
        ],
        [
         "nc75175661",
         -122.818664550781,
         38.7991676330566,
         2.92000007629395,
         "M 0.9 - 6 km NW of The Geysers, CA",
         "6 km NW of The Geysers, CA",
         12,
         0.9,
         "md",
         1746234089300,
         1746234185936
        ],
        [
         "nc75175656",
         -121.026168823242,
         36.6311683654785,
         0.629999995231628,
         "M 1.4 - 15 km NE of Pinnacles, CA",
         "15 km NE of Pinnacles, CA",
         30,
         1.4,
         "md",
         1746233894150,
         1746235938285
        ],
        [
         "ak0255nffr53",
         -153.744,
         59.549,
         130.2,
         "M 2.8 - 33 km SE of Pedro Bay, Alaska",
         "33 km SE of Pedro Bay, Alaska",
         121,
         2.8,
         "ml",
         1746233797032,
         1746238536040
        ],
        [
         "ak0255nfdlse",
         -156.3976,
         58.1455,
         0.3,
         "M 3.3 - 58 km E of Egegik, Alaska",
         "58 km E of Egegik, Alaska",
         168,
         3.3,
         "ml",
         1746233187340,
         1746237388040
        ],
        [
         "ci41143480",
         -117.8083333,
         35.3523333,
         8.07,
         "M 1.1 - 16 km W of Johannesburg, CA",
         "16 km W of Johannesburg, CA",
         17,
         1.05,
         "ml",
         1746233082740,
         1746371054647
        ],
        [
         "nc75175631",
         -122.732330322266,
         38.7576675415039,
         1.19000005722046,
         "M 1.7 - 3 km SSE of The Geysers, CA",
         "3 km SSE of The Geysers, CA",
         42,
         1.65,
         "md",
         1746232990360,
         1746241639949
        ],
        [
         "nc75175621",
         -122.773170471191,
         38.8018341064453,
         0.109999999403954,
         "M 1.1 - 3 km NNW of The Geysers, CA",
         "3 km NNW of The Geysers, CA",
         19,
         1.1,
         "md",
         1746232879000,
         1746240439805
        ],
        [
         "nc75175601",
         -122.748168945312,
         38.7949981689453,
         -0.129999995231628,
         "M 1.3 - 2 km NNE of The Geysers, CA",
         "2 km NNE of The Geysers, CA",
         25,
         1.28,
         "md",
         1746232652140,
         1746239239663
        ],
        [
         "nc75175591",
         -122.739334106445,
         38.7908325195312,
         0.46000000834465,
         "M 0.6 - 2 km NE of The Geysers, CA",
         "2 km NE of The Geysers, CA",
         5,
         0.55,
         "md",
         1746232615010,
         1746234439124
        ],
        [
         "nc75175586",
         -122.769332885742,
         38.7890014648438,
         1.98000001907349,
         "M 0.9 - 2 km NNW of The Geysers, CA",
         "2 km NNW of The Geysers, CA",
         12,
         0.87,
         "md",
         1746232597930,
         1746233841065
        ],
        [
         "nc75175576",
         -122.726165771484,
         38.7911682128906,
         0.330000013113022,
         "M 1.3 - 3 km ENE of The Geysers, CA",
         "3 km ENE of The Geysers, CA",
         25,
         1.26,
         "md",
         1746232576430,
         1746241017675
        ],
        [
         "nc75175581",
         -122.7585,
         38.7903333333333,
         2.27,
         "M 3.7 - 1 km N of The Geysers, CA",
         "1 km N of The Geysers, CA",
         222,
         3.7,
         "mw",
         1746232518960,
         1746337634419
        ],
        [
         "nc75175571",
         -121.344329833984,
         36.738166809082,
         15.7200002670288,
         "M 1.6 - 6 km SSW of Tres Pinos, CA",
         "6 km SSW of Tres Pinos, CA",
         40,
         1.61,
         "md",
         1746232295200,
         1746235041191
        ],
        [
         "ci41143472",
         -117.5641667,
         35.7351667,
         7.22,
         "M 1.6 - 15 km WSW of Searles Valley, CA",
         "15 km WSW of Searles Valley, CA",
         38,
         1.57,
         "ml",
         1746232273380,
         1746232497193
        ],
        [
         "ak0255nf9qy5",
         -151.6716,
         60.6585,
         75.4,
         "M 1.8 - 19 km WNW of Salamatof, Alaska",
         "19 km WNW of Salamatof, Alaska",
         50,
         1.8,
         "ml",
         1746232107977,
         1746232261111
        ],
        [
         "ci41143456",
         -118.204,
         34.0191667,
         15.63,
         "M 1.4 - 4 km WSW of East Los Angeles, CA",
         "4 km WSW of East Los Angeles, CA",
         31,
         1.43,
         "ml",
         1746231181320,
         1746231803300
        ],
        [
         "hv74664737",
         -155.100666666667,
         19.3598333333333,
         7.44,
         "M 1.7 - 12 km SSE of Fern Forest, Hawaii",
         "12 km SSE of Fern Forest, Hawaii",
         44,
         1.7,
         "ml",
         1746230416050,
         1746237113960
        ]
       ],
       "datasetInfos": [],
       "dbfsResultPath": null,
       "isJsonSchema": true,
       "metadata": {},
       "overflow": false,
       "plotOptions": {
        "customPlotOptions": {},
        "displayType": "table",
        "pivotAggregation": null,
        "pivotColumns": null,
        "xColumns": null,
        "yColumns": null
       },
       "removedWidgets": [],
       "schema": [
        {
         "metadata": "{}",
         "name": "id",
         "type": "\"string\""
        },
        {
         "metadata": "{}",
         "name": "longitude",
         "type": "\"double\""
        },
        {
         "metadata": "{}",
         "name": "latitude",
         "type": "\"double\""
        },
        {
         "metadata": "{}",
         "name": "elevation",
         "type": "\"double\""
        },
        {
         "metadata": "{}",
         "name": "title",
         "type": "\"string\""
        },
        {
         "metadata": "{}",
         "name": "place_description",
         "type": "\"string\""
        },
        {
         "metadata": "{}",
         "name": "sig",
         "type": "\"long\""
        },
        {
         "metadata": "{}",
         "name": "mag",
         "type": "\"double\""
        },
        {
         "metadata": "{}",
         "name": "magType",
         "type": "\"string\""
        },
        {
         "metadata": "{}",
         "name": "time",
         "type": "\"long\""
        },
        {
         "metadata": "{}",
         "name": "updated",
         "type": "\"long\""
        }
       ],
       "type": "table"
      }
     },
     "output_type": "display_data"
    }
   ],
   "source": [
    "df.display()"
   ]
  },
  {
   "cell_type": "code",
   "execution_count": 0,
   "metadata": {
    "application/vnd.databricks.v1+cell": {
     "cellMetadata": {
      "byteLimit": 2048000,
      "rowLimit": 10000
     },
     "inputWidgets": {},
     "nuid": "69e21dce-ec8a-4f69-ad1f-8c4e8ae5792f",
     "showTitle": false,
     "tableResultSettingsMap": {},
     "title": ""
    }
   },
   "outputs": [],
   "source": [
    "\n",
    "# Validate & clean data frame: Check for missing or null values\n",
    "df = (\n",
    "    df\n",
    "    .withColumn('longitude', when(isnull(col('longitude')), 0).otherwise(col('longitude')))\n",
    "    .withColumn('latitude', when(isnull(col('latitude')), 0).otherwise(col('latitude')))\n",
    "    .withColumn('time', when(isnull(col('time')), 0).otherwise(col('time')))\n",
    ")"
   ]
  },
  {
   "cell_type": "code",
   "execution_count": 0,
   "metadata": {
    "application/vnd.databricks.v1+cell": {
     "cellMetadata": {
      "byteLimit": 2048000,
      "rowLimit": 10000
     },
     "inputWidgets": {},
     "nuid": "7136e804-204d-4b47-9155-4176c5c3de34",
     "showTitle": false,
     "tableResultSettingsMap": {},
     "title": ""
    }
   },
   "outputs": [
    {
     "output_type": "execute_result",
     "data": {
      "text/plain": [
       "Row(id='nm60503563', longitude=-92.9183333333333, latitude=35.873, elevation=2.76, title='M 2.4 - 14 km NE of Pelsor, Arkansas', place_description='14 km NE of Pelsor, Arkansas', sig=87, mag=2.38, magType='md', time=1746316297500, updated=1746373147630)"
      ]
     },
     "execution_count": 72,
     "metadata": {},
     "output_type": "execute_result"
    }
   ],
   "source": [
    "df.head()"
   ]
  },
  {
   "cell_type": "code",
   "execution_count": 0,
   "metadata": {
    "application/vnd.databricks.v1+cell": {
     "cellMetadata": {
      "byteLimit": 2048000,
      "rowLimit": 10000
     },
     "inputWidgets": {},
     "nuid": "6bf8d29f-4bbe-4a08-a45a-80963403fae1",
     "showTitle": false,
     "tableResultSettingsMap": {},
     "title": ""
    }
   },
   "outputs": [],
   "source": [
    "# Convert 'time' and 'updated' to timestamp from Unix time\n",
    "df = (\n",
    "    df\n",
    "    .withColumn('time', (col('time') / 1000).cast(TimestampType()))\n",
    "    .withColumn('updated', (col('updated') / 1000).cast(TimestampType()))\n",
    ")\n",
    "     "
   ]
  },
  {
   "cell_type": "code",
   "execution_count": 0,
   "metadata": {
    "application/vnd.databricks.v1+cell": {
     "cellMetadata": {
      "byteLimit": 2048000,
      "rowLimit": 10000
     },
     "inputWidgets": {},
     "nuid": "413835f2-cd3e-4600-860c-24573dc10d38",
     "showTitle": false,
     "tableResultSettingsMap": {},
     "title": ""
    }
   },
   "outputs": [
    {
     "output_type": "execute_result",
     "data": {
      "text/plain": [
       "Row(id='nm60503563', longitude=-92.9183333333333, latitude=35.873, elevation=2.76, title='M 2.4 - 14 km NE of Pelsor, Arkansas', place_description='14 km NE of Pelsor, Arkansas', sig=87, mag=2.38, magType='md', time=datetime.datetime(2025, 5, 3, 23, 51, 37, 500000), updated=datetime.datetime(2025, 5, 4, 15, 39, 7, 630000))"
      ]
     },
     "execution_count": 74,
     "metadata": {},
     "output_type": "execute_result"
    }
   ],
   "source": [
    "df.head()"
   ]
  },
  {
   "cell_type": "code",
   "execution_count": 0,
   "metadata": {
    "application/vnd.databricks.v1+cell": {
     "cellMetadata": {
      "byteLimit": 2048000,
      "rowLimit": 10000
     },
     "inputWidgets": {},
     "nuid": "7aba7a85-213b-4d2b-8e17-7efbee77c75c",
     "showTitle": false,
     "tableResultSettingsMap": {},
     "title": ""
    }
   },
   "outputs": [],
   "source": [
    "# Save the transformed DataFrame in the Silver container\n",
    "silver_output_path = f\"{silver_adls}earthquake_events_silver/\""
   ]
  },
  {
   "cell_type": "code",
   "execution_count": 0,
   "metadata": {
    "application/vnd.databricks.v1+cell": {
     "cellMetadata": {
      "byteLimit": 2048000,
      "rowLimit": 10000
     },
     "inputWidgets": {},
     "nuid": "b9395b63-6ffa-4c50-b48a-6f9f672e210a",
     "showTitle": false,
     "tableResultSettingsMap": {},
     "title": ""
    }
   },
   "outputs": [],
   "source": [
    "# Append DataFrame to Silver container in Parquet format\n",
    "df.write.mode('append').parquet(silver_output_path)"
   ]
  },
  {
   "cell_type": "code",
   "execution_count": 0,
   "metadata": {
    "application/vnd.databricks.v1+cell": {
     "cellMetadata": {},
     "inputWidgets": {},
     "nuid": "a59e5785-da17-4154-a79c-bf148afe73ce",
     "showTitle": false,
     "tableResultSettingsMap": {},
     "title": ""
    }
   },
   "outputs": [],
   "source": [
    "# Exit the notebook and return the silver_output_path as the result/output,\n",
    "# so it can be used by another notebook or pipeline activity (e.g., in Azure Data Factory).\n",
    "\n",
    "dbutils.notebook.exit(silver_output_path)"
   ]
  }
 ],
 "metadata": {
  "application/vnd.databricks.v1+notebook": {
   "computePreferences": null,
   "dashboards": [],
   "environmentMetadata": {
    "base_environment": "",
    "environment_version": "2"
   },
   "inputWidgetPreferences": null,
   "language": "python",
   "notebookMetadata": {
    "pythonIndentUnit": 4
   },
   "notebookName": "Silver Notebook",
   "widgets": {}
  },
  "language_info": {
   "name": "python"
  }
 },
 "nbformat": 4,
 "nbformat_minor": 0
}